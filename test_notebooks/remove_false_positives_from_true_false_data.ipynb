{
 "cells": [
  {
   "cell_type": "code",
   "execution_count": 1,
   "id": "4fce19f0",
   "metadata": {},
   "outputs": [],
   "source": [
    "import pandas as pd\n"
   ]
  },
  {
   "cell_type": "code",
   "execution_count": 5,
   "id": "953cc6f2",
   "metadata": {},
   "outputs": [],
   "source": [
    "data = pd.read_csv('../data/benchmark_data/test_questions_one_hop_true_false_v2.csv')\n",
    "\n",
    "index_to_remove_after_manual_curation = [29, 42, 56, 124, 131, 157, 160, 176, 191, 244, 303]\n",
    "\n",
    "data = data.drop(index_to_remove_after_manual_curation)\n"
   ]
  },
  {
   "cell_type": "code",
   "execution_count": 8,
   "id": "d0c83a47",
   "metadata": {},
   "outputs": [],
   "source": [
    "data.drop(['node_hits', 'score', 'node_hit_count'], axis=1, inplace=True)\n"
   ]
  },
  {
   "cell_type": "code",
   "execution_count": 10,
   "id": "ce9a244e",
   "metadata": {},
   "outputs": [],
   "source": [
    "data.to_csv('../data/benchmark_data/test_questions_one_hop_true_false_v3.csv')\n"
   ]
  },
  {
   "cell_type": "code",
   "execution_count": null,
   "id": "3fe874a9",
   "metadata": {},
   "outputs": [],
   "source": []
  }
 ],
 "metadata": {
  "kernelspec": {
   "display_name": "Python 3 (ipykernel)",
   "language": "python",
   "name": "python3"
  },
  "language_info": {
   "codemirror_mode": {
    "name": "ipython",
    "version": 3
   },
   "file_extension": ".py",
   "mimetype": "text/x-python",
   "name": "python",
   "nbconvert_exporter": "python",
   "pygments_lexer": "ipython3",
   "version": "3.10.9"
  }
 },
 "nbformat": 4,
 "nbformat_minor": 5
}
