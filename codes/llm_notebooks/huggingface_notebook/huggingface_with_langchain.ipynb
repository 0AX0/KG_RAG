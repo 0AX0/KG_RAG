{
 "cells": [
  {
   "cell_type": "code",
   "execution_count": 1,
   "id": "8abc0833-9069-416b-ab1c-c4ad85164936",
   "metadata": {},
   "outputs": [],
   "source": [
    "\n",
    "from langchain import HuggingFacePipeline\n",
    "from langchain import PromptTemplate,  LLMChain\n",
    "from transformers import pipeline\n",
    "import transformers\n",
    "from transformers import AutoTokenizer, AutoModelForCausalLM\n",
    "\n",
    "\n",
    "\n"
   ]
  },
  {
   "cell_type": "code",
   "execution_count": null,
   "id": "03cbb407-faa4-444e-8af3-9e445ffe0db7",
   "metadata": {},
   "outputs": [],
   "source": [
    "MODEL_NAME = \"meta-llama/Llama-2-7b-chat-hf\"\n",
    "\n",
    "tokenizer = AutoTokenizer.from_pretrained(MODEL_NAME,\n",
    "                                          use_auth_token=True)\n",
    "\n",
    "model = AutoModelForCausalLM.from_pretrained(MODEL_NAME,\n",
    "                                             device_map='auto',\n",
    "                                             torch_dtype=torch.float16,\n",
    "                                             use_auth_token=True\n",
    "                                             )\n"
   ]
  },
  {
   "cell_type": "code",
   "execution_count": null,
   "id": "3ac83aa1-c271-4005-ab3e-74fcbfb23e6b",
   "metadata": {},
   "outputs": [],
   "source": [
    "pipe = pipeline(\"text-generation\",\n",
    "                model = model,\n",
    "                tokenizer = tokenizer,\n",
    "                torch_dtype = torch.bfloat16,\n",
    "                device_map = \"auto\",\n",
    "                max_new_tokens = 512,\n",
    "                do_sample = True,\n",
    "                top_k = 30,\n",
    "                num_return_sequences = 1,\n",
    "                eos_token_id = tokenizer.eos_token_id\n",
    "                )\n"
   ]
  },
  {
   "cell_type": "code",
   "execution_count": 3,
   "id": "0af5082a-638e-493c-987c-595ce4d944fb",
   "metadata": {},
   "outputs": [],
   "source": [
    "B_INST, E_INST = \"[INST]\", \"[/INST]\"\n",
    "B_SYS, E_SYS = \"<<SYS>>\\n\", \"\\n<</SYS>>\\n\\n\"\n",
    "DEFAULT_SYSTEM_PROMPT = \"\"\"\\\n",
    "You are a helpful, respectful and honest assistant. Always answer as helpfully as possible, while being safe. Your answers should not include any harmful, unethical, racist, sexist, toxic, dangerous, or illegal content. Please ensure that your responses are socially unbiased and positive in nature.\n",
    "\n",
    "If a question does not make any sense, or is not factually coherent, explain why instead of answering something not correct. If you don't know the answer to a question, please don't share false information.\"\"\"\n",
    "\n",
    "\n",
    "\n",
    "def get_prompt(instruction, new_system_prompt=DEFAULT_SYSTEM_PROMPT):\n",
    "    SYSTEM_PROMPT = B_SYS + new_system_prompt + E_SYS\n",
    "    prompt_template =  B_INST + SYSTEM_PROMPT + instruction + E_INST\n",
    "    return prompt_template\n",
    "    "
   ]
  },
  {
   "cell_type": "code",
   "execution_count": null,
   "id": "854aa4b8-844c-42fa-af67-5dfa1280c64b",
   "metadata": {},
   "outputs": [],
   "source": [
    "llm = HuggingFacePipeline(pipeline = pipe, \n",
    "                          model_kwargs = {'temperature':0})\n"
   ]
  },
  {
   "cell_type": "code",
   "execution_count": null,
   "id": "ea0dff95-ec8a-4679-99f9-a02b78144d2e",
   "metadata": {},
   "outputs": [],
   "source": [
    "system_prompt = \"You are an advanced assistant that excels at translation. \"\n",
    "instruction = \"Convert the following text from English to French:\\n\\n {text}\"\n",
    "template = get_prompt(instruction, system_prompt)\n",
    "print(template)\n",
    "\n",
    "prompt = PromptTemplate(template=template, input_variables=[\"text\"])\n",
    "llm_chain = LLMChain(prompt=prompt, llm=llm)\n"
   ]
  },
  {
   "cell_type": "code",
   "execution_count": 11,
   "id": "09f62788-8f57-4758-96d7-c3f34df1eb07",
   "metadata": {},
   "outputs": [
    {
     "name": "stdout",
     "output_type": "stream",
     "text": [
      "[INST]<<SYS>>\n",
      "\n",
      "You are a biomedical researcher. For answering the question at the end, you need to first read the Context provided and then answer the Question as \"True\" or \"False\". If you don't know the answer, report as \"Don't know\". Give your answer in the following format.\n",
      "{{\n",
      "answer : <True> or <False> or <Don't know>\n",
      "}}\n",
      "\n",
      "<</SYS>>\n",
      "\n",
      "Context:\n",
      "\n",
      "{context} \n",
      "\n",
      "Question: {question}[/INST]\n"
     ]
    }
   ],
   "source": [
    "instruction = \"Context:\\n\\n{context} \\n\\nQuestion: {question}\"\n",
    "system_prompt = \"\"\"\n",
    "You are a biomedical researcher. For answering the question at the end, you need to first read the Context provided and then answer the Question as \"True\" or \"False\". If you don't know the answer, report as \"Don't know\". Give your answer in the following format.\n",
    "{{\n",
    "answer : <True> or <False> or <Don't know>\n",
    "}}\n",
    "\"\"\"\n",
    "template = get_prompt(instruction, system_prompt)\n",
    "print(template)\n"
   ]
  },
  {
   "cell_type": "code",
   "execution_count": null,
   "id": "52cc603e-8895-4c84-8117-b9d666bdc44c",
   "metadata": {},
   "outputs": [],
   "source": [
    "question = \"how are you today?\"\n",
    "output = llm_chain.run(text)\n",
    "\n",
    "parse_text(output)\n"
   ]
  },
  {
   "cell_type": "code",
   "execution_count": null,
   "id": "1566c8d5-3819-4d12-a0e6-42860ed431fc",
   "metadata": {},
   "outputs": [],
   "source": []
  },
  {
   "cell_type": "code",
   "execution_count": null,
   "id": "81ca5fbd-5012-43e8-8385-3295a10ab902",
   "metadata": {},
   "outputs": [],
   "source": []
  },
  {
   "cell_type": "code",
   "execution_count": null,
   "id": "58062752-03a2-462f-a085-0d926d4a3e45",
   "metadata": {},
   "outputs": [],
   "source": []
  },
  {
   "cell_type": "code",
   "execution_count": 2,
   "id": "63d1cc62-9cfd-4945-9651-a8c18cadbe8e",
   "metadata": {},
   "outputs": [],
   "source": [
    "# MODEL_NAME = \"Yukang/Llama-2-13b-chat-longlora-32k-sft\"\n",
    "\n",
    "# llm = HuggingFacePipeline.from_model_id(\n",
    "#     model_id=MODEL_NAME,\n",
    "#     task=\"text-generation\",\n",
    "#     model_kwargs={\"temperature\": 0, \"max_length\": 64},\n",
    "# )\n",
    "\n"
   ]
  },
  {
   "cell_type": "code",
   "execution_count": null,
   "id": "e7fed016-42bc-4f9f-88a2-8aef412c64b0",
   "metadata": {},
   "outputs": [],
   "source": []
  }
 ],
 "metadata": {
  "kernelspec": {
   "display_name": "Python 3 (ipykernel)",
   "language": "python",
   "name": "python3"
  },
  "language_info": {
   "codemirror_mode": {
    "name": "ipython",
    "version": 3
   },
   "file_extension": ".py",
   "mimetype": "text/x-python",
   "name": "python",
   "nbconvert_exporter": "python",
   "pygments_lexer": "ipython3",
   "version": "3.10.9"
  }
 },
 "nbformat": 4,
 "nbformat_minor": 5
}
