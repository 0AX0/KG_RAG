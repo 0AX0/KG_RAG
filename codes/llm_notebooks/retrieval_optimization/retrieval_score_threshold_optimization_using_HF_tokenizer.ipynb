{
 "cells": [
  {
   "cell_type": "code",
   "execution_count": 1,
   "id": "6a9a893f",
   "metadata": {},
   "outputs": [],
   "source": [
    "from transformers import AutoTokenizer\n",
    "import pandas as pd\n",
    "import os\n"
   ]
  },
  {
   "cell_type": "code",
   "execution_count": null,
   "id": "837ac0f9",
   "metadata": {},
   "outputs": [],
   "source": [
    "MODEL_NAME=\"TheBloke/Llama-2-13b-Chat-GPTQ\"\n",
    "BRANCH_NAME=\"gptq-4bit-64g-actorder_True\"\n"
   ]
  },
  {
   "cell_type": "code",
   "execution_count": null,
   "id": "3a7db2a1",
   "metadata": {},
   "outputs": [],
   "source": [
    "tokenizer = AutoTokenizer.from_pretrained(MODEL_NAME, cache_dir=CACHE_DIR)\n"
   ]
  }
 ],
 "metadata": {
  "kernelspec": {
   "display_name": "Python 3 (ipykernel)",
   "language": "python",
   "name": "python3"
  },
  "language_info": {
   "codemirror_mode": {
    "name": "ipython",
    "version": 3
   },
   "file_extension": ".py",
   "mimetype": "text/x-python",
   "name": "python",
   "nbconvert_exporter": "python",
   "pygments_lexer": "ipython3",
   "version": "3.10.9"
  }
 },
 "nbformat": 4,
 "nbformat_minor": 5
}
