{
 "cells": [
  {
   "cell_type": "code",
   "execution_count": 162,
   "id": "7fcd86c0",
   "metadata": {},
   "outputs": [],
   "source": [
    "from transformers import AutoTokenizer\n",
    "from scipy.signal import argrelextrema\n",
    "import pandas as pd\n",
    "import numpy as np\n",
    "import matplotlib.pyplot as plt\n",
    "import os\n"
   ]
  },
  {
   "cell_type": "code",
   "execution_count": 6,
   "id": "d75bfa5a",
   "metadata": {},
   "outputs": [],
   "source": [
    "def get_prompt(instruction, new_system_prompt):\n",
    "    SYSTEM_PROMPT = B_SYS + new_system_prompt + E_SYS\n",
    "    prompt_template =  B_INST + SYSTEM_PROMPT + instruction + E_INST\n",
    "    return prompt_template\n"
   ]
  },
  {
   "cell_type": "code",
   "execution_count": 7,
   "id": "99a056a0",
   "metadata": {},
   "outputs": [],
   "source": [
    "B_INST, E_INST = \"[INST]\", \"[/INST]\"\n",
    "B_SYS, E_SYS = \"<<SYS>>\\n\", \"\\n<</SYS>>\\n\\n\"\n",
    "DEFAULT_SYSTEM_PROMPT = \"\"\"\\\n",
    "You are a helpful, respectful and honest assistant. Always answer as helpfully as possible, while being safe. Your answers should not include any harmful, unethical, racist, sexist, toxic, dangerous, or illegal content. Please ensure that your responses are socially unbiased and positive in nature.\n",
    "\n",
    "If a question does not make any sense, or is not factually coherent, explain why instead of answering something not correct. If you don't know the answer to a question, please don't share false information.\"\"\"\n",
    "\n",
    "\n",
    "SYSTEM_PROMPT = \"\"\"\n",
    "You are an expert biomedical researcher. For answering the Question at the end, you need to first read the Context provided and then provide your answer in the following JSON format:\n",
    "{{\n",
    "  \"answer\": \"True\"\n",
    "}}\n",
    "OR\n",
    "{{\n",
    "  \"answer\": \"False\"\n",
    "}}\n",
    "OR\n",
    "{{\n",
    "  \"answer\": \"Don't know\"\n",
    "}}\n",
    "\"\"\"\n",
    "INSTRUCTION = \"Context:\\n\\n{context} \\n\\nQuestion: {question}\"\n"
   ]
  },
  {
   "cell_type": "code",
   "execution_count": 2,
   "id": "aace467a",
   "metadata": {},
   "outputs": [],
   "source": [
    "MODEL_NAME=\"TheBloke/Llama-2-13b-Chat-GPTQ\"\n",
    "BRANCH_NAME=\"gptq-4bit-64g-actorder_True\"\n"
   ]
  },
  {
   "cell_type": "code",
   "execution_count": 17,
   "id": "1586247c",
   "metadata": {},
   "outputs": [],
   "source": [
    "DATA_PATH = \"../../../data/analysis_results\"\n",
    "validation_files = [\n",
    "    \"retrieval_score_for_validation_questions_using_all_MiniLM_L6_v2.csv\",\n",
    "    \"retrieval_score_for_validation_questions_using_multi_qa_mpnet_base_dot_v1.csv\",\n",
    "    \"retrieval_score_for_validation_questions_using_S_PubMedBert_MS_MARCO.csv\"\n",
    "]\n",
    "\n",
    "test_files = [\n",
    "    \"retrieval_score_for_test_questions_using_all_MiniLM_L6_v2.csv\",\n",
    "    \"retrieval_score_for_test_questions_using_multi_qa_mpnet_base_dot_v1.csv\",\n",
    "    \"retrieval_score_for_test_questions_using_S_PubMedBert_MS_MARCO.csv\"\n",
    "]\n",
    "\n",
    "model_names = [\n",
    "    \"all-MiniLM-L6-v2\",\n",
    "    \"multi-qa-mpnet-base-dot-v1\",\n",
    "    \"S-PubMedBert-MS-MARCO\"\n",
    "]\n",
    "\n",
    "MAX_TOKEN_SIZE_OF_LLM = 4096\n",
    "QUESTION_TOKEN_SIZE = 50\n",
    "CHARACTERS_PER_TOKEN = 4\n",
    "MAX_CHARACTERS_PER_DOCUMENT = 650\n"
   ]
  },
  {
   "cell_type": "code",
   "execution_count": 4,
   "id": "a5d0d3f2",
   "metadata": {},
   "outputs": [
    {
     "data": {
      "application/vnd.jupyter.widget-view+json": {
       "model_id": "4502efc87d2549f1971e77d2f8cc828b",
       "version_major": 2,
       "version_minor": 0
      },
      "text/plain": [
       "Downloading (…)okenizer_config.json:   0%|          | 0.00/727 [00:00<?, ?B/s]"
      ]
     },
     "metadata": {},
     "output_type": "display_data"
    },
    {
     "data": {
      "application/vnd.jupyter.widget-view+json": {
       "model_id": "d0b9a030cae74e1cbb0fc09428f31627",
       "version_major": 2,
       "version_minor": 0
      },
      "text/plain": [
       "Downloading tokenizer.model:   0%|          | 0.00/500k [00:00<?, ?B/s]"
      ]
     },
     "metadata": {},
     "output_type": "display_data"
    },
    {
     "data": {
      "application/vnd.jupyter.widget-view+json": {
       "model_id": "e62e160ddbcc4ec2b54df1afc3fdbf9d",
       "version_major": 2,
       "version_minor": 0
      },
      "text/plain": [
       "Downloading (…)_True/tokenizer.json:   0%|          | 0.00/1.84M [00:00<?, ?B/s]"
      ]
     },
     "metadata": {},
     "output_type": "display_data"
    },
    {
     "data": {
      "application/vnd.jupyter.widget-view+json": {
       "model_id": "2fb1f1e544e14c009dbfe21307dcf734",
       "version_major": 2,
       "version_minor": 0
      },
      "text/plain": [
       "Downloading (…)cial_tokens_map.json:   0%|          | 0.00/411 [00:00<?, ?B/s]"
      ]
     },
     "metadata": {},
     "output_type": "display_data"
    }
   ],
   "source": [
    "tokenizer = AutoTokenizer.from_pretrained(MODEL_NAME, revision=BRANCH_NAME)\n"
   ]
  },
  {
   "cell_type": "code",
   "execution_count": 128,
   "id": "49bff9f6",
   "metadata": {},
   "outputs": [],
   "source": [
    "template = get_prompt(INSTRUCTION, SYSTEM_PROMPT)\n",
    "\n",
    "template_tokens = tokenizer.tokenize(template)\n",
    "max_context_tokens_in_input = MAX_TOKEN_SIZE_OF_LLM - len(template_tokens) - QUESTION_TOKEN_SIZE\n",
    "\n",
    "tokens_per_document = MAX_CHARACTERS_PER_DOCUMENT/CHARACTERS_PER_TOKEN\n",
    "\n",
    "upper_bound_for_context = max_context_tokens_in_input*CHARACTERS_PER_TOKEN/MAX_CHARACTERS_PER_DOCUMENT\n"
   ]
  },
  {
   "cell_type": "code",
   "execution_count": 196,
   "id": "aabddfc5",
   "metadata": {},
   "outputs": [],
   "source": [
    "pubmed_bert_df = pd.read_csv(os.path.join(DATA_PATH, validation_files[2]))\n"
   ]
  },
  {
   "cell_type": "code",
   "execution_count": 194,
   "id": "bdbc70b9",
   "metadata": {},
   "outputs": [],
   "source": [
    "# pubmed_bert_df.loc[:, \"est_tokens_in_documents_retrieved\"] = tokens_per_document* pubmed_bert_df.documents_retrieved\n",
    "\n",
    "# pubmed_bert_df_ = pubmed_bert_df[pubmed_bert_df.est_tokens_in_documents_retrieved <= MAX_CONTEXT_TOKENS_IN_INPUT]\n",
    "# pubmed_bert_df_thresh = pubmed_bert_df_[pubmed_bert_df_.est_tokens_in_documents_retrieved == pubmed_bert_df_.est_tokens_in_documents_retrieved.max()].retrieval_score.max()\n",
    "\n",
    "\n"
   ]
  },
  {
   "cell_type": "code",
   "execution_count": 197,
   "id": "c7af9d9e",
   "metadata": {},
   "outputs": [],
   "source": [
    "retrieval_score_list = np.arange(0,1,0.01)\n",
    "\n",
    "pubmed_retrieval = []\n",
    "\n",
    "for item in retrieval_score_list:\n",
    "    pubmed_retrieval.append(pubmed_bert_df[(pubmed_bert_df.retrieval_score > item) & (pubmed_bert_df.documents_retrieved<upper_bound_for_context)].shape[0]/pubmed_bert_df.shape[0])\n"
   ]
  },
  {
   "cell_type": "code",
   "execution_count": 198,
   "id": "82b2fd92",
   "metadata": {},
   "outputs": [
    {
     "name": "stdout",
     "output_type": "stream",
     "text": [
      "Optimal threshold is  0.55\n",
      "Corresponding Retrieval (%) is  77.4\n"
     ]
    },
    {
     "data": {
      "image/png": "[encoded data removed]",
      "text/plain": [
       "<Figure size 500x300 with 1 Axes>"
      ]
     },
     "metadata": {},
     "output_type": "display_data"
    }
   ],
   "source": [
    "\n",
    "\n",
    "pubmed_retrieval_derivative = np.gradient(pubmed_retrieval)\n",
    "max_index = argrelextrema(pubmed_retrieval_derivative, np.greater)\n",
    "\n",
    "optimal_retrieval_score = np.array(retrieval_score_list)[max_index[0]][0]\n",
    "print(\"Optimal threshold is \", optimal_retrieval_score)\n",
    "print(\"Corresponding Retrieval (%) is \", 100*np.array(pubmed_retrieval)[max_index[0]][0])\n",
    "\n",
    "# print(pubmed_retrieval_derivative[max_index[0]])\n",
    "# print(np.array(pubmed_retrieval)[max_index[0]])\n",
    "# print()\n",
    "\n",
    "\n",
    "fig, ax1 = plt.subplots(figsize=(5, 3))\n",
    "\n",
    "color = 'tab:blue'\n",
    "ax1.set_xlabel('Retrieval threshold')\n",
    "ax1.set_ylabel('Retrieval (%)')\n",
    "ax1.plot(retrieval_score_list, 100*np.array(pubmed_retrieval), color=color)\n",
    "\n",
    "line = ax1.axvline(x=optimal_retrieval_score, color='r', linestyle='--')\n",
    "# plt.legend([line], ['Upper bound for retrieval'], loc=\"lower left\")\n",
    "\n",
    "fig.tight_layout()  \n",
    "plt.show()\n"
   ]
  },
  {
   "cell_type": "code",
   "execution_count": 199,
   "id": "8a9c2757",
   "metadata": {},
   "outputs": [],
   "source": [
    "\n",
    "pubmed_bert_df_test = pd.read_csv(os.path.join(DATA_PATH, test_files[2]))\n"
   ]
  },
  {
   "cell_type": "code",
   "execution_count": 201,
   "id": "b009dbe0",
   "metadata": {},
   "outputs": [
    {
     "data": {
      "text/plain": [
       "0.8135818908122503"
      ]
     },
     "execution_count": 201,
     "metadata": {},
     "output_type": "execute_result"
    }
   ],
   "source": [
    "pubmed_bert_df_test[pubmed_bert_df_test.retrieval_score >= optimal_retrieval_score].shape[0]/pubmed_bert_df_test.shape[0]\n"
   ]
  },
  {
   "cell_type": "code",
   "execution_count": 202,
   "id": "e1746ad9",
   "metadata": {},
   "outputs": [
    {
     "data": {
      "text/plain": [
       "0.55"
      ]
     },
     "execution_count": 202,
     "metadata": {},
     "output_type": "execute_result"
    }
   ],
   "source": [
    "optimal_retrieval_score"
   ]
  },
  {
   "cell_type": "code",
   "execution_count": null,
   "id": "897eab36",
   "metadata": {},
   "outputs": [],
   "source": []
  }
 ],
 "metadata": {
  "kernelspec": {
   "display_name": "Python 3 (ipykernel)",
   "language": "python",
   "name": "python3"
  },
  "language_info": {
   "codemirror_mode": {
    "name": "ipython",
    "version": 3
   },
   "file_extension": ".py",
   "mimetype": "text/x-python",
   "name": "python",
   "nbconvert_exporter": "python",
   "pygments_lexer": "ipython3",
   "version": "3.10.9"
  }
 },
 "nbformat": 4,
 "nbformat_minor": 5
}
