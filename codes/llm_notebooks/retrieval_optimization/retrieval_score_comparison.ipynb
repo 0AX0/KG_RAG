{
 "cells": [
  {
   "cell_type": "code",
   "execution_count": 112,
   "id": "10735d79-2ea6-4876-ab4d-2f465a31f019",
   "metadata": {},
   "outputs": [],
   "source": [
    "import pandas as pd\n",
    "import matplotlib.pyplot as plt\n",
    "import seaborn as sns\n",
    "import os\n"
   ]
  },
  {
   "cell_type": "code",
   "execution_count": 119,
   "id": "5cf9f814-3334-4b2e-b803-3aad0234e367",
   "metadata": {},
   "outputs": [],
   "source": [
    "DATA_PATH = \"../../../data/analysis_results\"\n",
    "validation_files = [\n",
    "    \"retrieval_score_for_validation_questions_using_all_MiniLM_L6_v2.csv\",\n",
    "    \"retrieval_score_for_validation_questions_using_multi_qa_mpnet_base_dot_v1.csv\",\n",
    "    \"retrieval_score_for_validation_questions_using_S_PubMedBert_MS_MARCO.csv\"\n",
    "]\n",
    "\n",
    "test_files = [\n",
    "    \"retrieval_score_for_test_questions_using_all_MiniLM_L6_v2.csv\",\n",
    "    \"retrieval_score_for_test_questions_using_multi_qa_mpnet_base_dot_v1.csv\",\n",
    "    \"retrieval_score_for_test_questions_using_S_PubMedBert_MS_MARCO.csv\"\n",
    "]\n",
    "\n",
    "model_names = [\n",
    "    \"all-MiniLM-L6-v2\",\n",
    "    \"multi-qa-mpnet-base-dot-v1\",\n",
    "    \"S-PubMedBert-MS-MARCO\"\n",
    "]\n",
    "\n",
    "CHARACTERS_PER_TOKEN = 4\n",
    "MAX_CHARACTERS_PER_DOCUMENT = 650\n",
    "MAX_CONTEXT_TOKENS_IN_INPUT = 4000\n"
   ]
  },
  {
   "cell_type": "code",
   "execution_count": 118,
   "id": "b15a282e-553f-47d4-a66a-a4dedd2cc743",
   "metadata": {},
   "outputs": [
    {
     "data": {
      "text/plain": [
       "162.5"
      ]
     },
     "execution_count": 118,
     "metadata": {},
     "output_type": "execute_result"
    }
   ],
   "source": [
    "tokens_per_document = MAX_CHARACTERS_PER_DOCUMENT/CHARACTERS_PER_TOKEN\n",
    "tokens_per_document"
   ]
  },
  {
   "cell_type": "code",
   "execution_count": 114,
   "id": "c3820ea7-a72d-403a-870d-9bcd6f40baa5",
   "metadata": {},
   "outputs": [],
   "source": [
    "mini_lm_df = pd.read_csv(os.path.join(DATA_PATH, validation_files[0]))\n",
    "multi_qa_df = pd.read_csv(os.path.join(DATA_PATH, validation_files[1]))\n",
    "pubmed_bert_df = pd.read_csv(os.path.join(DATA_PATH, validation_files[2]))\n"
   ]
  },
  {
   "cell_type": "code",
   "execution_count": 138,
   "id": "be084222-5f6a-491e-a08b-83e7c38eed46",
   "metadata": {},
   "outputs": [
    {
     "data": {
      "text/html": [
       "<div>\n",
       "<style scoped>\n",
       "    .dataframe tbody tr th:only-of-type {\n",
       "        vertical-align: middle;\n",
       "    }\n",
       "\n",
       "    .dataframe tbody tr th {\n",
       "        vertical-align: top;\n",
       "    }\n",
       "\n",
       "    .dataframe thead th {\n",
       "        text-align: right;\n",
       "    }\n",
       "</style>\n",
       "<table border=\"1\" class=\"dataframe\">\n",
       "  <thead>\n",
       "    <tr style=\"text-align: right;\">\n",
       "      <th></th>\n",
       "      <th>question</th>\n",
       "      <th>retrieval_score</th>\n",
       "      <th>documents_retrieved</th>\n",
       "      <th>est_tokens_in_documents_retrieved</th>\n",
       "    </tr>\n",
       "  </thead>\n",
       "  <tbody>\n",
       "    <tr>\n",
       "      <th>0</th>\n",
       "      <td>pancreatic cancer localizes Anatomy common hep...</td>\n",
       "      <td>0.580394</td>\n",
       "      <td>49</td>\n",
       "      <td>7962.5</td>\n",
       "    </tr>\n",
       "    <tr>\n",
       "      <th>1</th>\n",
       "      <td>cardiac arrest presents Symptom Hyperventilation</td>\n",
       "      <td>1.000000</td>\n",
       "      <td>1</td>\n",
       "      <td>162.5</td>\n",
       "    </tr>\n",
       "    <tr>\n",
       "      <th>2</th>\n",
       "      <td>anemia localizes Anatomy colostrum</td>\n",
       "      <td>1.000000</td>\n",
       "      <td>1</td>\n",
       "      <td>162.5</td>\n",
       "    </tr>\n",
       "    <tr>\n",
       "      <th>3</th>\n",
       "      <td>Compound Rosuvastatin treats prostate cancer</td>\n",
       "      <td>1.000000</td>\n",
       "      <td>1</td>\n",
       "      <td>162.5</td>\n",
       "    </tr>\n",
       "    <tr>\n",
       "      <th>4</th>\n",
       "      <td>prostate cancer localizes Anatomy epithelium</td>\n",
       "      <td>0.556150</td>\n",
       "      <td>208</td>\n",
       "      <td>33800.0</td>\n",
       "    </tr>\n",
       "    <tr>\n",
       "      <th>...</th>\n",
       "      <td>...</td>\n",
       "      <td>...</td>\n",
       "      <td>...</td>\n",
       "      <td>...</td>\n",
       "    </tr>\n",
       "    <tr>\n",
       "      <th>995</th>\n",
       "      <td>COVID-19 presents Symptom Halitosis</td>\n",
       "      <td>1.000000</td>\n",
       "      <td>1</td>\n",
       "      <td>162.5</td>\n",
       "    </tr>\n",
       "    <tr>\n",
       "      <th>996</th>\n",
       "      <td>Huntington's disease presents Symptom Apraxia,...</td>\n",
       "      <td>1.000000</td>\n",
       "      <td>1</td>\n",
       "      <td>162.5</td>\n",
       "    </tr>\n",
       "    <tr>\n",
       "      <th>997</th>\n",
       "      <td>Compound 3-(4-Amino-2-methyl-pyrimidin-5-ylmet...</td>\n",
       "      <td>0.869789</td>\n",
       "      <td>2</td>\n",
       "      <td>325.0</td>\n",
       "    </tr>\n",
       "    <tr>\n",
       "      <th>998</th>\n",
       "      <td>type 2 diabetes mellitus localizes Anatomy ret...</td>\n",
       "      <td>0.000000</td>\n",
       "      <td>10000</td>\n",
       "      <td>1625000.0</td>\n",
       "    </tr>\n",
       "    <tr>\n",
       "      <th>999</th>\n",
       "      <td>Variant ﻿rs754119466 associates COVID-19</td>\n",
       "      <td>0.000000</td>\n",
       "      <td>10000</td>\n",
       "      <td>1625000.0</td>\n",
       "    </tr>\n",
       "  </tbody>\n",
       "</table>\n",
       "<p>1000 rows × 4 columns</p>\n",
       "</div>"
      ],
      "text/plain": [
       "                                              question  retrieval_score  \\\n",
       "0    pancreatic cancer localizes Anatomy common hep...         0.580394   \n",
       "1     cardiac arrest presents Symptom Hyperventilation         1.000000   \n",
       "2                   anemia localizes Anatomy colostrum         1.000000   \n",
       "3         Compound Rosuvastatin treats prostate cancer         1.000000   \n",
       "4         prostate cancer localizes Anatomy epithelium         0.556150   \n",
       "..                                                 ...              ...   \n",
       "995                COVID-19 presents Symptom Halitosis         1.000000   \n",
       "996  Huntington's disease presents Symptom Apraxia,...         1.000000   \n",
       "997  Compound 3-(4-Amino-2-methyl-pyrimidin-5-ylmet...         0.869789   \n",
       "998  type 2 diabetes mellitus localizes Anatomy ret...         0.000000   \n",
       "999           Variant ﻿rs754119466 associates COVID-19         0.000000   \n",
       "\n",
       "     documents_retrieved  est_tokens_in_documents_retrieved  \n",
       "0                     49                             7962.5  \n",
       "1                      1                              162.5  \n",
       "2                      1                              162.5  \n",
       "3                      1                              162.5  \n",
       "4                    208                            33800.0  \n",
       "..                   ...                                ...  \n",
       "995                    1                              162.5  \n",
       "996                    1                              162.5  \n",
       "997                    2                              325.0  \n",
       "998                10000                          1625000.0  \n",
       "999                10000                          1625000.0  \n",
       "\n",
       "[1000 rows x 4 columns]"
      ]
     },
     "execution_count": 138,
     "metadata": {},
     "output_type": "execute_result"
    }
   ],
   "source": [
    "mini_lm_df\n"
   ]
  },
  {
   "cell_type": "code",
   "execution_count": 132,
   "id": "c0ea4714-230b-4b54-8dac-ef7166e1dab2",
   "metadata": {},
   "outputs": [
    {
     "data": {
      "text/plain": [
       "[0.4428722360407972, 0.4092470953234909, 0.2381153545624493]"
      ]
     },
     "execution_count": 132,
     "metadata": {},
     "output_type": "execute_result"
    }
   ],
   "source": [
    "mini_lm_df.loc[:, \"est_tokens_in_documents_retrieved\"] = tokens_per_document* mini_lm_df.documents_retrieved\n",
    "mini_lm_thresh = mini_lm_df[mini_lm_df.est_tokens_in_documents_retrieved <= MAX_CONTEXT_TOKENS_IN_INPUT].retrieval_score.min()\n",
    "\n",
    "multi_qa_df.loc[:, \"est_tokens_in_documents_retrieved\"] = tokens_per_document* multi_qa_df.documents_retrieved\n",
    "multi_qa_df_thresh = multi_qa_df[multi_qa_df.est_tokens_in_documents_retrieved <= MAX_CONTEXT_TOKENS_IN_INPUT].retrieval_score.min()\n",
    "\n",
    "pubmed_bert_df.loc[:, \"est_tokens_in_documents_retrieved\"] = tokens_per_document* pubmed_bert_df.documents_retrieved\n",
    "pubmed_bert_df_thresh = pubmed_bert_df[pubmed_bert_df.est_tokens_in_documents_retrieved <= MAX_CONTEXT_TOKENS_IN_INPUT].retrieval_score.min()\n",
    "\n",
    "thresholds = [\n",
    "    mini_lm_thresh,\n",
    "    multi_qa_df_thresh,\n",
    "    pubmed_bert_df_thresh        \n",
    "]\n",
    "\n",
    "thresholds\n"
   ]
  },
  {
   "cell_type": "code",
   "execution_count": 161,
   "id": "e859353e-0902-42fa-9452-6565fe7a1b15",
   "metadata": {},
   "outputs": [
    {
     "data": {
      "text/plain": [
       "[0.8235819529413044, 0.6966087470542819, 0.7197634329245022]"
      ]
     },
     "execution_count": 161,
     "metadata": {},
     "output_type": "execute_result"
    }
   ],
   "source": [
    "mini_lm_df_ = mini_lm_df[mini_lm_df.est_tokens_in_documents_retrieved <= MAX_CONTEXT_TOKENS_IN_INPUT]\n",
    "mini_lm_thresh = mini_lm_df_[mini_lm_df_.est_tokens_in_documents_retrieved == mini_lm_df_.est_tokens_in_documents_retrieved.max()].retrieval_score.max()\n",
    "\n",
    "multi_qa_df_ = multi_qa_df[multi_qa_df.est_tokens_in_documents_retrieved <= MAX_CONTEXT_TOKENS_IN_INPUT]\n",
    "multi_qa_df_thresh = multi_qa_df_[multi_qa_df_.est_tokens_in_documents_retrieved == multi_qa_df_.est_tokens_in_documents_retrieved.max()].retrieval_score.max()\n",
    "\n",
    "pubmed_bert_df_ = pubmed_bert_df[pubmed_bert_df.est_tokens_in_documents_retrieved <= MAX_CONTEXT_TOKENS_IN_INPUT]\n",
    "pubmed_bert_df_thresh = pubmed_bert_df_[pubmed_bert_df_.est_tokens_in_documents_retrieved == pubmed_bert_df_.est_tokens_in_documents_retrieved.max()].retrieval_score.max()\n",
    "\n",
    "\n",
    "thresholds = [\n",
    "    mini_lm_thresh,\n",
    "    multi_qa_df_thresh,\n",
    "    pubmed_bert_df_thresh        \n",
    "]\n",
    "\n",
    "thresholds\n"
   ]
  },
  {
   "cell_type": "code",
   "execution_count": 172,
   "id": "6090cd97-55d3-4eec-9062-e07a29d251e8",
   "metadata": {},
   "outputs": [
    {
     "data": {
      "text/html": [
       "<div>\n",
       "<style scoped>\n",
       "    .dataframe tbody tr th:only-of-type {\n",
       "        vertical-align: middle;\n",
       "    }\n",
       "\n",
       "    .dataframe tbody tr th {\n",
       "        vertical-align: top;\n",
       "    }\n",
       "\n",
       "    .dataframe thead th {\n",
       "        text-align: right;\n",
       "    }\n",
       "</style>\n",
       "<table border=\"1\" class=\"dataframe\">\n",
       "  <thead>\n",
       "    <tr style=\"text-align: right;\">\n",
       "      <th></th>\n",
       "      <th>question</th>\n",
       "      <th>retrieval_score</th>\n",
       "      <th>documents_retrieved</th>\n",
       "      <th>est_tokens_in_documents_retrieved</th>\n",
       "    </tr>\n",
       "  </thead>\n",
       "  <tbody>\n",
       "    <tr>\n",
       "      <th>46</th>\n",
       "      <td>breast cancer presents Symptom Vomiting</td>\n",
       "      <td>0.584300</td>\n",
       "      <td>24</td>\n",
       "      <td>3900.0</td>\n",
       "    </tr>\n",
       "    <tr>\n",
       "      <th>654</th>\n",
       "      <td>Gene TMPRSS15 is expressed in pancreatic cancer</td>\n",
       "      <td>0.586279</td>\n",
       "      <td>24</td>\n",
       "      <td>3900.0</td>\n",
       "    </tr>\n",
       "    <tr>\n",
       "      <th>659</th>\n",
       "      <td>Compound Prednisone treats hepatitis C</td>\n",
       "      <td>0.719763</td>\n",
       "      <td>24</td>\n",
       "      <td>3900.0</td>\n",
       "    </tr>\n",
       "    <tr>\n",
       "      <th>745</th>\n",
       "      <td>Disease bacterial pneumonia is a pneumonia</td>\n",
       "      <td>0.637008</td>\n",
       "      <td>24</td>\n",
       "      <td>3900.0</td>\n",
       "    </tr>\n",
       "  </tbody>\n",
       "</table>\n",
       "</div>"
      ],
      "text/plain": [
       "                                            question  retrieval_score  \\\n",
       "46           breast cancer presents Symptom Vomiting         0.584300   \n",
       "654  Gene TMPRSS15 is expressed in pancreatic cancer         0.586279   \n",
       "659           Compound Prednisone treats hepatitis C         0.719763   \n",
       "745       Disease bacterial pneumonia is a pneumonia         0.637008   \n",
       "\n",
       "     documents_retrieved  est_tokens_in_documents_retrieved  \n",
       "46                    24                             3900.0  \n",
       "654                   24                             3900.0  \n",
       "659                   24                             3900.0  \n",
       "745                   24                             3900.0  "
      ]
     },
     "execution_count": 172,
     "metadata": {},
     "output_type": "execute_result"
    }
   ],
   "source": [
    "pubmed_bert_df_[pubmed_bert_df_.est_tokens_in_documents_retrieved == pubmed_bert_df_.est_tokens_in_documents_retrieved.max()]\n",
    "\n",
    "# pubmed_bert_df_covid = pubmed_bert_df_[pubmed_bert_df_.question.str.contains(\"COVID-19\")]\n",
    "\n",
    "# pubmed_bert_df_covid[pubmed_bert_df_covid.retrieval_score >= thresholds[-1]]\n"
   ]
  },
  {
   "cell_type": "code",
   "execution_count": 137,
   "id": "97223049-364d-4a2b-8e8a-3878f327d987",
   "metadata": {},
   "outputs": [
    {
     "data": {
      "text/html": [
       "<div>\n",
       "<style scoped>\n",
       "    .dataframe tbody tr th:only-of-type {\n",
       "        vertical-align: middle;\n",
       "    }\n",
       "\n",
       "    .dataframe tbody tr th {\n",
       "        vertical-align: top;\n",
       "    }\n",
       "\n",
       "    .dataframe thead th {\n",
       "        text-align: right;\n",
       "    }\n",
       "</style>\n",
       "<table border=\"1\" class=\"dataframe\">\n",
       "  <thead>\n",
       "    <tr style=\"text-align: right;\">\n",
       "      <th></th>\n",
       "      <th>question</th>\n",
       "      <th>retrieval_score</th>\n",
       "      <th>documents_retrieved</th>\n",
       "      <th>est_tokens_in_documents_retrieved</th>\n",
       "    </tr>\n",
       "  </thead>\n",
       "  <tbody>\n",
       "    <tr>\n",
       "      <th>330</th>\n",
       "      <td>Disease triple-receptor negative breast cancer...</td>\n",
       "      <td>0.238115</td>\n",
       "      <td>10</td>\n",
       "      <td>1625.0</td>\n",
       "    </tr>\n",
       "    <tr>\n",
       "      <th>404</th>\n",
       "      <td>Variant rs745318099 associates riboflavin defi...</td>\n",
       "      <td>0.386428</td>\n",
       "      <td>18</td>\n",
       "      <td>2925.0</td>\n",
       "    </tr>\n",
       "    <tr>\n",
       "      <th>440</th>\n",
       "      <td>Variant rs201198708 associates riboflavin defi...</td>\n",
       "      <td>0.432517</td>\n",
       "      <td>15</td>\n",
       "      <td>2437.5</td>\n",
       "    </tr>\n",
       "    <tr>\n",
       "      <th>685</th>\n",
       "      <td>Gene UGT2B11 is expressed in breast cancer</td>\n",
       "      <td>0.446756</td>\n",
       "      <td>23</td>\n",
       "      <td>3737.5</td>\n",
       "    </tr>\n",
       "    <tr>\n",
       "      <th>957</th>\n",
       "      <td>Disease glucocorticoid-induced osteoporosis is...</td>\n",
       "      <td>0.448892</td>\n",
       "      <td>2</td>\n",
       "      <td>325.0</td>\n",
       "    </tr>\n",
       "    <tr>\n",
       "      <th>...</th>\n",
       "      <td>...</td>\n",
       "      <td>...</td>\n",
       "      <td>...</td>\n",
       "      <td>...</td>\n",
       "    </tr>\n",
       "    <tr>\n",
       "      <th>623</th>\n",
       "      <td>Variant rs150164483 associates riboflavin defi...</td>\n",
       "      <td>1.000000</td>\n",
       "      <td>1</td>\n",
       "      <td>162.5</td>\n",
       "    </tr>\n",
       "    <tr>\n",
       "      <th>299</th>\n",
       "      <td>sickle cell anemia resembles Disease splenic i...</td>\n",
       "      <td>1.000000</td>\n",
       "      <td>1</td>\n",
       "      <td>162.5</td>\n",
       "    </tr>\n",
       "    <tr>\n",
       "      <th>620</th>\n",
       "      <td>type 2 diabetes mellitus localizes Anatomy sym...</td>\n",
       "      <td>1.000000</td>\n",
       "      <td>1</td>\n",
       "      <td>162.5</td>\n",
       "    </tr>\n",
       "    <tr>\n",
       "      <th>639</th>\n",
       "      <td>Disease classic galactosemia resembles phenylk...</td>\n",
       "      <td>1.000000</td>\n",
       "      <td>1</td>\n",
       "      <td>162.5</td>\n",
       "    </tr>\n",
       "    <tr>\n",
       "      <th>1</th>\n",
       "      <td>cardiac arrest presents Symptom Hyperventilation</td>\n",
       "      <td>1.000000</td>\n",
       "      <td>1</td>\n",
       "      <td>162.5</td>\n",
       "    </tr>\n",
       "  </tbody>\n",
       "</table>\n",
       "<p>786 rows × 4 columns</p>\n",
       "</div>"
      ],
      "text/plain": [
       "                                              question  retrieval_score  \\\n",
       "330  Disease triple-receptor negative breast cancer...         0.238115   \n",
       "404  Variant rs745318099 associates riboflavin defi...         0.386428   \n",
       "440  Variant rs201198708 associates riboflavin defi...         0.432517   \n",
       "685         Gene UGT2B11 is expressed in breast cancer         0.446756   \n",
       "957  Disease glucocorticoid-induced osteoporosis is...         0.448892   \n",
       "..                                                 ...              ...   \n",
       "623  Variant rs150164483 associates riboflavin defi...         1.000000   \n",
       "299  sickle cell anemia resembles Disease splenic i...         1.000000   \n",
       "620  type 2 diabetes mellitus localizes Anatomy sym...         1.000000   \n",
       "639  Disease classic galactosemia resembles phenylk...         1.000000   \n",
       "1     cardiac arrest presents Symptom Hyperventilation         1.000000   \n",
       "\n",
       "     documents_retrieved  est_tokens_in_documents_retrieved  \n",
       "330                   10                             1625.0  \n",
       "404                   18                             2925.0  \n",
       "440                   15                             2437.5  \n",
       "685                   23                             3737.5  \n",
       "957                    2                              325.0  \n",
       "..                   ...                                ...  \n",
       "623                    1                              162.5  \n",
       "299                    1                              162.5  \n",
       "620                    1                              162.5  \n",
       "639                    1                              162.5  \n",
       "1                      1                              162.5  \n",
       "\n",
       "[786 rows x 4 columns]"
      ]
     },
     "execution_count": 137,
     "metadata": {},
     "output_type": "execute_result"
    }
   ],
   "source": [
    "pubmed_bert_df[pubmed_bert_df.est_tokens_in_documents_retrieved <= MAX_CONTEXT_TOKENS_IN_INPUT].sort_values(by=\"retrieval_score\", ascending=True)\n"
   ]
  },
  {
   "cell_type": "code",
   "execution_count": 97,
   "id": "23422082-9663-428f-b79a-bfd43770138f",
   "metadata": {},
   "outputs": [
    {
     "name": "stdout",
     "output_type": "stream",
     "text": [
      "Average retrieval score of all-MiniLM-L6-v2 = 0.76\n",
      "Average retrieval score of multi-qa-mpnet-base-dot-v1 = 0.78\n",
      "Average retrieval score of S-PubMedBert-MS-MARCO = 0.79\n"
     ]
    }
   ],
   "source": [
    "mini_lm_df = pd.read_csv(os.path.join(DATA_PATH, validation_files[0]))\n",
    "multi_qa_df = pd.read_csv(os.path.join(DATA_PATH, validation_files[1]))\n",
    "pubmed_bert_df = pd.read_csv(os.path.join(DATA_PATH, validation_files[2]))\n",
    "\n",
    "print(\"Average retrieval score of {} = {}\".format(model_names[0], round(mini_lm_df.retrieval_score.mean(), 2)))\n",
    "print(\"Average retrieval score of {} = {}\".format(model_names[1], round(multi_qa_df.retrieval_score.mean(), 2)))\n",
    "print(\"Average retrieval score of {} = {}\".format(model_names[2], round(pubmed_bert_df.retrieval_score.mean(), 2)))\n",
    "\n",
    "thresholds = [\n",
    "    mini_lm_df.retrieval_score.mean(),\n",
    "    multi_qa_df.retrieval_score.mean(),\n",
    "    pubmed_bert_df.retrieval_score.mean()\n",
    "]\n",
    "\n",
    "\n"
   ]
  },
  {
   "cell_type": "code",
   "execution_count": 96,
   "id": "b8de606c-1b59-41ee-af8b-3b6ec03319b8",
   "metadata": {},
   "outputs": [
    {
     "name": "stdout",
     "output_type": "stream",
     "text": [
      "0.691\n",
      "0.649\n",
      "0.687\n"
     ]
    }
   ],
   "source": [
    "print(mini_lm_df[mini_lm_df.retrieval_score >= mini_lm_df.retrieval_score.mean()].shape[0]/1000)\n",
    "\n",
    "print(multi_qa_df[multi_qa_df.retrieval_score >= multi_qa_df.retrieval_score.mean()].shape[0]/1000)\n",
    "\n",
    "print(pubmed_bert_df[pubmed_bert_df.retrieval_score >= pubmed_bert_df.retrieval_score.mean()].shape[0]/1000)\n"
   ]
  },
  {
   "cell_type": "code",
   "execution_count": 162,
   "id": "91037045-b996-413d-b28a-acd75a0cbbe5",
   "metadata": {},
   "outputs": [],
   "source": [
    "mini_lm_df_test = pd.read_csv(os.path.join(DATA_PATH, test_files[0]))\n",
    "multi_qa_df_test = pd.read_csv(os.path.join(DATA_PATH, test_files[1]))\n",
    "pubmed_bert_df_test = pd.read_csv(os.path.join(DATA_PATH, test_files[2]))\n"
   ]
  },
  {
   "cell_type": "code",
   "execution_count": 163,
   "id": "713bc7f7-330a-44f9-a266-b38558fa3b01",
   "metadata": {},
   "outputs": [
    {
     "data": {
      "text/plain": [
       "0.6191744340878829"
      ]
     },
     "execution_count": 163,
     "metadata": {},
     "output_type": "execute_result"
    }
   ],
   "source": [
    "mini_lm_df_test[mini_lm_df_test.retrieval_score >= thresholds[0]].shape[0]/751\n"
   ]
  },
  {
   "cell_type": "code",
   "execution_count": 164,
   "id": "818e977a-b4cb-4e99-8861-621faf2f27ad",
   "metadata": {},
   "outputs": [
    {
     "data": {
      "text/plain": [
       "0.7230359520639148"
      ]
     },
     "execution_count": 164,
     "metadata": {},
     "output_type": "execute_result"
    }
   ],
   "source": [
    "multi_qa_df_test[multi_qa_df_test.retrieval_score >= thresholds[1]].shape[0]/751\n"
   ]
  },
  {
   "cell_type": "code",
   "execution_count": 165,
   "id": "d70d1543-f1c8-4aae-b5c0-5a0bdbcbe271",
   "metadata": {},
   "outputs": [
    {
     "data": {
      "text/plain": [
       "0.7310252996005326"
      ]
     },
     "execution_count": 165,
     "metadata": {},
     "output_type": "execute_result"
    }
   ],
   "source": [
    "pubmed_bert_df_test[pubmed_bert_df_test.retrieval_score >= thresholds[2]].shape[0]/751\n"
   ]
  },
  {
   "cell_type": "code",
   "execution_count": 54,
   "id": "6c1ab3c5-7121-4d45-b4ac-a827fb0d1396",
   "metadata": {},
   "outputs": [
    {
     "data": {
      "image/png": "[encoded data removed]",
      "text/plain": [
       "<Figure size 300x500 with 1 Axes>"
      ]
     },
     "metadata": {},
     "output_type": "display_data"
    }
   ],
   "source": [
    "means = [mini_lm_df['retrieval_score'].mean(), multi_qa_df['retrieval_score'].mean(), pubmed_bert_df['retrieval_score'].mean()]\n",
    "std_devs = [mini_lm_df['retrieval_score'].sem(), multi_qa_df['retrieval_score'].sem(), pubmed_bert_df['retrieval_score'].sem()]\n",
    "\n",
    "\n",
    "plt.figure(figsize=(3, 5))\n",
    "ax = plt.gca() \n",
    "plt.bar(model_names, means, yerr=std_devs, color='gray', alpha=0.7, capsize=10)\n",
    "\n",
    "\n",
    "# plt.xlabel('Models')\n",
    "plt.ylabel('Mean Retrieval Score')\n",
    "\n",
    "plt.xticks(rotation=90)\n",
    "plt.tight_layout()\n",
    "ax.spines['top'].set_visible(False)\n",
    "ax.spines['right'].set_visible(False)\n",
    "ax.set_ylim(0.5, 0.8)\n",
    "plt.show()"
   ]
  },
  {
   "cell_type": "code",
   "execution_count": 55,
   "id": "28a251eb-958e-43a4-be84-25675f3fc8c3",
   "metadata": {},
   "outputs": [
    {
     "data": {
      "image/png": "[encoded data removed]",
      "text/plain": [
       "<Figure size 400x600 with 3 Axes>"
      ]
     },
     "metadata": {},
     "output_type": "display_data"
    }
   ],
   "source": [
    "# Plot on validation data\n",
    "\n",
    "fig, axes = plt.subplots(len(validation_files), 1, figsize=(4, 2 * len(validation_files)))\n",
    "\n",
    "for i, file_name in enumerate(validation_files):    \n",
    "    file_path = os.path.join(DATA_PATH, file_name)\n",
    "    df = pd.read_csv(file_path)\n",
    "    \n",
    "    sns.kdeplot(data=df['retrieval_score'], ax=axes[i], color='blue')\n",
    "    # plt.hist(df['retrieval_score'], bins=20, color='blue', alpha=0.7)\n",
    "    # sns.histplot(data=df['retrieval_score'], ax=axes[i], color='blue', bins=20, kde=False)\n",
    "    \n",
    "    axes[i].set_xlabel('Retrieval Score')\n",
    "    axes[i].set_ylabel('Density')\n",
    "    \n",
    "    axes[i].set_title(f'Distribution of Retrieval Score for {model_names[i]}', fontsize=10)\n",
    "\n",
    "    # axes[i].set_xlim(0, 1)\n",
    "\n",
    "plt.tight_layout()\n",
    "plt.show()\n"
   ]
  },
  {
   "cell_type": "code",
   "execution_count": null,
   "id": "ff9e850a-49f6-4921-9ece-ad7c0a57deca",
   "metadata": {},
   "outputs": [],
   "source": []
  }
 ],
 "metadata": {
  "kernelspec": {
   "display_name": "Python 3 (ipykernel)",
   "language": "python",
   "name": "python3"
  },
  "language_info": {
   "codemirror_mode": {
    "name": "ipython",
    "version": 3
   },
   "file_extension": ".py",
   "mimetype": "text/x-python",
   "name": "python",
   "nbconvert_exporter": "python",
   "pygments_lexer": "ipython3",
   "version": "3.10.9"
  }
 },
 "nbformat": 4,
 "nbformat_minor": 5
}
