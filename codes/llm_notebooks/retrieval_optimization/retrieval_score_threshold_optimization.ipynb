{
 "cells": [
  {
   "cell_type": "code",
   "execution_count": 88,
   "id": "6bfeee45-bf05-4914-9861-844ba1a96239",
   "metadata": {},
   "outputs": [],
   "source": [
    "import pandas as pd\n",
    "import numpy as np\n",
    "from langchain.embeddings.sentence_transformer import SentenceTransformerEmbeddings\n",
    "from langchain.vectorstores import Chroma\n",
    "from tqdm import tqdm\n",
    "import os\n",
    "import matplotlib.pyplot as plt\n",
    "import seaborn as sns\n"
   ]
  },
  {
   "cell_type": "code",
   "execution_count": 49,
   "id": "bfd682c8-3759-420f-b4ed-37c5436428e5",
   "metadata": {},
   "outputs": [],
   "source": [
    "VECTOR_DB_PATH = \"../../../data/vectorDB/disease_context_chromaDB_using_all_MiniLM_L6_v2_sentence_transformer_model_with_chunk_size_3000\"\n",
    "SENTENCE_EMBEDDING_MODEL = \"all-MiniLM-L6-v2\"\n",
    "\n",
    "VALIDATION_DATA_PATH = \"../../../data/validation_questions_for_retrieval_performance.csv\"\n",
    "TEST_DATA_PATH = \"../../../data/test_questions_for_retrieval_performance.csv\"\n",
    "\n",
    "SAVE_DATA_PATH = \"../../../data\"\n",
    "\n",
    "SAVE_RETRIEVAL_SCORE_PATH = os.path.join(SAVE_DATA_PATH, \n",
    "                                         \"retrieval_thresh_score_for_{}.csv\".format(\"_\".join(SENTENCE_EMBEDDING_MODEL.split(\"-\"))))\n",
    "\n",
    "MAX_SEARCH = 10000\n"
   ]
  },
  {
   "cell_type": "code",
   "execution_count": 4,
   "id": "2f24afee-4ba1-4128-ac2a-196c1739e6ce",
   "metadata": {},
   "outputs": [],
   "source": [
    "validation_data = pd.read_csv(VALIDATION_DATA_PATH)\n",
    "test_data = pd.read_csv(TEST_DATA_PATH)\n"
   ]
  },
  {
   "cell_type": "code",
   "execution_count": 6,
   "id": "227e4f1b-3305-42dc-9c0c-d29250797313",
   "metadata": {},
   "outputs": [
    {
     "data": {
      "text/html": [
       "<div>\n",
       "<style scoped>\n",
       "    .dataframe tbody tr th:only-of-type {\n",
       "        vertical-align: middle;\n",
       "    }\n",
       "\n",
       "    .dataframe tbody tr th {\n",
       "        vertical-align: top;\n",
       "    }\n",
       "\n",
       "    .dataframe thead th {\n",
       "        text-align: right;\n",
       "    }\n",
       "</style>\n",
       "<table border=\"1\" class=\"dataframe\">\n",
       "  <thead>\n",
       "    <tr style=\"text-align: right;\">\n",
       "      <th></th>\n",
       "      <th>questions</th>\n",
       "      <th>questions_as_in_database</th>\n",
       "      <th>predicate</th>\n",
       "    </tr>\n",
       "  </thead>\n",
       "  <tbody>\n",
       "    <tr>\n",
       "      <th>0</th>\n",
       "      <td>pancreatic cancer localizes Anatomy common hep...</td>\n",
       "      <td>pancreatic cancer LOCALIZES Anatomy common hep...</td>\n",
       "      <td>LOCALIZES</td>\n",
       "    </tr>\n",
       "    <tr>\n",
       "      <th>1</th>\n",
       "      <td>cardiac arrest presents Symptom Hyperventilation</td>\n",
       "      <td>cardiac arrest PRESENTS Symptom Hyperventilation</td>\n",
       "      <td>PRESENTS</td>\n",
       "    </tr>\n",
       "    <tr>\n",
       "      <th>2</th>\n",
       "      <td>anemia localizes Anatomy colostrum</td>\n",
       "      <td>anemia LOCALIZES Anatomy colostrum</td>\n",
       "      <td>LOCALIZES</td>\n",
       "    </tr>\n",
       "    <tr>\n",
       "      <th>3</th>\n",
       "      <td>Compound Rosuvastatin treats prostate cancer</td>\n",
       "      <td>Compound Rosuvastatin TREATS prostate cancer</td>\n",
       "      <td>TREATS</td>\n",
       "    </tr>\n",
       "    <tr>\n",
       "      <th>4</th>\n",
       "      <td>prostate cancer localizes Anatomy epithelium</td>\n",
       "      <td>prostate cancer LOCALIZES Anatomy epithelium</td>\n",
       "      <td>LOCALIZES</td>\n",
       "    </tr>\n",
       "  </tbody>\n",
       "</table>\n",
       "</div>"
      ],
      "text/plain": [
       "                                           questions  \\\n",
       "0  pancreatic cancer localizes Anatomy common hep...   \n",
       "1   cardiac arrest presents Symptom Hyperventilation   \n",
       "2                 anemia localizes Anatomy colostrum   \n",
       "3       Compound Rosuvastatin treats prostate cancer   \n",
       "4       prostate cancer localizes Anatomy epithelium   \n",
       "\n",
       "                            questions_as_in_database  predicate  \n",
       "0  pancreatic cancer LOCALIZES Anatomy common hep...  LOCALIZES  \n",
       "1   cardiac arrest PRESENTS Symptom Hyperventilation   PRESENTS  \n",
       "2                 anemia LOCALIZES Anatomy colostrum  LOCALIZES  \n",
       "3       Compound Rosuvastatin TREATS prostate cancer     TREATS  \n",
       "4       prostate cancer LOCALIZES Anatomy epithelium  LOCALIZES  "
      ]
     },
     "execution_count": 6,
     "metadata": {},
     "output_type": "execute_result"
    }
   ],
   "source": [
    "validation_data.head()\n"
   ]
  },
  {
   "cell_type": "code",
   "execution_count": 7,
   "id": "814606e9-fbf6-4f5e-8708-eb28d55a14f5",
   "metadata": {},
   "outputs": [
    {
     "name": "stderr",
     "output_type": "stream",
     "text": [
      "/Users/karthiksoman/anaconda3/envs/llm_env/lib/python3.10/site-packages/tqdm/auto.py:21: TqdmWarning: IProgress not found. Please update jupyter and ipywidgets. See https://ipywidgets.readthedocs.io/en/stable/user_install.html\n",
      "  from .autonotebook import tqdm as notebook_tqdm\n"
     ]
    }
   ],
   "source": [
    "embedding_function = SentenceTransformerEmbeddings(model_name=SENTENCE_EMBEDDING_MODEL)\n",
    "\n",
    "vectorstore = Chroma(persist_directory=VECTOR_DB_PATH, \n",
    "                     embedding_function=embedding_function)\n"
   ]
  },
  {
   "cell_type": "code",
   "execution_count": 112,
   "id": "a8d9372d-6b8c-4e35-afac-5bbe22d57862",
   "metadata": {},
   "outputs": [
    {
     "name": "stderr",
     "output_type": "stream",
     "text": [
      "100%|███████████████████████████████████████| 1000/1000 [07:54<00:00,  2.11it/s]"
     ]
    },
    {
     "name": "stdout",
     "output_type": "stream",
     "text": [
      "CPU times: user 17min 51s, sys: 6min, total: 23min 52s\n",
      "Wall time: 7min 54s\n"
     ]
    },
    {
     "name": "stderr",
     "output_type": "stream",
     "text": [
      "\n"
     ]
    }
   ],
   "source": [
    "%%time\n",
    "\n",
    "total_validation_data = validation_data.shape[0]\n",
    "retrieval_score_list = []\n",
    "for question_id in tqdm(range(total_validation_data)):\n",
    "    question = validation_data.questions.values[question_id]\n",
    "    question_in_vectorDB = validation_data.questions_as_in_database.values[question_id]\n",
    "    search_result = vectorstore.similarity_search_with_score(question, k=MAX_SEARCH)\n",
    "    for index, item in enumerate(search_result):\n",
    "        if question_in_vectorDB in item[0].page_content:\n",
    "            break\n",
    "    score_range = (search_result[-1][-1]-search_result[0][-1])/(search_result[-1][-1]+search_result[0][-1])\n",
    "    question_score = (search_result[-1][-1]-search_result[index][-1])/(search_result[-1][-1]+search_result[index][-1])\n",
    "    retrieval_score_thresh = np.divide(question_score, score_range)\n",
    "    retrieval_score_list.append((question, retrieval_score_thresh))\n"
   ]
  },
  {
   "cell_type": "code",
   "execution_count": 127,
   "id": "e0ed39ef-5992-46c8-8c98-688091ce16ff",
   "metadata": {},
   "outputs": [],
   "source": [
    "question_retrieval_score_df = pd.DataFrame(retrieval_score_list, columns=[\"question\", \"retrieval_score_thresh\"])\n",
    "\n",
    "# question_retrieval_score_df.to_csv(SAVE_RETRIEVAL_SCORE_PATH, index=False, header=True)\n",
    "        "
   ]
  },
  {
   "cell_type": "code",
   "execution_count": 129,
   "id": "991e135f-8cce-4f04-b35c-f2d110d66623",
   "metadata": {},
   "outputs": [
    {
     "data": {
      "text/plain": [
       "0.7131404246968357"
      ]
     },
     "execution_count": 129,
     "metadata": {},
     "output_type": "execute_result"
    }
   ],
   "source": [
    "question_retrieval_score_df.retrieval_score_thresh.mean()\n",
    "\n",
    "# print(retrieval_score_thresh_df.retrieval_score_thresh.values)\n",
    "# np.percentile(question_retrieval_score_df.retrieval_score_thresh.values, 40)"
   ]
  },
  {
   "cell_type": "code",
   "execution_count": 130,
   "id": "25821d60-6130-4cf4-ae57-9859fd3a83f4",
   "metadata": {},
   "outputs": [
    {
     "data": {
      "image/png": "[encoded data removed]",
      "text/plain": [
       "<Figure size 640x480 with 1 Axes>"
      ]
     },
     "metadata": {},
     "output_type": "display_data"
    }
   ],
   "source": [
    "\n",
    "question_retrieval_score = question_retrieval_score_df['retrieval_score_thresh']\n",
    "\n",
    "plt.hist(question_retrieval_score, bins=20, color='blue', alpha=0.7)\n",
    "\n",
    "plt.xlabel('Retrieval Score')\n",
    "plt.ylabel('Frequency')\n",
    "\n",
    "plt.title('Distribution of Retrieval Score')\n",
    "\n",
    "plt.show()\n"
   ]
  },
  {
   "cell_type": "code",
   "execution_count": 131,
   "id": "f673ea6a-eec3-4691-8839-0ac840b85dd2",
   "metadata": {},
   "outputs": [
    {
     "data": {
      "text/plain": [
       "(608, 2)"
      ]
     },
     "execution_count": 131,
     "metadata": {},
     "output_type": "execute_result"
    }
   ],
   "source": [
    "question_retrieval_score_df[question_retrieval_score_df.retrieval_score_thresh > 0.7].shape\n"
   ]
  },
  {
   "cell_type": "code",
   "execution_count": 135,
   "id": "9bad0c27-e2e9-4f3e-a040-722bb73d0d04",
   "metadata": {},
   "outputs": [],
   "source": [
    "question_retrieval_score_array = question_retrieval_score_df.retrieval_score_thresh.unique()\n",
    "question_retrieval_score_df.sort_values(by=\"retrieval_score_thresh\", inplace=True)\n",
    "\n",
    "retrieval_score = []\n",
    "for item in question_retrieval_score_array:\n",
    "    retreived_df = question_retrieval_score_df[question_retrieval_score_df.retrieval_score_thresh >= item]\n",
    "    retrieval_score.append((item, np.divide(retreived_df.shape[0], total_validation_data)))\n",
    "    \n",
    "retrieval_score_df = pd.DataFrame(retrieval_score, columns=[\"retrieval_score_thresh\", \"retrieval_score\"])\n"
   ]
  },
  {
   "cell_type": "code",
   "execution_count": 136,
   "id": "feef6b0d-6b17-4cc0-96fc-0b75f4d7571b",
   "metadata": {},
   "outputs": [
    {
     "data": {
      "text/html": [
       "<div>\n",
       "<style scoped>\n",
       "    .dataframe tbody tr th:only-of-type {\n",
       "        vertical-align: middle;\n",
       "    }\n",
       "\n",
       "    .dataframe tbody tr th {\n",
       "        vertical-align: top;\n",
       "    }\n",
       "\n",
       "    .dataframe thead th {\n",
       "        text-align: right;\n",
       "    }\n",
       "</style>\n",
       "<table border=\"1\" class=\"dataframe\">\n",
       "  <thead>\n",
       "    <tr style=\"text-align: right;\">\n",
       "      <th></th>\n",
       "      <th>retrieval_score_thresh</th>\n",
       "      <th>retrieval_score</th>\n",
       "    </tr>\n",
       "  </thead>\n",
       "  <tbody>\n",
       "    <tr>\n",
       "      <th>0</th>\n",
       "      <td>0.000000</td>\n",
       "      <td>1.000</td>\n",
       "    </tr>\n",
       "    <tr>\n",
       "      <th>1</th>\n",
       "      <td>0.027023</td>\n",
       "      <td>0.930</td>\n",
       "    </tr>\n",
       "    <tr>\n",
       "      <th>2</th>\n",
       "      <td>0.036493</td>\n",
       "      <td>0.929</td>\n",
       "    </tr>\n",
       "    <tr>\n",
       "      <th>3</th>\n",
       "      <td>0.070115</td>\n",
       "      <td>0.928</td>\n",
       "    </tr>\n",
       "    <tr>\n",
       "      <th>4</th>\n",
       "      <td>0.080258</td>\n",
       "      <td>0.927</td>\n",
       "    </tr>\n",
       "    <tr>\n",
       "      <th>...</th>\n",
       "      <td>...</td>\n",
       "      <td>...</td>\n",
       "    </tr>\n",
       "    <tr>\n",
       "      <th>685</th>\n",
       "      <td>0.996003</td>\n",
       "      <td>0.246</td>\n",
       "    </tr>\n",
       "    <tr>\n",
       "      <th>686</th>\n",
       "      <td>0.997299</td>\n",
       "      <td>0.245</td>\n",
       "    </tr>\n",
       "    <tr>\n",
       "      <th>687</th>\n",
       "      <td>0.998147</td>\n",
       "      <td>0.244</td>\n",
       "    </tr>\n",
       "    <tr>\n",
       "      <th>688</th>\n",
       "      <td>0.998714</td>\n",
       "      <td>0.243</td>\n",
       "    </tr>\n",
       "    <tr>\n",
       "      <th>689</th>\n",
       "      <td>1.000000</td>\n",
       "      <td>0.242</td>\n",
       "    </tr>\n",
       "  </tbody>\n",
       "</table>\n",
       "<p>690 rows × 2 columns</p>\n",
       "</div>"
      ],
      "text/plain": [
       "     retrieval_score_thresh  retrieval_score\n",
       "0                  0.000000            1.000\n",
       "1                  0.027023            0.930\n",
       "2                  0.036493            0.929\n",
       "3                  0.070115            0.928\n",
       "4                  0.080258            0.927\n",
       "..                      ...              ...\n",
       "685                0.996003            0.246\n",
       "686                0.997299            0.245\n",
       "687                0.998147            0.244\n",
       "688                0.998714            0.243\n",
       "689                1.000000            0.242\n",
       "\n",
       "[690 rows x 2 columns]"
      ]
     },
     "execution_count": 136,
     "metadata": {},
     "output_type": "execute_result"
    }
   ],
   "source": [
    "retrieval_score_df"
   ]
  },
  {
   "cell_type": "code",
   "execution_count": 138,
   "id": "7a941a1d-1600-4653-a67d-970d076f9d79",
   "metadata": {},
   "outputs": [
    {
     "data": {
      "image/png": "[encoded data removed]",
      "text/plain": [
       "<Figure size 640x480 with 1 Axes>"
      ]
     },
     "metadata": {},
     "output_type": "display_data"
    }
   ],
   "source": [
    "retrieval_score_thresh = retrieval_score_df['retrieval_score_thresh']\n",
    "retrieval_score = retrieval_score_df['retrieval_score']\n",
    "\n",
    "plt.plot(retrieval_score_thresh, retrieval_score, color='b', alpha=0.5)\n",
    "\n",
    "plt.xlabel('Retrieval Threshold')\n",
    "plt.ylabel('Retrieval Score')\n",
    "\n",
    "\n",
    "plt.title('Retrieval Threshold vs. Retrieval Score')\n",
    "\n",
    "plt.show()"
   ]
  },
  {
   "cell_type": "code",
   "execution_count": null,
   "id": "866279ec-126d-4f7f-861d-143a9521f82d",
   "metadata": {},
   "outputs": [],
   "source": [
    "# A good retrieval threshold should should have high retrieval score and retrieve less documents.\n"
   ]
  },
  {
   "cell_type": "code",
   "execution_count": 51,
   "id": "8586f69a-6610-42c7-821e-b2f2f8125907",
   "metadata": {},
   "outputs": [],
   "source": [
    "# question_id = 5\n",
    "# question = validation_data.questions.values[question_id]\n",
    "# question_in_vectorDB = validation_data.questions_as_in_database.values[question_id]\n",
    "# search_result = vectorstore.similarity_search_with_score(question, k=10000)\n",
    "\n",
    "# for index, item in enumerate(search_result):\n",
    "# \tif question_in_vectorDB in item[0].page_content:\n",
    "# \t\tbreak\n",
    "\n",
    "# score_range = (search_result[-1][-1]-search_result[0][-1])/(search_result[-1][-1]+search_result[0][-1])\n",
    "# question_score = (search_result[-1][-1]-search_result[index][-1])/(search_result[-1][-1]+search_result[index][-1])\n",
    "# retrieval_score_thresh = np.divide(question_score, score_range)"
   ]
  },
  {
   "cell_type": "code",
   "execution_count": null,
   "id": "73252893-48f2-4a0d-9660-df1d461f4fb0",
   "metadata": {},
   "outputs": [],
   "source": []
  },
  {
   "cell_type": "code",
   "execution_count": null,
   "id": "e6311279-46d2-4635-b71e-0d488b62d6ea",
   "metadata": {},
   "outputs": [],
   "source": []
  }
 ],
 "metadata": {
  "kernelspec": {
   "display_name": "Python 3 (ipykernel)",
   "language": "python",
   "name": "python3"
  },
  "language_info": {
   "codemirror_mode": {
    "name": "ipython",
    "version": 3
   },
   "file_extension": ".py",
   "mimetype": "text/x-python",
   "name": "python",
   "nbconvert_exporter": "python",
   "pygments_lexer": "ipython3",
   "version": "3.10.9"
  }
 },
 "nbformat": 4,
 "nbformat_minor": 5
}
