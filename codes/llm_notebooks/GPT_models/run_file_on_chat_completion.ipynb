{
 "cells": [
  {
   "cell_type": "code",
   "execution_count": 5,
   "id": "642134cd",
   "metadata": {},
   "outputs": [],
   "source": [
    "import pandas as pd\n",
    "import time\n",
    "import openai\n",
    "import os\n",
    "from dotenv import load_dotenv, find_dotenv\n",
    "from tqdm import tqdm\n",
    "\n"
   ]
  },
  {
   "cell_type": "code",
   "execution_count": 6,
   "id": "e9ed0852",
   "metadata": {},
   "outputs": [],
   "source": [
    "load_dotenv(os.path.join(os.path.expanduser('~'), '.gpt_config.env'))\n",
    "API_KEY = os.environ.get('API_KEY')\n",
    "API_VERSION = os.environ.get('API_VERSION')\n",
    "RESOURCE_ENDPOINT = os.environ.get('RESOURCE_ENDPOINT')\n",
    "\n",
    "openai.api_type = \"azure\"\n",
    "openai.api_key = API_KEY\n",
    "openai.api_base = RESOURCE_ENDPOINT\n",
    "openai.api_version = API_VERSION\n",
    "\n"
   ]
  },
  {
   "cell_type": "code",
   "execution_count": 7,
   "id": "5aa0f538",
   "metadata": {},
   "outputs": [],
   "source": [
    "def get_GPT_response(instruction, system_prompt, chat_model_id, chat_deployment_id, temperature=0):\n",
    "    response = openai.ChatCompletion.create(\n",
    "        temperature=temperature, \n",
    "        deployment_id=chat_deployment_id,\n",
    "        model=chat_model_id,\n",
    "        messages=[\n",
    "            {\"role\": \"system\", \"content\": system_prompt},\n",
    "            {\"role\": \"user\", \"content\": instruction}\n",
    "        ]\n",
    "    )\n",
    "    if 'choices' in response \\\n",
    "    and isinstance(response['choices'], list) \\\n",
    "    and len(response) >= 0 \\\n",
    "    and 'message' in response['choices'][0] \\\n",
    "    and 'content' in response['choices'][0]['message']:\n",
    "        return response['choices'][0]['message']['content']\n",
    "    else:\n",
    "        return 'Unexpected response'\n"
   ]
  },
  {
   "cell_type": "code",
   "execution_count": 15,
   "id": "1b15664e",
   "metadata": {},
   "outputs": [],
   "source": [
    "CHAT_MODEL_ID = \"gpt-35-turbo\"\n",
    "CHAT_DEPLOYMENT_ID = None\n",
    "QUESTION_PATH = \"../../../data/benchmark_datasets/test_questions_one_hop_true_false_v2.csv\"\n",
    "SAVE_PATH = \"../../../data/analysis_results\"\n"
   ]
  },
  {
   "cell_type": "code",
   "execution_count": 16,
   "id": "7974764e",
   "metadata": {},
   "outputs": [],
   "source": [
    "save_name = \"_\".join(CHAT_MODEL_ID.split(\"-\"))+\"_prompt_based_true_false_binary_response.csv\"\n"
   ]
  },
  {
   "cell_type": "code",
   "execution_count": 17,
   "id": "f9c407b3",
   "metadata": {},
   "outputs": [],
   "source": [
    "# GPT config params\n",
    "temperature = 0\n",
    "\n",
    "if not CHAT_DEPLOYMENT_ID:\n",
    "    CHAT_DEPLOYMENT_ID = CHAT_MODEL_ID\n"
   ]
  },
  {
   "cell_type": "code",
   "execution_count": 18,
   "id": "cf16d99c",
   "metadata": {},
   "outputs": [],
   "source": [
    "system_prompt = \"\"\"\n",
    "You are an expert biomedical researcher. For the Question asked, please provide your answer in the following JSON format. \n",
    "{{\n",
    "  \"answer\": \"True\"\n",
    "}}\n",
    "OR\n",
    "{{\n",
    "  \"answer\": \"False\"\n",
    "}}\n",
    "\"\"\"\n"
   ]
  },
  {
   "cell_type": "code",
   "execution_count": 19,
   "id": "0e3cc41a",
   "metadata": {},
   "outputs": [
    {
     "name": "stderr",
     "output_type": "stream",
     "text": [
      "322it [02:33,  2.10it/s]"
     ]
    },
    {
     "name": "stdout",
     "output_type": "stream",
     "text": [
      "CPU times: user 3.66 s, sys: 483 ms, total: 4.14 s\n",
      "Wall time: 2min 33s\n"
     ]
    },
    {
     "name": "stderr",
     "output_type": "stream",
     "text": [
      "\n"
     ]
    }
   ],
   "source": [
    "%%time\n",
    "\n",
    "question_df = pd.read_csv(QUESTION_PATH)\n",
    "answer_list = []\n",
    "for index, row in tqdm(question_df.iterrows()):\n",
    "    question = \"Question: \"+ row[\"text\"]\n",
    "    output = get_GPT_response(question, system_prompt, CHAT_MODEL_ID, CHAT_DEPLOYMENT_ID, temperature=temperature)\n",
    "    answer_list.append((row[\"text\"], row[\"label\"], output))                 \n",
    "answer_df = pd.DataFrame(answer_list, columns=[\"question\", \"label\", \"llm_answer\"])\n",
    "answer_df.to_csv(os.path.join(SAVE_PATH, save_name), index=False, header=True)\n"
   ]
  },
  {
   "cell_type": "code",
   "execution_count": null,
   "id": "7d205141",
   "metadata": {},
   "outputs": [],
   "source": [
    "# %%time\n",
    "\n",
    "# question_df = pd.read_csv(QUESTION_PATH)\n",
    "# answer_list = []\n",
    "# for index, row in tqdm(question_df.iterrows()):\n",
    "#     question = \"Question: \"+ row[\"text\"]\n",
    "#     output = get_GPT_response(question, system_prompt, CHAT_MODEL_ID, CHAT_DEPLOYMENT_ID, temperature=temperature)\n",
    "#     answer_list.append((row[\"text\"], row[\"correct_node\"], output))                  \n",
    "# answer_df = pd.DataFrame(answer_list, columns=[\"question\", \"correct_answer\", \"llm_answer\"])\n",
    "# answer_df.to_csv(os.path.join(SAVE_PATH, save_name), index=False, header=True)\n"
   ]
  }
 ],
 "metadata": {
  "kernelspec": {
   "display_name": "Python 3 (ipykernel)",
   "language": "python",
   "name": "python3"
  },
  "language_info": {
   "codemirror_mode": {
    "name": "ipython",
    "version": 3
   },
   "file_extension": ".py",
   "mimetype": "text/x-python",
   "name": "python",
   "nbconvert_exporter": "python",
   "pygments_lexer": "ipython3",
   "version": "3.10.9"
  }
 },
 "nbformat": 4,
 "nbformat_minor": 5
}
