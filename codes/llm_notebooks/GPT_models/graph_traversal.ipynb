{
 "cells": [
  {
   "cell_type": "code",
   "execution_count": 1,
   "id": "758eaece",
   "metadata": {},
   "outputs": [],
   "source": [
    "import openai\n",
    "import os\n",
    "from dotenv import load_dotenv, find_dotenv\n"
   ]
  },
  {
   "cell_type": "code",
   "execution_count": 2,
   "id": "ec5ce0e0",
   "metadata": {},
   "outputs": [],
   "source": [
    "load_dotenv(os.path.join(os.path.expanduser('~'), '.gpt_config.env'))\n",
    "API_KEY = os.environ.get('API_KEY')\n",
    "API_VERSION = os.environ.get('API_VERSION')\n",
    "RESOURCE_ENDPOINT = os.environ.get('RESOURCE_ENDPOINT')\n"
   ]
  },
  {
   "cell_type": "code",
   "execution_count": 3,
   "id": "060f851f",
   "metadata": {},
   "outputs": [],
   "source": [
    "openai.api_type = \"azure\"\n",
    "openai.api_key = API_KEY\n",
    "openai.api_base = RESOURCE_ENDPOINT\n",
    "openai.api_version = API_VERSION\n"
   ]
  },
  {
   "cell_type": "code",
   "execution_count": 4,
   "id": "931f23a1",
   "metadata": {},
   "outputs": [],
   "source": [
    "chat_deployment_id = 'gpt-35-turbo'\n",
    "chat_model_id = 'gpt-35-turbo'\n",
    "\n",
    "temperature = 0\n",
    "\n",
    "system_prompt = \"You are an expert biomedical researcher\"\n"
   ]
  },
  {
   "cell_type": "code",
   "execution_count": null,
   "id": "9bad4f3b",
   "metadata": {},
   "outputs": [],
   "source": [
    "\"\"\"\n",
    "What drugs can be used to re-purpose psoriasis?\n",
    "Step 1: Find diseases that resemble to psoriasis.\n",
    "Step 2: Find compounds that treat those diseases\n",
    "\"\"\"\n"
   ]
  },
  {
   "cell_type": "code",
   "execution_count": 8,
   "id": "8b062767",
   "metadata": {},
   "outputs": [],
   "source": [
    "# Step 1\n",
    "instruction_1 = \"\"\"\n",
    "What diseases resemble psoriasis?\n",
    "Give the answer in the following format:\n",
    "{{\n",
    "answer : <list of diseases>\n",
    "}}\n",
    "\"\"\"\n",
    "\n",
    "completion = openai.ChatCompletion.create(\n",
    "    temperature=temperature, \n",
    "    top_p=1,\n",
    "    deployment_id=chat_deployment_id,\n",
    "    model=chat_model_id,\n",
    "    messages=[\n",
    "        {\"role\": \"system\", \"content\": system_prompt},\n",
    "        {\"role\": \"user\", \"content\": instruction_1}\n",
    "    ]\n",
    ")\n",
    "\n",
    "step1_answer = completion.choices[0].message[\"content\"]\n"
   ]
  },
  {
   "cell_type": "code",
   "execution_count": 18,
   "id": "b31334cd",
   "metadata": {},
   "outputs": [
    {
     "data": {
      "text/plain": [
       "'{\\nanswer : [\"Eczema\", \"Seborrheic dermatitis\", \"Lichen planus\", \"Pityriasis rosea\", \"Cutaneous lupus erythematosus\", \"Reactive arthritis\"]\\n}'"
      ]
     },
     "execution_count": 18,
     "metadata": {},
     "output_type": "execute_result"
    }
   ],
   "source": [
    "extracted_diseases = step1_answer.split(\"answer : [\")[-1].split(\"]\")[0]\n",
    "step1_answer"
   ]
  },
  {
   "cell_type": "code",
   "execution_count": null,
   "id": "77dc38b2",
   "metadata": {},
   "outputs": [],
   "source": [
    "# Step 2\n",
    "instruction_2 = \"\"\"\n",
    "What Compounds are used to treat each of the following diseases?\n",
    "{}\n",
    "\"\"\".format(extracted_diseases)\n",
    "\n",
    "completion = openai.ChatCompletion.create(\n",
    "    temperature=temperature, \n",
    "    top_p=1,\n",
    "    deployment_id=chat_deployment_id,\n",
    "    model=chat_model_id,\n",
    "    messages=[\n",
    "        {\"role\": \"system\", \"content\": system_prompt},\n",
    "        {\"role\": \"user\", \"content\": instruction_2}\n",
    "    ]\n",
    ")\n",
    "\n",
    "step2_answer = completion.choices[0].message[\"content\"]\n",
    "print(step2_answer)\n"
   ]
  }
 ],
 "metadata": {
  "kernelspec": {
   "display_name": "Python 3 (ipykernel)",
   "language": "python",
   "name": "python3"
  },
  "language_info": {
   "codemirror_mode": {
    "name": "ipython",
    "version": 3
   },
   "file_extension": ".py",
   "mimetype": "text/x-python",
   "name": "python",
   "nbconvert_exporter": "python",
   "pygments_lexer": "ipython3",
   "version": "3.10.9"
  }
 },
 "nbformat": 4,
 "nbformat_minor": 5
}
