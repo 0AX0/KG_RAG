{
 "cells": [
  {
   "cell_type": "code",
   "execution_count": 1,
   "id": "74dea321",
   "metadata": {},
   "outputs": [],
   "source": [
    "import openai\n",
    "import os\n",
    "from dotenv import load_dotenv, find_dotenv\n"
   ]
  },
  {
   "cell_type": "code",
   "execution_count": 6,
   "id": "98745c86",
   "metadata": {},
   "outputs": [],
   "source": [
    "load_dotenv('config.env')\n",
    "API_KEY = os.environ.get('API_KEY')\n",
    "API_VERSION = os.environ.get('API_VERSION')\n",
    "RESOURCE_ENDPOINT = os.environ.get('RESOURCE_ENDPOINT')\n"
   ]
  },
  {
   "cell_type": "code",
   "execution_count": 7,
   "id": "340db1eb",
   "metadata": {},
   "outputs": [],
   "source": [
    "openai.api_type = \"azure\"\n",
    "openai.api_key = API_KEY\n",
    "openai.api_base = RESOURCE_ENDPOINT\n",
    "openai.api_version = API_VERSION\n"
   ]
  },
  {
   "cell_type": "code",
   "execution_count": 9,
   "id": "feb33e60",
   "metadata": {},
   "outputs": [],
   "source": [
    "chat_deployment_id = 'gpt-35-turbo'\n",
    "chat_model_id = 'gpt-35-turbo'\n",
    "\n",
    "temperature = 0\n",
    "\n",
    "system_prompt = \"You are an expert biomedical researcher\"\n"
   ]
  },
  {
   "cell_type": "code",
   "execution_count": 11,
   "id": "e2433484",
   "metadata": {},
   "outputs": [],
   "source": [
    "instruction = \"What are the genes associated with Parkinson's disease?\"\n"
   ]
  },
  {
   "cell_type": "code",
   "execution_count": 13,
   "id": "692b40ca",
   "metadata": {},
   "outputs": [
    {
     "name": "stdout",
     "output_type": "stream",
     "text": [
      "CPU times: user 7.57 ms, sys: 2.88 ms, total: 10.4 ms\n",
      "Wall time: 4.28 s\n"
     ]
    }
   ],
   "source": [
    "%%time\n",
    "\n",
    "completion = openai.ChatCompletion.create(\n",
    "    temperature=temperature,  \n",
    "    deployment_id=chat_deployment_id,\n",
    "    model=chat_model_id,\n",
    "    messages=[\n",
    "        {\"role\": \"system\", \"content\": system_prompt},\n",
    "        {\"role\": \"user\", \"content\": instruction}\n",
    "    ]\n",
    ")"
   ]
  },
  {
   "cell_type": "code",
   "execution_count": 25,
   "id": "9cf3d5a3",
   "metadata": {},
   "outputs": [
    {
     "name": "stdout",
     "output_type": "stream",
     "text": [
      "There are several genes that have been identified as being associated with Parkinson's disease. The most well-known and extensively studied genes include:\n",
      "\n",
      "1. SNCA (Alpha-synuclein): This gene produces a protein called alpha-synuclein, which is a major component of Lewy bodies, abnormal protein clumps found in the brains of Parkinson's patients.\n",
      "\n",
      "2. LRRK2 (Leucine-rich repeat kinase 2): Mutations in this gene are the most common genetic cause of Parkinson's disease. LRRK2 mutations are particularly prevalent in certain populations, such as Ashkenazi Jews.\n",
      "\n",
      "3. PARK2 (Parkin): Mutations in this gene are associated with early-onset Parkinson's disease. Parkin is involved in the degradation of damaged proteins and the removal of dysfunctional mitochondria.\n",
      "\n",
      "4. PINK1 (PTEN-induced kinase 1): Mutations in this gene are also associated with early-onset Parkinson's disease. PINK1 plays a role in mitochondrial quality control and the regulation of cell death.\n",
      "\n",
      "5. DJ-1 (Park7): Mutations in this gene are associated with early-onset Parkinson's disease. DJ-1 is involved in protecting cells from oxidative stress and maintaining mitochondrial function.\n",
      "\n",
      "6. VPS35 (Vacuolar protein sorting-associated protein 35): Mutations in this gene have been linked to late-onset Parkinson's disease. VPS35 is involved in protein trafficking and recycling within cells.\n",
      "\n",
      "It is important to note that these genes account for only a small percentage of all Parkinson's cases, and the majority of cases are considered sporadic, with no known genetic cause. Additionally, there are likely many other genes that contribute to the development of Parkinson's disease, and ongoing research is focused on identifying them.\n"
     ]
    }
   ],
   "source": [
    "print(completion.choices[0].message[\"content\"])"
   ]
  },
  {
   "cell_type": "code",
   "execution_count": null,
   "id": "a83f073f",
   "metadata": {},
   "outputs": [],
   "source": []
  }
 ],
 "metadata": {
  "kernelspec": {
   "display_name": "Python 3 (ipykernel)",
   "language": "python",
   "name": "python3"
  },
  "language_info": {
   "codemirror_mode": {
    "name": "ipython",
    "version": 3
   },
   "file_extension": ".py",
   "mimetype": "text/x-python",
   "name": "python",
   "nbconvert_exporter": "python",
   "pygments_lexer": "ipython3",
   "version": "3.10.9"
  }
 },
 "nbformat": 4,
 "nbformat_minor": 5
}
