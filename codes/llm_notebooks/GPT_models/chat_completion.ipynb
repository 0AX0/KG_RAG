{
 "cells": [
  {
   "cell_type": "markdown",
   "id": "15370fc0",
   "metadata": {},
   "source": [
    "## Useful points:\n",
    "#### Ref: https://platform.openai.com/docs/models/model-endpoint-compatibility\n",
    "| ENDPOINT | LATEST MODELS |\n",
    "| --- | --- |\n",
    "| /v1/audio/transcriptions | whisper-1 |\n",
    "| /v1/audio/translations | whisper-1 |\n",
    "| /v1/chat/completions | gpt-4, gpt-4-0613, gpt-4-32k, gpt-4-32k-0613, gpt-3.5-turbo, gpt-3.5-turbo-0613, gpt-3.5-turbo-16k, gpt-3.5-turbo-16k-0613 |\n",
    "| /v1/completions (Legacy) | gpt-3.5-turbo-instruct, babbage-002, davinci-002 |\n",
    "| /v1/embeddings | text-embedding-ada-002 |\n",
    "| /v1/fine_tuning/jobs | gpt-3.5-turbo, babbage-002, davinci-002 |\n",
    "| /v1/moderations | text-moderation-stable, text-moderation-latest |\n"
   ]
  },
  {
   "cell_type": "code",
   "execution_count": null,
   "id": "c0a17659",
   "metadata": {},
   "outputs": [],
   "source": [
    "import openai\n",
    "import os\n",
    "from dotenv import load_dotenv, find_dotenv\n"
   ]
  },
  {
   "cell_type": "code",
   "execution_count": 6,
   "id": "599e39a7",
   "metadata": {},
   "outputs": [],
   "source": [
    "load_dotenv('config.env')\n",
    "API_KEY = os.environ.get('API_KEY')\n",
    "API_VERSION = os.environ.get('API_VERSION')\n",
    "RESOURCE_ENDPOINT = os.environ.get('RESOURCE_ENDPOINT')\n"
   ]
  },
  {
   "cell_type": "code",
   "execution_count": 7,
   "id": "0441b911",
   "metadata": {},
   "outputs": [],
   "source": [
    "openai.api_type = \"azure\"\n",
    "openai.api_key = API_KEY\n",
    "openai.api_base = RESOURCE_ENDPOINT\n",
    "openai.api_version = API_VERSION\n"
   ]
  },
  {
   "cell_type": "code",
   "execution_count": 9,
   "id": "23448b17",
   "metadata": {},
   "outputs": [],
   "source": [
    "chat_deployment_id = 'gpt-35-turbo'\n",
    "chat_model_id = 'gpt-35-turbo'\n",
    "\n",
    "temperature = 0\n",
    "\n",
    "system_prompt = \"You are an expert biomedical researcher\"\n"
   ]
  },
  {
   "cell_type": "code",
   "execution_count": 39,
   "id": "74fc963f",
   "metadata": {},
   "outputs": [],
   "source": [
    "instruction = \"Out of the given list, which Anatomy is associated with both female reproductive organ cancer and histiocytic sarcoma. Given list is: lymph node, fallopian tube, male reproductive system, late embryo, reproductive organ\"\n"
   ]
  },
  {
   "cell_type": "code",
   "execution_count": 40,
   "id": "359750b4",
   "metadata": {},
   "outputs": [
    {
     "name": "stdout",
     "output_type": "stream",
     "text": [
      "CPU times: user 29.9 ms, sys: 5.64 ms, total: 35.6 ms\n",
      "Wall time: 728 ms\n"
     ]
    }
   ],
   "source": [
    "%%time\n",
    "\n",
    "completion = openai.ChatCompletion.create(\n",
    "    temperature=temperature,  \n",
    "    deployment_id=chat_deployment_id,\n",
    "    model=chat_model_id,\n",
    "    messages=[\n",
    "        {\"role\": \"system\", \"content\": system_prompt},\n",
    "        {\"role\": \"user\", \"content\": instruction}\n",
    "    ]\n",
    ")"
   ]
  },
  {
   "cell_type": "code",
   "execution_count": 41,
   "id": "7e1e04e9",
   "metadata": {},
   "outputs": [
    {
     "name": "stdout",
     "output_type": "stream",
     "text": [
      "The anatomy associated with both female reproductive organ cancer and histiocytic sarcoma is the fallopian tube.\n"
     ]
    }
   ],
   "source": [
    "print(completion.choices[0].message[\"content\"])"
   ]
  },
  {
   "cell_type": "code",
   "execution_count": null,
   "id": "fc92ade1",
   "metadata": {},
   "outputs": [],
   "source": []
  }
 ],
 "metadata": {
  "kernelspec": {
   "display_name": "Python 3 (ipykernel)",
   "language": "python",
   "name": "python3"
  },
  "language_info": {
   "codemirror_mode": {
    "name": "ipython",
    "version": 3
   },
   "file_extension": ".py",
   "mimetype": "text/x-python",
   "name": "python",
   "nbconvert_exporter": "python",
   "pygments_lexer": "ipython3",
   "version": "3.10.9"
  }
 },
 "nbformat": 4,
 "nbformat_minor": 5
}
