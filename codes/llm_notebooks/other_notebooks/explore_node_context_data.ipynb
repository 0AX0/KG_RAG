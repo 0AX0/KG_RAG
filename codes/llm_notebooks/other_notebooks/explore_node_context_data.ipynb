{
 "cells": [
  {
   "cell_type": "code",
   "execution_count": 17,
   "id": "6aa63bb4-dc0e-4b42-aece-e4c2df5711ae",
   "metadata": {},
   "outputs": [],
   "source": [
    "from langchain.text_splitter import RecursiveCharacterTextSplitter\n",
    "from langchain.embeddings.sentence_transformer import SentenceTransformerEmbeddings\n",
    "from langchain.vectorstores import Chroma\n",
    "import pickle\n"
   ]
  },
  {
   "cell_type": "code",
   "execution_count": 82,
   "id": "c18e8d25-04cc-4029-8932-1e9ed9716ebe",
   "metadata": {},
   "outputs": [],
   "source": [
    "DATA_PATH = \"../../data/disease_context_from_dev.pickle\"\n",
    "\n",
    "# VECTOR_DB_PATH = \"../../data/vectorDB/disease_context_chromaDB_using_all_distilroberta_v1_sentence_transformer_model_with_chunk_size_6000\"\n",
    "# SENTENCE_EMBEDDING_MODEL = \"all-distilroberta-v1\"\n",
    "\n",
    "VECTOR_DB_PATH = \"../../data/vectorDB/disease_context_chromaDB_using_all_MiniLM_L6_v2_sentence_transformer_model_with_chunk_size_3000\"\n",
    "SENTENCE_EMBEDDING_MODEL = \"all-MiniLM-L6-v2\"\n",
    "\n",
    "CHUNK_SIZE = 650\n",
    "CHUNK_OVERLAP = 200\n"
   ]
  },
  {
   "cell_type": "code",
   "execution_count": 83,
   "id": "dc96a7c5-f0ef-4630-b106-41841bf2d2e4",
   "metadata": {},
   "outputs": [],
   "source": [
    "with open(DATA_PATH, \"rb\") as f:\n",
    "    data = pickle.load(f)\n",
    "\n",
    "metadata_list = list(map(lambda x:{\"node information\":x.split(\"(\")[0].split(\"Following is the contextual information about the \")[-1] + \"from SPOKE knowledge graph\"}, data))\n",
    "    "
   ]
  },
  {
   "cell_type": "code",
   "execution_count": 85,
   "id": "47d64c0b-a9cb-4e61-acf0-4e0fa1855cc3",
   "metadata": {},
   "outputs": [],
   "source": [
    "text_splitter = RecursiveCharacterTextSplitter(chunk_size=CHUNK_SIZE, chunk_overlap=CHUNK_OVERLAP)\n",
    "docs = text_splitter.create_documents(data, metadatas=metadata_list)\n"
   ]
  },
  {
   "cell_type": "code",
   "execution_count": 96,
   "id": "26227031-508b-446c-8000-a798b1cdd019",
   "metadata": {},
   "outputs": [
    {
     "data": {
      "text/plain": [
       "676082"
      ]
     },
     "execution_count": 96,
     "metadata": {},
     "output_type": "execute_result"
    }
   ],
   "source": [
    "len(docs)"
   ]
  },
  {
   "cell_type": "code",
   "execution_count": 97,
   "id": "74bb0d04-7a00-4903-ade8-043dfbc0c05e",
   "metadata": {},
   "outputs": [
    {
     "data": {
      "text/plain": [
       "Document(page_content=\"Following is the contextual information about the Disease familial partial lipodystrophy type 5 (Disease Ontology identifier of this Disease is DOID:0070203).\\nfamilial partial lipodystrophy type 5 ISA Disease autosomal recessive disease. Attributes of this relationship are:\\n(1) 'source' is Disease Ontology \\nfamilial partial lipodystrophy type 5 ASSOCIATES Gene CIDEC. Attributes of this relationship are:\\n(1) 'sources' is ['OMIM'] (2) 'o_inheritance' is AR \\nfamilial partial lipodystrophy type 5 ISA Disease familial partial lipodystrophy. Attributes of this relationship are:\\n(1) 'source' is Disease Ontology \\nEND OF NODE CONTEXT\", metadata={'node information': 'Disease familial partial lipodystrophy type 5 from SPOKE knowledge graph'})"
      ]
     },
     "execution_count": 97,
     "metadata": {},
     "output_type": "execute_result"
    }
   ],
   "source": [
    "docs[0]"
   ]
  },
  {
   "cell_type": "code",
   "execution_count": 23,
   "id": "2f3dc63b-4a02-4285-9b57-a0e4689f836e",
   "metadata": {},
   "outputs": [
    {
     "name": "stdout",
     "output_type": "stream",
     "text": [
      "Following is the contextual information about the Disease pulmonary embolism (Disease Ontology identifier of this Disease is DOID:9477).\n",
      "pulmonary embolism ISA Disease pulmonary artery disease. Attributes of this relationship are:\n",
      "(1) 'source' is Disease Ontology \n",
      "pulmonary embolism LOCALIZES Anatomy femoral vein. Attributes of this relationship are:\n",
      "(1) 'enrichment' is 15.774525676395141 (2) 'odds' is 17.015737887874973 (3) 'source' is NCBI PubMed (4) 'cooccur' is 118 (5) 'fisher' is 2.7782517089336134e-97 \n",
      "pulmonary embolism LOCALIZES Anatomy cardiac atrium. Attributes of this relationship are:\n",
      "(1) 'enrichment' is 4.297896521062576 (2) 'odds' is 4.436699532351707 (3) 'source' is NCBI PubMed (4) 'cooccur' is 142 (5) 'fisher' is 1.958374164482187e-45 \n",
      "pulmonary embolism LOCALIZES Anatomy leg. Attributes of this relationship are:\n",
      "(1) 'enrichment' is 3.5631019649253624 (2) 'odds' is 3.6374820149255886 (3) 'source' is NCBI PubMed (4) 'cooccur' is 87 (5) 'fisher' is 4.614655195444314e-23 \n",
      "pulmonary embolism LOCALIZES Anatomy posterior vena cava. Attributes of this relationship are:\n",
      "(1) 'enrichment' is 29.768360616830407 (2) 'odds' is 38.379713079971964 (3) 'source' is NCBI PubMed (4) 'cooccur' is 772 (5) 'fisher' is 0.0 \n",
      "pulmonary embolism LOCALIZES Anatomy renal vein. Attributes of this relationship are:\n",
      "(1) 'enrichment' is 5.087945657596807 (2) 'odds' is 5.201284212614042 (3) 'source' is NCBI PubMed (4) 'cooccur' is 48 (5) 'fisher' is 3.209529585870835e-19 \n",
      "pulmonary embolism LOCALIZES Anatomy axillary vein. Attributes of this relationship are:\n",
      "(1) 'enrichment' is 13.694561663987797 (2) 'odds' is 14.428246102285424 (3) 'source' is NCBI PubMed (4) 'cooccur' is 26 (5) 'fisher' is 3.800961224905525e-21 \n",
      "pulmonary embolism LOCALIZES Anatomy pulmonary vein. Attributes of this relationship are:\n",
      "(1) 'enrichment' is 4.684375358028958 (2) 'odds' is 4.835984495074292 (3) 'source' is NCBI PubMed (4) 'cooccur' is 129 (5) 'fisher' is 3.1905943293418505e-45 \n",
      "pulmonary embolism LOCALIZES Anatomy vein. Attributes of this relationship are:\n",
      "(1) 'enrichment' is 2.2692590962441312 (2) 'odds' is 2.2899174574016974 (3) 'source' is NCBI PubMed (4) 'cooccur' is 44 (5) 'fisher' is 9.992619425949281e-07 \n",
      "pulmonary embolism LOCALIZES Anatomy cardiac ventricle. Attributes of this relationship are:\n",
      "(1) 'enrichment' is 2.876247383319124 (2) 'odds' is 2.95904887675203 (3) 'source' is NCBI PubMed (4) 'cooccur' is 182 (5) 'fisher' is 9.598616448336184e-35 \n",
      "pulmonary embolism LOCALIZES Anatomy alveolus of lung. Attributes of this relationship are:\n",
      "(1) 'enrichment' is 2.771786185084689 (2) 'odds' is 2.803020972621029 (3) 'source' is NCBI PubMed (4) 'cooccur' is 41 (5) 'fisher' is 1.3988221984204725e-08 \n",
      "pulmonary embolism LOCALIZES Anatomy azygos vein. Attributes of this relationship are:\n",
      "(1) 'enrichment' is 5.56683662451712 (2) 'odds' is 5.67201497345893 (3) 'source' is NCBI PubMed (4) 'cooccur' is 12 (5) 'fisher' is 2.6754633169482775e-06\n"
     ]
    }
   ],
   "source": [
    "print(docs[2].page_content)"
   ]
  },
  {
   "cell_type": "code",
   "execution_count": 24,
   "id": "7c946320-2d8a-4315-b453-2074953d60bf",
   "metadata": {},
   "outputs": [
    {
     "name": "stderr",
     "output_type": "stream",
     "text": [
      "/Users/karthiksoman/anaconda3/envs/llm_env/lib/python3.10/site-packages/tqdm/auto.py:21: TqdmWarning: IProgress not found. Please update jupyter and ipywidgets. See https://ipywidgets.readthedocs.io/en/stable/user_install.html\n",
      "  from .autonotebook import tqdm as notebook_tqdm\n"
     ]
    }
   ],
   "source": [
    "\n",
    "embedding_function = SentenceTransformerEmbeddings(model_name=SENTENCE_EMBEDDING_MODEL)\n",
    "\n",
    "vectorstore = Chroma(persist_directory=VECTOR_DB_PATH, \n",
    "                     embedding_function=embedding_function)\n",
    "\n",
    "\n"
   ]
  },
  {
   "cell_type": "code",
   "execution_count": 95,
   "id": "afadf105-30f9-4b01-89a9-6b5acdc5bce7",
   "metadata": {},
   "outputs": [
    {
     "name": "stdout",
     "output_type": "stream",
     "text": [
      "\n",
      "Use the following pieces of context to answer the question at the end. \n",
      "Context: Variant rs1050700461 ASSOCIATES Joubert syndrome 15. Attributes of this relationship are:\n",
      "(1) 'alt_allele' is A (2) 'confidence_score' is 1.0 (3) 'collection_method' is clinical testing (4) 'ClinicalSignificance' is Uncertain significance (5) 'source' is ClinVar (6) 'ref_allele' is G \n",
      "END OF NODE CONTEXT\n",
      "Variant rs1029781765 ASSOCIATES Joubert syndrome. Attributes of this relationship are:\n",
      "(1) 'alt_allele' is C (2) 'confidence_score' is 1.0 (3) 'collection_method' is clinical testing (4) 'ClinicalSignificance' is Uncertain significance (5) 'source' is ClinVar (6) 'ref_allele' is T \n",
      "END OF NODE CONTEXT\n",
      "Variant rs1025041382 ASSOCIATES Joubert syndrome 8. Attributes of this relationship are:\n",
      "(1) 'alt_allele' is T (2) 'confidence_score' is 1.0 (3) 'collection_method' is clinical testing (4) 'ClinicalSignificance' is Uncertain significance (5) 'source' is ClinVar (6) 'ref_allele' is G \n",
      "END OF NODE CONTEXT\n",
      "Variant rs1195974342 ASSOCIATES Joubert syndrome 25. Attributes of this relationship are:\n",
      "(1) 'alt_allele' is A (2) 'confidence_score' is 1.0 (3) 'collection_method' is clinical testing (4) 'ClinicalSignificance' is Uncertain significance (5) 'source' is ClinVar (6) 'ref_allele' is C \n",
      "Variant rs12144567 ASSOCIATES Joubert syndrome 25. Attributes of this relationship are:\n",
      "(1) 'alt_allele' is A (2) 'confidence_score' is 2.0 (3) 'collection_method' is clinical testing (4) 'ClinicalSignificance' is Benign (5) 'source' is ClinVar (6) 'ref_allele' is C \n",
      "END OF NODE CONTEXT\n",
      "Variant rs752137789 ASSOCIATES Joubert syndrome. Attributes of this relationship are:\n",
      "(1) 'alt_allele' is G (2) 'confidence_score' is 1.0 (3) 'collection_method' is clinical testing (4) 'ClinicalSignificance' is Likely benign (5) 'source' is ClinVar (6) 'ref_allele' is A \n",
      "Variant rs751823180 ASSOCIATES Joubert syndrome. Attributes of this relationship are:\n",
      "(1) 'alt_allele' is A,T (2) 'confidence_score' is 2.0 (3) 'collection_method' is clinical testing (4) 'ClinicalSignificance' is Pathogenic,Likely pathogenic (5) 'source' is ClinVar (6) 'ref_allele' is C \n",
      "Variant rs748104868 ASSOCIATES Joubert syndrome. Attributes of this relationship are:\n",
      "(1) 'alt_allele' is T (2) 'confidence_score' is 1.0 (3) 'collection_method' is clinical testing (4) 'ClinicalSignificance' is Uncertain significance (5) 'source' is ClinVar (6) 'ref_allele' is C \n",
      "Variant rs750777734 ASSOCIATES Joubert syndrome. Attributes of this relationship are:\n",
      "(1) 'alt_allele' is T (2) 'confidence_score' is 1.0 (3) 'collection_method' is clinical testing (4) 'ClinicalSignificance' is Uncertain significance (5) 'source' is ClinVar (6) 'ref_allele' is C \n",
      "Variant rs750984782 ASSOCIATES Joubert syndrome. Attributes of this relationship are:\n",
      "(1) 'alt_allele' is A (2) 'confidence_score' is 1.0 (3) 'collection_method' is clinical testing (4) 'ClinicalSignificance' is Uncertain significance (5) 'source' is ClinVar (6) 'ref_allele' is G \n",
      "Variant rs748503945 ASSOCIATES Joubert syndrome. Attributes of this relationship are:\n",
      "(1) 'alt_allele' is GCCT (2) 'confidence_score' is 1.0 (3) 'collection_method' is clinical testing (4) 'ClinicalSignificance' is Uncertain significance (5) 'source' is ClinVar (6) 'ref_allele' is G \n",
      "Variant rs61746932 ASSOCIATES Joubert syndrome. Attributes of this relationship are:\n",
      "(1) 'alt_allele' is G (2) 'confidence_score' is 2.0 (3) 'collection_method' is clinical testing (4) 'ClinicalSignificance' is Benign (5) 'source' is ClinVar (6) 'ref_allele' is A \n",
      "Variant rs56931633 ASSOCIATES Joubert syndrome. Attributes of this relationship are:\n",
      "(1) 'alt_allele' is T (2) 'confidence_score' is 2.0 (3) 'collection_method' is clinical testing (4) 'ClinicalSignificance' is Benign (5) 'source' is ClinVar (6) 'ref_allele' is C \n",
      "Variant rs574938408 ASSOCIATES Joubert syndrome. Attributes of this relationship are:\n",
      "(1) 'alt_allele' is T (2) 'confidence_score' is 1.0 (3) 'collection_method' is clinical testing (4) 'ClinicalSignificance' is Uncertain significance (5) 'source' is ClinVar (6) 'ref_allele' is G \n",
      "Variant rs587777079 ASSOCIATES Joubert syndrome. Attributes of this relationship are:\n",
      "(1) 'alt_allele' is A (2) 'confidence_score' is 1.0 (3) 'collection_method' is research (4) 'ClinicalSignificance' is Pathogenic (5) 'source' is ClinVar (6) 'ref_allele' is G \n",
      "Variant rs5979959 ASSOCIATES Joubert syndrome. Attributes of this relationship are:\n",
      "Variant rs751952525 ASSOCIATES Joubert syndrome 14. Attributes of this relationship are:\n",
      "(1) 'alt_allele' is TG (2) 'confidence_score' is 1.0 (3) 'collection_method' is clinical testing,literature only (4) 'ClinicalSignificance' is Likely pathogenic,Pathogenic,Uncertain significance (5) 'source' is ClinVar (6) 'ref_allele' is T \n",
      "Variant rs74884418 ASSOCIATES Joubert syndrome 14. Attributes of this relationship are:\n",
      "(1) 'alt_allele' is A (2) 'confidence_score' is 1.0 (3) 'collection_method' is clinical testing (4) 'ClinicalSignificance' is Likely benign (5) 'source' is ClinVar (6) 'ref_allele' is G \n",
      "Variant rs747915597 ASSOCIATES Joubert syndrome 14. Attributes of this relationship are:\n",
      "(1) 'alt_allele' is G (2) 'confidence_score' is 1.0 (3) 'collection_method' is clinical testing (4) 'ClinicalSignificance' is Uncertain significance (5) 'source' is ClinVar (6) 'ref_allele' is T \n",
      "Variant rs749132259 ASSOCIATES Joubert syndrome 14. Attributes of this relationship are:\n",
      "(1) 'alt_allele' is T (2) 'confidence_score' is 1.0 (3) 'collection_method' is clinical testing (4) 'ClinicalSignificance' is Uncertain significance (5) 'source' is ClinVar (6) 'ref_allele' is G \n",
      "Variant rs568084746 ASSOCIATES Joubert syndrome 14. Attributes of this relationship are:\n",
      "(1) 'alt_allele' is A (2) 'confidence_score' is 1.0 (3) 'collection_method' is clinical testing (4) 'ClinicalSignificance' is Uncertain significance (5) 'source' is ClinVar (6) 'ref_allele' is G \n",
      "Variant rs571550977 ASSOCIATES Joubert syndrome 14. Attributes of this relationship are:\n",
      "(1) 'alt_allele' is T (2) 'confidence_score' is 1.0 (3) 'collection_method' is clinical testing (4) 'ClinicalSignificance' is Uncertain significance (5) 'source' is ClinVar (6) 'ref_allele' is C \n",
      "Variant rs568671275 ASSOCIATES Joubert syndrome 14. Attributes of this relationship are:\n",
      "(1) 'alt_allele' is T (2) 'confidence_score' is 1.0 (3) 'collection_method' is clinical testing (4) 'ClinicalSignificance' is Likely benign (5) 'source' is ClinVar (6) 'ref_allele' is C \n",
      "Variant rs6736435 ASSOCIATES Joubert syndrome 14. Attributes of this relationship are:\n",
      "(1) 'alt_allele' is C (2) 'confidence_score' is 2.0 (3) 'collection_method' is clinical testing (4) 'ClinicalSignificance' is Benign (5) 'source' is ClinVar (6) 'ref_allele' is A \n",
      "Variant rs576586379 ASSOCIATES Joubert syndrome 14. Attributes of this relationship are:\n",
      "(1) 'alt_allele' is T (2) 'confidence_score' is 1.0 (3) 'collection_method' is clinical testing (4) 'ClinicalSignificance' is Uncertain significance (5) 'source' is ClinVar (6) 'ref_allele' is C \n",
      "Variant rs570600190 ASSOCIATES Joubert syndrome 14. Attributes of this relationship are:\n",
      "(1) 'alt_allele' is T (2) 'confidence_score' is 1.0 (3) 'collection_method' is clinical testing (4) 'ClinicalSignificance' is Benign,Uncertain significance (5) 'source' is ClinVar (6) 'ref_allele' is C \n",
      "Variant rs562984785 ASSOCIATES Joubert syndrome 14. Attributes of this relationship are:\n",
      "Variant rs972221242 ASSOCIATES Joubert syndrome 14. Attributes of this relationship are:\n",
      "(1) 'alt_allele' is A (2) 'confidence_score' is 2.0 (3) 'collection_method' is clinical testing,research (4) 'ClinicalSignificance' is Likely pathogenic (5) 'source' is ClinVar (6) 'ref_allele' is G \n",
      "Variant rs886055448 ASSOCIATES Joubert syndrome 14. Attributes of this relationship are:\n",
      "(1) 'alt_allele' is T (2) 'confidence_score' is 1.0 (3) 'collection_method' is clinical testing (4) 'ClinicalSignificance' is Uncertain significance (5) 'source' is ClinVar (6) 'ref_allele' is C \n",
      "Variant rs886055446 ASSOCIATES Joubert syndrome 14. Attributes of this relationship are:\n",
      "(1) 'alt_allele' is G (2) 'confidence_score' is 1.0 (3) 'collection_method' is clinical testing (4) 'ClinicalSignificance' is Uncertain significance (5) 'source' is ClinVar (6) 'ref_allele' is T \n",
      "Variant rs972949531 ASSOCIATES Joubert syndrome 14. Attributes of this relationship are:\n",
      "(1) 'alt_allele' is A (2) 'confidence_score' is 1.0 (3) 'collection_method' is clinical testing (4) 'ClinicalSignificance' is Uncertain significance (5) 'source' is ClinVar (6) 'ref_allele' is G \n",
      "Variant rs886055441 ASSOCIATES Joubert syndrome 14. Attributes of this relationship are:\n",
      "(1) 'alt_allele' is T (2) 'confidence_score' is 1.0 (3) 'collection_method' is clinical testing (4) 'ClinicalSignificance' is Uncertain significance (5) 'source' is ClinVar (6) 'ref_allele' is C \n",
      "Variant rs983166297 ASSOCIATES Joubert syndrome 14. Attributes of this relationship are:\n",
      "(1) 'alt_allele' is A (2) 'confidence_score' is 1.0 (3) 'collection_method' is clinical testing (4) 'ClinicalSignificance' is Uncertain significance (5) 'source' is ClinVar (6) 'ref_allele' is G \n",
      "Variant rs886055447 ASSOCIATES Joubert syndrome 14. Attributes of this relationship are:\n",
      "(1) 'alt_allele' is C (2) 'confidence_score' is 1.0 (3) 'collection_method' is clinical testing (4) 'ClinicalSignificance' is Uncertain significance (5) 'source' is ClinVar (6) 'ref_allele' is G \n",
      "Variant rs886055438 ASSOCIATES Joubert syndrome 14. Attributes of this relationship are:\n",
      "(1) 'alt_allele' is G (2) 'confidence_score' is 1.0 (3) 'collection_method' is clinical testing (4) 'ClinicalSignificance' is Uncertain significance (5) 'source' is ClinVar (6) 'ref_allele' is C \n",
      "Variant rs886055450 ASSOCIATES Joubert syndrome 14. Attributes of this relationship are:\n",
      "(1) 'alt_allele' is C (2) 'confidence_score' is 1.0 (3) 'collection_method' is clinical testing (4) 'ClinicalSignificance' is Uncertain significance (5) 'source' is ClinVar (6) 'ref_allele' is A \n",
      "Variant rs866645983 ASSOCIATES Joubert syndrome 14. Attributes of this relationship are:\n",
      "(1) 'alt_allele' is T (2) 'confidence_score' is 1.0 (3) 'collection_method' is clinical testing (4) 'ClinicalSignificance' is Uncertain significance (5) 'source' is ClinVar (6) 'ref_allele' is A \n",
      "Variant rs80034299 ASSOCIATES Joubert syndrome 14. Attributes of this relationship are:\n",
      "Variant rs751738538 ASSOCIATES Joubert syndrome. Attributes of this relationship are:\n",
      "(1) 'alt_allele' is G (2) 'confidence_score' is 2.0 (3) 'collection_method' is clinical testing (4) 'ClinicalSignificance' is Likely benign (5) 'source' is ClinVar (6) 'ref_allele' is A \n",
      "Variant rs750829579 ASSOCIATES Joubert syndrome. Attributes of this relationship are:\n",
      "(1) 'alt_allele' is T (2) 'confidence_score' is 1.0 (3) 'collection_method' is clinical testing (4) 'ClinicalSignificance' is Uncertain significance (5) 'source' is ClinVar (6) 'ref_allele' is C \n",
      "Variant rs748486939 ASSOCIATES Joubert syndrome. Attributes of this relationship are:\n",
      "(1) 'alt_allele' is A (2) 'confidence_score' is 1.0 (3) 'collection_method' is clinical testing (4) 'ClinicalSignificance' is Likely benign (5) 'source' is ClinVar (6) 'ref_allele' is G \n",
      "Variant rs748438350 ASSOCIATES Joubert syndrome. Attributes of this relationship are:\n",
      "(1) 'alt_allele' is TC (2) 'confidence_score' is 1.0 (3) 'collection_method' is clinical testing (4) 'ClinicalSignificance' is Pathogenic (5) 'source' is ClinVar (6) 'ref_allele' is T \n",
      "Variant rs751477523 ASSOCIATES Joubert syndrome. Attributes of this relationship are:\n",
      "(1) 'alt_allele' is A (2) 'confidence_score' is 1.0 (3) 'collection_method' is clinical testing (4) 'ClinicalSignificance' is Pathogenic (5) 'source' is ClinVar (6) 'ref_allele' is G \n",
      "Variant rs73559947 ASSOCIATES Joubert syndrome. Attributes of this relationship are:\n",
      "(1) 'alt_allele' is A (2) 'confidence_score' is 2.0 (3) 'collection_method' is clinical testing (4) 'ClinicalSignificance' is Likely benign (5) 'source' is ClinVar (6) 'ref_allele' is G \n",
      "Variant rs752889085 ASSOCIATES Joubert syndrome. Attributes of this relationship are:\n",
      "(1) 'alt_allele' is C (2) 'confidence_score' is 1.0 (3) 'collection_method' is clinical testing (4) 'ClinicalSignificance' is Uncertain significance (5) 'source' is ClinVar (6) 'ref_allele' is A \n",
      "Variant rs746782404 ASSOCIATES Joubert syndrome. Attributes of this relationship are:\n",
      "(1) 'alt_allele' is T (2) 'confidence_score' is 1.0 (3) 'collection_method' is clinical testing (4) 'ClinicalSignificance' is Likely benign (5) 'source' is ClinVar (6) 'ref_allele' is C \n",
      "Variant rs752216307 ASSOCIATES Joubert syndrome. Attributes of this relationship are:\n",
      "(1) 'alt_allele' is A (2) 'confidence_score' is 2.0 (3) 'collection_method' is clinical testing (4) 'ClinicalSignificance' is Uncertain significance (5) 'source' is ClinVar (6) 'ref_allele' is G \n",
      "Variant rs750436680 ASSOCIATES Joubert syndrome. Attributes of this relationship are:\n",
      "(1) 'alt_allele' is T (2) 'confidence_score' is 2.0 (3) 'collection_method' is research (4) 'ClinicalSignificance' is Pathogenic (5) 'source' is ClinVar (6) 'ref_allele' is C \n",
      "Variant rs747445819 ASSOCIATES Joubert syndrome. Attributes of this relationship are:\n",
      "Variant rs1134634 ASSOCIATES Joubert syndrome 9. Attributes of this relationship are:\n",
      "(1) 'alt_allele' is C (2) 'confidence_score' is 2.0 (3) 'collection_method' is clinical testing (4) 'ClinicalSignificance' is Benign (5) 'source' is ClinVar (6) 'ref_allele' is G \n",
      "Variant rs10000250 ASSOCIATES Joubert syndrome 9. Attributes of this relationship are:\n",
      "(1) 'alt_allele' is G (2) 'confidence_score' is 2.0 (3) 'collection_method' is clinical testing (4) 'ClinicalSignificance' is Benign (5) 'source' is ClinVar (6) 'ref_allele' is A \n",
      "END OF NODE CONTEXT\n",
      "Variant rs397514726 ASSOCIATES Joubert syndrome 3. Attributes of this relationship are:\n",
      "(1) 'alt_allele' is T,A (2) 'confidence_score' is 1.0 (3) 'collection_method' is research,clinical testing,literature only (4) 'ClinicalSignificance' is Uncertain significance,Pathogenic (5) 'source' is ClinVar (6) 'ref_allele' is C \n",
      "Variant rs369713977 ASSOCIATES Joubert syndrome 3. Attributes of this relationship are:\n",
      "(1) 'alt_allele' is G (2) 'confidence_score' is 2.0 (3) 'collection_method' is clinical testing (4) 'ClinicalSignificance' is Uncertain significance (5) 'source' is ClinVar (6) 'ref_allele' is A \n",
      "Variant rs2757645 ASSOCIATES Joubert syndrome 3. Attributes of this relationship are:\n",
      "(1) 'alt_allele' is A (2) 'confidence_score' is 2.0 (3) 'collection_method' is clinical testing (4) 'ClinicalSignificance' is Benign (5) 'source' is ClinVar (6) 'ref_allele' is G \n",
      "Variant rs371835751 ASSOCIATES Joubert syndrome 3. Attributes of this relationship are:\n",
      "(1) 'alt_allele' is A (2) 'confidence_score' is 2.0 (3) 'collection_method' is clinical testing (4) 'ClinicalSignificance' is Uncertain significance (5) 'source' is ClinVar (6) 'ref_allele' is T \n",
      "Variant rs368077581 ASSOCIATES Joubert syndrome 3. Attributes of this relationship are:\n",
      "(1) 'alt_allele' is A (2) 'confidence_score' is 1.0 (3) 'collection_method' is clinical testing (4) 'ClinicalSignificance' is Uncertain significance (5) 'source' is ClinVar (6) 'ref_allele' is G \n",
      "Variant rs369869567 ASSOCIATES Joubert syndrome 3. Attributes of this relationship are:\n",
      "(1) 'alt_allele' is C (2) 'confidence_score' is 2.0 (3) 'collection_method' is clinical testing (4) 'ClinicalSignificance' is Uncertain significance (5) 'source' is ClinVar (6) 'ref_allele' is T \n",
      "Variant rs372030704 ASSOCIATES Joubert syndrome 3. Attributes of this relationship are:\n",
      "(1) 'alt_allele' is C (2) 'confidence_score' is 1.0 (3) 'collection_method' is clinical testing (4) 'ClinicalSignificance' is Uncertain significance (5) 'source' is ClinVar (6) 'ref_allele' is T \n",
      "Variant rs372012542 ASSOCIATES Joubert syndrome 3. Attributes of this relationship are:\n",
      "(1) 'alt_allele' is A (2) 'confidence_score' is 1.0 (3) 'collection_method' is research (4) 'ClinicalSignificance' is Uncertain significance (5) 'source' is ClinVar (6) 'ref_allele' is C \n",
      "Variant rs371531507 ASSOCIATES Joubert syndrome 3. Attributes of this relationship are:\n",
      "(1) 'alt_allele' is A (2) 'confidence_score' is 2.0 (3) 'collection_method' is clinical testing (4) 'ClinicalSignificance' is Uncertain significance (5) 'source' is ClinVar (6) 'ref_allele' is G \n",
      "Variant rs35851478 ASSOCIATES Joubert syndrome 3. Attributes of this relationship are:\n",
      "(1) 'alt_allele' is T (2) 'confidence_score' is 2.0 (3) 'collection_method' is clinical testing (4) 'ClinicalSignificance' is Likely benign (5) 'source' is ClinVar (6) 'ref_allele' is C \n",
      "Variant rs372888581 ASSOCIATES Joubert syndrome 3. Attributes of this relationship are:\n",
      "\n",
      "Question : Variant rs775393475 is associated with Joubert syndrome 31\n",
      "Answer the above Question in the following format:\n",
      "{\n",
      "answer : [answer 1, answer 2, answer 3 etc]\n",
      "}\n",
      "If you don't know the answer, report it as:\n",
      "{\n",
      "answer : Don't know\n",
      "}\n",
      "\n"
     ]
    }
   ],
   "source": [
    "search_result = vectorstore.similarity_search_with_score(question, k=10)\n",
    "retrieved_context = \"\"\n",
    "for item in search_result:\n",
    "    retrieved_context += item[0].page_content\n",
    "    retrieved_context += \"\\n\"\n",
    "\n",
    "prompt = \"\"\"\n",
    "Use the following pieces of context to answer the question at the end. \n",
    "Context: {}\n",
    "Question : {}\n",
    "Answer the above Question in the following format:\n",
    "{{\n",
    "answer : [answer 1, answer 2, answer 3 etc]\n",
    "}}\n",
    "If you don't know the answer, report it as:\n",
    "{{\n",
    "answer : Don't know\n",
    "}}\n",
    "\"\"\".format(retrieved_context, question)\n",
    "\n",
    "print(prompt)"
   ]
  },
  {
   "cell_type": "code",
   "execution_count": 81,
   "id": "af1a3eb8-4624-4e08-b2a8-35a85d9b37fd",
   "metadata": {},
   "outputs": [
    {
     "name": "stdout",
     "output_type": "stream",
     "text": [
      "Variant rs1050700461 ASSOCIATES Joubert syndrome 15. Attributes of this relationship are:\n",
      "(1) 'alt_allele' is A (2) 'confidence_score' is 1.0 (3) 'collection_method' is clinical testing (4) 'ClinicalSignificance' is Uncertain significance (5) 'source' is ClinVar (6) 'ref_allele' is G \n",
      "END OF NODE CONTEXT\n"
     ]
    }
   ],
   "source": [
    "question = \"Variant rs775393475 is associated with Joubert syndrome 31\"\n",
    "\n",
    "search_result = vectorstore.similarity_search_with_score(question, k=5)\n",
    "print(search_result[0][0].page_content)\n"
   ]
  },
  {
   "cell_type": "code",
   "execution_count": 63,
   "id": "e3bd0d39-9bd7-4894-97c3-b5ffc4385962",
   "metadata": {},
   "outputs": [
    {
     "data": {
      "text/plain": [
       "[(Document(page_content=\"Cryptococcal meningitis RESEMBLES Disease meningoencephalitis. Attributes of this relationship are:\\n(1) 'enrichment' is 24.255475317462597 (2) 'odds' is 25.285566953867328 (3) 'source' is NCBI PubMed (4) 'cooccur' is 58 (5) 'fisher' is 1.1931771397007566e-58 \\nCryptococcal meningitis RESEMBLES Disease cranial nerve palsy. Attributes of this relationship are:\\n(1) 'enrichment' is 5.766808071694847 (2) 'odds' is 5.795352549889135 (3) 'source' is NCBI PubMed (4) 'cooccur' is 6 (5) 'fisher' is 0.0007212322910249944 \\nCryptococcal meningitis RESEMBLES Disease idiopathic CD4-positive T-lymphocytopenia. Attributes of this relationship are:\\n(1) 'enrichment' is 101.36716020843693 (2) 'odds' is 107.09432313814357 (3) 'source' is NCBI PubMed (4) 'cooccur' is 12 (5) 'fisher' is 1.0536231500651493e-20 \\nCryptococcal meningitis RESEMBLES Disease neuroaspergillosis. Attributes of this relationship are:\\n(1) 'enrichment' is 34.33624455103599 (2) 'odds' is 34.958373159901164 (3) 'source' is NCBI PubMed (4) 'cooccur' is 4 (5) 'fisher' is 6.813090591840156e-06 \\nCryptococcal meningitis RESEMBLES Disease cryptococcosis. Attributes of this relationship are:\\n(1) 'enrichment' is 55.49395447939814 (2) 'odds' is 62.58103803783815 (3) 'source' is NCBI PubMed (4) 'cooccur' is 169 (5) 'fisher' is 3.483167056623779e-229 \\nCryptococcal meningitis RESEMBLES Disease intracranial hypertension. Attributes of this relationship are:\\n(1) 'enrichment' is 24.801484755660574 (2) 'odds' is 25.710639246510596 (3) 'source' is NCBI PubMed (4) 'cooccur' is 47 (5) 'fisher' is 3.0623071212969096e-48 \\nCompound Flucytosine TREATS Cryptococcal meningitis. Attributes of this relationship are:\\n(1) 'phase' is 2 (2) 'sources' is ['ChEMBL'] \\nCompound EFUNGUMAB TREATS Cryptococcal meningitis. Attributes of this relationship are:\\n(1) 'phase' is 2 (2) 'sources' is ['ChEMBL'] \\nCompound Interferon gamma-1b TREATS Cryptococcal meningitis. Attributes of this relationship are:\\n(1) 'phase' is 2 (2) 'sources' is ['ChEMBL'] \\nCompound Dexamethasone TREATS Cryptococcal meningitis. Attributes of this relationship are:\\n(1) 'phase' is 2 (2) 'sources' is ['ChEMBL'] \\nCompound Fluconazole TREATS Cryptococcal meningitis. Attributes of this relationship are:\\n(1) 'phase' is 4 (2) 'sources' is ['ChEMBL'] \\nCompound Labradimil TREATS Cryptococcal meningitis. Attributes of this relationship are:\\n(1) 'phase' is 1 (2) 'sources' is ['ChEMBL'] \\nCompound Sertraline TREATS Cryptococcal meningitis. Attributes of this relationship are:\\n(1) 'phase' is 3 (2) 'sources' is ['ChEMBL'] \\nCompound Amphotericin B TREATS Cryptococcal meningitis. Attributes of this relationship are:\\n(1) 'phase' is 4 (2) 'sources' is ['ChEMBL'] \\nCompound Itraconazolum [Latin] TREATS Cryptococcal meningitis. Attributes of this relationship are:\\n(1) 'phase' is 2 (2) 'sources' is ['ChEMBL'] \\nEND OF NODE CONTEXT\", metadata={'node information': 'Disease Cryptococcal meningitis from SPOKE knowledge graph'}),\n",
       "  0.6451576948165894)]"
      ]
     },
     "execution_count": 63,
     "metadata": {},
     "output_type": "execute_result"
    }
   ],
   "source": [
    "question = \"What are the genes associated with Cryptococcal meningitis?\"\n",
    "search_result = vectorstore.similarity_search_with_score(question, k=1)\n",
    "search_result\n"
   ]
  },
  {
   "cell_type": "code",
   "execution_count": 47,
   "id": "129b45fb-cfc6-4a68-a344-a7bacdb75662",
   "metadata": {},
   "outputs": [],
   "source": [
    "import pandas as pd"
   ]
  },
  {
   "cell_type": "code",
   "execution_count": 48,
   "id": "2e4f64b1-66cd-4039-935b-70d8dfa4682a",
   "metadata": {},
   "outputs": [],
   "source": [
    "df = pd.DataFrame(data, columns=[\"context\"])\n"
   ]
  },
  {
   "cell_type": "code",
   "execution_count": 54,
   "id": "55eb04c0-30fb-4bc2-a6ec-15ed39d3e0a4",
   "metadata": {},
   "outputs": [
    {
     "data": {
      "text/html": [
       "<div>\n",
       "<style scoped>\n",
       "    .dataframe tbody tr th:only-of-type {\n",
       "        vertical-align: middle;\n",
       "    }\n",
       "\n",
       "    .dataframe tbody tr th {\n",
       "        vertical-align: top;\n",
       "    }\n",
       "\n",
       "    .dataframe thead th {\n",
       "        text-align: right;\n",
       "    }\n",
       "</style>\n",
       "<table border=\"1\" class=\"dataframe\">\n",
       "  <thead>\n",
       "    <tr style=\"text-align: right;\">\n",
       "      <th></th>\n",
       "      <th>context</th>\n",
       "    </tr>\n",
       "  </thead>\n",
       "  <tbody>\n",
       "    <tr>\n",
       "      <th>2369</th>\n",
       "      <td>Following is the contextual information about ...</td>\n",
       "    </tr>\n",
       "  </tbody>\n",
       "</table>\n",
       "</div>"
      ],
      "text/plain": [
       "                                                context\n",
       "2369  Following is the contextual information about ..."
      ]
     },
     "execution_count": 54,
     "metadata": {},
     "output_type": "execute_result"
    }
   ],
   "source": [
    "df[df.context.str.contains(\"INCREASEDIN\")].head(50)"
   ]
  },
  {
   "cell_type": "code",
   "execution_count": 98,
   "id": "fe30cd0b-3a82-4ca0-876a-a12a5bc2050f",
   "metadata": {},
   "outputs": [
    {
     "name": "stdout",
     "output_type": "stream",
     "text": [
      "Following is the contextual information about the Disease familial partial lipodystrophy type 5 (Disease Ontology identifier of this Disease is DOID:0070203).\n",
      "familial partial lipodystrophy type 5 ISA Disease autosomal recessive disease. Attributes of this relationship are:\n",
      "(1) 'source' is Disease Ontology \n",
      "familial partial lipodystrophy type 5 ASSOCIATES Gene CIDEC. Attributes of this relationship are:\n",
      "(1) 'sources' is ['OMIM'] (2) 'o_inheritance' is AR \n",
      "familial partial lipodystrophy type 5 ISA Disease familial partial lipodystrophy. Attributes of this relationship are:\n",
      "(1) 'source' is Disease Ontology \n",
      "END OF NODE CONTEXT\n"
     ]
    }
   ],
   "source": [
    "print(data[0])"
   ]
  },
  {
   "cell_type": "markdown",
   "id": "adae5d96-137c-49d2-8d08-62a0a3f46181",
   "metadata": {},
   "source": [
    "#### "
   ]
  }
 ],
 "metadata": {
  "kernelspec": {
   "display_name": "Python 3 (ipykernel)",
   "language": "python",
   "name": "python3"
  },
  "language_info": {
   "codemirror_mode": {
    "name": "ipython",
    "version": 3
   },
   "file_extension": ".py",
   "mimetype": "text/x-python",
   "name": "python",
   "nbconvert_exporter": "python",
   "pygments_lexer": "ipython3",
   "version": "3.10.9"
  }
 },
 "nbformat": 4,
 "nbformat_minor": 5
}
