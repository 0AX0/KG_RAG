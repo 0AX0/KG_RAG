{
 "cells": [
  {
   "cell_type": "code",
   "execution_count": 1,
   "id": "60a2509a-daa9-44ea-8afe-0b38fd078237",
   "metadata": {},
   "outputs": [],
   "source": [
    "from langchain.vectorstores import Chroma\n",
    "from langchain.embeddings.sentence_transformer import SentenceTransformerEmbeddings\n",
    "from langchain.prompts import PromptTemplate\n",
    "from langchain.llms import Ollama\n",
    "from langchain.callbacks.manager import CallbackManager\n",
    "from langchain.callbacks.streaming_stdout import StreamingStdOutCallbackHandler\n",
    "from langchain.chains import RetrievalQA\n",
    "import pandas as pd\n",
    "import numpy as np\n",
    "from sklearn.model_selection import train_test_split\n"
   ]
  },
  {
   "cell_type": "code",
   "execution_count": 2,
   "id": "823ef9e4-97bf-4786-ba32-e428e7215f03",
   "metadata": {},
   "outputs": [],
   "source": [
    "VECTOR_DB_PATH = \"../../data/vectorDB/disease_context_chromaDB\"\n",
    "SENTENCE_EMBEDDING_MODEL = \"all-MiniLM-L6-v2\"\n",
    "DISEASE_FILE = \"../../data/disease_with_TREATS_edge.csv\"\n",
    "\n",
    "TEST_SIZE = 400"
   ]
  },
  {
   "cell_type": "code",
   "execution_count": 3,
   "id": "a885449d-fcfb-47fd-a1cb-ec6d105de2bb",
   "metadata": {},
   "outputs": [
    {
     "data": {
      "text/plain": [
       "array(['thyroid gland papillary carcinoma', 'glycogen storage disease II',\n",
       "       'follicular lymphoma', ..., 'SADDAN', 'systolic heart failure',\n",
       "       'glycogen storage disease I'], dtype=object)"
      ]
     },
     "execution_count": 3,
     "metadata": {},
     "output_type": "execute_result"
    }
   ],
   "source": [
    "disease_df = pd.read_csv(DISEASE_FILE)\n",
    "disease_array = disease_df.diseases.unique()\n",
    "disease_array"
   ]
  },
  {
   "cell_type": "code",
   "execution_count": 4,
   "id": "b6f2d6e4-cd5d-4965-b143-5d4d03bbf45d",
   "metadata": {},
   "outputs": [
    {
     "data": {
      "text/plain": [
       "(1225,)"
      ]
     },
     "execution_count": 4,
     "metadata": {},
     "output_type": "execute_result"
    }
   ],
   "source": [
    "diseae_validation, diseae_test = train_test_split(disease_array, test_size=TEST_SIZE, random_state=42)\n",
    "diseae_validation.shape"
   ]
  },
  {
   "cell_type": "code",
   "execution_count": 13,
   "id": "1c0a7ca1-758d-4bec-8114-039a6ad72f62",
   "metadata": {},
   "outputs": [],
   "source": [
    "fetch_k_list = [30, 40]\n",
    "lambda_mult_list = [0.3, 0.5, 0.75]\n",
    "k_list = [1, 2, 3]\n"
   ]
  },
  {
   "cell_type": "code",
   "execution_count": 5,
   "id": "6ea40f78-4247-486e-88a6-8f1250d2f028",
   "metadata": {},
   "outputs": [
    {
     "name": "stderr",
     "output_type": "stream",
     "text": [
      "/Users/karthiksoman/anaconda3/envs/llm_env/lib/python3.10/site-packages/tqdm/auto.py:21: TqdmWarning: IProgress not found. Please update jupyter and ipywidgets. See https://ipywidgets.readthedocs.io/en/stable/user_install.html\n",
      "  from .autonotebook import tqdm as notebook_tqdm\n"
     ]
    }
   ],
   "source": [
    "embedding_function = SentenceTransformerEmbeddings(model_name=SENTENCE_EMBEDDING_MODEL)\n",
    "\n",
    "vectorstore = Chroma(persist_directory=VECTOR_DB_PATH, \n",
    "                     embedding_function=embedding_function)\n"
   ]
  },
  {
   "cell_type": "code",
   "execution_count": 42,
   "id": "356b838a-c283-4c55-b525-090ed18f7326",
   "metadata": {},
   "outputs": [
    {
     "name": "stdout",
     "output_type": "stream",
     "text": [
      "(Document(page_content=\"(1) 'phase' is 2 (2) 'sources' is ['ChEMBL'] (3) 'source' is ['ChEMBL', 'DrugCentral'] \\nCompound Talipexole TREATS Parkinson's disease. Attributes of this relationship are:\\n(1) 'source' is ['DrugCentral'] \\nCompound (alphaS)-alpha-Cyclohexyl-alpha-phenyl-1-pyrrolidine-1-propanol TREATS Parkinson's disease. Attributes of this relationship are:\\n(1) 'source' is ['DrugCentral'] \\nCompound Tricyclamol cation TREATS Parkinson's disease. Attributes of this relationship are:\\n(1) 'source' is ['DrugCentral'] \\nCompound Adamantan-1-amine sulfate TREATS Parkinson's disease. Attributes of this relationship are:\\n(1) 'source' is ['DrugCentral'] \\nCompound Cycrimine TREATS Parkinson's disease. Attributes of this relationship are:\\n(1) 'source' is ['DrugCentral'] \\nCompound N-Propargyl-1(S)-aminoindan TREATS Parkinson's disease. Attributes of this relationship are:\\n(1) 'source' is ['DrugCentral'] \\nCompound 5-bromo-N-[1-hydroxy-8-oxo-4,7-di(propan-2-yl)-3-oxa-6,9-diazatricyclo[7.3.0.02,6]dodecan-4-yl]-7-methyl-6,6a,8,9-tetrahydro-4H-indolo[4,3-fg]quinoline-9-carboxamide TREATS Parkinson's disease. Attributes of this relationship are:\\n(1) 'source' is ['DrugCentral'] \\nCompound (2S)-1-(3,3-dimethyl-2-oxopentanoyl)pyrrolidine-2-carboxylic acid TREATS Parkinson's disease. Attributes of this relationship are:\\n(1) 'phase' is 2 (2) 'sources' is ['ChEMBL'] \\nCompound Clarithromycin TREATS Parkinson's disease. Attributes of this relationship are:\\n(1) 'phase' is 1 (2) 'sources' is ['ChEMBL'] \\nCompound Clenbuterol TREATS Parkinson's disease. Attributes of this relationship are:\\n(1) 'phase' is 2 (2) 'sources' is ['ChEMBL'] \\nCompound Traxoprodil TREATS Parkinson's disease. Attributes of this relationship are:\\n(1) 'phase' is 2 (2) 'sources' is ['ChEMBL'] \\nCompound Citalopram TREATS Parkinson's disease. Attributes of this relationship are:\\n(1) 'phase' is 2 (2) 'sources' is ['ChEMBL'] \\nCompound Venlafaxine TREATS Parkinson's disease. Attributes of this relationship are:\\n(1) 'phase' is 3 (2) 'sources' is ['ChEMBL'] \\nCompound Tesofensine TREATS Parkinson's disease. Attributes of this relationship are:\\n(1) 'phase' is 2 (2) 'sources' is ['ChEMBL'] \\nCompound Epigallocatechin Gallate TREATS Parkinson's disease. Attributes of this relationship are:\\n(1) 'phase' is 2 (2) 'sources' is ['ChEMBL'] \\nCompound Profenamine TREATS Parkinson's disease. Attributes of this relationship are:\\n(1) 'phase' is 4 (2) 'sources' is ['ChEMBL'] \\nCompound Preladenant TREATS Parkinson's disease. Attributes of this relationship are:\\n(1) 'phase' is 3 (2) 'sources' is ['ChEMBL'] \\nCompound Exenatide Synthetic TREATS Parkinson's disease. Attributes of this relationship are:\\n(1) 'phase' is 3 (2) 'sources' is ['ChEMBL'] \\nCompound Oxycodone TREATS Parkinson's disease. Attributes of this relationship are:\\n(1) 'phase' is 3 (2) 'sources' is ['ChEMBL'] \\nCompound Tolcapone TREATS Parkinson's disease. Attributes of this relationship are:\\n(1) 'phase' is 4 (2) 'sources' is ['ChEMBL'] (3) 'source' is ['ChEMBL', 'DrugCentral']\", metadata={'node information': \"Disease Parkinson's disease from SPOKE knowledge graph\"}), 0.7497092485427856)\n"
     ]
    }
   ],
   "source": [
    "fetch_k = fetch_k_list[1]\n",
    "lambda_mult = lambda_mult_list[1]\n",
    "\n",
    "\n",
    "question = \"What compound treats parkinson's disease?\"\n",
    "search_result = vectorstore.similarity_search_with_score(question, \n",
    "                                                         search_type=\"mmr\", \n",
    "                                                         search_kwargs={\"fetch_k\": fetch_k, \"lambda_mult\":0.2, \"k\":2})\n",
    "\n",
    "# search_result = vectorstore.similarity_search_with_relevance_scores(question, \n",
    "#                                                          search_type=\"similarity_score_threshold\", \n",
    "#                                                          search_kwargs={\"score_threshold\":0.4, \"k\":2})\n",
    "\n",
    "search_result = vectorstore.similarity_search_with_score(question, \n",
    "                                                         search_type=\"similarity_score_threshold\", \n",
    "                                                         search_kwargs={\"score_threshold\":0.4, \"k\":2})\n",
    "\n",
    "\n",
    "\n",
    "\n",
    "print(search_result[1])"
   ]
  },
  {
   "cell_type": "code",
   "execution_count": 47,
   "id": "42f5722d-f96e-4de5-9ebc-df09114d8109",
   "metadata": {},
   "outputs": [
    {
     "data": {
      "text/plain": [
       "[(Document(page_content=\"(1) 'phase' is 3 (2) 'sources' is ['ChEMBL'] \\nCompound Memantine TREATS Parkinson's disease. Attributes of this relationship are:\\n(1) 'phase' is 3 (2) 'sources' is ['ChEMBL'] \\nCompound Orphenadrine TREATS Parkinson's disease. Attributes of this relationship are:\\n(1) 'phase' is 4 (2) 'sources' is ['ChEMBL'] \\nCompound Pergolide TREATS Parkinson's disease. Attributes of this relationship are:\\n(1) 'phase' is 4 (2) 'sources' is ['ChEMBL'] \\nCompound (2-(4-((2-Chloro-4,4-difluoro-spiro(5H-thieno(2,3-C)pyran-7,4'-piperidine)-1'-yl)methyl)-3-methyl-pyrazol-1-yl)-3-pyridyl)methanol TREATS Parkinson's disease. Attributes of this relationship are:\\n(1) 'phase' is 2 (2) 'sources' is ['ChEMBL'] \\nCompound Mevidalen TREATS Parkinson's disease. Attributes of this relationship are:\\n(1) 'phase' is 1 (2) 'sources' is ['ChEMBL'] \\nCompound Perampanel TREATS Parkinson's disease. Attributes of this relationship are:\\n(1) 'phase' is 3 (2) 'sources' is ['ChEMBL'] \\nCompound Cabergoline TREATS Parkinson's disease. Attributes of this relationship are:\\n(1) 'phase' is 4 (2) 'sources' is ['ChEMBL'] \\nCompound Pitolisant TREATS Parkinson's disease. Attributes of this relationship are:\\n(1) 'phase' is 3 (2) 'sources' is ['ChEMBL'] \\nCompound Entacapone TREATS Parkinson's disease. Attributes of this relationship are:\\n(1) 'phase' is 4 (2) 'sources' is ['ChEMBL'] (3) 'source' is ['ChEMBL', 'DrugCentral'] \\nCompound Doconexent TREATS Parkinson's disease. Attributes of this relationship are:\\n(1) 'phase' is 1 (2) 'sources' is ['ChEMBL'] \\nCompound Sirolimus TREATS Parkinson's disease. Attributes of this relationship are:\\n(1) 'phase' is 1 (2) 'sources' is ['ChEMBL'] \\nCompound Caffeine TREATS Parkinson's disease. Attributes of this relationship are:\\n(1) 'phase' is 3 (2) 'sources' is ['ChEMBL'] \\nCompound Mesdopetam TREATS Parkinson's disease. Attributes of this relationship are:\\n(1) 'phase' is 2 (2) 'sources' is ['ChEMBL'] \\nCompound Levodopa-4'-monophosphate TREATS Parkinson's disease. Attributes of this relationship are:\\n(1) 'phase' is 3 (2) 'sources' is ['ChEMBL'] \\nCompound Prednisone TREATS Parkinson's disease. Attributes of this relationship are:\\n(1) 'phase' is 1 (2) 'sources' is ['ChEMBL'] \\nCompound Ioflupane I-123 TREATS Parkinson's disease. Attributes of this relationship are:\\n(1) 'phase' is 2 (2) 'sources' is ['ChEMBL'] \\nCompound Isradipine TREATS Parkinson's disease. Attributes of this relationship are:\\n(1) 'phase' is 3 (2) 'sources' is ['ChEMBL'] \\nCompound Midazolam TREATS Parkinson's disease. Attributes of this relationship are:\\n(1) 'phase' is 1 (2) 'sources' is ['ChEMBL'] \\nCompound Biperiden TREATS Parkinson's disease. Attributes of this relationship are:\\n(1) 'phase' is 4 (2) 'sources' is ['ChEMBL'] (3) 'source' is ['ChEMBL', 'DrugCentral'] \\nCompound Nebicapone TREATS Parkinson's disease. Attributes of this relationship are:\\n(1) 'phase' is 2 (2) 'sources' is ['ChEMBL'] \\nCompound Ordopidine TREATS Parkinson's disease. Attributes of this relationship are:\", metadata={'node information': \"Disease Parkinson's disease from SPOKE knowledge graph\"}),\n",
       "  0.7166598439216614),\n",
       " (Document(page_content=\"(1) 'phase' is 2 (2) 'sources' is ['ChEMBL'] (3) 'source' is ['ChEMBL', 'DrugCentral'] \\nCompound Talipexole TREATS Parkinson's disease. Attributes of this relationship are:\\n(1) 'source' is ['DrugCentral'] \\nCompound (alphaS)-alpha-Cyclohexyl-alpha-phenyl-1-pyrrolidine-1-propanol TREATS Parkinson's disease. Attributes of this relationship are:\\n(1) 'source' is ['DrugCentral'] \\nCompound Tricyclamol cation TREATS Parkinson's disease. Attributes of this relationship are:\\n(1) 'source' is ['DrugCentral'] \\nCompound Adamantan-1-amine sulfate TREATS Parkinson's disease. Attributes of this relationship are:\\n(1) 'source' is ['DrugCentral'] \\nCompound Cycrimine TREATS Parkinson's disease. Attributes of this relationship are:\\n(1) 'source' is ['DrugCentral'] \\nCompound N-Propargyl-1(S)-aminoindan TREATS Parkinson's disease. Attributes of this relationship are:\\n(1) 'source' is ['DrugCentral'] \\nCompound 5-bromo-N-[1-hydroxy-8-oxo-4,7-di(propan-2-yl)-3-oxa-6,9-diazatricyclo[7.3.0.02,6]dodecan-4-yl]-7-methyl-6,6a,8,9-tetrahydro-4H-indolo[4,3-fg]quinoline-9-carboxamide TREATS Parkinson's disease. Attributes of this relationship are:\\n(1) 'source' is ['DrugCentral'] \\nCompound (2S)-1-(3,3-dimethyl-2-oxopentanoyl)pyrrolidine-2-carboxylic acid TREATS Parkinson's disease. Attributes of this relationship are:\\n(1) 'phase' is 2 (2) 'sources' is ['ChEMBL'] \\nCompound Clarithromycin TREATS Parkinson's disease. Attributes of this relationship are:\\n(1) 'phase' is 1 (2) 'sources' is ['ChEMBL'] \\nCompound Clenbuterol TREATS Parkinson's disease. Attributes of this relationship are:\\n(1) 'phase' is 2 (2) 'sources' is ['ChEMBL'] \\nCompound Traxoprodil TREATS Parkinson's disease. Attributes of this relationship are:\\n(1) 'phase' is 2 (2) 'sources' is ['ChEMBL'] \\nCompound Citalopram TREATS Parkinson's disease. Attributes of this relationship are:\\n(1) 'phase' is 2 (2) 'sources' is ['ChEMBL'] \\nCompound Venlafaxine TREATS Parkinson's disease. Attributes of this relationship are:\\n(1) 'phase' is 3 (2) 'sources' is ['ChEMBL'] \\nCompound Tesofensine TREATS Parkinson's disease. Attributes of this relationship are:\\n(1) 'phase' is 2 (2) 'sources' is ['ChEMBL'] \\nCompound Epigallocatechin Gallate TREATS Parkinson's disease. Attributes of this relationship are:\\n(1) 'phase' is 2 (2) 'sources' is ['ChEMBL'] \\nCompound Profenamine TREATS Parkinson's disease. Attributes of this relationship are:\\n(1) 'phase' is 4 (2) 'sources' is ['ChEMBL'] \\nCompound Preladenant TREATS Parkinson's disease. Attributes of this relationship are:\\n(1) 'phase' is 3 (2) 'sources' is ['ChEMBL'] \\nCompound Exenatide Synthetic TREATS Parkinson's disease. Attributes of this relationship are:\\n(1) 'phase' is 3 (2) 'sources' is ['ChEMBL'] \\nCompound Oxycodone TREATS Parkinson's disease. Attributes of this relationship are:\\n(1) 'phase' is 3 (2) 'sources' is ['ChEMBL'] \\nCompound Tolcapone TREATS Parkinson's disease. Attributes of this relationship are:\\n(1) 'phase' is 4 (2) 'sources' is ['ChEMBL'] (3) 'source' is ['ChEMBL', 'DrugCentral']\", metadata={'node information': \"Disease Parkinson's disease from SPOKE knowledge graph\"}),\n",
       "  0.7497092485427856),\n",
       " (Document(page_content=\"(1) 'phase' is 3 (2) 'sources' is ['ChEMBL'] \\nCompound Rasagiline TREATS Parkinson's disease. Attributes of this relationship are:\\n(1) 'phase' is 4 (2) 'sources' is ['ChEMBL'] (3) 'source' is ['ChEMBL', 'DrugCentral'] \\nCompound Eliprodil TREATS Parkinson's disease. Attributes of this relationship are:\\n(1) 'phase' is 2 (2) 'sources' is ['ChEMBL'] \\nCompound Tropicamide TREATS Parkinson's disease. Attributes of this relationship are:\\n(1) 'phase' is 2 (2) 'sources' is ['ChEMBL'] \\nCompound Selegiline TREATS Parkinson's disease. Attributes of this relationship are:\\n(1) 'phase' is 4 (2) 'sources' is ['ChEMBL'] (3) 'source' is ['ChEMBL', 'DrugCentral'] \\nCompound Tozadenant TREATS Parkinson's disease. Attributes of this relationship are:\\n(1) 'phase' is 3 (2) 'sources' is ['ChEMBL'] \\nCompound Naloxone TREATS Parkinson's disease. Attributes of this relationship are:\\n(1) 'phase' is 3 (2) 'sources' is ['ChEMBL'] \\nCompound Methylphenidate TREATS Parkinson's disease. Attributes of this relationship are:\\n(1) 'phase' is 2 (2) 'sources' is ['ChEMBL'] \\nCompound Cesamet TREATS Parkinson's disease. Attributes of this relationship are:\\n(1) 'phase' is 3 (2) 'sources' is ['ChEMBL'] \\nCompound Ambroxol TREATS Parkinson's disease. Attributes of this relationship are:\\n(1) 'phase' is 2 (2) 'sources' is ['ChEMBL'] \\nCompound Simvastatin TREATS Parkinson's disease. Attributes of this relationship are:\\n(1) 'phase' is 2 (2) 'sources' is ['ChEMBL'] \\nCompound Istradefylline TREATS Parkinson's disease. Attributes of this relationship are:\\n(1) 'phase' is 4 (2) 'sources' is ['ChEMBL'] (3) 'source' is ['ChEMBL', 'DrugCentral'] \\nCompound Glutathione TREATS Parkinson's disease. Attributes of this relationship are:\\n(1) 'phase' is 2 (2) 'sources' is ['ChEMBL'] \\nCompound Rosuvastatin TREATS Parkinson's disease. Attributes of this relationship are:\\n(1) 'phase' is 1 (2) 'sources' is ['ChEMBL'] \\nCompound Rotigotine TREATS Parkinson's disease. Attributes of this relationship are:\\n(1) 'phase' is 4 (2) 'sources' is ['ChEMBL'] (3) 'source' is ['ChEMBL', 'DrugCentral'] \\nCompound Acetylcysteine TREATS Parkinson's disease. Attributes of this relationship are:\\n(1) 'phase' is 2 (2) 'sources' is ['ChEMBL'] \\nCompound Cannabinol TREATS Parkinson's disease. Attributes of this relationship are:\\n(1) 'phase' is 2 (2) 'sources' is ['ChEMBL'] \\nDisease neurodegenerative disease RESEMBLES Parkinson's disease. Attributes of this relationship are:\\n(1) 'enrichment' is 43406.57777777778 (2) 'odds' is 78131.04 (3) 'source' is NCBI PubMed (4) 'cooccur' is 5 (5) 'fisher' is 5.643615242447997e-23 \\nCompound Bethanechol CONTRAINDICATES Parkinson's disease. Attributes of this relationship are:\\n(1) 'source' is ['DrugCentral'] \\nEND OF NODE CONTEXT\", metadata={'node information': \"Disease Parkinson's disease from SPOKE knowledge graph\"}),\n",
       "  0.8107167482376099),\n",
       " (Document(page_content=\"(1) 'phase' is 4 (2) 'sources' is ['ChEMBL'] \\nCompound Benserazide TREATS Parkinson's disease. Attributes of this relationship are:\\n(1) 'phase' is 3 (2) 'sources' is ['ChEMBL'] \\nCompound 2,4-Pentadienoic acid, 3-methyl-5-((1S,2S)-2-methyl-2-(5,6,7,8-tetrahydro-5,5,8,8-tetramethyl-2-naphthalenyl)cyclopropyl)-, (2E,4E)- TREATS Parkinson's disease. Attributes of this relationship are:\\n(1) 'phase' is 1 (2) 'sources' is ['ChEMBL'] \\nCompound Pioglitazone TREATS Parkinson's disease. Attributes of this relationship are:\\n(1) 'phase' is 2 (2) 'sources' is ['ChEMBL'] \\nCompound Bromocriptine TREATS Parkinson's disease. Attributes of this relationship are:\\n(1) 'phase' is 4 (2) 'sources' is ['ChEMBL'] (3) 'source' is ['ChEMBL', 'DrugCentral'] \\nCompound Terazosin TREATS Parkinson's disease. Attributes of this relationship are:\\n(1) 'phase' is 1 (2) 'sources' is ['ChEMBL'] \\nCompound Amantadine TREATS Parkinson's disease. Attributes of this relationship are:\\n(1) 'phase' is 4 (2) 'sources' is ['ChEMBL'] (3) 'source' is ['ChEMBL', 'DrugCentral'] \\nCompound Nicotine TREATS Parkinson's disease. Attributes of this relationship are:\\n(1) 'phase' is 2 (2) 'sources' is ['ChEMBL'] \\nCompound Pyridostigmine TREATS Parkinson's disease. Attributes of this relationship are:\\n(1) 'phase' is 2 (2) 'sources' is ['ChEMBL'] \\nCompound 3,9-Bis((ethylthio)methyl)-K-252a TREATS Parkinson's disease. Attributes of this relationship are:\\n(1) 'phase' is 2 (2) 'sources' is ['ChEMBL'] \\nCompound Rifaximin TREATS Parkinson's disease. Attributes of this relationship are:\\n(1) 'phase' is 3 (2) 'sources' is ['ChEMBL'] \\nCompound Resveratrol TREATS Parkinson's disease. Attributes of this relationship are:\\n(1) 'phase' is 1 (2) 'sources' is ['ChEMBL'] \\nCompound Minocycline TREATS Parkinson's disease. Attributes of this relationship are:\\n(1) 'phase' is 2 (2) 'sources' is ['ChEMBL'] \\nCompound ITI214 free base TREATS Parkinson's disease. Attributes of this relationship are:\\n(1) 'phase' is 1 (2) 'sources' is ['ChEMBL'] \\nCompound Trihexyphenidyl TREATS Parkinson's disease. Attributes of this relationship are:\\n(1) 'phase' is 4 (2) 'sources' is ['ChEMBL'] (3) 'source' is ['ChEMBL', 'DrugCentral'] \\nCompound Droxidopa TREATS Parkinson's disease. Attributes of this relationship are:\\n(1) 'phase' is 2 (2) 'sources' is ['ChEMBL'] (3) 'source' is ['ChEMBL', 'DrugCentral'] \\nCompound Topiramate TREATS Parkinson's disease. Attributes of this relationship are:\\n(1) 'phase' is 2 (2) 'sources' is ['ChEMBL'] \\nCompound Donepezil TREATS Parkinson's disease. Attributes of this relationship are:\\n(1) 'phase' is 3 (2) 'sources' is ['ChEMBL'] \\nCompound Blarcamesine TREATS Parkinson's disease. Attributes of this relationship are:\\n(1) 'phase' is 2 (2) 'sources' is ['ChEMBL'] \\nCompound Muscimol TREATS Parkinson's disease. Attributes of this relationship are:\\n(1) 'phase' is 1 (2) 'sources' is ['ChEMBL'] \\nCompound Cannabidiol TREATS Parkinson's disease. Attributes of this relationship are:\\n(1) 'phase' is 2 (2) 'sources' is ['ChEMBL']\", metadata={'node information': \"Disease Parkinson's disease from SPOKE knowledge graph\"}),\n",
       "  0.8336966633796692)]"
      ]
     },
     "execution_count": 47,
     "metadata": {},
     "output_type": "execute_result"
    }
   ],
   "source": [
    "vectorstore.as_retriever(search_type=\"mmr\", search_kwargs={\"fetch_k\": 40, \"lambda_mult\":0.2, \"k\":2})\n",
    "\n",
    "vectorstore.similarity_search_with_score(question, search_type=\"mmr\")\n"
   ]
  },
  {
   "cell_type": "code",
   "execution_count": 27,
   "id": "4f673123-bb92-48c6-80d6-1781f2616ad9",
   "metadata": {},
   "outputs": [
    {
     "data": {
      "text/plain": [
       "['_Chroma__query_collection',\n",
       " '_LANGCHAIN_DEFAULT_COLLECTION_NAME',\n",
       " '__abstractmethods__',\n",
       " '__annotations__',\n",
       " '__class__',\n",
       " '__delattr__',\n",
       " '__dict__',\n",
       " '__dir__',\n",
       " '__doc__',\n",
       " '__eq__',\n",
       " '__format__',\n",
       " '__ge__',\n",
       " '__getattribute__',\n",
       " '__gt__',\n",
       " '__hash__',\n",
       " '__init__',\n",
       " '__init_subclass__',\n",
       " '__le__',\n",
       " '__lt__',\n",
       " '__module__',\n",
       " '__ne__',\n",
       " '__new__',\n",
       " '__reduce__',\n",
       " '__reduce_ex__',\n",
       " '__repr__',\n",
       " '__setattr__',\n",
       " '__sizeof__',\n",
       " '__slots__',\n",
       " '__str__',\n",
       " '__subclasshook__',\n",
       " '__weakref__',\n",
       " '_abc_impl',\n",
       " '_client',\n",
       " '_client_settings',\n",
       " '_collection',\n",
       " '_cosine_relevance_score_fn',\n",
       " '_embedding_function',\n",
       " '_euclidean_relevance_score_fn',\n",
       " '_get_retriever_tags',\n",
       " '_max_inner_product_relevance_score_fn',\n",
       " '_persist_directory',\n",
       " '_select_relevance_score_fn',\n",
       " '_similarity_search_with_relevance_scores',\n",
       " 'aadd_documents',\n",
       " 'aadd_texts',\n",
       " 'add_documents',\n",
       " 'add_texts',\n",
       " 'afrom_documents',\n",
       " 'afrom_texts',\n",
       " 'amax_marginal_relevance_search',\n",
       " 'amax_marginal_relevance_search_by_vector',\n",
       " 'as_retriever',\n",
       " 'asearch',\n",
       " 'asimilarity_search',\n",
       " 'asimilarity_search_by_vector',\n",
       " 'asimilarity_search_with_relevance_scores',\n",
       " 'delete',\n",
       " 'delete_collection',\n",
       " 'embeddings',\n",
       " 'from_documents',\n",
       " 'from_texts',\n",
       " 'get',\n",
       " 'max_marginal_relevance_search',\n",
       " 'max_marginal_relevance_search_by_vector',\n",
       " 'override_relevance_score_fn',\n",
       " 'persist',\n",
       " 'search',\n",
       " 'similarity_search',\n",
       " 'similarity_search_by_vector',\n",
       " 'similarity_search_by_vector_with_relevance_scores',\n",
       " 'similarity_search_with_relevance_scores',\n",
       " 'similarity_search_with_score',\n",
       " 'update_document',\n",
       " 'update_documents']"
      ]
     },
     "execution_count": 27,
     "metadata": {},
     "output_type": "execute_result"
    }
   ],
   "source": [
    "dir(vectorstore)\n"
   ]
  },
  {
   "cell_type": "code",
   "execution_count": null,
   "id": "bc986d13-5993-4e65-a9b1-0d9bd8d0f4f8",
   "metadata": {},
   "outputs": [],
   "source": [
    "# Configuring RAG\n",
    "\n",
    "template = \"\"\"Use the following pieces of context to answer the question at the end and also to return the provenance. \n",
    "If you don't know the answer, just say that you don't know, don't try to make up an answer.   \n",
    "{context}\n",
    "Question: {question}\n",
    "Helpful Answer:\"\"\"\n",
    "\n",
    "QA_CHAIN_PROMPT = PromptTemplate(\n",
    "    input_variables=[\"context\", \"question\"],\n",
    "    template=template,\n",
    ")\n",
    "\n",
    "llm = Ollama(base_url=\"http://localhost:11434\",\n",
    "             model=\"llama2:13b\",\n",
    "             temperature=0.01,\n",
    "             verbose=True,\n",
    "             callback_manager=CallbackManager([StreamingStdOutCallbackHandler()]))\n",
    "\n",
    "\n",
    "qa_chain = RetrievalQA.from_chain_type(\n",
    "    llm,\n",
    "    retriever=vectorstore.as_retriever(search_type=\"mmr\", search_kwargs={\"fetch_k\": 30, \"lambda_mult\":0.5, \"k\":1}),\n",
    "    chain_type_kwargs={\"prompt\": QA_CHAIN_PROMPT},\n",
    "    return_source_documents=True\n",
    ")\n",
    "\n"
   ]
  }
 ],
 "metadata": {
  "kernelspec": {
   "display_name": "Python 3 (ipykernel)",
   "language": "python",
   "name": "python3"
  },
  "language_info": {
   "codemirror_mode": {
    "name": "ipython",
    "version": 3
   },
   "file_extension": ".py",
   "mimetype": "text/x-python",
   "name": "python",
   "nbconvert_exporter": "python",
   "pygments_lexer": "ipython3",
   "version": "3.10.9"
  }
 },
 "nbformat": 4,
 "nbformat_minor": 5
}
