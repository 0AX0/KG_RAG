{
 "cells": [
  {
   "cell_type": "code",
   "execution_count": 1,
   "id": "bb62cb87",
   "metadata": {},
   "outputs": [],
   "source": [
    "import pickle\n",
    "from langchain.text_splitter import CharacterTextSplitter\n",
    "from langchain.embeddings.sentence_transformer import SentenceTransformerEmbeddings\n",
    "\n",
    "from transformers import AutoTokenizer\n",
    "import numpy as np\n"
   ]
  },
  {
   "cell_type": "code",
   "execution_count": 3,
   "id": "3ec97d5e",
   "metadata": {},
   "outputs": [],
   "source": [
    "TEXTUAL_DATA_PATH = \"../data/disease_resembles_disease_textual_knowledge.pickle\"\n"
   ]
  },
  {
   "cell_type": "code",
   "execution_count": 18,
   "id": "12d4831f",
   "metadata": {},
   "outputs": [],
   "source": [
    "with open(TEXTUAL_DATA_PATH, \"rb\") as f:\n",
    "    textual_knowledge = pickle.load(f)\n",
    "\n",
    "textual_knowledge = textual_knowledge[0:100]"
   ]
  },
  {
   "cell_type": "code",
   "execution_count": 62,
   "id": "ec12c297",
   "metadata": {},
   "outputs": [
    {
     "name": "stdout",
     "output_type": "stream",
     "text": [
      "mean = 643.55\n",
      "min = 612\n",
      "max = 676\n",
      "min = 134\n",
      "max = 167\n",
      "CPU times: user 82 ms, sys: 11.3 ms, total: 93.3 ms\n",
      "Wall time: 199 ms\n"
     ]
    }
   ],
   "source": [
    "%%time\n",
    "\n",
    "tokenizer = AutoTokenizer.from_pretrained('sentence-transformers/all-MiniLM-L6-v2')\n",
    "\n",
    "count_list = []\n",
    "token_list = []\n",
    "for item in textual_knowledge:    \n",
    "    tokens = tokenizer.tokenize(item)\n",
    "    token_list.append(len(tokens))\n",
    "    count_list.append(len(item))\n",
    "\n",
    "print(\"mean =\", np.mean(count_list))\n",
    "print(\"min =\", np.min(count_list))\n",
    "print(\"max =\", np.max(count_list))\n",
    "\n",
    "print(\"min =\", np.min(token_list))\n",
    "print(\"max =\", np.max(token_list))"
   ]
  },
  {
   "cell_type": "code",
   "execution_count": 71,
   "id": "baac12c7",
   "metadata": {},
   "outputs": [],
   "source": [
    "text_splitter = CharacterTextSplitter(chunk_size=1000, chunk_overlap=10, separator=\" \")\n",
    "docs = text_splitter.create_documents(textual_knowledge)\n"
   ]
  },
  {
   "cell_type": "code",
   "execution_count": null,
   "id": "89bc3756",
   "metadata": {},
   "outputs": [],
   "source": [
    "embedding_function = SentenceTransformerEmbeddings(model_name=\"all-MiniLM-L6-v2\")\n"
   ]
  },
  {
   "cell_type": "code",
   "execution_count": 3,
   "id": "81040f32",
   "metadata": {},
   "outputs": [],
   "source": [
    "from langchain.embeddings import HuggingFaceEmbeddings"
   ]
  },
  {
   "cell_type": "code",
   "execution_count": null,
   "id": "b27ed17b",
   "metadata": {},
   "outputs": [],
   "source": [
    "embeddings = HuggingFaceEmbeddings(model_name=\"all-MiniLM-L6-v2\")"
   ]
  },
  {
   "cell_type": "code",
   "execution_count": null,
   "id": "e0d2fe64",
   "metadata": {},
   "outputs": [],
   "source": [
    "embeddings = HuggingFaceEmbeddings(model_name=\"sentence-transformers/all-MiniLM-L6-v2\")"
   ]
  },
  {
   "cell_type": "code",
   "execution_count": 1,
   "id": "1da90c31",
   "metadata": {},
   "outputs": [],
   "source": [
    "from transformers import AutoTokenizer, AutoModel"
   ]
  },
  {
   "cell_type": "code",
   "execution_count": null,
   "id": "cc51d00a",
   "metadata": {},
   "outputs": [
    {
     "data": {
      "application/vnd.jupyter.widget-view+json": {
       "model_id": "069fbd81b007483e838202e13048713b",
       "version_major": 2,
       "version_minor": 0
      },
      "text/plain": [
       "Downloading (…)lve/main/config.json:   0%|          | 0.00/612 [00:00<?, ?B/s]"
      ]
     },
     "metadata": {},
     "output_type": "display_data"
    }
   ],
   "source": [
    "model = AutoModel.from_pretrained('sentence-transformers/all-MiniLM-L6-v2')"
   ]
  },
  {
   "cell_type": "code",
   "execution_count": null,
   "id": "0db5375f",
   "metadata": {},
   "outputs": [],
   "source": []
  }
 ],
 "metadata": {
  "kernelspec": {
   "display_name": "Python 3 (ipykernel)",
   "language": "python",
   "name": "python3"
  },
  "language_info": {
   "codemirror_mode": {
    "name": "ipython",
    "version": 3
   },
   "file_extension": ".py",
   "mimetype": "text/x-python",
   "name": "python",
   "nbconvert_exporter": "python",
   "pygments_lexer": "ipython3",
   "version": "3.10.9"
  }
 },
 "nbformat": 4,
 "nbformat_minor": 5
}
