{
 "cells": [
  {
   "cell_type": "code",
   "execution_count": 54,
   "id": "d293968f",
   "metadata": {},
   "outputs": [],
   "source": [
    "import chromadb\n",
    "import pickle"
   ]
  },
  {
   "cell_type": "code",
   "execution_count": 57,
   "id": "ede72d9e",
   "metadata": {},
   "outputs": [],
   "source": [
    "TEXTUAL_DATA_PATH = \"../data/disease_gene_textual_knowledge.pickle\"\n"
   ]
  },
  {
   "cell_type": "code",
   "execution_count": 61,
   "id": "c9516586",
   "metadata": {},
   "outputs": [],
   "source": [
    "with open(TEXTUAL_DATA_PATH, \"rb\") as f:\n",
    "    textual_knowledge = pickle.load(f)\n",
    "\n",
    "textual_knowledge = textual_knowledge[0:300]"
   ]
  },
  {
   "cell_type": "code",
   "execution_count": 62,
   "id": "f837769d",
   "metadata": {},
   "outputs": [],
   "source": [
    "# Persistent client\n",
    "\n",
    "db_name = \"disease_gene_knowledge\"\n",
    "metadata_name = \"disease_gene_knowledge_from_spoke\"\n",
    "client = chromadb.PersistentClient(path=\"../data/chroma_{}\".format(db_name))\n",
    "collection = client.create_collection(db_name)\n",
    "collection.add(\n",
    "    ids=[str(i) for i in range(0, len(textual_knowledge))], \n",
    "    documents=textual_knowledge,\n",
    "    metadatas=[{\"type\": metadata_name} for _ in range(0, len(textual_knowledge))]\n",
    ")"
   ]
  },
  {
   "cell_type": "code",
   "execution_count": 24,
   "id": "255a6429",
   "metadata": {},
   "outputs": [],
   "source": [
    "# Ephemeral client\n",
    "\n",
    "# db_name = \"disease_gene_knowledge\"\n",
    "# metadata_name = \"disease_gene_knowledge_from_spoke\"\n",
    "# client = chromadb.Client()\n",
    "# collection = client.create_collection(db_name)\n",
    "# collection.add(\n",
    "#     ids=[str(i) for i in range(0, len(textual_knowledge))], \n",
    "#     documents=textual_knowledge,\n",
    "#     metadatas=[{\"type\": metadata_name} for _ in range(0, len(textual_knowledge))]\n",
    "# )"
   ]
  },
  {
   "cell_type": "code",
   "execution_count": 60,
   "id": "bfde3f93",
   "metadata": {},
   "outputs": [],
   "source": [
    "\n",
    "# client.delete_collection(name=db_name)\n",
    "# client.list_collections()"
   ]
  },
  {
   "cell_type": "code",
   "execution_count": 52,
   "id": "944d9343",
   "metadata": {},
   "outputs": [],
   "source": [
    "results = collection.query(\n",
    "    query_texts=[\"Do you know about glucose related disease?\"],\n",
    "    n_results=1)\n"
   ]
  },
  {
   "cell_type": "code",
   "execution_count": 53,
   "id": "e87bb214",
   "metadata": {},
   "outputs": [
    {
     "data": {
      "text/plain": [
       "{'ids': [['6']],\n",
       " 'distances': [[1.1072838306427002]],\n",
       " 'metadatas': [[{'type': 'disease_gene_knowledge_from_spoke'}]],\n",
       " 'embeddings': None,\n",
       " 'documents': [['Disease glycogen storage disease II ASSOCIATES with Gene GAA. This association is from the source database DISEASES. Based on the source database, this association has a confidence score of 3.58']]}"
      ]
     },
     "execution_count": 53,
     "metadata": {},
     "output_type": "execute_result"
    }
   ],
   "source": [
    "results"
   ]
  },
  {
   "cell_type": "code",
   "execution_count": 51,
   "id": "0b66de95",
   "metadata": {},
   "outputs": [
    {
     "data": {
      "text/plain": [
       "'Disease glycogen storage disease II ASSOCIATES with Gene MGAM. This association is from the source database DISEASES. Based on the source database, this association has a confidence score of 3.671'"
      ]
     },
     "execution_count": 51,
     "metadata": {},
     "output_type": "execute_result"
    }
   ],
   "source": [
    "textual_knowledge[12]"
   ]
  },
  {
   "cell_type": "code",
   "execution_count": null,
   "id": "e3117100",
   "metadata": {},
   "outputs": [],
   "source": []
  }
 ],
 "metadata": {
  "kernelspec": {
   "display_name": "Python 3 (ipykernel)",
   "language": "python",
   "name": "python3"
  },
  "language_info": {
   "codemirror_mode": {
    "name": "ipython",
    "version": 3
   },
   "file_extension": ".py",
   "mimetype": "text/x-python",
   "name": "python",
   "nbconvert_exporter": "python",
   "pygments_lexer": "ipython3",
   "version": "3.10.9"
  }
 },
 "nbformat": 4,
 "nbformat_minor": 5
}
