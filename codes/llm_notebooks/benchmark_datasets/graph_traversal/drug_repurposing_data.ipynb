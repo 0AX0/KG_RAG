{
 "cells": [
  {
   "cell_type": "code",
   "execution_count": 20,
   "id": "0026eb23",
   "metadata": {},
   "outputs": [],
   "source": [
    "import pandas as pd\n",
    "import os\n",
    "from tqdm import tqdm\n",
    "from dotenv import load_dotenv\n",
    "from neo4j import GraphDatabase, basic_auth\n"
   ]
  },
  {
   "cell_type": "code",
   "execution_count": 2,
   "id": "db908d18",
   "metadata": {},
   "outputs": [],
   "source": [
    "load_dotenv(os.path.join(os.path.expanduser('~'), '.neo4j_config.env'))\n",
    "USER = os.environ.get('SPOKE_USER')\n",
    "PSW = os.environ.get('SPOKE_PSW')\n",
    "URI = os.environ.get('SPOKE_URI')\n"
   ]
  },
  {
   "cell_type": "code",
   "execution_count": 3,
   "id": "03589410",
   "metadata": {},
   "outputs": [
    {
     "name": "stdout",
     "output_type": "stream",
     "text": [
      "CPU times: user 140 ms, sys: 28.4 ms, total: 169 ms\n",
      "Wall time: 8.67 s\n"
     ]
    }
   ],
   "source": [
    "%%time\n",
    "\n",
    "DISEASE_QUERY = \"\"\"\n",
    "    MATCH(d:Disease)-[r:ASSOCIATES_DaG]->(g:Gene)\n",
    "    WHERE r.diseases_sources <> [\"textmining\"]\n",
    "    RETURN DISTINCT d.identifier AS d_id, d.name AS d_name\n",
    "\"\"\"\n",
    "\n",
    "auth = basic_auth(USER, PSW)\n",
    "sdb = GraphDatabase.driver(URI, auth=auth)\n",
    "\n",
    "disease_list = []\n",
    "with sdb.session() as session:\n",
    "    with session.begin_transaction() as tx:\n",
    "        result = tx.run(DISEASE_QUERY)\n",
    "        for row in result:\n",
    "            disease_list.append((row[\"d_id\"], row[\"d_name\"]))\n",
    "\n",
    "disease_df = pd.DataFrame(disease_list, columns=[\"disease_id\", \"disease_name\"])\n",
    "disease_id_list = list(disease_df.disease_id.values)\n"
   ]
  },
  {
   "cell_type": "code",
   "execution_count": 36,
   "id": "3229497d",
   "metadata": {},
   "outputs": [
    {
     "name": "stdout",
     "output_type": "stream",
     "text": [
      "CPU times: user 466 ms, sys: 56.6 ms, total: 523 ms\n",
      "Wall time: 1.35 s\n"
     ]
    }
   ],
   "source": [
    "%%time\n",
    "\n",
    "QUERY = \"\"\"\n",
    "    MATCH(c:Compound)-[r:TREATS_CtD]->(d1:Disease)-[:RESEMBLES_DrD]-(d2:Disease) \n",
    "    WHERE r.phase>=3 AND NOT EXISTS((c)-[:TREATS_CtD]->(d2)) AND d1.identifier IN {}\n",
    "    RETURN c.name as c_name, d1.name AS d1_name, d2.name AS d2_name LIMIT 20000\n",
    "\"\"\".format(disease_id_list)\n",
    "\n",
    "auth = basic_auth(USER, PSW)\n",
    "sdb = GraphDatabase.driver(URI, auth=auth)\n",
    "edge_list = []\n",
    "with sdb.session() as session:\n",
    "    with session.begin_transaction() as tx:\n",
    "        result = tx.run(QUERY)\n",
    "        for row in result:\n",
    "            edge_list.append((row[\"c_name\"], row[\"d1_name\"], row[\"d2_name\"]))\n",
    "\n",
    "drug_repurp_df = pd.DataFrame(edge_list, columns=[\"compound\", \"disease_1\", \"disease_2\"])\n",
    "\n"
   ]
  },
  {
   "cell_type": "code",
   "execution_count": 53,
   "id": "23af28e5",
   "metadata": {
    "scrolled": true
   },
   "outputs": [
    {
     "data": {
      "text/plain": [
       "(143, 4)"
      ]
     },
     "execution_count": 53,
     "metadata": {},
     "output_type": "execute_result"
    }
   ],
   "source": [
    "\n",
    "result_df = drug_repurp_df.groupby(\"disease_1\").agg({\n",
    "    'compound': list,\n",
    "    'disease_2': list\n",
    "}).reset_index()\n",
    "\n",
    "result_df.rename(columns={'compound': 'Compounds', 'disease_2': 'Diseases'}, inplace=True)\n",
    "result_df['Compounds'] = result_df['Compounds'].apply(lambda x: list(set(x)))\n",
    "result_df['Diseases'] = result_df['Diseases'].apply(lambda x: list(set(x)))\n",
    "result_df.loc[:, \"text\"] = \"What compounds treat '\" + result_df.disease_1 + \"' and what diseases resemble '\" + result_df.disease_1 + \"'?\"\n",
    "result_df.shape\n",
    "\n"
   ]
  },
  {
   "cell_type": "code",
   "execution_count": 60,
   "id": "5ae4c790",
   "metadata": {},
   "outputs": [
    {
     "data": {
      "text/plain": [
       "Index(['disease_1', 'Compounds', 'Diseases', 'text'], dtype='object')"
      ]
     },
     "execution_count": 60,
     "metadata": {},
     "output_type": "execute_result"
    }
   ],
   "source": [
    "result_df.columns"
   ]
  },
  {
   "cell_type": "code",
   "execution_count": 59,
   "id": "a7d1d945",
   "metadata": {},
   "outputs": [],
   "source": [
    "result_df.to_csv(\"../../../../data/benchmark_datasets/one_hop_graph_traversal_questions.csv\", index=False, header=True)\n"
   ]
  },
  {
   "cell_type": "markdown",
   "id": "7b119993",
   "metadata": {},
   "source": [
    "### Changing the formatting of questions from 75th index onwards (Because questions until 75 are used for hyperparameter analysis)\n",
    "\n"
   ]
  },
  {
   "cell_type": "code",
   "execution_count": 43,
   "id": "ed0a31dd",
   "metadata": {},
   "outputs": [],
   "source": [
    "result_df = pd.read_csv(\"../../../../data/benchmark_datasets/one_hop_graph_traversal_questions.csv\")\n",
    "result_df = result_df.iloc[75:]\n",
    "result_df.drop(\"text\", axis=1, inplace=True)\n",
    "result_df.loc[:, \"text\"] = \"What are the drugs that treat '\" + result_df.disease_1 + \"'? And what diseases can these drugs be repurposed to? To answer the second question, find all diseases that resemble to '\" + result_df.disease_1 + \"'.\"\n",
    "\n",
    "result_df.to_csv(\"../../../../data/benchmark_datasets/drug_repurposing_questions.csv\", index=False, header=True)\n"
   ]
  },
  {
   "cell_type": "code",
   "execution_count": 44,
   "id": "e4d01b55",
   "metadata": {},
   "outputs": [
    {
     "data": {
      "text/plain": [
       "\"What are the drugs that treat 'hepatobiliary disease'? And what diseases can these drugs be repurposed to? To answer the second question, find all diseases that resemble to 'hepatobiliary disease'.\""
      ]
     },
     "execution_count": 44,
     "metadata": {},
     "output_type": "execute_result"
    }
   ],
   "source": [
    "result_df.iloc[2].text\n",
    "\n",
    "    "
   ]
  },
  {
   "cell_type": "code",
   "execution_count": 45,
   "id": "23197dec",
   "metadata": {},
   "outputs": [
    {
     "data": {
      "text/html": [
       "<div>\n",
       "<style scoped>\n",
       "    .dataframe tbody tr th:only-of-type {\n",
       "        vertical-align: middle;\n",
       "    }\n",
       "\n",
       "    .dataframe tbody tr th {\n",
       "        vertical-align: top;\n",
       "    }\n",
       "\n",
       "    .dataframe thead th {\n",
       "        text-align: right;\n",
       "    }\n",
       "</style>\n",
       "<table border=\"1\" class=\"dataframe\">\n",
       "  <thead>\n",
       "    <tr style=\"text-align: right;\">\n",
       "      <th></th>\n",
       "      <th>disease_1</th>\n",
       "      <th>Compounds</th>\n",
       "      <th>Diseases</th>\n",
       "      <th>text</th>\n",
       "    </tr>\n",
       "  </thead>\n",
       "  <tbody>\n",
       "    <tr>\n",
       "      <th>75</th>\n",
       "      <td>hemolytic-uremic syndrome</td>\n",
       "      <td>['ECULIZUMAB', 'GALASOMITE', 'RAVULIZUMAB']</td>\n",
       "      <td>['HELLP syndrome', 'membranoproliferative glom...</td>\n",
       "      <td>What are the drugs that treat 'hemolytic-uremi...</td>\n",
       "    </tr>\n",
       "    <tr>\n",
       "      <th>76</th>\n",
       "      <td>hemophagocytic lymphohistiocytosis</td>\n",
       "      <td>['Methylprednisolone', 'Ruxolitinib', 'GLOBULI...</td>\n",
       "      <td>['Crimean-Congo hemorrhagic fever', 'histoplas...</td>\n",
       "      <td>What are the drugs that treat 'hemophagocytic ...</td>\n",
       "    </tr>\n",
       "    <tr>\n",
       "      <th>77</th>\n",
       "      <td>hepatobiliary disease</td>\n",
       "      <td>['Dexmedetomidine', 'Oxyphencyclimine', 'Otilo...</td>\n",
       "      <td>['splenic disease', 'gastrointestinal system c...</td>\n",
       "      <td>What are the drugs that treat 'hepatobiliary d...</td>\n",
       "    </tr>\n",
       "    <tr>\n",
       "      <th>78</th>\n",
       "      <td>hereditary hemorrhagic telangiectasia</td>\n",
       "      <td>['BEVACIZUMAB', 'Propranolol', 'Mupirocin', 'S...</td>\n",
       "      <td>['hepatopulmonary syndrome', 'Coats disease', ...</td>\n",
       "      <td>What are the drugs that treat 'hereditary hemo...</td>\n",
       "    </tr>\n",
       "    <tr>\n",
       "      <th>79</th>\n",
       "      <td>hereditary lymphedema I</td>\n",
       "      <td>['ZINC hydrate', 'Fibrin']</td>\n",
       "      <td>['elephantiasis', 'hypotrichosis', 'immunodefi...</td>\n",
       "      <td>What are the drugs that treat 'hereditary lymp...</td>\n",
       "    </tr>\n",
       "    <tr>\n",
       "      <th>...</th>\n",
       "      <td>...</td>\n",
       "      <td>...</td>\n",
       "      <td>...</td>\n",
       "      <td>...</td>\n",
       "    </tr>\n",
       "    <tr>\n",
       "      <th>138</th>\n",
       "      <td>urea cycle disorder</td>\n",
       "      <td>['4-Phenylbutyric acid', 'Glycerol phenylbutyr...</td>\n",
       "      <td>['autosomal dominant osteopetrosis 2', 'hypera...</td>\n",
       "      <td>What are the drugs that treat 'urea cycle diso...</td>\n",
       "    </tr>\n",
       "    <tr>\n",
       "      <th>139</th>\n",
       "      <td>urinary bladder cancer</td>\n",
       "      <td>['Valrubicin', 'Vinblastine', 'Lenvatinib', 'S...</td>\n",
       "      <td>['transitional cell carcinoma']</td>\n",
       "      <td>What are the drugs that treat 'urinary bladder...</td>\n",
       "    </tr>\n",
       "    <tr>\n",
       "      <th>140</th>\n",
       "      <td>vascular disease</td>\n",
       "      <td>['Clopidogrel', 'Oxygen', 'Aspirin', 'Ambrisen...</td>\n",
       "      <td>['aortic aneurysm', 'anterior spinal artery sy...</td>\n",
       "      <td>What are the drugs that treat 'vascular diseas...</td>\n",
       "    </tr>\n",
       "    <tr>\n",
       "      <th>141</th>\n",
       "      <td>viral infectious disease</td>\n",
       "      <td>['Abacavir', 'Podofilox', 'Amenamevir', 'Falda...</td>\n",
       "      <td>['tick-borne encephalitis', 'Crimean-Congo hem...</td>\n",
       "      <td>What are the drugs that treat 'viral infectiou...</td>\n",
       "    </tr>\n",
       "    <tr>\n",
       "      <th>142</th>\n",
       "      <td>von Willebrand's disease</td>\n",
       "      <td>['VONICOG ALFA', 'HUMAN COAGULATION FACTOR VII...</td>\n",
       "      <td>['factor XII deficiency', \"von Willebrand's di...</td>\n",
       "      <td>What are the drugs that treat 'von Willebrand'...</td>\n",
       "    </tr>\n",
       "  </tbody>\n",
       "</table>\n",
       "<p>68 rows × 4 columns</p>\n",
       "</div>"
      ],
      "text/plain": [
       "                                 disease_1  \\\n",
       "75               hemolytic-uremic syndrome   \n",
       "76      hemophagocytic lymphohistiocytosis   \n",
       "77                   hepatobiliary disease   \n",
       "78   hereditary hemorrhagic telangiectasia   \n",
       "79                 hereditary lymphedema I   \n",
       "..                                     ...   \n",
       "138                    urea cycle disorder   \n",
       "139                 urinary bladder cancer   \n",
       "140                       vascular disease   \n",
       "141               viral infectious disease   \n",
       "142               von Willebrand's disease   \n",
       "\n",
       "                                             Compounds  \\\n",
       "75         ['ECULIZUMAB', 'GALASOMITE', 'RAVULIZUMAB']   \n",
       "76   ['Methylprednisolone', 'Ruxolitinib', 'GLOBULI...   \n",
       "77   ['Dexmedetomidine', 'Oxyphencyclimine', 'Otilo...   \n",
       "78   ['BEVACIZUMAB', 'Propranolol', 'Mupirocin', 'S...   \n",
       "79                          ['ZINC hydrate', 'Fibrin']   \n",
       "..                                                 ...   \n",
       "138  ['4-Phenylbutyric acid', 'Glycerol phenylbutyr...   \n",
       "139  ['Valrubicin', 'Vinblastine', 'Lenvatinib', 'S...   \n",
       "140  ['Clopidogrel', 'Oxygen', 'Aspirin', 'Ambrisen...   \n",
       "141  ['Abacavir', 'Podofilox', 'Amenamevir', 'Falda...   \n",
       "142  ['VONICOG ALFA', 'HUMAN COAGULATION FACTOR VII...   \n",
       "\n",
       "                                              Diseases  \\\n",
       "75   ['HELLP syndrome', 'membranoproliferative glom...   \n",
       "76   ['Crimean-Congo hemorrhagic fever', 'histoplas...   \n",
       "77   ['splenic disease', 'gastrointestinal system c...   \n",
       "78   ['hepatopulmonary syndrome', 'Coats disease', ...   \n",
       "79   ['elephantiasis', 'hypotrichosis', 'immunodefi...   \n",
       "..                                                 ...   \n",
       "138  ['autosomal dominant osteopetrosis 2', 'hypera...   \n",
       "139                    ['transitional cell carcinoma']   \n",
       "140  ['aortic aneurysm', 'anterior spinal artery sy...   \n",
       "141  ['tick-borne encephalitis', 'Crimean-Congo hem...   \n",
       "142  ['factor XII deficiency', \"von Willebrand's di...   \n",
       "\n",
       "                                                  text  \n",
       "75   What are the drugs that treat 'hemolytic-uremi...  \n",
       "76   What are the drugs that treat 'hemophagocytic ...  \n",
       "77   What are the drugs that treat 'hepatobiliary d...  \n",
       "78   What are the drugs that treat 'hereditary hemo...  \n",
       "79   What are the drugs that treat 'hereditary lymp...  \n",
       "..                                                 ...  \n",
       "138  What are the drugs that treat 'urea cycle diso...  \n",
       "139  What are the drugs that treat 'urinary bladder...  \n",
       "140  What are the drugs that treat 'vascular diseas...  \n",
       "141  What are the drugs that treat 'viral infectiou...  \n",
       "142  What are the drugs that treat 'von Willebrand'...  \n",
       "\n",
       "[68 rows x 4 columns]"
      ]
     },
     "execution_count": 45,
     "metadata": {},
     "output_type": "execute_result"
    }
   ],
   "source": [
    "result_df"
   ]
  },
  {
   "cell_type": "code",
   "execution_count": 30,
   "id": "0c8a681a",
   "metadata": {},
   "outputs": [
    {
     "name": "stdout",
     "output_type": "stream",
     "text": [
      "What compounds treat 'GM2 gangliosidosis' and what diseases resemble 'GM2 gangliosidosis'?\n",
      "['Miglustat']\n",
      "['lateral sclerosis', 'gangliosidosis', 'motor neuron disease', 'GM1 gangliosidosis', 'anterior horn cell disease', 'Tay-Sachs disease']\n"
     ]
    }
   ],
   "source": [
    "ind = 5\n",
    "print(result_df.text.values[ind])\n",
    "print(result_df.Compounds.values[ind])\n",
    "print(result_df.Diseases.values[ind])\n"
   ]
  },
  {
   "cell_type": "code",
   "execution_count": 17,
   "id": "34614417",
   "metadata": {},
   "outputs": [
    {
     "data": {
      "text/html": [
       "<div>\n",
       "<style scoped>\n",
       "    .dataframe tbody tr th:only-of-type {\n",
       "        vertical-align: middle;\n",
       "    }\n",
       "\n",
       "    .dataframe tbody tr th {\n",
       "        vertical-align: top;\n",
       "    }\n",
       "\n",
       "    .dataframe thead th {\n",
       "        text-align: right;\n",
       "    }\n",
       "</style>\n",
       "<table border=\"1\" class=\"dataframe\">\n",
       "  <thead>\n",
       "    <tr style=\"text-align: right;\">\n",
       "      <th></th>\n",
       "      <th>disease_1</th>\n",
       "      <th>Compounds</th>\n",
       "      <th>Diseases</th>\n",
       "      <th>text</th>\n",
       "      <th>disease_count</th>\n",
       "    </tr>\n",
       "  </thead>\n",
       "  <tbody>\n",
       "    <tr>\n",
       "      <th>19</th>\n",
       "      <td>Sjogren-Larsson syndrome</td>\n",
       "      <td>['2-(3-Amino-6-chloroquinolin-2-yl)propan-2-ol']</td>\n",
       "      <td>['autosomal recessive congenital ichthyosis', ...</td>\n",
       "      <td>What compounds treat 'Sjogren-Larsson syndrome...</td>\n",
       "      <td>3</td>\n",
       "    </tr>\n",
       "    <tr>\n",
       "      <th>61</th>\n",
       "      <td>fatty liver disease</td>\n",
       "      <td>['Saroglitazar', 'Rimonabant', 'Metformin', 'D...</td>\n",
       "      <td>['drug-induced hepatitis', 'hemolytic anemia',...</td>\n",
       "      <td>What compounds treat 'fatty liver disease' and...</td>\n",
       "      <td>3</td>\n",
       "    </tr>\n",
       "    <tr>\n",
       "      <th>115</th>\n",
       "      <td>pituitary adenoma</td>\n",
       "      <td>['Lanreotide acetate', 'Cabergoline', 'Iopamid...</td>\n",
       "      <td>['adamantinous craniopharyngioma', 'craniophar...</td>\n",
       "      <td>What compounds treat 'pituitary adenoma' and w...</td>\n",
       "      <td>3</td>\n",
       "    </tr>\n",
       "  </tbody>\n",
       "</table>\n",
       "</div>"
      ],
      "text/plain": [
       "                    disease_1  \\\n",
       "19   Sjogren-Larsson syndrome   \n",
       "61        fatty liver disease   \n",
       "115         pituitary adenoma   \n",
       "\n",
       "                                             Compounds  \\\n",
       "19    ['2-(3-Amino-6-chloroquinolin-2-yl)propan-2-ol']   \n",
       "61   ['Saroglitazar', 'Rimonabant', 'Metformin', 'D...   \n",
       "115  ['Lanreotide acetate', 'Cabergoline', 'Iopamid...   \n",
       "\n",
       "                                              Diseases  \\\n",
       "19   ['autosomal recessive congenital ichthyosis', ...   \n",
       "61   ['drug-induced hepatitis', 'hemolytic anemia',...   \n",
       "115  ['adamantinous craniopharyngioma', 'craniophar...   \n",
       "\n",
       "                                                  text  disease_count  \n",
       "19   What compounds treat 'Sjogren-Larsson syndrome...              3  \n",
       "61   What compounds treat 'fatty liver disease' and...              3  \n",
       "115  What compounds treat 'pituitary adenoma' and w...              3  "
      ]
     },
     "execution_count": 17,
     "metadata": {},
     "output_type": "execute_result"
    }
   ],
   "source": [
    "import ast\n",
    "result_df.loc[:,\"disease_count\"] = result_df.Diseases.apply(lambda x:len(ast.literal_eval(x)))\n",
    "\n",
    "result_df[result_df.disease_count == 3]\n"
   ]
  },
  {
   "cell_type": "code",
   "execution_count": null,
   "id": "bc9ee750",
   "metadata": {},
   "outputs": [],
   "source": []
  }
 ],
 "metadata": {
  "kernelspec": {
   "display_name": "Python 3 (ipykernel)",
   "language": "python",
   "name": "python3"
  },
  "language_info": {
   "codemirror_mode": {
    "name": "ipython",
    "version": 3
   },
   "file_extension": ".py",
   "mimetype": "text/x-python",
   "name": "python",
   "nbconvert_exporter": "python",
   "pygments_lexer": "ipython3",
   "version": "3.10.9"
  }
 },
 "nbformat": 4,
 "nbformat_minor": 5
}
