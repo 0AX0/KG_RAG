{
 "cells": [
  {
   "cell_type": "code",
   "execution_count": 1,
   "id": "0026eb23",
   "metadata": {},
   "outputs": [],
   "source": [
    "import pandas as pd\n",
    "import os\n",
    "from tqdm import tqdm\n",
    "from dotenv import load_dotenv\n",
    "from neo4j import GraphDatabase, basic_auth\n"
   ]
  },
  {
   "cell_type": "code",
   "execution_count": 2,
   "id": "db908d18",
   "metadata": {},
   "outputs": [],
   "source": [
    "load_dotenv(os.path.join(os.path.expanduser('~'), '.neo4j_config.env'))\n",
    "USER = os.environ.get('SPOKE_USER')\n",
    "PSW = os.environ.get('SPOKE_PSW')\n",
    "URI = os.environ.get('SPOKE_URI')\n"
   ]
  },
  {
   "cell_type": "code",
   "execution_count": 3,
   "id": "03589410",
   "metadata": {},
   "outputs": [
    {
     "name": "stdout",
     "output_type": "stream",
     "text": [
      "CPU times: user 140 ms, sys: 28.4 ms, total: 169 ms\n",
      "Wall time: 8.67 s\n"
     ]
    }
   ],
   "source": [
    "%%time\n",
    "\n",
    "DISEASE_QUERY = \"\"\"\n",
    "    MATCH(d:Disease)-[r:ASSOCIATES_DaG]->(g:Gene)\n",
    "    WHERE r.diseases_sources <> [\"textmining\"]\n",
    "    RETURN DISTINCT d.identifier AS d_id, d.name AS d_name\n",
    "\"\"\"\n",
    "\n",
    "auth = basic_auth(USER, PSW)\n",
    "sdb = GraphDatabase.driver(URI, auth=auth)\n",
    "\n",
    "disease_list = []\n",
    "with sdb.session() as session:\n",
    "    with session.begin_transaction() as tx:\n",
    "        result = tx.run(DISEASE_QUERY)\n",
    "        for row in result:\n",
    "            disease_list.append((row[\"d_id\"], row[\"d_name\"]))\n",
    "\n",
    "disease_df = pd.DataFrame(disease_list, columns=[\"disease_id\", \"disease_name\"])\n",
    "disease_id_list = list(disease_df.disease_id.values)\n"
   ]
  },
  {
   "cell_type": "code",
   "execution_count": 36,
   "id": "3229497d",
   "metadata": {},
   "outputs": [
    {
     "name": "stdout",
     "output_type": "stream",
     "text": [
      "CPU times: user 466 ms, sys: 56.6 ms, total: 523 ms\n",
      "Wall time: 1.35 s\n"
     ]
    }
   ],
   "source": [
    "%%time\n",
    "\n",
    "QUERY = \"\"\"\n",
    "    MATCH(c:Compound)-[r:TREATS_CtD]->(d1:Disease)-[:RESEMBLES_DrD]-(d2:Disease) \n",
    "    WHERE r.phase>=3 AND NOT EXISTS((c)-[:TREATS_CtD]->(d2)) AND d1.identifier IN {}\n",
    "    RETURN c.name as c_name, d1.name AS d1_name, d2.name AS d2_name LIMIT 20000\n",
    "\"\"\".format(disease_id_list)\n",
    "\n",
    "auth = basic_auth(USER, PSW)\n",
    "sdb = GraphDatabase.driver(URI, auth=auth)\n",
    "edge_list = []\n",
    "with sdb.session() as session:\n",
    "    with session.begin_transaction() as tx:\n",
    "        result = tx.run(QUERY)\n",
    "        for row in result:\n",
    "            edge_list.append((row[\"c_name\"], row[\"d1_name\"], row[\"d2_name\"]))\n",
    "\n",
    "drug_repurp_df = pd.DataFrame(edge_list, columns=[\"compound\", \"disease_1\", \"disease_2\"])\n",
    "\n"
   ]
  },
  {
   "cell_type": "code",
   "execution_count": 53,
   "id": "23af28e5",
   "metadata": {
    "scrolled": true
   },
   "outputs": [
    {
     "data": {
      "text/plain": [
       "(143, 4)"
      ]
     },
     "execution_count": 53,
     "metadata": {},
     "output_type": "execute_result"
    }
   ],
   "source": [
    "\n",
    "result_df = drug_repurp_df.groupby(\"disease_1\").agg({\n",
    "    'compound': list,\n",
    "    'disease_2': list\n",
    "}).reset_index()\n",
    "\n",
    "result_df.rename(columns={'compound': 'Compounds', 'disease_2': 'Diseases'}, inplace=True)\n",
    "result_df['Compounds'] = result_df['Compounds'].apply(lambda x: list(set(x)))\n",
    "result_df['Diseases'] = result_df['Diseases'].apply(lambda x: list(set(x)))\n",
    "result_df.loc[:, \"text\"] = \"What compounds treat '\" + result_df.disease_1 + \"' and what diseases resemble '\" + result_df.disease_1 + \"'?\"\n",
    "result_df.shape\n",
    "\n"
   ]
  },
  {
   "cell_type": "code",
   "execution_count": 60,
   "id": "5ae4c790",
   "metadata": {},
   "outputs": [
    {
     "data": {
      "text/plain": [
       "Index(['disease_1', 'Compounds', 'Diseases', 'text'], dtype='object')"
      ]
     },
     "execution_count": 60,
     "metadata": {},
     "output_type": "execute_result"
    }
   ],
   "source": [
    "result_df.columns"
   ]
  },
  {
   "cell_type": "code",
   "execution_count": 59,
   "id": "a7d1d945",
   "metadata": {},
   "outputs": [],
   "source": [
    "result_df.to_csv(\"../../../../data/benchmark_datasets/drug_reporposing_questions.csv\", index=False, header=True)\n"
   ]
  },
  {
   "cell_type": "code",
   "execution_count": 58,
   "id": "0c8a681a",
   "metadata": {},
   "outputs": [
    {
     "name": "stdout",
     "output_type": "stream",
     "text": [
      "What compounds treat 'Fabry disease' and what diseases resemble 'Fabry disease'?\n",
      "['AGALSIDASE BETA', 'Migalastat', 'AGALSIDASE ALFA', 'Lucerastat', 'Venglustat']\n",
      "['familial hypertrophic cardiomyopathy', 'anhidrosis', 'lipid storage disease', 'angiokeratoma', 'glycogen storage disease II', 'lysosomal storage disease', 'erythromelalgia', 'fucosidosis', 'hypohidrosis', 'beta-mannosidosis', 'priapism', 'cerebral amyloid angiopathy', 'proteinuria', 'restrictive cardiomyopathy', 'lipid metabolism disorder', 'mucopolysaccharidosis I', 'GM1 gangliosidosis', \"Gaucher's disease\", 'mucopolysaccharidosis Ih/s', 'MELAS syndrome', 'mucopolysaccharidosis Ih']\n"
     ]
    }
   ],
   "source": [
    "ind = 4\n",
    "print(result_df.text.values[ind])\n",
    "print(result_df.Compounds.values[ind])\n",
    "print(result_df.Diseases.values[ind])\n"
   ]
  }
 ],
 "metadata": {
  "kernelspec": {
   "display_name": "Python 3 (ipykernel)",
   "language": "python",
   "name": "python3"
  },
  "language_info": {
   "codemirror_mode": {
    "name": "ipython",
    "version": 3
   },
   "file_extension": ".py",
   "mimetype": "text/x-python",
   "name": "python",
   "nbconvert_exporter": "python",
   "pygments_lexer": "ipython3",
   "version": "3.10.9"
  }
 },
 "nbformat": 4,
 "nbformat_minor": 5
}
