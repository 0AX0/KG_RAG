{
 "cells": [
  {
   "cell_type": "code",
   "execution_count": 33,
   "id": "4533b87e",
   "metadata": {},
   "outputs": [],
   "source": [
    "import pandas as pd\n",
    "import os\n",
    "from tqdm import tqdm\n",
    "from dotenv import load_dotenv\n",
    "from neo4j import GraphDatabase, basic_auth\n",
    "import random\n"
   ]
  },
  {
   "cell_type": "code",
   "execution_count": 2,
   "id": "f36b97a6",
   "metadata": {},
   "outputs": [],
   "source": [
    "load_dotenv(os.path.join(os.path.expanduser('~'), '.neo4j_config.env'))\n",
    "USER = os.environ.get('SPOKE_USER')\n",
    "PSW = os.environ.get('SPOKE_PSW')\n",
    "URI = os.environ.get('SPOKE_URI')\n"
   ]
  },
  {
   "cell_type": "code",
   "execution_count": 4,
   "id": "91d483e0",
   "metadata": {},
   "outputs": [
    {
     "name": "stdout",
     "output_type": "stream",
     "text": [
      "CPU times: user 563 ms, sys: 79.5 ms, total: 643 ms\n",
      "Wall time: 15.6 s\n"
     ]
    }
   ],
   "source": [
    "%%time\n",
    "\n",
    "DISEASE_QUERY = \"\"\"\n",
    "    MATCH(d:Disease)-[r:ASSOCIATES_DaG]->(g:Gene)\n",
    "    RETURN DISTINCT d.identifier AS d_id, d.name AS d_name\n",
    "\"\"\"\n",
    "\n",
    "auth = basic_auth(USER, PSW)\n",
    "sdb = GraphDatabase.driver(URI, auth=auth)\n",
    "\n",
    "disease_list = []\n",
    "with sdb.session() as session:\n",
    "    with session.begin_transaction() as tx:\n",
    "        result = tx.run(DISEASE_QUERY)\n",
    "        for row in result:\n",
    "            disease_list.append((row[\"d_id\"], row[\"d_name\"]))\n",
    "\n",
    "disease_df = pd.DataFrame(disease_list, columns=[\"disease_id\", \"disease_name\"])\n",
    "disease_id_list = list(disease_df.disease_id.values)\n"
   ]
  },
  {
   "cell_type": "code",
   "execution_count": 125,
   "id": "7ffd22dc",
   "metadata": {},
   "outputs": [],
   "source": [
    "\n",
    "def get_two_hop_data_step_1(central_node, predicate, disease_list, outbound=True):        \n",
    "    if outbound:\n",
    "        TWO_HOP_QUERY = \"\"\"\n",
    "            MATCH(d1:Disease)-[:{}]->(n:{})<-[:{}]-(d2:Disease)\n",
    "            WHERE d1.identifier IN {} AND d2.identifier IN {} AND d1.name <> \"malignant teratoma\" AND d2.name <> \"malignant teratoma\"\n",
    "            RETURN d1.name AS d1_name, n.name AS n_name, d2.name AS d2_name LIMIT 100\n",
    "        \"\"\".format(predicate, central_node, predicate, disease_list, disease_list)\n",
    "    else:\n",
    "        TWO_HOP_QUERY = \"\"\"\n",
    "            MATCH(d1:Disease)<-[:{}]-(n:{})-[:{}]->(d2:Disease)\n",
    "            WHERE d1.identifier IN {} AND d2.identifier IN {} AND d1.name <> \"malignant teratoma\" AND d2.name <> \"malignant teratoma\"\n",
    "            RETURN d1.name AS d1_name, n.name AS n_name, d2.name AS d2_name LIMIT 100\n",
    "        \"\"\".format(predicate, central_node, predicate, disease_list, disease_list)\n",
    "    \n",
    "    auth = basic_auth(USER, PSW)\n",
    "    sdb = GraphDatabase.driver(URI, auth=auth)\n",
    "    edge_list = []\n",
    "    with sdb.session() as session:\n",
    "        with session.begin_transaction() as tx:\n",
    "            result = tx.run(TWO_HOP_QUERY)\n",
    "            for row in result:\n",
    "                edge_list.append((row[\"d1_name\"], row[\"n_name\"], row[\"d2_name\"]))\n",
    "    return pd.DataFrame(edge_list, columns=[\"node_1\", \"node_2\", \"node_3\"])\n",
    "\n",
    "\n",
    "def run_cypher(QUERY, variable_name):\n",
    "    auth = basic_auth(USER, PSW)\n",
    "    sdb = GraphDatabase.driver(URI, auth=auth)\n",
    "    result = []\n",
    "    with sdb.session() as session:\n",
    "        with session.begin_transaction() as tx:\n",
    "            result = tx.run(QUERY)\n",
    "            output = []\n",
    "            for row in result:\n",
    "                output.append(row[variable_name])\n",
    "    return output\n",
    "\n",
    "    \n",
    "\n"
   ]
  },
  {
   "cell_type": "code",
   "execution_count": 72,
   "id": "2e6fa251",
   "metadata": {},
   "outputs": [],
   "source": [
    "def get_two_hop_data(central_node, predicate, disease_list, outbound=True):        \n",
    "    if outbound:\n",
    "        if central_node == \"Gene\":\n",
    "            TWO_HOP_QUERY = \"\"\"\n",
    "                MATCH(d1:Disease)-[r1:{}]->(n:{})<-[r2:{}]-(d2:Disease)\n",
    "                WHERE r1.diseases_sources <> [\"textmining\"] \n",
    "                AND r2.diseases_sources <> [\"textmining\"]\n",
    "                AND d1.identifier IN {} AND d2.identifier IN {}\n",
    "                RETURN DISTINCT d1.name AS d1_name, n.name AS n_name, d2.name AS d2_name\n",
    "            \"\"\".format(predicate, central_node, predicate, disease_list, disease_list)\n",
    "        else:\n",
    "                TWO_HOP_QUERY = \"\"\"\n",
    "                MATCH(d1:Disease)-[r1:{}]->(n:{})<-[r2:{}]-(d2:Disease)\n",
    "                WHERE d1.identifier IN {} AND d2.identifier IN {}\n",
    "                RETURN DISTINCT d1.name AS d1_name, n.name AS n_name, d2.name AS d2_name\n",
    "            \"\"\".format(predicate, central_node, predicate, disease_list, disease_list)            \n",
    "    else:\n",
    "        TWO_HOP_QUERY = \"\"\"\n",
    "            MATCH(d1:Disease)<-[r1:{}]-(n:{})-[r2:{}]->(d2:Disease)\n",
    "            WHERE r1.diseases_sources <> [\"textmining\"] \n",
    "            AND r2.diseases_sources <> [\"textmining\"]\n",
    "            AND d1.identifier IN {} AND d2.identifier IN {}\n",
    "            RETURN DISTINCT d1.name AS d1_name, n.name AS n_name, d2.name AS d2_name\n",
    "        \"\"\".format(predicate, central_node, predicate, disease_list, disease_list)\n",
    "    auth = basic_auth(USER, PSW)\n",
    "    sdb = GraphDatabase.driver(URI, auth=auth)\n",
    "    edge_list = []\n",
    "    with sdb.session() as session:\n",
    "        with session.begin_transaction() as tx:\n",
    "            result = tx.run(TWO_HOP_QUERY)\n",
    "            for row in result:\n",
    "                edge_list.append((row[\"d1_name\"], row[\"n_name\"], row[\"d2_name\"]))\n",
    "    sdb.close()\n",
    "    return pd.DataFrame(edge_list, columns=[\"node_1\", \"node_2\", \"node_3\"])\n",
    "\n",
    "\n",
    "def get_all_two_hop_data(central_node, predicate, node1, node2, disease_list, outbound=True):\n",
    "    if outbound:\n",
    "        if central_node == \"Gene\":\n",
    "            TWO_HOP_QUERY = \"\"\"\n",
    "                MATCH(d1:Disease)-[r1:{}]->(n:{})<-[r2:{}]-(d2:Disease)\n",
    "                WHERE r1.diseases_sources <> [\"textmining\"]\n",
    "                AND r2.diseases_sources <> [\"textmining\"]\n",
    "                AND d1.name = \"{}\" AND d2.name = \"{}\"\n",
    "                AND d1.identifier IN {} AND d2.identifier IN {}\n",
    "                RETURN DISTINCT n.name AS n_name\n",
    "            \"\"\".format(predicate, central_node, predicate, node1, node2, disease_list, disease_list)\n",
    "        else:\n",
    "            TWO_HOP_QUERY = \"\"\"\n",
    "                MATCH(d1:Disease)-[r1:{}]->(n:{})<-[r2:{}]-(d2:Disease)\n",
    "                WHERE d1.name = \"{}\" AND d2.name = \"{}\"\n",
    "                AND d1.identifier IN {} AND d2.identifier IN {}\n",
    "                RETURN DISTINCT n.name AS n_name\n",
    "            \"\"\".format(predicate, central_node, predicate, node1, node2, disease_list, disease_list)\n",
    "    else:\n",
    "        TWO_HOP_QUERY = \"\"\"\n",
    "        MATCH(d1:Disease)<-[r1:{}]-(n:{})-[r2:{}]->(d2:Disease)\n",
    "        WHERE d1.name = \"{}\" AND d2.name = \"{}\"\n",
    "        AND d1.identifier IN {} AND d2.identifier IN {}\n",
    "        RETURN DISTINCT n.name AS n_name\n",
    "    \"\"\".format(predicate, central_node, predicate, node1, node2, disease_list, disease_list)\n",
    "    auth = basic_auth(USER, PSW)\n",
    "    sdb = GraphDatabase.driver(URI, auth=auth)\n",
    "    central_node_list = []\n",
    "    with sdb.session() as session:\n",
    "        with session.begin_transaction() as tx:\n",
    "            result = tx.run(TWO_HOP_QUERY)\n",
    "            for row in result:\n",
    "                central_node_list.append(row[\"n_name\"])\n",
    "    sdb.close()\n",
    "    return central_node_list\n"
   ]
  },
  {
   "cell_type": "code",
   "execution_count": 96,
   "id": "b1fe10d6",
   "metadata": {},
   "outputs": [
    {
     "name": "stdout",
     "output_type": "stream",
     "text": [
      "CPU times: user 886 ms, sys: 122 ms, total: 1.01 s\n",
      "Wall time: 7.91 s\n"
     ]
    }
   ],
   "source": [
    "%%time\n",
    "\n",
    "sample_diseases = random.sample(disease_id_list, 300)\n",
    "disease_gene_2_hop = get_two_hop_data(\"Gene\", \"ASSOCIATES_DaG\", sample_diseases, outbound=True)\n",
    "disease_gene_2_hop = disease_gene_2_hop.sample(n=30)\n",
    "\n",
    "disease_gene_2_hop_with_all_central_nodes = []\n",
    "for index, row in disease_gene_2_hop.iterrows():\n",
    "    central_node_list = get_all_two_hop_data(\"Gene\", \"ASSOCIATES_DaG\", row[\"node_1\"], row[\"node_3\"], sample_diseases)\n",
    "    disease_gene_2_hop_with_all_central_nodes.append((row[\"node_1\"], row[\"node_3\"], central_node_list))\n",
    "\n",
    "disease_gene_2_hop_with_all_central_nodes_df = pd.DataFrame(disease_gene_2_hop_with_all_central_nodes, columns=[\"disease_1\", \"disease_2\", \"central_nodes\"])\n",
    "\n",
    "disease_gene_2_hop_with_all_central_nodes_df.loc[:, \"text\"] = \"What are the Genes that are commonly associated with both \" + disease_gene_2_hop_with_all_central_nodes_df.disease_1 + \" and \" + disease_gene_2_hop_with_all_central_nodes_df.disease_2 + \"?\"\n"
   ]
  },
  {
   "cell_type": "code",
   "execution_count": 97,
   "id": "9eb081c7",
   "metadata": {},
   "outputs": [
    {
     "name": "stdout",
     "output_type": "stream",
     "text": [
      "CPU times: user 1.12 s, sys: 144 ms, total: 1.26 s\n",
      "Wall time: 8.21 s\n"
     ]
    }
   ],
   "source": [
    "%%time\n",
    "\n",
    "sample_diseases = random.sample(disease_id_list, 300)\n",
    "disease_symptom_2_hop = get_two_hop_data(\"Symptom\", \"PRESENTS_DpS\", sample_diseases, outbound=True)\n",
    "disease_symptom_2_hop = disease_symptom_2_hop.sample(n=30)\n",
    "\n",
    "disease_symptom_2_hop_with_all_central_nodes = []\n",
    "for index, row in disease_symptom_2_hop.iterrows():\n",
    "    central_node_list = get_all_two_hop_data(\"Symptom\", \"PRESENTS_DpS\", row[\"node_1\"], row[\"node_3\"], sample_diseases, outbound=True)\n",
    "    disease_symptom_2_hop_with_all_central_nodes.append((row[\"node_1\"], row[\"node_3\"], central_node_list))\n",
    "\n",
    "disease_symptom_2_hop_with_all_central_nodes_df = pd.DataFrame(disease_symptom_2_hop_with_all_central_nodes, columns=[\"disease_1\", \"disease_2\", \"central_nodes\"])\n",
    "\n",
    "disease_symptom_2_hop_with_all_central_nodes_df.loc[:, \"text\"] = \"What are the Symptoms that are commonly associated with both \" + disease_symptom_2_hop_with_all_central_nodes_df.disease_1 + \" and \" + disease_symptom_2_hop_with_all_central_nodes_df.disease_2 + \"?\"\n"
   ]
  },
  {
   "cell_type": "code",
   "execution_count": 98,
   "id": "da6133d1",
   "metadata": {},
   "outputs": [
    {
     "name": "stdout",
     "output_type": "stream",
     "text": [
      "CPU times: user 539 ms, sys: 72.1 ms, total: 611 ms\n",
      "Wall time: 6.6 s\n"
     ]
    }
   ],
   "source": [
    "%%time\n",
    "\n",
    "sample_diseases = random.sample(disease_id_list, 300)\n",
    "disease_anatomy_2_hop = get_two_hop_data(\"Anatomy\", \"LOCALIZES_DlA\", sample_diseases, outbound=True)\n",
    "disease_anatomy_2_hop = disease_anatomy_2_hop.sample(n=30)\n",
    "\n",
    "disease_anatomy_2_hop_with_all_central_nodes = []\n",
    "for index, row in disease_anatomy_2_hop.iterrows():\n",
    "    central_node_list = get_all_two_hop_data(\"Anatomy\", \"LOCALIZES_DlA\", row[\"node_1\"], row[\"node_3\"], sample_diseases, outbound=True)\n",
    "    disease_anatomy_2_hop_with_all_central_nodes.append((row[\"node_1\"], row[\"node_3\"], central_node_list))\n",
    "\n",
    "disease_anatomy_2_hop_with_all_central_nodes_df = pd.DataFrame(disease_anatomy_2_hop_with_all_central_nodes, columns=[\"disease_1\", \"disease_2\", \"central_nodes\"])\n",
    "\n",
    "disease_anatomy_2_hop_with_all_central_nodes_df.loc[:, \"text\"] = \"What are the Anatomy that are commonly associated with both \" + disease_anatomy_2_hop_with_all_central_nodes_df.disease_1 + \" and \" + disease_anatomy_2_hop_with_all_central_nodes_df.disease_2 + \"?\"\n"
   ]
  },
  {
   "cell_type": "code",
   "execution_count": 99,
   "id": "0d1db4f2",
   "metadata": {},
   "outputs": [],
   "source": [
    "disease_node_2_hop_data = pd.concat([disease_gene_2_hop_with_all_central_nodes_df, disease_symptom_2_hop_with_all_central_nodes_df,disease_anatomy_2_hop_with_all_central_nodes_df], ignore_index=True)\n",
    "disease_node_2_hop_data = disease_node_2_hop_data.sample(frac=1)\n",
    "disease_node_2_hop_data.to_csv(\"../../../../data/benchmark_datasets/disease_two_hop_validation_data.csv\", index=False, header=True)\n"
   ]
  },
  {
   "cell_type": "code",
   "execution_count": 111,
   "id": "35387758",
   "metadata": {},
   "outputs": [
    {
     "data": {
      "text/plain": [
       "'What are the Anatomy that are commonly associated with both exotropia and Crouzon syndrome?'"
      ]
     },
     "execution_count": 111,
     "metadata": {},
     "output_type": "execute_result"
    }
   ],
   "source": [
    "disease_node_2_hop_data.text.values[8]"
   ]
  },
  {
   "cell_type": "code",
   "execution_count": 112,
   "id": "1d7fe5fa",
   "metadata": {},
   "outputs": [
    {
     "data": {
      "text/plain": [
       "['orbit of skull', 'oculomotor muscle']"
      ]
     },
     "execution_count": 112,
     "metadata": {},
     "output_type": "execute_result"
    }
   ],
   "source": [
    "disease_node_2_hop_data.central_nodes.values[8]"
   ]
  },
  {
   "cell_type": "code",
   "execution_count": null,
   "id": "cae7107e",
   "metadata": {},
   "outputs": [],
   "source": []
  },
  {
   "cell_type": "code",
   "execution_count": null,
   "id": "98cadcda",
   "metadata": {},
   "outputs": [],
   "source": []
  }
 ],
 "metadata": {
  "kernelspec": {
   "display_name": "Python 3 (ipykernel)",
   "language": "python",
   "name": "python3"
  },
  "language_info": {
   "codemirror_mode": {
    "name": "ipython",
    "version": 3
   },
   "file_extension": ".py",
   "mimetype": "text/x-python",
   "name": "python",
   "nbconvert_exporter": "python",
   "pygments_lexer": "ipython3",
   "version": "3.10.9"
  }
 },
 "nbformat": 4,
 "nbformat_minor": 5
}
