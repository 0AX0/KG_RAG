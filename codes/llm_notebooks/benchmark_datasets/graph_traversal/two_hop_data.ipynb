{
 "cells": [
  {
   "cell_type": "code",
   "execution_count": 1,
   "id": "ab5494d1",
   "metadata": {},
   "outputs": [],
   "source": [
    "import pandas as pd\n",
    "import os\n",
    "from tqdm import tqdm\n",
    "from dotenv import load_dotenv\n",
    "from neo4j import GraphDatabase, basic_auth\n"
   ]
  },
  {
   "cell_type": "code",
   "execution_count": 2,
   "id": "48d88fb0",
   "metadata": {},
   "outputs": [],
   "source": [
    "load_dotenv(os.path.join(os.path.expanduser('~'), '.neo4j_config.env'))\n",
    "USER = os.environ.get('SPOKE_USER')\n",
    "PSW = os.environ.get('SPOKE_PSW')\n",
    "URI = os.environ.get('SPOKE_URI')\n"
   ]
  },
  {
   "cell_type": "code",
   "execution_count": 5,
   "id": "1ef7823c",
   "metadata": {},
   "outputs": [
    {
     "name": "stdout",
     "output_type": "stream",
     "text": [
      "CPU times: user 209 ms, sys: 29.1 ms, total: 238 ms\n",
      "Wall time: 12.7 s\n"
     ]
    }
   ],
   "source": [
    "%%time\n",
    "\n",
    "DISEASE_QUERY = \"\"\"\n",
    "    MATCH(d:Disease)-[r:ASSOCIATES_DaG]->(g:Gene)\n",
    "    RETURN DISTINCT d.identifier AS d_id, d.name AS d_name\n",
    "\"\"\"\n",
    "\n",
    "auth = basic_auth(USER, PSW)\n",
    "sdb = GraphDatabase.driver(URI, auth=auth)\n",
    "\n",
    "disease_list = []\n",
    "with sdb.session() as session:\n",
    "    with session.begin_transaction() as tx:\n",
    "        result = tx.run(DISEASE_QUERY)\n",
    "        for row in result:\n",
    "            disease_list.append((row[\"d_id\"], row[\"d_name\"]))\n",
    "\n",
    "disease_df = pd.DataFrame(disease_list, columns=[\"disease_id\", \"disease_name\"])\n",
    "disease_id_list = list(disease_df.disease_id.values)\n"
   ]
  },
  {
   "cell_type": "code",
   "execution_count": 125,
   "id": "f8795f64",
   "metadata": {},
   "outputs": [],
   "source": [
    "\n",
    "def get_two_hop_data_step_1(central_node, predicate, disease_list, outbound=True):        \n",
    "    if outbound:\n",
    "        TWO_HOP_QUERY = \"\"\"\n",
    "            MATCH(d1:Disease)-[:{}]->(n:{})<-[:{}]-(d2:Disease)\n",
    "            WHERE d1.identifier IN {} AND d2.identifier IN {} AND d1.name <> \"malignant teratoma\" AND d2.name <> \"malignant teratoma\"\n",
    "            RETURN d1.name AS d1_name, n.name AS n_name, d2.name AS d2_name LIMIT 100\n",
    "        \"\"\".format(predicate, central_node, predicate, disease_list, disease_list)\n",
    "    else:\n",
    "        TWO_HOP_QUERY = \"\"\"\n",
    "            MATCH(d1:Disease)<-[:{}]-(n:{})-[:{}]->(d2:Disease)\n",
    "            WHERE d1.identifier IN {} AND d2.identifier IN {} AND d1.name <> \"malignant teratoma\" AND d2.name <> \"malignant teratoma\"\n",
    "            RETURN d1.name AS d1_name, n.name AS n_name, d2.name AS d2_name LIMIT 100\n",
    "        \"\"\".format(predicate, central_node, predicate, disease_list, disease_list)\n",
    "    \n",
    "    auth = basic_auth(USER, PSW)\n",
    "    sdb = GraphDatabase.driver(URI, auth=auth)\n",
    "    edge_list = []\n",
    "    with sdb.session() as session:\n",
    "        with session.begin_transaction() as tx:\n",
    "            result = tx.run(TWO_HOP_QUERY)\n",
    "            for row in result:\n",
    "                edge_list.append((row[\"d1_name\"], row[\"n_name\"], row[\"d2_name\"]))\n",
    "    return pd.DataFrame(edge_list, columns=[\"node_1\", \"node_2\", \"node_3\"])\n",
    "\n",
    "\n",
    "def run_cypher(QUERY, variable_name):\n",
    "    auth = basic_auth(USER, PSW)\n",
    "    sdb = GraphDatabase.driver(URI, auth=auth)\n",
    "    result = []\n",
    "    with sdb.session() as session:\n",
    "        with session.begin_transaction() as tx:\n",
    "            result = tx.run(QUERY)\n",
    "            output = []\n",
    "            for row in result:\n",
    "                output.append(row[variable_name])\n",
    "    return output\n",
    "\n",
    "    \n",
    "\n"
   ]
  },
  {
   "cell_type": "code",
   "execution_count": 126,
   "id": "dc976a47",
   "metadata": {},
   "outputs": [
    {
     "name": "stderr",
     "output_type": "stream",
     "text": [
      "100it [00:17,  5.84it/s]"
     ]
    },
    {
     "name": "stdout",
     "output_type": "stream",
     "text": [
      "CPU times: user 1.2 s, sys: 205 ms, total: 1.41 s\n",
      "Wall time: 18.4 s\n"
     ]
    },
    {
     "name": "stderr",
     "output_type": "stream",
     "text": [
      "\n"
     ]
    }
   ],
   "source": [
    "%%time\n",
    "\n",
    "disease_symptom_2_hop = get_two_hop_data_step_1(\"Symptom\", \"PRESENTS_DpS\", disease_id_list)\n",
    "    \n",
    "two_hop_symptom_data = []\n",
    "for index, row in tqdm(disease_symptom_2_hop.iterrows()):\n",
    "    text = \"What are the common Symptoms associated with {} and {}?\".format(row[\"node_1\"], row[\"node_3\"])\n",
    "    cypher = 'MATCH(d1:Disease)-[:PRESENTS_DpS]->(n:Symptom)<-[:PRESENTS_DpS]-(d2:Disease) WHERE d1.name=\"{}\" AND d2.name=\"{}\" RETURN DISTINCT n.name AS n_name'.format(row[\"node_1\"], row[\"node_3\"])\n",
    "    ground_truth_from_spoke = run_cypher(cypher, \"n_name\")\n",
    "    two_hop_symptom_data.append((text, cypher, ground_truth_from_spoke))    \n",
    "    "
   ]
  },
  {
   "cell_type": "code",
   "execution_count": 134,
   "id": "26885018",
   "metadata": {},
   "outputs": [
    {
     "name": "stdout",
     "output_type": "stream",
     "text": [
      "What are the common Symptoms associated with rosacea and adenoma?\n",
      "['Eye Manifestations']\n"
     ]
    }
   ],
   "source": [
    "two_hop_symptom_data_df = pd.DataFrame(two_hop_symptom_data, columns=[\"text\", \"cypher\", \"ground_truth\"])\n",
    "two_hop_symptom_data_df = two_hop_symptom_data_df[~two_hop_symptom_data_df['text'].str.contains(r'\\b\\d+\\b')]\n",
    "# two_hop_symptom_data_df = two_hop_symptom_data_df[~two_hop_symptom_data_df['text'].str.contains(r'malignant teratoma', case=False)]\n",
    "ind = 0\n",
    "print(two_hop_symptom_data_df.iloc[ind].text)\n",
    "print(two_hop_symptom_data_df.iloc[ind].ground_truth)\n"
   ]
  },
  {
   "cell_type": "code",
   "execution_count": null,
   "id": "904b93d3",
   "metadata": {},
   "outputs": [],
   "source": [
    "Find list of Symptoms associated with mixed glioma. Find list of Symptoms associated with adenoma. Then find the common Symptoms from the two lists.\n"
   ]
  },
  {
   "cell_type": "code",
   "execution_count": 133,
   "id": "3f0f21a2",
   "metadata": {},
   "outputs": [
    {
     "data": {
      "text/html": [
       "<div>\n",
       "<style scoped>\n",
       "    .dataframe tbody tr th:only-of-type {\n",
       "        vertical-align: middle;\n",
       "    }\n",
       "\n",
       "    .dataframe tbody tr th {\n",
       "        vertical-align: top;\n",
       "    }\n",
       "\n",
       "    .dataframe thead th {\n",
       "        text-align: right;\n",
       "    }\n",
       "</style>\n",
       "<table border=\"1\" class=\"dataframe\">\n",
       "  <thead>\n",
       "    <tr style=\"text-align: right;\">\n",
       "      <th></th>\n",
       "      <th>disease_id</th>\n",
       "      <th>disease_name</th>\n",
       "    </tr>\n",
       "  </thead>\n",
       "  <tbody>\n",
       "    <tr>\n",
       "      <th>0</th>\n",
       "      <td>DOID:0080936</td>\n",
       "      <td>serum amyloid A amyloidosis</td>\n",
       "    </tr>\n",
       "    <tr>\n",
       "      <th>1</th>\n",
       "      <td>DOID:0080916</td>\n",
       "      <td>erythroleukemia</td>\n",
       "    </tr>\n",
       "    <tr>\n",
       "      <th>2</th>\n",
       "      <td>DOID:0112298</td>\n",
       "      <td>spondylometaphyseal dysplasia Sedaghatian type</td>\n",
       "    </tr>\n",
       "    <tr>\n",
       "      <th>3</th>\n",
       "      <td>DOID:0080912</td>\n",
       "      <td>cerebrooculofacioskeletal syndrome 2</td>\n",
       "    </tr>\n",
       "    <tr>\n",
       "      <th>4</th>\n",
       "      <td>DOID:0080922</td>\n",
       "      <td>bilateral frontoparietal polymicrogyria</td>\n",
       "    </tr>\n",
       "    <tr>\n",
       "      <th>...</th>\n",
       "      <td>...</td>\n",
       "      <td>...</td>\n",
       "    </tr>\n",
       "    <tr>\n",
       "      <th>6190</th>\n",
       "      <td>DOID:0081042</td>\n",
       "      <td>T-cell prolymphocytic leukemia</td>\n",
       "    </tr>\n",
       "    <tr>\n",
       "      <th>6191</th>\n",
       "      <td>DOID:0081087</td>\n",
       "      <td>acute myeloid leukemia with maturation</td>\n",
       "    </tr>\n",
       "    <tr>\n",
       "      <th>6192</th>\n",
       "      <td>DOID:0081044</td>\n",
       "      <td>frontonasal dysplasia</td>\n",
       "    </tr>\n",
       "    <tr>\n",
       "      <th>6193</th>\n",
       "      <td>DOID:0081055</td>\n",
       "      <td>central diabetes insipidus</td>\n",
       "    </tr>\n",
       "    <tr>\n",
       "      <th>6194</th>\n",
       "      <td>DOID:0081082</td>\n",
       "      <td>acute myelomonocytic leukemia</td>\n",
       "    </tr>\n",
       "  </tbody>\n",
       "</table>\n",
       "<p>6195 rows × 2 columns</p>\n",
       "</div>"
      ],
      "text/plain": [
       "        disease_id                                    disease_name\n",
       "0     DOID:0080936                     serum amyloid A amyloidosis\n",
       "1     DOID:0080916                                 erythroleukemia\n",
       "2     DOID:0112298  spondylometaphyseal dysplasia Sedaghatian type\n",
       "3     DOID:0080912            cerebrooculofacioskeletal syndrome 2\n",
       "4     DOID:0080922         bilateral frontoparietal polymicrogyria\n",
       "...            ...                                             ...\n",
       "6190  DOID:0081042                  T-cell prolymphocytic leukemia\n",
       "6191  DOID:0081087          acute myeloid leukemia with maturation\n",
       "6192  DOID:0081044                           frontonasal dysplasia\n",
       "6193  DOID:0081055                      central diabetes insipidus\n",
       "6194  DOID:0081082                   acute myelomonocytic leukemia\n",
       "\n",
       "[6195 rows x 2 columns]"
      ]
     },
     "execution_count": 133,
     "metadata": {},
     "output_type": "execute_result"
    }
   ],
   "source": [
    "disease_df"
   ]
  },
  {
   "cell_type": "code",
   "execution_count": 43,
   "id": "d32957d5",
   "metadata": {},
   "outputs": [
    {
     "name": "stderr",
     "output_type": "stream",
     "text": [
      "1000it [03:13,  5.16it/s]"
     ]
    },
    {
     "name": "stdout",
     "output_type": "stream",
     "text": [
      "CPU times: user 17.1 s, sys: 2.81 s, total: 20 s\n",
      "Wall time: 3min 14s\n"
     ]
    },
    {
     "name": "stderr",
     "output_type": "stream",
     "text": [
      "\n"
     ]
    }
   ],
   "source": [
    "%%time\n",
    "\n",
    "disease_variant_2_hop = get_two_hop_data_step_1(\"Variant\", \"ASSOCIATES_VaP\", disease_id_list, outbound=False)\n",
    "    \n",
    "two_hop_variant_data = []\n",
    "for index, row in tqdm(disease_variant_2_hop.iterrows()):\n",
    "    text = \"What are the common Variants associated with {} and {}?\".format(row[\"node_1\"], row[\"node_3\"])\n",
    "    cypher = 'MATCH(d1:Disease)<-[:ASSOCIATES_VaP]-(n:Variant)-[:ASSOCIATES_VaP]->(d2:Disease) WHERE d1.name=\"{}\" AND d2.name=\"{}\" RETURN DISTINCT n.identifier AS n_id'.format(row[\"node_1\"], row[\"node_3\"])\n",
    "    ground_truth_from_spoke = run_cypher(cypher, \"n_id\")\n",
    "    two_hop_variant_data.append((text, cypher, ground_truth_from_spoke))\n",
    "    "
   ]
  },
  {
   "cell_type": "code",
   "execution_count": 52,
   "id": "80566e02",
   "metadata": {},
   "outputs": [
    {
     "name": "stderr",
     "output_type": "stream",
     "text": [
      "1000it [02:46,  6.01it/s]"
     ]
    },
    {
     "name": "stdout",
     "output_type": "stream",
     "text": [
      "CPU times: user 11.7 s, sys: 2 s, total: 13.7 s\n",
      "Wall time: 2min 46s\n"
     ]
    },
    {
     "name": "stderr",
     "output_type": "stream",
     "text": [
      "\n"
     ]
    }
   ],
   "source": [
    "%%time\n",
    "\n",
    "disease_anatomy_2_hop = get_two_hop_data_step_1(\"Anatomy\", \"LOCALIZES_DlA\", disease_id_list, outbound=True)\n",
    "    \n",
    "two_hop_anatomy_data = []\n",
    "for index, row in tqdm(disease_anatomy_2_hop.iterrows()):\n",
    "    text = \"Which is the common Anatomy that {} and {} both localize?\".format(row[\"node_1\"], row[\"node_3\"])\n",
    "    cypher = 'MATCH(d1:Disease)-[:LOCALIZES_DlA]->(n:Anatomy)<-[:LOCALIZES_DlA]-(d2:Disease) WHERE d1.name=\"{}\" AND d2.name=\"{}\" RETURN DISTINCT n.name AS n_name'.format(row[\"node_1\"], row[\"node_3\"])\n",
    "    ground_truth_from_spoke = run_cypher(cypher, \"n_name\")\n",
    "    two_hop_anatomy_data.append((text, cypher, ground_truth_from_spoke))\n",
    "    "
   ]
  },
  {
   "cell_type": "code",
   "execution_count": null,
   "id": "c2ae58c4",
   "metadata": {},
   "outputs": [],
   "source": []
  },
  {
   "cell_type": "code",
   "execution_count": 101,
   "id": "602c170e",
   "metadata": {},
   "outputs": [],
   "source": [
    "# two_hop_gene_data_df = pd.DataFrame(two_hop_gene_data, columns=[\"text\", \"cypher\", \"ground_truth\"])\n",
    "# two_hop_gene_data_df = two_hop_gene_data_df[~two_hop_gene_data_df['text'].str.contains(r'\\b\\d+\\b')]\n",
    "# two_hop_gene_data_df.loc[:,\"ground_truth_len\"] = two_hop_gene_data_df.ground_truth.apply(lambda x:len(x))\n",
    "# # two_hop_gene_data_df_ = two_hop_gene_data_df[two_hop_gene_data_df.ground_truth_len == 1]\n",
    "\n",
    "\n",
    "# # ind = 54\n",
    "# # print(two_hop_gene_data_df_.iloc[ind].text)\n",
    "# # print(two_hop_gene_data_df_.iloc[ind].cypher)\n",
    "# # print(two_hop_gene_data_df_.iloc[ind].ground_truth)\n",
    "# # two_hop_gene_data_df_.shape\n",
    "# two_hop_gene_data_df"
   ]
  },
  {
   "cell_type": "code",
   "execution_count": null,
   "id": "cfe30511",
   "metadata": {},
   "outputs": [],
   "source": []
  }
 ],
 "metadata": {
  "kernelspec": {
   "display_name": "Python 3 (ipykernel)",
   "language": "python",
   "name": "python3"
  },
  "language_info": {
   "codemirror_mode": {
    "name": "ipython",
    "version": 3
   },
   "file_extension": ".py",
   "mimetype": "text/x-python",
   "name": "python",
   "nbconvert_exporter": "python",
   "pygments_lexer": "ipython3",
   "version": "3.10.9"
  }
 },
 "nbformat": 4,
 "nbformat_minor": 5
}
