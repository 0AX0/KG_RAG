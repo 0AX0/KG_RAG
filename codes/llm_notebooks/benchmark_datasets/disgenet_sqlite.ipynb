{
 "cells": [
  {
   "cell_type": "code",
   "execution_count": 1,
   "id": "c0458e94-139a-4813-9cda-3384912d528c",
   "metadata": {},
   "outputs": [],
   "source": [
    "import sqlite3\n",
    "import pandas as pd\n"
   ]
  },
  {
   "cell_type": "code",
   "execution_count": 2,
   "id": "ed340a37-146b-4d99-9450-ece713aad553",
   "metadata": {},
   "outputs": [],
   "source": [
    "DB_PATH = \"../../../data/benchmark_datasets/disgenet/disgenet_2020.db\"\n"
   ]
  },
  {
   "cell_type": "code",
   "execution_count": 3,
   "id": "2c305e61-e1d1-4cc0-b079-d96e8ec0e732",
   "metadata": {},
   "outputs": [],
   "source": [
    "conn = sqlite3.connect(DB_PATH)\n",
    "c = conn.cursor()\n"
   ]
  },
  {
   "cell_type": "code",
   "execution_count": 12,
   "id": "ea900d1a-354b-4532-8571-250aee5a7026",
   "metadata": {},
   "outputs": [],
   "source": [
    "\n",
    "table_name = \"diseaseAttributes\"\n",
    "\n",
    "c.execute(\"SELECT * FROM {}\".format(table_name))\n",
    "\n",
    "rows = c.fetchall()\n",
    "disease_df = pd.DataFrame(rows, columns=[\"diseaseNID\", \"diseaseId\", \"diseaseName\", \"type\"])\n"
   ]
  },
  {
   "cell_type": "code",
   "execution_count": 13,
   "id": "381c999d-4f8f-4a76-8ba3-939ec6c43d59",
   "metadata": {},
   "outputs": [],
   "source": [
    "table_name = \"geneAttributes\"\n",
    "c.execute(\"SELECT * FROM {}\".format(table_name))\n",
    "\n",
    "rows = c.fetchall()\n",
    "gene_df = pd.DataFrame(rows, columns=[\"geneNID\", \"geneId\", \"geneName\", \"geneDescription\", \"pLI\", \"DSI\", \"DPI\"])\n"
   ]
  },
  {
   "cell_type": "code",
   "execution_count": 14,
   "id": "054d6e39-b266-44e4-85ab-bc1717f3d814",
   "metadata": {},
   "outputs": [],
   "source": [
    "table_name = \"variantAttributes\"\n",
    "c.execute(\"SELECT * FROM {}\".format(table_name))\n",
    "\n",
    "rows = c.fetchall()\n",
    "variant_df = pd.DataFrame(rows, columns=[\"variantNID\", \"variantId\", \"s\", \"chromosome\", \"coord\", \"most_severe_consequence\", \"DSI\", \"DPI\"])\n"
   ]
  },
  {
   "cell_type": "code",
   "execution_count": 15,
   "id": "025ca9d2-a7a7-43e9-af48-d6cafa1c63fc",
   "metadata": {},
   "outputs": [],
   "source": [
    "table_name = \"geneDiseaseNetwork\"\n",
    "c.execute(\"SELECT * FROM {}\".format(table_name))\n",
    "\n",
    "rows = c.fetchall()\n",
    "disease_gene_df = pd.DataFrame(rows, columns=[\"NID\", \"diseaseNID\", \"geneNID\", \"source\", \"association\", \"associationType\", \"sentence\", \"pmid\", \"score\", \"EL\", \"EI\", \"year\"])\n",
    "\n",
    "# Selecting association with maximum score\n",
    "disease_gene_df_selected  = disease_gene_df[disease_gene_df.score == 1]\n",
    "\n",
    "disease_gene_df_selected_1 = pd.merge(disease_gene_df_selected, disease_df, on=\"diseaseNID\")\n",
    "disease_gene_df_selected_2 = pd.merge(disease_gene_df_selected_1, gene_df, on=\"geneNID\")\n",
    "\n",
    "disease_gene_df_selected_final = disease_gene_df_selected_2[[\"diseaseName\", \"geneName\"]].drop_duplicates()\n",
    "disease_gene_df_selected_final.to_csv(\"../../../data/benchmark_datasets/disgenet/disease_gene_association_with_score_1_from_disgenet.csv\", index=False, header=True)\n"
   ]
  },
  {
   "cell_type": "code",
   "execution_count": 8,
   "id": "b6d99b19-0491-4f41-8e42-0922a8ee5736",
   "metadata": {},
   "outputs": [],
   "source": [
    "table_name = \"variantDiseaseNetwork\"\n",
    "c.execute(\"SELECT * FROM {}\".format(table_name))\n",
    "\n",
    "rows = c.fetchall()\n",
    "disease_variant_df = pd.DataFrame(rows, columns=[\"NID\", \"diseaseNID\", \"variantNID\", \"source\", \"association\", \"associationType\", \"sentence\", \"pmid\", \"score\", \"EI\", \"year\"])\n",
    "\n",
    "# Selecting association with score > 0.9\n",
    "disease_variant_df_selected  = disease_variant_df[disease_variant_df.score > 0.9]\n",
    "\n",
    "disease_variant_df_selected_1 = pd.merge(disease_variant_df_selected, disease_df, on=\"diseaseNID\")\n",
    "disease_variant_df_selected_2 = pd.merge(disease_variant_df_selected_1, variant_df, on=\"variantNID\")\n",
    "\n",
    "disease_variant_df_selected_final = disease_variant_df_selected_2[[\"diseaseName\", \"variantId\"]].drop_duplicates()\n",
    "\n",
    "disease_variant_df_selected_final.to_csv(\"../../../data/benchmark_datasets/disgenet/disease_variant_association_with_score_greater_than_point_9_from_disgenet.csv\", index=False, header=True)\n",
    "\n"
   ]
  }
 ],
 "metadata": {
  "kernelspec": {
   "display_name": "Python 3 (ipykernel)",
   "language": "python",
   "name": "python3"
  },
  "language_info": {
   "codemirror_mode": {
    "name": "ipython",
    "version": 3
   },
   "file_extension": ".py",
   "mimetype": "text/x-python",
   "name": "python",
   "nbconvert_exporter": "python",
   "pygments_lexer": "ipython3",
   "version": "3.10.9"
  }
 },
 "nbformat": 4,
 "nbformat_minor": 5
}
