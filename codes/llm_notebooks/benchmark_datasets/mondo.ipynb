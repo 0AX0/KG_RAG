{
 "cells": [
  {
   "cell_type": "code",
   "execution_count": 115,
   "id": "fbd033b7-bbfc-43ab-9246-d0b5bef1870d",
   "metadata": {},
   "outputs": [],
   "source": [
    "import pandas as pd\n"
   ]
  },
  {
   "cell_type": "code",
   "execution_count": 48,
   "id": "35769ae5-87cb-4ecb-aa77-2a5156c7d394",
   "metadata": {},
   "outputs": [],
   "source": [
    "DATA_PATH = \"../../../data/benchmark_datasets/mondo/mondo.obo\"\n"
   ]
  },
  {
   "cell_type": "code",
   "execution_count": 51,
   "id": "a497544c-9bea-41a4-87a4-e152429f5206",
   "metadata": {},
   "outputs": [],
   "source": [
    "data = \"\"\n",
    "with open(DATA_PATH, \"r\") as f:    \n",
    "    for line in f:\n",
    "        line = line.strip()\n",
    "        data += line\n",
    "        data += \"\\n\"\n"
   ]
  },
  {
   "cell_type": "code",
   "execution_count": 53,
   "id": "afec2341-8839-4393-a7b9-f0f01758eece",
   "metadata": {},
   "outputs": [],
   "source": [
    "data_list = data.split(\"[Term]\")"
   ]
  },
  {
   "cell_type": "code",
   "execution_count": 108,
   "id": "bf98d7da-6309-48a6-96a3-6928434804f0",
   "metadata": {},
   "outputs": [],
   "source": [
    "parsed_data = []\n",
    "for index, item in enumerate(data_list):    \n",
    "        if index == 0:\n",
    "            continue\n",
    "        if \"is_obsolete: true\" not in item:\n",
    "            name = None\n",
    "            doid = None\n",
    "            isa = None\n",
    "            for line in item.split(\"\\n\"):                                        \n",
    "                if \"name\" in line:\n",
    "                    name = line.split(\"name: \")[-1]                               \n",
    "                if \"xref: DOID\" in line:\n",
    "                    doid = line.split(\"xref: \")[-1].split(\" \")[0]\n",
    "                if \"is_a:\" in line:\n",
    "                    isa = line.split(\"isa: \")[-1]\n",
    "                parsed_data.append((name, doid, isa))\n",
    "    \n",
    "# print(data_list[1])"
   ]
  },
  {
   "cell_type": "code",
   "execution_count": 124,
   "id": "d08e94f7-1521-46c1-8aee-08da5f62b282",
   "metadata": {},
   "outputs": [
    {
     "data": {
      "text/html": [
       "<div>\n",
       "<style scoped>\n",
       "    .dataframe tbody tr th:only-of-type {\n",
       "        vertical-align: middle;\n",
       "    }\n",
       "\n",
       "    .dataframe tbody tr th {\n",
       "        vertical-align: top;\n",
       "    }\n",
       "\n",
       "    .dataframe thead th {\n",
       "        text-align: right;\n",
       "    }\n",
       "</style>\n",
       "<table border=\"1\" class=\"dataframe\">\n",
       "  <thead>\n",
       "    <tr style=\"text-align: right;\">\n",
       "      <th></th>\n",
       "      <th>name</th>\n",
       "      <th>doid</th>\n",
       "      <th>isa</th>\n",
       "    </tr>\n",
       "  </thead>\n",
       "  <tbody>\n",
       "    <tr>\n",
       "      <th>51</th>\n",
       "      <td>adrenocortical insufficiency</td>\n",
       "      <td>DOID:10493</td>\n",
       "      <td>adrenal cortex disorder</td>\n",
       "    </tr>\n",
       "    <tr>\n",
       "      <th>77</th>\n",
       "      <td>inherited bleeding disorder, platelet-type</td>\n",
       "      <td>DOID:2218</td>\n",
       "      <td>hemorrhagic disease</td>\n",
       "    </tr>\n",
       "    <tr>\n",
       "      <th>78</th>\n",
       "      <td>inherited bleeding disorder, platelet-type</td>\n",
       "      <td>DOID:2218</td>\n",
       "      <td>blood platelet disease</td>\n",
       "    </tr>\n",
       "    <tr>\n",
       "      <th>79</th>\n",
       "      <td>inherited bleeding disorder, platelet-type</td>\n",
       "      <td>DOID:2218</td>\n",
       "      <td>hereditary disease</td>\n",
       "    </tr>\n",
       "    <tr>\n",
       "      <th>132</th>\n",
       "      <td>comment: OMIM series 615438. Plus one non-synd...</td>\n",
       "      <td>DOID:0080716</td>\n",
       "      <td>hereditary parenchymatous liver disease</td>\n",
       "    </tr>\n",
       "    <tr>\n",
       "      <th>...</th>\n",
       "      <td>...</td>\n",
       "      <td>...</td>\n",
       "      <td>...</td>\n",
       "    </tr>\n",
       "    <tr>\n",
       "      <th>471555</th>\n",
       "      <td>visceral neuropathy, familial, 1, autosomal re...</td>\n",
       "      <td>DOID:0080679</td>\n",
       "      <td>visceral neuropathy, familial</td>\n",
       "    </tr>\n",
       "    <tr>\n",
       "      <th>471672</th>\n",
       "      <td>benign paroxysmal positional vertigo</td>\n",
       "      <td>DOID:13941</td>\n",
       "      <td>peripheral vertigo</td>\n",
       "    </tr>\n",
       "    <tr>\n",
       "      <th>471673</th>\n",
       "      <td>benign paroxysmal positional vertigo</td>\n",
       "      <td>DOID:13941</td>\n",
       "      <td>hereditary otorhinolaryngologic disease</td>\n",
       "    </tr>\n",
       "    <tr>\n",
       "      <th>471674</th>\n",
       "      <td>benign paroxysmal positional vertigo</td>\n",
       "      <td>DOID:13941</td>\n",
       "      <td>inherited auditory system disease</td>\n",
       "    </tr>\n",
       "    <tr>\n",
       "      <th>471716</th>\n",
       "      <td>autoimmune lymphoproliferative syndrome, type ...</td>\n",
       "      <td>DOID:0110119</td>\n",
       "      <td>autoimmune lymphoproliferative syndrome</td>\n",
       "    </tr>\n",
       "  </tbody>\n",
       "</table>\n",
       "<p>18238 rows × 3 columns</p>\n",
       "</div>"
      ],
      "text/plain": [
       "                                                     name          doid  \\\n",
       "51                           adrenocortical insufficiency    DOID:10493   \n",
       "77             inherited bleeding disorder, platelet-type     DOID:2218   \n",
       "78             inherited bleeding disorder, platelet-type     DOID:2218   \n",
       "79             inherited bleeding disorder, platelet-type     DOID:2218   \n",
       "132     comment: OMIM series 615438. Plus one non-synd...  DOID:0080716   \n",
       "...                                                   ...           ...   \n",
       "471555  visceral neuropathy, familial, 1, autosomal re...  DOID:0080679   \n",
       "471672               benign paroxysmal positional vertigo    DOID:13941   \n",
       "471673               benign paroxysmal positional vertigo    DOID:13941   \n",
       "471674               benign paroxysmal positional vertigo    DOID:13941   \n",
       "471716  autoimmune lymphoproliferative syndrome, type ...  DOID:0110119   \n",
       "\n",
       "                                            isa  \n",
       "51                      adrenal cortex disorder  \n",
       "77                          hemorrhagic disease  \n",
       "78                       blood platelet disease  \n",
       "79                           hereditary disease  \n",
       "132     hereditary parenchymatous liver disease  \n",
       "...                                         ...  \n",
       "471555            visceral neuropathy, familial  \n",
       "471672                       peripheral vertigo  \n",
       "471673  hereditary otorhinolaryngologic disease  \n",
       "471674        inherited auditory system disease  \n",
       "471716  autoimmune lymphoproliferative syndrome  \n",
       "\n",
       "[18238 rows x 3 columns]"
      ]
     },
     "execution_count": 124,
     "metadata": {},
     "output_type": "execute_result"
    }
   ],
   "source": [
    "parsed_data_df = pd.DataFrame(parsed_data, columns=[\"name\", \"doid\", \"isa\"])\n",
    "parsed_data_df = parsed_data_df.dropna().drop_duplicates()\n",
    "parsed_data_df.isa = parsed_data_df.isa.apply(lambda x:x.split(\"! \")[-1])\n",
    "parsed_data_df\n"
   ]
  },
  {
   "cell_type": "code",
   "execution_count": 125,
   "id": "ba7cf19c-1bd2-450c-bb4c-e0304842abc6",
   "metadata": {},
   "outputs": [],
   "source": [
    "parsed_data_df.to_csv(\"../../../data/benchmark_datasets/mondo/mondo_parsed_data.csv\", index=False, header=True)\n"
   ]
  },
  {
   "cell_type": "code",
   "execution_count": null,
   "id": "5ddf2dcc-1acd-41fe-96a5-9bc7cc362594",
   "metadata": {},
   "outputs": [],
   "source": []
  }
 ],
 "metadata": {
  "kernelspec": {
   "display_name": "Python 3 (ipykernel)",
   "language": "python",
   "name": "python3"
  },
  "language_info": {
   "codemirror_mode": {
    "name": "ipython",
    "version": 3
   },
   "file_extension": ".py",
   "mimetype": "text/x-python",
   "name": "python",
   "nbconvert_exporter": "python",
   "pygments_lexer": "ipython3",
   "version": "3.10.9"
  }
 },
 "nbformat": 4,
 "nbformat_minor": 5
}
