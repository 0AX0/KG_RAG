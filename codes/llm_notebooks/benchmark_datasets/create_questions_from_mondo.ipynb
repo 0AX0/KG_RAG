{
 "cells": [
  {
   "cell_type": "code",
   "execution_count": 111,
   "id": "790ab30c-c526-4184-ab2e-6a8b6c719241",
   "metadata": {},
   "outputs": [],
   "source": [
    "import pandas as pd\n",
    "import numpy as np\n"
   ]
  },
  {
   "cell_type": "code",
   "execution_count": 112,
   "id": "41b0c422-f148-4ea9-a6b0-127250b71a7a",
   "metadata": {},
   "outputs": [],
   "source": [
    "DATA_PATH = \"../../../data/benchmark_datasets/mondo/mondo_parsed_data.csv\"\n",
    "DISEASE_GENE_DATA_PATH = \"../../../data/benchmark_datasets/disgenet/disease_gene_association_with_score_1_from_disgenet.csv\"\n",
    "\n",
    "NUMBER_OF_TRUE_DOID = 25\n",
    "NUMBER_OF_FALSE_DOID = 25\n"
   ]
  },
  {
   "cell_type": "code",
   "execution_count": 113,
   "id": "45de75a3-5991-4f21-ba26-0c92c6f796d9",
   "metadata": {},
   "outputs": [],
   "source": [
    "data = pd.read_csv(DATA_PATH)\n",
    "data_disease_gene = pd.read_csv(DISEASE_GENE_DATA_PATH)\n"
   ]
  },
  {
   "cell_type": "code",
   "execution_count": 114,
   "id": "2cd57f06-6238-491a-a610-e3800ca16e84",
   "metadata": {},
   "outputs": [],
   "source": [
    "data_doid = data[[\"name\", \"doid\"]].drop_duplicates()\n"
   ]
  },
  {
   "cell_type": "code",
   "execution_count": 115,
   "id": "9c157a33-0910-4e38-8da1-0fcd81e93c79",
   "metadata": {},
   "outputs": [],
   "source": [
    "data_doid_diseases_with_genes = data_doid[data_doid.name.str.lower().isin(data_disease_gene.diseaseName.str.lower())]\n",
    "\n"
   ]
  },
  {
   "cell_type": "code",
   "execution_count": 116,
   "id": "69c0008c-299d-46a8-a56f-8c68e5ce90db",
   "metadata": {},
   "outputs": [],
   "source": [
    "seed_value = 40\n",
    "data_doid_diseases_with_genes_true = data_doid_diseases_with_genes.sample(NUMBER_OF_TRUE_DOID, random_state=seed_value)\n",
    "data_doid_diseases_with_genes_false = data_doid_diseases_with_genes[~data_doid_diseases_with_genes.name.isin(data_doid_diseases_with_genes_true.name)].sample(NUMBER_OF_FALSE_DOID)\n",
    "\n"
   ]
  },
  {
   "cell_type": "code",
   "execution_count": 117,
   "id": "a9c965f5-8e8e-48e7-9a9d-3bfd8a348843",
   "metadata": {},
   "outputs": [
    {
     "data": {
      "text/html": [
       "<div>\n",
       "<style scoped>\n",
       "    .dataframe tbody tr th:only-of-type {\n",
       "        vertical-align: middle;\n",
       "    }\n",
       "\n",
       "    .dataframe tbody tr th {\n",
       "        vertical-align: top;\n",
       "    }\n",
       "\n",
       "    .dataframe thead th {\n",
       "        text-align: right;\n",
       "    }\n",
       "</style>\n",
       "<table border=\"1\" class=\"dataframe\">\n",
       "  <thead>\n",
       "    <tr style=\"text-align: right;\">\n",
       "      <th></th>\n",
       "      <th>name</th>\n",
       "      <th>doid</th>\n",
       "    </tr>\n",
       "  </thead>\n",
       "  <tbody>\n",
       "    <tr>\n",
       "      <th>15858</th>\n",
       "      <td>popliteal pterygium syndrome</td>\n",
       "      <td>DOID:0060055</td>\n",
       "    </tr>\n",
       "    <tr>\n",
       "      <th>15435</th>\n",
       "      <td>central diabetes insipidus</td>\n",
       "      <td>DOID:0081055</td>\n",
       "    </tr>\n",
       "    <tr>\n",
       "      <th>10979</th>\n",
       "      <td>congenital generalized lipodystrophy type 2</td>\n",
       "      <td>DOID:0111136</td>\n",
       "    </tr>\n",
       "    <tr>\n",
       "      <th>11122</th>\n",
       "      <td>Werner syndrome</td>\n",
       "      <td>DOID:5688</td>\n",
       "    </tr>\n",
       "    <tr>\n",
       "      <th>16171</th>\n",
       "      <td>adrenoleukodystrophy</td>\n",
       "      <td>DOID:10588</td>\n",
       "    </tr>\n",
       "  </tbody>\n",
       "</table>\n",
       "</div>"
      ],
      "text/plain": [
       "                                              name          doid\n",
       "15858                 popliteal pterygium syndrome  DOID:0060055\n",
       "15435                   central diabetes insipidus  DOID:0081055\n",
       "10979  congenital generalized lipodystrophy type 2  DOID:0111136\n",
       "11122                              Werner syndrome     DOID:5688\n",
       "16171                         adrenoleukodystrophy    DOID:10588"
      ]
     },
     "execution_count": 117,
     "metadata": {},
     "output_type": "execute_result"
    }
   ],
   "source": [
    "data_doid_diseases_with_genes_false.head()"
   ]
  },
  {
   "cell_type": "code",
   "execution_count": 118,
   "id": "b8e5f86a-56e1-4867-a8ef-4fd16f3feecb",
   "metadata": {},
   "outputs": [],
   "source": [
    "data_doid_diseases_with_genes_true.to_csv(\"../../../data/benchmark_datasets/mondo/mondo_doid_true.csv\", index=False, header=True)\n",
    "\n"
   ]
  },
  {
   "cell_type": "code",
   "execution_count": 119,
   "id": "dee9c76e-7e97-469f-9830-32dce15b7e51",
   "metadata": {},
   "outputs": [
    {
     "data": {
      "text/html": [
       "<div>\n",
       "<style scoped>\n",
       "    .dataframe tbody tr th:only-of-type {\n",
       "        vertical-align: middle;\n",
       "    }\n",
       "\n",
       "    .dataframe tbody tr th {\n",
       "        vertical-align: top;\n",
       "    }\n",
       "\n",
       "    .dataframe thead th {\n",
       "        text-align: right;\n",
       "    }\n",
       "</style>\n",
       "<table border=\"1\" class=\"dataframe\">\n",
       "  <thead>\n",
       "    <tr style=\"text-align: right;\">\n",
       "      <th></th>\n",
       "      <th>name</th>\n",
       "      <th>doid</th>\n",
       "    </tr>\n",
       "  </thead>\n",
       "  <tbody>\n",
       "    <tr>\n",
       "      <th>15858</th>\n",
       "      <td>popliteal pterygium syndrome</td>\n",
       "      <td>DOID:0050756</td>\n",
       "    </tr>\n",
       "    <tr>\n",
       "      <th>15435</th>\n",
       "      <td>central diabetes insipidus</td>\n",
       "      <td>DOID:350</td>\n",
       "    </tr>\n",
       "    <tr>\n",
       "      <th>10979</th>\n",
       "      <td>congenital generalized lipodystrophy type 2</td>\n",
       "      <td>DOID:10588</td>\n",
       "    </tr>\n",
       "    <tr>\n",
       "      <th>11122</th>\n",
       "      <td>Werner syndrome</td>\n",
       "      <td>DOID:0050466</td>\n",
       "    </tr>\n",
       "    <tr>\n",
       "      <th>16171</th>\n",
       "      <td>adrenoleukodystrophy</td>\n",
       "      <td>DOID:0060844</td>\n",
       "    </tr>\n",
       "  </tbody>\n",
       "</table>\n",
       "</div>"
      ],
      "text/plain": [
       "                                              name          doid\n",
       "15858                 popliteal pterygium syndrome  DOID:0050756\n",
       "15435                   central diabetes insipidus      DOID:350\n",
       "10979  congenital generalized lipodystrophy type 2    DOID:10588\n",
       "11122                              Werner syndrome  DOID:0050466\n",
       "16171                         adrenoleukodystrophy  DOID:0060844"
      ]
     },
     "execution_count": 119,
     "metadata": {},
     "output_type": "execute_result"
    }
   ],
   "source": [
    "doid_ids = data_doid_diseases_with_genes_false.doid.values\n",
    "data_doid_diseases_with_genes_false.drop(\"doid\", axis=1, inplace=True)\n",
    "np.random.shuffle(doid_ids)\n",
    "data_doid_diseases_with_genes_false.loc[:, \"doid\"] = doid_ids\n",
    "\n",
    "data_doid_diseases_with_genes_false.head()\n"
   ]
  },
  {
   "cell_type": "code",
   "execution_count": 120,
   "id": "0964a4ec-dea4-4184-bd2b-82dd79e82d43",
   "metadata": {},
   "outputs": [],
   "source": [
    "data_doid_diseases_with_genes_false.to_csv(\"../../../data/benchmark_datasets/mondo/mondo_doid_false.csv\", index=False, header=True)\n"
   ]
  },
  {
   "cell_type": "code",
   "execution_count": null,
   "id": "292090ae-8930-4a45-9c56-afaf369aa96b",
   "metadata": {},
   "outputs": [],
   "source": []
  },
  {
   "cell_type": "code",
   "execution_count": 121,
   "id": "9aa84672-0c34-4789-829f-1d49eaa32c96",
   "metadata": {},
   "outputs": [],
   "source": [
    "doids_already_taken = np.concatenate([data_doid_diseases_with_genes_true.doid.values, data_doid_diseases_with_genes_false.doid.values])\n",
    "\n",
    "data_for_isa = data_doid_diseases_with_genes[~data_doid_diseases_with_genes.doid.isin(doids_already_taken)]\n",
    "data_isa = data[data.doid.isin(data_for_isa.doid)].drop_duplicates(subset=[\"name\", \"doid\"])\n",
    "data_isa.to_csv(\"../../../data/benchmark_datasets/mondo/mondo_isa_data.csv\", index=False, header=True)\n"
   ]
  },
  {
   "cell_type": "code",
   "execution_count": null,
   "id": "66806bf4-e126-4ea0-86f0-90be544bb650",
   "metadata": {},
   "outputs": [],
   "source": []
  }
 ],
 "metadata": {
  "kernelspec": {
   "display_name": "Python 3 (ipykernel)",
   "language": "python",
   "name": "python3"
  },
  "language_info": {
   "codemirror_mode": {
    "name": "ipython",
    "version": 3
   },
   "file_extension": ".py",
   "mimetype": "text/x-python",
   "name": "python",
   "nbconvert_exporter": "python",
   "pygments_lexer": "ipython3",
   "version": "3.10.9"
  }
 },
 "nbformat": 4,
 "nbformat_minor": 5
}
