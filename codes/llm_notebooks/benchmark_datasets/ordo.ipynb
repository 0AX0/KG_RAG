{
 "cells": [
  {
   "cell_type": "code",
   "execution_count": 1,
   "id": "f5ccedf2-25f1-4c11-9a32-c3b75581c507",
   "metadata": {},
   "outputs": [
    {
     "name": "stderr",
     "output_type": "stream",
     "text": [
      "\n",
      "Warning: SQLite3 version 3.40.0 and 3.41.2 have huge performance regressions; please install version 3.41.1 or 3.42!\n",
      "\n"
     ]
    }
   ],
   "source": [
    "from owlready2 import get_ontology\n"
   ]
  },
  {
   "cell_type": "code",
   "execution_count": 2,
   "id": "35591332-d5e0-48f8-a32e-160369be90d9",
   "metadata": {},
   "outputs": [],
   "source": [
    "DATA_PATH = \"../../../data/benchmark_datasets/ordo/ORDO_en_4.3.owl\"\n"
   ]
  },
  {
   "cell_type": "code",
   "execution_count": 3,
   "id": "d1fdd7a0-e50e-45a0-9286-e697c097a617",
   "metadata": {},
   "outputs": [],
   "source": [
    "onto = get_ontology(DATA_PATH).load()\n"
   ]
  },
  {
   "cell_type": "code",
   "execution_count": 22,
   "id": "e8d465d3-82cc-4280-828d-5371b8861f3f",
   "metadata": {},
   "outputs": [
    {
     "data": {
      "text/plain": [
       "['__class__',\n",
       " '__delattr__',\n",
       " '__dict__',\n",
       " '__dir__',\n",
       " '__doc__',\n",
       " '__enter__',\n",
       " '__eq__',\n",
       " '__exit__',\n",
       " '__format__',\n",
       " '__ge__',\n",
       " '__getattr__',\n",
       " '__getattribute__',\n",
       " '__getitem__',\n",
       " '__gt__',\n",
       " '__hash__',\n",
       " '__init__',\n",
       " '__init_subclass__',\n",
       " '__le__',\n",
       " '__lt__',\n",
       " '__module__',\n",
       " '__ne__',\n",
       " '__new__',\n",
       " '__reduce__',\n",
       " '__reduce_ex__',\n",
       " '__repr__',\n",
       " '__setattr__',\n",
       " '__sizeof__',\n",
       " '__str__',\n",
       " '__subclasshook__',\n",
       " '__weakref__',\n",
       " '_abbreviate',\n",
       " '_add_annotation_axiom',\n",
       " '_add_data_triple_raw_spod',\n",
       " '_add_data_triple_raw_spodsd',\n",
       " '_add_data_triple_spod',\n",
       " '_add_obj_triple_raw_spo',\n",
       " '_add_obj_triple_spo',\n",
       " '_base_iri',\n",
       " '_bnodes',\n",
       " '_del_annotation_axiom',\n",
       " '_del_data_triple_raw_spod',\n",
       " '_del_data_triple_raw_spodsd',\n",
       " '_del_data_triple_spod',\n",
       " '_del_list',\n",
       " '_del_obj_triple_raw_spo',\n",
       " '_del_obj_triple_spo',\n",
       " '_destroy_cached_entities',\n",
       " '_entity_destroyed',\n",
       " '_get_annotation_axioms',\n",
       " '_get_data_triple_sp_od',\n",
       " '_get_data_triples_s_pod',\n",
       " '_get_data_triples_sp_od',\n",
       " '_get_data_triples_spod_spod',\n",
       " '_get_obj_triple_po_s',\n",
       " '_get_obj_triple_sp_o',\n",
       " '_get_obj_triples_cspo',\n",
       " '_get_obj_triples_cspo_cspo',\n",
       " '_get_obj_triples_o_p',\n",
       " '_get_obj_triples_pio_s',\n",
       " '_get_obj_triples_po_s',\n",
       " '_get_obj_triples_s_po',\n",
       " '_get_obj_triples_sp_co',\n",
       " '_get_obj_triples_sp_o',\n",
       " '_get_obj_triples_spi_o',\n",
       " '_get_obj_triples_spo_spo',\n",
       " '_get_obj_triples_transitive_po',\n",
       " '_get_obj_triples_transitive_sp',\n",
       " '_get_obj_triples_transitive_sp_indirect',\n",
       " '_get_obj_triples_transitive_sym',\n",
       " '_get_triple_sp_od',\n",
       " '_get_triples_s_p',\n",
       " '_get_triples_s_pod',\n",
       " '_get_triples_sp_od',\n",
       " '_get_triples_spod_spod',\n",
       " '_has_data_triple_spod',\n",
       " '_has_obj_triple_spo',\n",
       " '_import_changed',\n",
       " '_imported_ontologies',\n",
       " '_load_properties',\n",
       " '_namespaces',\n",
       " '_new_numbered_iri',\n",
       " '_orig_base_iri',\n",
       " '_parse_bnode',\n",
       " '_parse_list',\n",
       " '_parse_list_as_rdf',\n",
       " '_refactor',\n",
       " '_refactor_onto',\n",
       " '_reload_bnode',\n",
       " '_set_data_triple_raw_spod',\n",
       " '_set_data_triple_raw_spodsd',\n",
       " '_set_data_triple_spod',\n",
       " '_set_list',\n",
       " '_set_list_as_rdf',\n",
       " '_set_obj_triple_raw_spo',\n",
       " '_set_obj_triple_spo',\n",
       " '_to_python',\n",
       " '_to_rdf',\n",
       " '_unabbreviate',\n",
       " 'annotation_properties',\n",
       " 'base_iri',\n",
       " 'classes',\n",
       " 'data_properties',\n",
       " 'destroy',\n",
       " 'different_individuals',\n",
       " 'disjoint_classes',\n",
       " 'disjoint_properties',\n",
       " 'disjoints',\n",
       " 'general_class_axioms',\n",
       " 'get_base_iri',\n",
       " 'get_children_of',\n",
       " 'get_imported_ontologies',\n",
       " 'get_instances_of',\n",
       " 'get_namespace',\n",
       " 'get_parents_of',\n",
       " 'get_python_module',\n",
       " 'get_triples',\n",
       " 'graph',\n",
       " 'imported_ontologies',\n",
       " 'inconsistent_classes',\n",
       " 'indirectly_imported_ontologies',\n",
       " 'individuals',\n",
       " 'load',\n",
       " 'loaded',\n",
       " 'metadata',\n",
       " 'name',\n",
       " 'object_properties',\n",
       " 'ontology',\n",
       " 'properties',\n",
       " 'python_module',\n",
       " 'rules',\n",
       " 'save',\n",
       " 'search',\n",
       " 'search_one',\n",
       " 'set_base_iri',\n",
       " 'set_imported_ontologies',\n",
       " 'set_python_module',\n",
       " 'storid',\n",
       " 'variables',\n",
       " 'world']"
      ]
     },
     "execution_count": 22,
     "metadata": {},
     "output_type": "execute_result"
    }
   ],
   "source": [
    "dir(onto)\n"
   ]
  },
  {
   "cell_type": "code",
   "execution_count": 20,
   "id": "51d6a912-8d8e-46cc-8b36-8fddabffb65c",
   "metadata": {},
   "outputs": [
    {
     "data": {
      "text/plain": [
       "<bound method Ontology.get_children_of of get_ontology(\"https://www.orphadata.com/data/ontologies/ordo/last_version/ORDO_en_4.3.owl#\")>"
      ]
     },
     "execution_count": 20,
     "metadata": {},
     "output_type": "execute_result"
    }
   ],
   "source": [
    "onto.get_children_of"
   ]
  },
  {
   "cell_type": "code",
   "execution_count": 24,
   "id": "558dccee-df1f-4b60-a059-b946137443d1",
   "metadata": {},
   "outputs": [
    {
     "name": "stdout",
     "output_type": "stream",
     "text": [
      "b'<?xml version=\"1.0\"?>'\n"
     ]
    }
   ],
   "source": [
    "\n",
    "with open(DATA_PATH, \"rb\") as f:\n",
    "    for line in f:\n",
    "        print(line.strip())\n",
    "        break"
   ]
  },
  {
   "cell_type": "code",
   "execution_count": null,
   "id": "5d405d8a-75ec-4070-a334-3aef2fd170ac",
   "metadata": {},
   "outputs": [],
   "source": []
  }
 ],
 "metadata": {
  "kernelspec": {
   "display_name": "Python 3 (ipykernel)",
   "language": "python",
   "name": "python3"
  },
  "language_info": {
   "codemirror_mode": {
    "name": "ipython",
    "version": 3
   },
   "file_extension": ".py",
   "mimetype": "text/x-python",
   "name": "python",
   "nbconvert_exporter": "python",
   "pygments_lexer": "ipython3",
   "version": "3.10.9"
  }
 },
 "nbformat": 4,
 "nbformat_minor": 5
}
