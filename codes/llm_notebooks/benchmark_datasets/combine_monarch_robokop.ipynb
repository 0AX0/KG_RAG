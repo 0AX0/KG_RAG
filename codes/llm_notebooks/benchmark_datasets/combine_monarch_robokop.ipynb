{
 "cells": [
  {
   "cell_type": "code",
   "execution_count": 17,
   "id": "b26f08be",
   "metadata": {},
   "outputs": [],
   "source": [
    "import requests\n",
    "import pandas as pd\n",
    "import random\n",
    "import os\n",
    "from tqdm import tqdm\n",
    "from utility import *\n"
   ]
  },
  {
   "cell_type": "markdown",
   "id": "0cb282b1",
   "metadata": {},
   "source": [
    "# MONARCH"
   ]
  },
  {
   "cell_type": "code",
   "execution_count": 20,
   "id": "cca4db63",
   "metadata": {},
   "outputs": [],
   "source": [
    "def get_api_resp(URI, params=None):\n",
    "    if params:\n",
    "        return requests.get(URI, params=params)\n",
    "    else:\n",
    "        return requests.get(URI)\n",
    "    \n",
    "def get_association(URI, disease_id, params, object_attribute=\"label\"):\n",
    "    URI_ = URI.format(disease_id)\n",
    "    resp = get_api_resp(URI_, params=params)\n",
    "    if resp.status_code == 200:\n",
    "        response = resp.json()\n",
    "        associations = response[\"associations\"]\n",
    "        object_list = []\n",
    "        for item in associations:\n",
    "            object_list.append(item[\"object\"][object_attribute])\n",
    "        df = pd.DataFrame(object_list, columns=[\"object\"])\n",
    "        df[\"subject\"] = disease_id\n",
    "        return df\n",
    "    else:\n",
    "        return None\n",
    "    "
   ]
  },
  {
   "cell_type": "code",
   "execution_count": 21,
   "id": "c90a11d4",
   "metadata": {},
   "outputs": [],
   "source": [
    "DISEASE_GENE_URI = \"https://api.monarchinitiative.org/api/bioentity/disease/{}/genes\"\n",
    "DISEASE_VARIANT_URI = \"https://api.monarchinitiative.org/api/bioentity/disease/{}/variants\"\n",
    "\n",
    "disease_path = \"../../../data/benchmark_datasets/monarch/gwas_diseases.csv\"\n",
    "\n",
    "params = {}\n",
    "params[\"rows\"] = 2\n",
    "params[\"direct\"] = \"true\"\n",
    "params[\"direct_taxon\"] = \"true\"\n"
   ]
  },
  {
   "cell_type": "code",
   "execution_count": 22,
   "id": "917c7c65",
   "metadata": {},
   "outputs": [],
   "source": [
    "disease_df = pd.read_csv(disease_path)\n",
    "disease_df.columns = [\"disease_id\", \"disease_name\"]\n",
    "disease_df.disease_id = disease_df.disease_id.apply(lambda x:x.split('\"')[1])\n"
   ]
  },
  {
   "cell_type": "markdown",
   "id": "945b6b8f",
   "metadata": {},
   "source": [
    "## Disease-Gene "
   ]
  },
  {
   "cell_type": "code",
   "execution_count": 23,
   "id": "13301862",
   "metadata": {},
   "outputs": [
    {
     "name": "stderr",
     "output_type": "stream",
     "text": [
      "254it [01:47,  2.36it/s]\n",
      "254it [01:43,  2.46it/s]\n"
     ]
    }
   ],
   "source": [
    "edge_df_list = []\n",
    "\n",
    "for index, row in tqdm(disease_df.iterrows()):\n",
    "    edge_df_list.append(get_association(DISEASE_GENE_URI, row[\"disease_id\"], params))\n",
    "\n",
    "edge_df = pd.concat(edge_df_list, ignore_index=True)\n",
    "edge_df = pd.merge(edge_df, disease_df, left_on=\"subject\", right_on=\"disease_id\").drop([\"subject\", \"disease_id\"], axis=1)\n",
    "edge_df.disease_name = edge_df.disease_name.apply(lambda x:x.split('\"')[1])\n",
    "\n",
    "monarch_disease_gene_mcq = create_mcq_with_shuffle(edge_df, \"disease_name\", \"object\", \"Gene\", \"is associated with\")\n",
    "\n"
   ]
  },
  {
   "cell_type": "markdown",
   "id": "827bcc33",
   "metadata": {},
   "source": [
    "## Disease-Variant "
   ]
  },
  {
   "cell_type": "code",
   "execution_count": 51,
   "id": "17f8c3c7",
   "metadata": {},
   "outputs": [
    {
     "name": "stderr",
     "output_type": "stream",
     "text": [
      "254it [01:44,  2.43it/s]\n"
     ]
    }
   ],
   "source": [
    "edge_df_list_2 = []\n",
    "\n",
    "for index, row in tqdm(disease_df.iterrows()):\n",
    "    edge_df_list_2.append(get_association(DISEASE_VARIANT_URI, row[\"disease_id\"], params, object_attribute=\"id\"))\n",
    "\n",
    "edge_df_2 = pd.concat(edge_df_list_2, ignore_index=True)\n",
    "edge_df_2 = pd.merge(edge_df_2, disease_df, left_on=\"subject\", right_on=\"disease_id\").drop([\"subject\", \"disease_id\"], axis=1)\n",
    "edge_df_2.disease_name = edge_df_2.disease_name.apply(lambda x:x.split('\"')[1])\n",
    "edge_df_2.object = edge_df_2.object.apply(lambda x:x.split(\"dbSNP:\")[-1])\n",
    "\n",
    "monarch_disease_variant_mcq = create_mcq_with_shuffle(edge_df_2, \"disease_name\", \"object\", \"Variant\", \"is associated with\")\n"
   ]
  },
  {
   "cell_type": "markdown",
   "id": "d7868b8b",
   "metadata": {},
   "source": [
    "# ROBOKOP"
   ]
  },
  {
   "cell_type": "code",
   "execution_count": 52,
   "id": "09abb656",
   "metadata": {},
   "outputs": [],
   "source": [
    "ROBOKOP_PATH = \"../../../data/benchmark_datasets/robokop\"\n"
   ]
  },
  {
   "cell_type": "markdown",
   "id": "c167daa3",
   "metadata": {},
   "source": [
    "## Disease-Variant"
   ]
  },
  {
   "cell_type": "code",
   "execution_count": 53,
   "id": "6459e3bf",
   "metadata": {},
   "outputs": [],
   "source": [
    "FILES_LIST_2 = [\"disease_variant_1.csv\", \"disease_variant_2.csv\"]\n",
    "\n",
    "data_robokop = []\n",
    "for item in FILES_LIST_2:\n",
    "    data_robokop.append(pd.read_csv(os.path.join(ROBOKOP_PATH, item)))\n",
    "    \n",
    "data_robokop = pd.concat(data_robokop, ignore_index=True)\n",
    "data_robokop.columns = [\"source\", \"target\"]\n",
    "\n",
    "robokop_disease_variant_mcq = create_mcq_with_shuffle(data_robokop, \"source\", \"target\", \"Variant\", \"is associated with\")\n"
   ]
  },
  {
   "cell_type": "markdown",
   "id": "254f3601",
   "metadata": {},
   "source": [
    "## Diseaes-Organism "
   ]
  },
  {
   "cell_type": "code",
   "execution_count": 58,
   "id": "4ed885dc",
   "metadata": {},
   "outputs": [],
   "source": [
    "FILES_LIST_3 = [\"disease_organism_1.csv\"]\n",
    "\n",
    "data_robokop = []\n",
    "for item in FILES_LIST_3:\n",
    "    data_robokop.append(pd.read_csv(os.path.join(ROBOKOP_PATH, item)))\n",
    "    \n",
    "data_robokop = pd.concat(data_robokop, ignore_index=True)\n",
    "data_robokop.columns = [\"source\", \"target\"]\n",
    "\n",
    "robokop_disease_organism_mcq = create_mcq_with_shuffle(data_robokop, \"source\", \"target\", \"Organism\", \"causes\")\n"
   ]
  },
  {
   "cell_type": "code",
   "execution_count": 61,
   "id": "94ada472",
   "metadata": {},
   "outputs": [],
   "source": [
    "data_combined = pd.concat([monarch_disease_gene_mcq, monarch_disease_variant_mcq, robokop_disease_variant_mcq, robokop_disease_organism_mcq], ignore_index=True)\n",
    "\n"
   ]
  },
  {
   "cell_type": "code",
   "execution_count": 66,
   "id": "810e7ad6",
   "metadata": {},
   "outputs": [],
   "source": [
    "data_combined.to_csv(\"../../../data/benchmark_datasets/test_questions_two_hop_mcq_from_monarch_and_robokop.csv\", index=False, header=True)\n",
    "\n"
   ]
  },
  {
   "cell_type": "code",
   "execution_count": null,
   "id": "800990b8",
   "metadata": {},
   "outputs": [],
   "source": []
  }
 ],
 "metadata": {
  "kernelspec": {
   "display_name": "Python 3 (ipykernel)",
   "language": "python",
   "name": "python3"
  },
  "language_info": {
   "codemirror_mode": {
    "name": "ipython",
    "version": 3
   },
   "file_extension": ".py",
   "mimetype": "text/x-python",
   "name": "python",
   "nbconvert_exporter": "python",
   "pygments_lexer": "ipython3",
   "version": "3.10.9"
  }
 },
 "nbformat": 4,
 "nbformat_minor": 5
}
