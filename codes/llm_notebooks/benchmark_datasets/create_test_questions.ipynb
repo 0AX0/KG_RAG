{
 "cells": [
  {
   "cell_type": "code",
   "execution_count": 1,
   "id": "1ac643e7",
   "metadata": {},
   "outputs": [
    {
     "data": {
      "text/plain": [
       "'\\nThis notebook creates test questions from the already parsed data from the following databases:\\n    1. DisGeNET (Disease-Gene and Disease-Variant associations)\\n    2. MONDO (Disease ontology associations)\\n    3. SemMedDB (Disease-Drug associations)\\n'"
      ]
     },
     "execution_count": 1,
     "metadata": {},
     "output_type": "execute_result"
    }
   ],
   "source": [
    "\"\"\"\n",
    "This notebook creates test questions from the already parsed data from the following databases:\n",
    "    1. DisGeNET (Disease-Gene and Disease-Variant associations)\n",
    "    2. MONDO (Disease ontology associations)\n",
    "    3. SemMedDB (Disease-Drug associations)\n",
    "\"\"\""
   ]
  },
  {
   "cell_type": "code",
   "execution_count": 2,
   "id": "0755ed99",
   "metadata": {},
   "outputs": [],
   "source": [
    "import pandas as pd\n"
   ]
  },
  {
   "cell_type": "code",
   "execution_count": 3,
   "id": "a98af1bd",
   "metadata": {},
   "outputs": [],
   "source": [
    "DisGeNET_DISEASE_GENE_DATA_PATH = \"../../../data/benchmark_datasets/disgenet/disease_gene_association_with_score_1_from_disgenet.csv\"\n",
    "DisGeNET_DISEASE_VARIANT_DATA_PATH = \"../../../data/benchmark_datasets/disgenet/disease_variant_association_with_score_greater_than_point_9_from_disgenet.csv\"\n",
    "\n",
    "MONDO_DISEASE_ONTOLOGY_DATA_PATH = \"../../../data/benchmark_datasets/mondo/mondo_isa_data.csv\"\n",
    "MONDO_TRUE_ASSOCIATIONS_DATA_PATH = \"../../../data/benchmark_datasets/mondo/mondo_doid_true.csv\"\n",
    "MONDO_FALSE_ASSOCIATIONS_DATA_PATH = \"../../../data/benchmark_datasets/mondo/mondo_doid_false.csv\"\n",
    "\n",
    "SemMedDB_DISEASE_DRUG_DATA_PATH = \"../../../data/benchmark_datasets/semmeddb/compound_treats_disease_from_semmeddb.csv\"\n"
   ]
  },
  {
   "cell_type": "code",
   "execution_count": 4,
   "id": "06e49064",
   "metadata": {},
   "outputs": [],
   "source": [
    "DisGeNET_gene_disease_df = pd.read_csv(DisGeNET_DISEASE_GENE_DATA_PATH)\n",
    "DisGeNET_variant_disease_df = pd.read_csv(DisGeNET_DISEASE_VARIANT_DATA_PATH)\n",
    "\n",
    "MONDO_DISEASE_ONTOLOGY_DATA = pd.read_csv(MONDO_DISEASE_ONTOLOGY_DATA_PATH)\n",
    "MONDO_TRUE_ASSOCIATIONS_DATA = pd.read_csv(MONDO_TRUE_ASSOCIATIONS_DATA_PATH)\n",
    "MONDO_FALSE_ASSOCIATIONS_DATA = pd.read_csv(MONDO_FALSE_ASSOCIATIONS_DATA_PATH)\n",
    "\n",
    "SemMedDB_DISEASE_DRUG_DATA = pd.read_csv(SemMedDB_DISEASE_DRUG_DATA_PATH)\n"
   ]
  },
  {
   "cell_type": "code",
   "execution_count": 5,
   "id": "0e9bc5c3",
   "metadata": {},
   "outputs": [],
   "source": [
    "random_state = 42\n",
    "DisGeNET_gene_disease_df_false_samples = DisGeNET_gene_disease_df.sample(n=150, random_state=random_state)\n",
    "DisGeNET_gene_disease_df_true_samples = DisGeNET_gene_disease_df.drop(DisGeNET_gene_disease_df_false_samples.index)\n",
    "DisGeNET_gene_disease_df_true_samples.loc[:, \"text\"] = DisGeNET_gene_disease_df_true_samples[\"diseaseName\"] + \" associates \" + \"Gene \"+ DisGeNET_gene_disease_df_true_samples[\"geneName\"]\n",
    "DisGeNET_gene_disease_df_true_samples.loc[:, \"label\"] = \"True\"\n",
    "DisGeNET_gene_disease_df_false_samples.loc[:, \"text\"] = DisGeNET_gene_disease_df_false_samples[\"diseaseName\"] + \" is not associated with \" + \"Gene \"+ DisGeNET_gene_disease_df_false_samples[\"geneName\"]\n",
    "DisGeNET_gene_disease_df_false_samples.loc[:, \"label\"] = \"False\"\n",
    "\n",
    "\n",
    "DisGeNET_variant_disease_df_false_samples = DisGeNET_variant_disease_df.sample(n=2, random_state=random_state)\n",
    "DisGeNET_variant_disease_df_true_samples = DisGeNET_variant_disease_df.drop(DisGeNET_variant_disease_df_false_samples.index)\n",
    "DisGeNET_variant_disease_df_true_samples.loc[:, \"text\"] = \"Variant \"+ DisGeNET_variant_disease_df_true_samples[\"variantId\"] + \" associates \" + DisGeNET_variant_disease_df_true_samples[\"diseaseName\"]\n",
    "DisGeNET_variant_disease_df_true_samples.loc[:, \"label\"] = \"True\"\n",
    "DisGeNET_variant_disease_df_false_samples.loc[:, \"text\"] = \"Variant \"+ DisGeNET_variant_disease_df_false_samples[\"variantId\"] + \" is not associated with \" + DisGeNET_variant_disease_df_false_samples[\"diseaseName\"]\n",
    "DisGeNET_variant_disease_df_false_samples.loc[:, \"label\"] = \"False\"\n",
    "\n"
   ]
  },
  {
   "cell_type": "code",
   "execution_count": 38,
   "id": "387dad1b",
   "metadata": {},
   "outputs": [],
   "source": [
    "MONDO_DISEASE_ONTOLOGY_DATA_false_samples = MONDO_DISEASE_ONTOLOGY_DATA.sample(n=30, random_state=random_state)\n",
    "MONDO_DISEASE_ONTOLOGY_DATA_true_samples = MONDO_DISEASE_ONTOLOGY_DATA.drop(MONDO_DISEASE_ONTOLOGY_DATA_false_samples.index)\n",
    "MONDO_DISEASE_ONTOLOGY_DATA_true_samples.loc[:, \"text\"] = MONDO_DISEASE_ONTOLOGY_DATA_true_samples.name + \" is a \" + MONDO_DISEASE_ONTOLOGY_DATA_true_samples.isa\n",
    "MONDO_DISEASE_ONTOLOGY_DATA_true_samples.loc[:, \"label\"] = \"True\"\n",
    "MONDO_DISEASE_ONTOLOGY_DATA_false_samples.loc[:, \"text\"] = MONDO_DISEASE_ONTOLOGY_DATA_false_samples.name + \" is not a \" + MONDO_DISEASE_ONTOLOGY_DATA_false_samples.isa\n",
    "MONDO_DISEASE_ONTOLOGY_DATA_false_samples.loc[:, \"label\"] = \"False\"\n",
    "\n",
    "\n",
    "MONDO_TRUE_ASSOCIATIONS_DATA.loc[:, \"text\"] = \"Disease ontology identifier for \" + MONDO_TRUE_ASSOCIATIONS_DATA.name + \" is \" + MONDO_TRUE_ASSOCIATIONS_DATA.doid\n",
    "MONDO_TRUE_ASSOCIATIONS_DATA.loc[:, \"label\"] = \"True\"\n",
    "MONDO_FALSE_ASSOCIATIONS_DATA.loc[:, \"text\"] = \"Disease ontology identifier for \" + MONDO_FALSE_ASSOCIATIONS_DATA.name + \" is \" + MONDO_FALSE_ASSOCIATIONS_DATA.doid\n",
    "MONDO_FALSE_ASSOCIATIONS_DATA.loc[:, \"label\"] = \"False\"\n"
   ]
  },
  {
   "cell_type": "code",
   "execution_count": 39,
   "id": "b8d935bb",
   "metadata": {},
   "outputs": [],
   "source": [
    "\n",
    "SemMedDB_DISEASE_DRUG_DATA.loc[:, \"text\"] = SemMedDB_DISEASE_DRUG_DATA.subject + \" treats \" + SemMedDB_DISEASE_DRUG_DATA.object\n",
    "SemMedDB_DISEASE_DRUG_DATA.loc[:, \"label\"] = \"True\"\n",
    "\n"
   ]
  },
  {
   "cell_type": "code",
   "execution_count": 66,
   "id": "16786796",
   "metadata": {},
   "outputs": [
    {
     "data": {
      "text/html": [
       "<div>\n",
       "<style scoped>\n",
       "    .dataframe tbody tr th:only-of-type {\n",
       "        vertical-align: middle;\n",
       "    }\n",
       "\n",
       "    .dataframe tbody tr th {\n",
       "        vertical-align: top;\n",
       "    }\n",
       "\n",
       "    .dataframe thead th {\n",
       "        text-align: right;\n",
       "    }\n",
       "</style>\n",
       "<table border=\"1\" class=\"dataframe\">\n",
       "  <thead>\n",
       "    <tr style=\"text-align: right;\">\n",
       "      <th></th>\n",
       "      <th>text</th>\n",
       "      <th>label</th>\n",
       "    </tr>\n",
       "  </thead>\n",
       "  <tbody>\n",
       "    <tr>\n",
       "      <th>460</th>\n",
       "      <td>enhanced S-cone syndrome is not a vitreoretina...</td>\n",
       "      <td>False</td>\n",
       "    </tr>\n",
       "    <tr>\n",
       "      <th>568</th>\n",
       "      <td>metronidazole treats crohn's disease</td>\n",
       "      <td>True</td>\n",
       "    </tr>\n",
       "    <tr>\n",
       "      <th>275</th>\n",
       "      <td>KLEEFSTRA SYNDROME 1 is not associated with Ge...</td>\n",
       "      <td>False</td>\n",
       "    </tr>\n",
       "    <tr>\n",
       "      <th>292</th>\n",
       "      <td>STARGARDT DISEASE 1 (disorder) is not associat...</td>\n",
       "      <td>False</td>\n",
       "    </tr>\n",
       "    <tr>\n",
       "      <th>119</th>\n",
       "      <td>Juvenile polyposis syndrome associates Gene SMAD4</td>\n",
       "      <td>True</td>\n",
       "    </tr>\n",
       "    <tr>\n",
       "      <th>...</th>\n",
       "      <td>...</td>\n",
       "      <td>...</td>\n",
       "    </tr>\n",
       "    <tr>\n",
       "      <th>419</th>\n",
       "      <td>alpha-mannosidosis is a eye disorder</td>\n",
       "      <td>True</td>\n",
       "    </tr>\n",
       "    <tr>\n",
       "      <th>120</th>\n",
       "      <td>Juvenile polyposis syndrome associates Gene BM...</td>\n",
       "      <td>True</td>\n",
       "    </tr>\n",
       "    <tr>\n",
       "      <th>368</th>\n",
       "      <td>Diabetes Mellitus, Non-Insulin-Dependent is no...</td>\n",
       "      <td>False</td>\n",
       "    </tr>\n",
       "    <tr>\n",
       "      <th>48</th>\n",
       "      <td>Menkes Kinky Hair Syndrome associates Gene ATP7A</td>\n",
       "      <td>True</td>\n",
       "    </tr>\n",
       "    <tr>\n",
       "      <th>207</th>\n",
       "      <td>Kabuki make-up syndrome associates Gene KMT2D</td>\n",
       "      <td>True</td>\n",
       "    </tr>\n",
       "  </tbody>\n",
       "</table>\n",
       "<p>609 rows × 2 columns</p>\n",
       "</div>"
      ],
      "text/plain": [
       "                                                  text  label\n",
       "460  enhanced S-cone syndrome is not a vitreoretina...  False\n",
       "568               metronidazole treats crohn's disease   True\n",
       "275  KLEEFSTRA SYNDROME 1 is not associated with Ge...  False\n",
       "292  STARGARDT DISEASE 1 (disorder) is not associat...  False\n",
       "119  Juvenile polyposis syndrome associates Gene SMAD4   True\n",
       "..                                                 ...    ...\n",
       "419               alpha-mannosidosis is a eye disorder   True\n",
       "120  Juvenile polyposis syndrome associates Gene BM...   True\n",
       "368  Diabetes Mellitus, Non-Insulin-Dependent is no...  False\n",
       "48    Menkes Kinky Hair Syndrome associates Gene ATP7A   True\n",
       "207      Kabuki make-up syndrome associates Gene KMT2D   True\n",
       "\n",
       "[609 rows x 2 columns]"
      ]
     },
     "execution_count": 66,
     "metadata": {},
     "output_type": "execute_result"
    }
   ],
   "source": [
    "columns_to_take = [\"text\", \"label\"]\n",
    "test_questions = pd.concat([DisGeNET_gene_disease_df_true_samples[columns_to_take], \n",
    "                            DisGeNET_gene_disease_df_false_samples[columns_to_take],\n",
    "                            DisGeNET_variant_disease_df_true_samples[columns_to_take],\n",
    "                            DisGeNET_variant_disease_df_false_samples[columns_to_take],\n",
    "                            MONDO_DISEASE_ONTOLOGY_DATA_true_samples[columns_to_take],\n",
    "                            MONDO_DISEASE_ONTOLOGY_DATA_false_samples[columns_to_take],\n",
    "                            MONDO_TRUE_ASSOCIATIONS_DATA[columns_to_take],\n",
    "                            MONDO_FALSE_ASSOCIATIONS_DATA[columns_to_take],\n",
    "                            SemMedDB_DISEASE_DRUG_DATA[columns_to_take]\n",
    "                            ], ignore_index=True)\n",
    "test_questions = test_questions.sample(frac=1, random_state=21)\n",
    "test_questions\n"
   ]
  },
  {
   "cell_type": "code",
   "execution_count": 68,
   "id": "2da56cc0",
   "metadata": {},
   "outputs": [],
   "source": [
    "test_questions.to_csv(\"../../../data/benchmark_datasets/test_questions.csv\", index=False, header=True)\n"
   ]
  },
  {
   "cell_type": "code",
   "execution_count": null,
   "id": "f2302486",
   "metadata": {},
   "outputs": [],
   "source": []
  },
  {
   "cell_type": "code",
   "execution_count": 20,
   "id": "b7d1cca0",
   "metadata": {},
   "outputs": [],
   "source": [
    "test_questions = pd.read_csv(\"../../../data/benchmark_datasets/test_questions_two_hop_mcq.csv\")"
   ]
  },
  {
   "cell_type": "code",
   "execution_count": 21,
   "id": "fc7fbfe4",
   "metadata": {},
   "outputs": [
    {
     "data": {
      "text/plain": [
       "'Out of the given list, which Variant is associated with both cerebrooculofacioskeletal syndrome 1 and cerebrooculofacioskeletal syndrome 2. Given list is: rs200665173, rs1026438103, rs886047027, rs886047033, rs886047024'"
      ]
     },
     "execution_count": 21,
     "metadata": {},
     "output_type": "execute_result"
    }
   ],
   "source": [
    "test_questions.text.values[0]"
   ]
  },
  {
   "cell_type": "code",
   "execution_count": 22,
   "id": "fb6f04c5",
   "metadata": {},
   "outputs": [
    {
     "data": {
      "text/plain": [
       "correct_type                                                Variant\n",
       "disease_1                      cerebrooculofacioskeletal syndrome 1\n",
       "disease_2                      cerebrooculofacioskeletal syndrome 2\n",
       "correct_node                                            rs200665173\n",
       "negative_nodes    rs1026438103, rs886047027, rs886047033, rs8860...\n",
       "text              Out of the given list, which Variant is associ...\n",
       "Name: 0, dtype: object"
      ]
     },
     "execution_count": 22,
     "metadata": {},
     "output_type": "execute_result"
    }
   ],
   "source": [
    "test_questions.iloc[0]"
   ]
  },
  {
   "cell_type": "code",
   "execution_count": null,
   "id": "c43cc78a",
   "metadata": {},
   "outputs": [],
   "source": []
  }
 ],
 "metadata": {
  "kernelspec": {
   "display_name": "Python 3 (ipykernel)",
   "language": "python",
   "name": "python3"
  },
  "language_info": {
   "codemirror_mode": {
    "name": "ipython",
    "version": 3
   },
   "file_extension": ".py",
   "mimetype": "text/x-python",
   "name": "python",
   "nbconvert_exporter": "python",
   "pygments_lexer": "ipython3",
   "version": "3.10.9"
  }
 },
 "nbformat": 4,
 "nbformat_minor": 5
}
