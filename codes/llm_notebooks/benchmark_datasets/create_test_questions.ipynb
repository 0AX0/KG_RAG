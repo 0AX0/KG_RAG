{
 "cells": [
  {
   "cell_type": "code",
   "execution_count": null,
   "id": "1ac643e7",
   "metadata": {},
   "outputs": [],
   "source": [
    "\"\"\"\n",
    "This notebook creates test questions from the already parsed data from the following databases:\n",
    "    1. DisGeNET (Disease-Gene and Disease-Variant associations)\n",
    "    2. MONDO (Disease ontology associations)\n",
    "    3. SemMedDB (Disease-Drug associations)\n",
    "\"\"\""
   ]
  },
  {
   "cell_type": "code",
   "execution_count": 2,
   "id": "0755ed99",
   "metadata": {},
   "outputs": [],
   "source": [
    "import pandas as pd\n"
   ]
  },
  {
   "cell_type": "code",
   "execution_count": 6,
   "id": "a98af1bd",
   "metadata": {},
   "outputs": [],
   "source": [
    "DisGeNET_DISEASE_GENE_DATA_PATH = \"../../../data/benchmark_datasets/disgenet/disease_gene_association_with_score_1_from_disgenet.csv\"\n",
    "DisGeNET_DISEASE_VARIANT_DATA_PATH = \"../../../data/benchmark_datasets/disgenet/disease_variant_association_with_score_greater_than_point_9_from_disgenet.csv\"\n",
    "\n",
    "MONDO_DISEASE_ONTOLOGY_DATA_PATH = \"../../../data/benchmark_datasets/mondo/mondo_isa_data.csv\"\n",
    "MONDO_TRUE_ASSOCIATIONS_DATA_PATH = \"../../../data/benchmark_datasets/mondo/mondo_doid_true.csv\"\n",
    "MONDO_FALSE_ASSOCIATIONS_DATA_PATH = \"../../../data/benchmark_datasets/mondo/mondo_doid_false.csv\"\n",
    "\n",
    "SemMedDB_DISEASE_DRUG_DATA_PATH = \"../../../data/benchmark_datasets/semmeddb/compound_treats_disease_from_semmeddb.csv\"\n"
   ]
  },
  {
   "cell_type": "code",
   "execution_count": 8,
   "id": "06e49064",
   "metadata": {},
   "outputs": [],
   "source": [
    "DisGeNET_gene_disease_df = pd.read_csv(DisGeNET_DISEASE_GENE_DATA_PATH)\n",
    "DisGeNET_variant_disease_df = pd.read_csv(DisGeNET_DISEASE_VARIANT_DATA_PATH)\n",
    "\n",
    "MONDO_DISEASE_ONTOLOGY_DATA = pd.read_csv(MONDO_DISEASE_ONTOLOGY_DATA_PATH)\n",
    "MONDO_TRUE_ASSOCIATIONS_DATA = pd.read_csv(MONDO_TRUE_ASSOCIATIONS_DATA_PATH)\n",
    "MONDO_FALSE_ASSOCIATIONS_DATA = pd.read_csv(MONDO_FALSE_ASSOCIATIONS_DATA_PATH)\n",
    "\n",
    "SemMedDB_DISEASE_DRUG_DATA = pd.read_csv(SemMedDB_DISEASE_DRUG_DATA_PATH)\n"
   ]
  },
  {
   "cell_type": "code",
   "execution_count": 25,
   "id": "72a3d017",
   "metadata": {},
   "outputs": [],
   "source": [
    "DisGeNET_gene_disease_df.loc[:, \"text\"] = DisGeNET_gene_disease_df[\"diseaseName\"] + \" associates \" + \"Gene \"+ DisGeNET_gene_disease_df[\"geneName\"]\n",
    "DisGeNET_gene_disease_df.loc[:, \"label\"] = \"True\"\n",
    "\n",
    "DisGeNET_variant_disease_df.loc[:, \"text\"] = \"Variant \"+ DisGeNET_variant_disease_df[\"variantId\"] + \" associates \" + DisGeNET_variant_disease_df[\"diseaseName\"]\n",
    "DisGeNET_variant_disease_df.loc[:, \"label\"] = \"True\"\n"
   ]
  },
  {
   "cell_type": "code",
   "execution_count": 26,
   "id": "8ea59e07",
   "metadata": {},
   "outputs": [],
   "source": [
    "MONDO_DISEASE_ONTOLOGY_DATA.loc[:, \"text\"] = MONDO_DISEASE_ONTOLOGY_DATA.name + \" is a \" + MONDO_DISEASE_ONTOLOGY_DATA.isa\n",
    "MONDO_DISEASE_ONTOLOGY_DATA.loc[:, \"label\"] = \"True\"\n"
   ]
  },
  {
   "cell_type": "code",
   "execution_count": 27,
   "id": "09768217",
   "metadata": {},
   "outputs": [],
   "source": [
    "MONDO_TRUE_ASSOCIATIONS_DATA.loc[:, \"text\"] = \"Disease ontology identifier for \" + MONDO_TRUE_ASSOCIATIONS_DATA.name + \" is \" + MONDO_TRUE_ASSOCIATIONS_DATA.doid\n",
    "MONDO_TRUE_ASSOCIATIONS_DATA.loc[:, \"label\"] = \"True\"\n",
    "\n",
    "MONDO_FALSE_ASSOCIATIONS_DATA.loc[:, \"text\"] = \"Disease ontology identifier for \" + MONDO_FALSE_ASSOCIATIONS_DATA.name + \" is \" + MONDO_FALSE_ASSOCIATIONS_DATA.doid\n",
    "MONDO_FALSE_ASSOCIATIONS_DATA.loc[:, \"label\"] = \"False\"\n"
   ]
  },
  {
   "cell_type": "code",
   "execution_count": 28,
   "id": "15abaee3",
   "metadata": {},
   "outputs": [
    {
     "data": {
      "text/html": [
       "<div>\n",
       "<style scoped>\n",
       "    .dataframe tbody tr th:only-of-type {\n",
       "        vertical-align: middle;\n",
       "    }\n",
       "\n",
       "    .dataframe tbody tr th {\n",
       "        vertical-align: top;\n",
       "    }\n",
       "\n",
       "    .dataframe thead th {\n",
       "        text-align: right;\n",
       "    }\n",
       "</style>\n",
       "<table border=\"1\" class=\"dataframe\">\n",
       "  <thead>\n",
       "    <tr style=\"text-align: right;\">\n",
       "      <th></th>\n",
       "      <th>text</th>\n",
       "      <th>label</th>\n",
       "    </tr>\n",
       "  </thead>\n",
       "  <tbody>\n",
       "    <tr>\n",
       "      <th>0</th>\n",
       "      <td>Sandhoff Disease associates Gene HEXB</td>\n",
       "      <td>True</td>\n",
       "    </tr>\n",
       "    <tr>\n",
       "      <th>1</th>\n",
       "      <td>Liver carcinoma associates Gene TP53</td>\n",
       "      <td>True</td>\n",
       "    </tr>\n",
       "    <tr>\n",
       "      <th>2</th>\n",
       "      <td>Malignant neoplasm of breast associates Gene TP53</td>\n",
       "      <td>True</td>\n",
       "    </tr>\n",
       "    <tr>\n",
       "      <th>3</th>\n",
       "      <td>Li-Fraumeni Syndrome associates Gene TP53</td>\n",
       "      <td>True</td>\n",
       "    </tr>\n",
       "    <tr>\n",
       "      <th>4</th>\n",
       "      <td>Sarcoma associates Gene TP53</td>\n",
       "      <td>True</td>\n",
       "    </tr>\n",
       "    <tr>\n",
       "      <th>...</th>\n",
       "      <td>...</td>\n",
       "      <td>...</td>\n",
       "    </tr>\n",
       "    <tr>\n",
       "      <th>523</th>\n",
       "      <td>Disease ontology identifier for Norrie disease...</td>\n",
       "      <td>False</td>\n",
       "    </tr>\n",
       "    <tr>\n",
       "      <th>524</th>\n",
       "      <td>Disease ontology identifier for infantile myof...</td>\n",
       "      <td>False</td>\n",
       "    </tr>\n",
       "    <tr>\n",
       "      <th>525</th>\n",
       "      <td>Disease ontology identifier for otospondylomeg...</td>\n",
       "      <td>False</td>\n",
       "    </tr>\n",
       "    <tr>\n",
       "      <th>526</th>\n",
       "      <td>Disease ontology identifier for Pelizaeus-Merz...</td>\n",
       "      <td>False</td>\n",
       "    </tr>\n",
       "    <tr>\n",
       "      <th>527</th>\n",
       "      <td>Disease ontology identifier for Marfan syndrom...</td>\n",
       "      <td>False</td>\n",
       "    </tr>\n",
       "  </tbody>\n",
       "</table>\n",
       "<p>528 rows × 2 columns</p>\n",
       "</div>"
      ],
      "text/plain": [
       "                                                  text  label\n",
       "0                Sandhoff Disease associates Gene HEXB   True\n",
       "1                 Liver carcinoma associates Gene TP53   True\n",
       "2    Malignant neoplasm of breast associates Gene TP53   True\n",
       "3            Li-Fraumeni Syndrome associates Gene TP53   True\n",
       "4                         Sarcoma associates Gene TP53   True\n",
       "..                                                 ...    ...\n",
       "523  Disease ontology identifier for Norrie disease...  False\n",
       "524  Disease ontology identifier for infantile myof...  False\n",
       "525  Disease ontology identifier for otospondylomeg...  False\n",
       "526  Disease ontology identifier for Pelizaeus-Merz...  False\n",
       "527  Disease ontology identifier for Marfan syndrom...  False\n",
       "\n",
       "[528 rows x 2 columns]"
      ]
     },
     "execution_count": 28,
     "metadata": {},
     "output_type": "execute_result"
    }
   ],
   "source": [
    "columns_to_take = [\"text\", \"label\"]\n",
    "test_questions = pd.concat([DisGeNET_gene_disease_df[columns_to_take], \n",
    "                            DisGeNET_variant_disease_df[columns_to_take], \n",
    "                            MONDO_DISEASE_ONTOLOGY_DATA[columns_to_take],\n",
    "                            MONDO_TRUE_ASSOCIATIONS_DATA[columns_to_take],\n",
    "                            MONDO_FALSE_ASSOCIATIONS_DATA[columns_to_take]], ignore_index=True)\n",
    "test_questions"
   ]
  },
  {
   "cell_type": "code",
   "execution_count": 29,
   "id": "2da56cc0",
   "metadata": {},
   "outputs": [],
   "source": [
    "test_questions.to_csv(\"../../../data/benchmark_datasets/test_questions.csv\", index=False, header=True)\n"
   ]
  },
  {
   "cell_type": "code",
   "execution_count": null,
   "id": "6e9da5a6",
   "metadata": {},
   "outputs": [],
   "source": []
  }
 ],
 "metadata": {
  "kernelspec": {
   "display_name": "Python 3 (ipykernel)",
   "language": "python",
   "name": "python3"
  },
  "language_info": {
   "codemirror_mode": {
    "name": "ipython",
    "version": 3
   },
   "file_extension": ".py",
   "mimetype": "text/x-python",
   "name": "python",
   "nbconvert_exporter": "python",
   "pygments_lexer": "ipython3",
   "version": "3.10.9"
  }
 },
 "nbformat": 4,
 "nbformat_minor": 5
}
