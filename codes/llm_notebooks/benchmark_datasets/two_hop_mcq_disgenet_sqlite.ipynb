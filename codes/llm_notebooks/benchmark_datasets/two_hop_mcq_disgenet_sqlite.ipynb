{
 "cells": [
  {
   "cell_type": "code",
   "execution_count": 34,
   "id": "57146a62",
   "metadata": {},
   "outputs": [],
   "source": [
    "import sqlite3\n",
    "import pandas as pd\n",
    "import numpy as np\n",
    "import random\n"
   ]
  },
  {
   "cell_type": "code",
   "execution_count": 70,
   "id": "1ccf0364",
   "metadata": {},
   "outputs": [],
   "source": [
    "def create_mcq(df, source_column, target_column, node_type):\n",
    "    disease_pairs = df[source_column].unique()\n",
    "    disease_pairs = [(disease1, disease2) for disease1 in disease_pairs for disease2 in disease_pairs if disease1 != disease2]\n",
    "\n",
    "    new_data = []\n",
    "\n",
    "    #For each source pair, find a common target and 4 negative samples\n",
    "    for disease1, disease2 in disease_pairs:\n",
    "        common_gene = set(df[df[source_column] == disease1][target_column]).intersection(set(df[df[source_column] == disease2][target_column]))\n",
    "        common_gene = list(common_gene)[0] if common_gene else None\n",
    "        # Get 4 random negative samples\n",
    "        negative_samples = df[(df[source_column] != disease1) & (df[source_column] != disease2)][target_column].sample(4).tolist()\n",
    "        new_data.append(((disease1, disease2), common_gene, negative_samples))\n",
    "\n",
    "    new_df = pd.DataFrame(new_data, columns=[\"disease_pair\", \"correct_node\", \"negative_samples\"])\n",
    "    new_df.dropna(subset = [\"correct_node\"], inplace=True)\n",
    "    new_df.loc[:, \"disease_1\"] = new_df[\"disease_pair\"].apply(lambda x: x[0])\n",
    "    new_df.loc[:, \"disease_2\"] = new_df[\"disease_pair\"].apply(lambda x: x[1])\n",
    "    new_df.negative_samples = new_df.negative_samples.apply(lambda x:\", \".join(x[0:4]))\n",
    "    new_df.loc[:, \"text\"] = \"Out of the given list, which \" + node_type + \" is associated with both \" + new_df.disease_1 + \" and \" + new_df.disease_2 + \". Given list is: \" + new_df.correct_node + \", \" + new_df.negative_samples\n",
    "    return new_df\n"
   ]
  },
  {
   "cell_type": "code",
   "execution_count": 2,
   "id": "78a816a9",
   "metadata": {},
   "outputs": [],
   "source": [
    "DB_PATH = \"../../../data/benchmark_datasets/disgenet/disgenet_2020.db\"\n"
   ]
  },
  {
   "cell_type": "code",
   "execution_count": 3,
   "id": "ac8015a1",
   "metadata": {},
   "outputs": [],
   "source": [
    "conn = sqlite3.connect(DB_PATH)\n",
    "c = conn.cursor()\n"
   ]
  },
  {
   "cell_type": "code",
   "execution_count": 4,
   "id": "a41ff1ea",
   "metadata": {},
   "outputs": [],
   "source": [
    "\n",
    "table_name = \"diseaseAttributes\"\n",
    "\n",
    "c.execute(\"SELECT * FROM {}\".format(table_name))\n",
    "\n",
    "rows = c.fetchall()\n",
    "disease_df = pd.DataFrame(rows, columns=[\"diseaseNID\", \"diseaseId\", \"diseaseName\", \"type\"])\n"
   ]
  },
  {
   "cell_type": "code",
   "execution_count": 5,
   "id": "27378cf0",
   "metadata": {},
   "outputs": [],
   "source": [
    "table_name = \"geneAttributes\"\n",
    "c.execute(\"SELECT * FROM {}\".format(table_name))\n",
    "\n",
    "rows = c.fetchall()\n",
    "gene_df = pd.DataFrame(rows, columns=[\"geneNID\", \"geneId\", \"geneName\", \"geneDescription\", \"pLI\", \"DSI\", \"DPI\"])\n"
   ]
  },
  {
   "cell_type": "code",
   "execution_count": 6,
   "id": "0dfa9939",
   "metadata": {},
   "outputs": [],
   "source": [
    "table_name = \"variantAttributes\"\n",
    "c.execute(\"SELECT * FROM {}\".format(table_name))\n",
    "\n",
    "rows = c.fetchall()\n",
    "variant_df = pd.DataFrame(rows, columns=[\"variantNID\", \"variantId\", \"s\", \"chromosome\", \"coord\", \"most_severe_consequence\", \"DSI\", \"DPI\"])\n"
   ]
  },
  {
   "cell_type": "code",
   "execution_count": 23,
   "id": "c2420123",
   "metadata": {},
   "outputs": [],
   "source": [
    "table_name = \"geneDiseaseNetwork\"\n",
    "c.execute(\"SELECT * FROM {}\".format(table_name))\n",
    "\n",
    "rows = c.fetchall()\n",
    "disease_gene_df = pd.DataFrame(rows, columns=[\"NID\", \"diseaseNID\", \"geneNID\", \"source\", \"association\", \"associationType\", \"sentence\", \"pmid\", \"score\", \"EL\", \"EI\", \"year\"])\n",
    "\n",
    "# Selecting association with maximum score\n",
    "disease_gene_df_selected  = disease_gene_df[disease_gene_df.score == 1]\n",
    "\n",
    "disease_gene_df_selected_1 = pd.merge(disease_gene_df_selected, disease_df, on=\"diseaseNID\")\n",
    "disease_gene_df_selected_2 = pd.merge(disease_gene_df_selected_1, gene_df, on=\"geneNID\")\n",
    "\n",
    "disease_gene_df_selected_final = disease_gene_df_selected_2[[\"diseaseName\", \"geneName\"]].drop_duplicates()\n",
    "\n",
    "disease_gene_df_selected_final.loc[:, 'geneCount'] = disease_gene_df_selected_final.groupby('geneName')['geneName'].transform('count')\n",
    "disease_gene_df_selected_final_more_gene_count = disease_gene_df_selected_final[disease_gene_df_selected_final.geneCount > 1]\n",
    "\n"
   ]
  },
  {
   "cell_type": "code",
   "execution_count": 82,
   "id": "7c3d8852",
   "metadata": {},
   "outputs": [],
   "source": [
    "disease_gene_mcq = create_mcq(disease_gene_df_selected_final_more_gene_count, \"diseaseName\", \"geneName\", \"Gene\")\n"
   ]
  },
  {
   "cell_type": "code",
   "execution_count": 84,
   "id": "78e551d4",
   "metadata": {},
   "outputs": [],
   "source": [
    "disease_gene_mcq.to_csv(\"../../../data/benchmark_datasets/test_questions_two_hop_mcq_from_disgenet.csv\", index=False, header=True)\n",
    "\n"
   ]
  },
  {
   "cell_type": "code",
   "execution_count": 63,
   "id": "1ef4742b",
   "metadata": {},
   "outputs": [],
   "source": [
    "# sem_df = pd.read_csv(\"../../../data/benchmark_datasets/semmeddb/compound_treats_disease_from_semmeddb.csv\")\n"
   ]
  },
  {
   "cell_type": "code",
   "execution_count": 71,
   "id": "c7792e4e",
   "metadata": {},
   "outputs": [],
   "source": [
    "# sem_df_mcq = create_mcq(sem_df, \"object\", \"subject\", \"Compound\")\n"
   ]
  },
  {
   "cell_type": "code",
   "execution_count": 81,
   "id": "73a8fd2b",
   "metadata": {},
   "outputs": [],
   "source": [
    "# sem_df_mcq.correct_node.unique()"
   ]
  },
  {
   "cell_type": "code",
   "execution_count": null,
   "id": "a6b78cf2",
   "metadata": {},
   "outputs": [],
   "source": []
  }
 ],
 "metadata": {
  "kernelspec": {
   "display_name": "Python 3 (ipykernel)",
   "language": "python",
   "name": "python3"
  },
  "language_info": {
   "codemirror_mode": {
    "name": "ipython",
    "version": 3
   },
   "file_extension": ".py",
   "mimetype": "text/x-python",
   "name": "python",
   "nbconvert_exporter": "python",
   "pygments_lexer": "ipython3",
   "version": "3.10.9"
  }
 },
 "nbformat": 4,
 "nbformat_minor": 5
}
