{
 "cells": [
  {
   "cell_type": "code",
   "execution_count": 81,
   "id": "a2705068",
   "metadata": {},
   "outputs": [],
   "source": [
    "import requests\n",
    "import pandas as pd\n",
    "from tqdm import tqdm\n",
    "from utility import *\n"
   ]
  },
  {
   "cell_type": "code",
   "execution_count": 73,
   "id": "d18b00a7",
   "metadata": {},
   "outputs": [],
   "source": [
    "DISEASE_GENE_URI = \"https://api.monarchinitiative.org/api/bioentity/disease/{}/genes\"\n",
    "\n",
    "disease_path = \"../../../data/benchmark_datasets/monarch/gwas_diseases.csv\""
   ]
  },
  {
   "cell_type": "code",
   "execution_count": 74,
   "id": "81a1e151",
   "metadata": {},
   "outputs": [
    {
     "data": {
      "text/html": [
       "<div>\n",
       "<style scoped>\n",
       "    .dataframe tbody tr th:only-of-type {\n",
       "        vertical-align: middle;\n",
       "    }\n",
       "\n",
       "    .dataframe tbody tr th {\n",
       "        vertical-align: top;\n",
       "    }\n",
       "\n",
       "    .dataframe thead th {\n",
       "        text-align: right;\n",
       "    }\n",
       "</style>\n",
       "<table border=\"1\" class=\"dataframe\">\n",
       "  <thead>\n",
       "    <tr style=\"text-align: right;\">\n",
       "      <th></th>\n",
       "      <th>disease_id</th>\n",
       "      <th>disease_name</th>\n",
       "    </tr>\n",
       "  </thead>\n",
       "  <tbody>\n",
       "    <tr>\n",
       "      <th>0</th>\n",
       "      <td>DOID:0080630</td>\n",
       "      <td>\"B-lymphoblastic leukemia/lymphoma\"</td>\n",
       "    </tr>\n",
       "    <tr>\n",
       "      <th>1</th>\n",
       "      <td>DOID:8893</td>\n",
       "      <td>\"psoriasis\"</td>\n",
       "    </tr>\n",
       "    <tr>\n",
       "      <th>2</th>\n",
       "      <td>DOID:1712</td>\n",
       "      <td>\"aortic valve stenosis\"</td>\n",
       "    </tr>\n",
       "    <tr>\n",
       "      <th>3</th>\n",
       "      <td>DOID:13189</td>\n",
       "      <td>\"gout\"</td>\n",
       "    </tr>\n",
       "    <tr>\n",
       "      <th>4</th>\n",
       "      <td>DOID:5418</td>\n",
       "      <td>\"schizoaffective disorder\"</td>\n",
       "    </tr>\n",
       "    <tr>\n",
       "      <th>...</th>\n",
       "      <td>...</td>\n",
       "      <td>...</td>\n",
       "    </tr>\n",
       "    <tr>\n",
       "      <th>249</th>\n",
       "      <td>DOID:1380</td>\n",
       "      <td>\"endometrial cancer\"</td>\n",
       "    </tr>\n",
       "    <tr>\n",
       "      <th>250</th>\n",
       "      <td>DOID:6039</td>\n",
       "      <td>\"uveal melanoma\"</td>\n",
       "    </tr>\n",
       "    <tr>\n",
       "      <th>251</th>\n",
       "      <td>DOID:10538</td>\n",
       "      <td>\"gastric fundus cancer\"</td>\n",
       "    </tr>\n",
       "    <tr>\n",
       "      <th>252</th>\n",
       "      <td>DOID:0111910</td>\n",
       "      <td>\"spermatogenic failure\"</td>\n",
       "    </tr>\n",
       "    <tr>\n",
       "      <th>253</th>\n",
       "      <td>DOID:0080745</td>\n",
       "      <td>\"polymyositis\"</td>\n",
       "    </tr>\n",
       "  </tbody>\n",
       "</table>\n",
       "<p>254 rows × 2 columns</p>\n",
       "</div>"
      ],
      "text/plain": [
       "       disease_id                         disease_name\n",
       "0    DOID:0080630  \"B-lymphoblastic leukemia/lymphoma\"\n",
       "1       DOID:8893                          \"psoriasis\"\n",
       "2       DOID:1712              \"aortic valve stenosis\"\n",
       "3      DOID:13189                               \"gout\"\n",
       "4       DOID:5418           \"schizoaffective disorder\"\n",
       "..            ...                                  ...\n",
       "249     DOID:1380                 \"endometrial cancer\"\n",
       "250     DOID:6039                     \"uveal melanoma\"\n",
       "251    DOID:10538              \"gastric fundus cancer\"\n",
       "252  DOID:0111910              \"spermatogenic failure\"\n",
       "253  DOID:0080745                       \"polymyositis\"\n",
       "\n",
       "[254 rows x 2 columns]"
      ]
     },
     "execution_count": 74,
     "metadata": {},
     "output_type": "execute_result"
    }
   ],
   "source": [
    "disease_df = pd.read_csv(disease_path)\n",
    "disease_df.columns = [\"disease_id\", \"disease_name\"]\n",
    "disease_df.disease_id = disease_df.disease_id.apply(lambda x:x.split('\"')[1])\n",
    "disease_df"
   ]
  },
  {
   "cell_type": "code",
   "execution_count": 69,
   "id": "23c99e15",
   "metadata": {},
   "outputs": [],
   "source": [
    "def get_api_resp(URI, params=None):\n",
    "    if params:\n",
    "        return requests.get(URI, params=params)\n",
    "    else:\n",
    "        return requests.get(URI)\n",
    "    \n",
    "def get_association(disease_id):\n",
    "    DISEASE_GENE_URI_ = DISEASE_GENE_URI.format(disease_id)\n",
    "    resp = get_api_resp(DISEASE_GENE_URI_, params=params)\n",
    "    if resp.status_code == 200:\n",
    "        response = resp.json()\n",
    "        associations = response[\"associations\"]\n",
    "        object_list = []\n",
    "        for item in associations:\n",
    "            object_list.append(item[\"object\"][\"label\"])\n",
    "        df = pd.DataFrame(object_list, columns=[\"object\"])\n",
    "        df[\"subject\"] = disease_id\n",
    "        return df\n",
    "    else:\n",
    "        return None\n",
    "    "
   ]
  },
  {
   "cell_type": "code",
   "execution_count": 70,
   "id": "5d9e5de8",
   "metadata": {},
   "outputs": [],
   "source": [
    "params = {}\n",
    "params[\"rows\"] = 2\n",
    "params[\"direct\"] = \"true\"\n",
    "params[\"direct_taxon\"] = \"true\"\n"
   ]
  },
  {
   "cell_type": "code",
   "execution_count": 71,
   "id": "8580f238",
   "metadata": {},
   "outputs": [
    {
     "name": "stderr",
     "output_type": "stream",
     "text": [
      "254it [01:46,  2.38it/s]\n"
     ]
    }
   ],
   "source": [
    "edge_df_list = []\n",
    "\n",
    "for index, row in tqdm(disease_df.iterrows()):\n",
    "    edge_df_list.append(get_association(row[\"disease_id\"]))\n",
    "\n"
   ]
  },
  {
   "cell_type": "code",
   "execution_count": 79,
   "id": "11c67cfa",
   "metadata": {},
   "outputs": [
    {
     "data": {
      "text/html": [
       "<div>\n",
       "<style scoped>\n",
       "    .dataframe tbody tr th:only-of-type {\n",
       "        vertical-align: middle;\n",
       "    }\n",
       "\n",
       "    .dataframe tbody tr th {\n",
       "        vertical-align: top;\n",
       "    }\n",
       "\n",
       "    .dataframe thead th {\n",
       "        text-align: right;\n",
       "    }\n",
       "</style>\n",
       "<table border=\"1\" class=\"dataframe\">\n",
       "  <thead>\n",
       "    <tr style=\"text-align: right;\">\n",
       "      <th></th>\n",
       "      <th>object</th>\n",
       "      <th>disease_name</th>\n",
       "    </tr>\n",
       "  </thead>\n",
       "  <tbody>\n",
       "    <tr>\n",
       "      <th>0</th>\n",
       "      <td>HLA-B</td>\n",
       "      <td>psoriasis</td>\n",
       "    </tr>\n",
       "    <tr>\n",
       "      <th>1</th>\n",
       "      <td>ENSEMBL:ENSG00000249738</td>\n",
       "      <td>psoriasis</td>\n",
       "    </tr>\n",
       "    <tr>\n",
       "      <th>2</th>\n",
       "      <td>LINC01708</td>\n",
       "      <td>aortic valve stenosis</td>\n",
       "    </tr>\n",
       "    <tr>\n",
       "      <th>3</th>\n",
       "      <td>TEX41</td>\n",
       "      <td>aortic valve stenosis</td>\n",
       "    </tr>\n",
       "    <tr>\n",
       "      <th>4</th>\n",
       "      <td>ABCG2</td>\n",
       "      <td>gout</td>\n",
       "    </tr>\n",
       "    <tr>\n",
       "      <th>...</th>\n",
       "      <td>...</td>\n",
       "      <td>...</td>\n",
       "    </tr>\n",
       "    <tr>\n",
       "      <th>386</th>\n",
       "      <td>ATXN2</td>\n",
       "      <td>endometrial cancer</td>\n",
       "    </tr>\n",
       "    <tr>\n",
       "      <th>387</th>\n",
       "      <td>CACNA2D1</td>\n",
       "      <td>uveal melanoma</td>\n",
       "    </tr>\n",
       "    <tr>\n",
       "      <th>388</th>\n",
       "      <td>STARD4-AS1</td>\n",
       "      <td>uveal melanoma</td>\n",
       "    </tr>\n",
       "    <tr>\n",
       "      <th>389</th>\n",
       "      <td>PRKAA1</td>\n",
       "      <td>gastric fundus cancer</td>\n",
       "    </tr>\n",
       "    <tr>\n",
       "      <th>390</th>\n",
       "      <td>PSCA</td>\n",
       "      <td>gastric fundus cancer</td>\n",
       "    </tr>\n",
       "  </tbody>\n",
       "</table>\n",
       "<p>391 rows × 2 columns</p>\n",
       "</div>"
      ],
      "text/plain": [
       "                      object           disease_name\n",
       "0                      HLA-B              psoriasis\n",
       "1    ENSEMBL:ENSG00000249738              psoriasis\n",
       "2                  LINC01708  aortic valve stenosis\n",
       "3                      TEX41  aortic valve stenosis\n",
       "4                      ABCG2                   gout\n",
       "..                       ...                    ...\n",
       "386                    ATXN2     endometrial cancer\n",
       "387                 CACNA2D1         uveal melanoma\n",
       "388               STARD4-AS1         uveal melanoma\n",
       "389                   PRKAA1  gastric fundus cancer\n",
       "390                     PSCA  gastric fundus cancer\n",
       "\n",
       "[391 rows x 2 columns]"
      ]
     },
     "execution_count": 79,
     "metadata": {},
     "output_type": "execute_result"
    }
   ],
   "source": [
    "edge_df = pd.concat(edge_df_list, ignore_index=True)\n",
    "edge_df = pd.merge(edge_df, disease_df, left_on=\"subject\", right_on=\"disease_id\").drop([\"subject\", \"disease_id\"], axis=1)\n",
    "edge_df.disease_name = edge_df.disease_name.apply(lambda x:x.split('\"')[1])\n",
    "edge_df\n",
    "    "
   ]
  },
  {
   "cell_type": "code",
   "execution_count": 82,
   "id": "cdc768ed",
   "metadata": {},
   "outputs": [],
   "source": [
    "data_mcq_disease_gene = create_mcq(edge_df, \"disease_name\", \"object\", \"Gene\", \"is associated with\")\n"
   ]
  },
  {
   "cell_type": "code",
   "execution_count": 93,
   "id": "cf9041a2",
   "metadata": {},
   "outputs": [
    {
     "data": {
      "text/plain": [
       "'Out of the given list, which Gene is associated with oral cavity cancer and nephrotic syndrome. Given list is: HLA-DQB1, TBC1D8, ATP2B1, PNPLA3, PHGDH'"
      ]
     },
     "execution_count": 93,
     "metadata": {},
     "output_type": "execute_result"
    }
   ],
   "source": [
    "data_mcq_disease_gene.text.values[100]"
   ]
  },
  {
   "cell_type": "code",
   "execution_count": 87,
   "id": "4c70880b",
   "metadata": {},
   "outputs": [],
   "source": [
    "data_mcq_disease_gene.to_csv(\"../../../data/benchmark_datasets/test_questions_two_hop_mcq_from_monarch.csv\", index=False, header=True)\n"
   ]
  },
  {
   "cell_type": "code",
   "execution_count": null,
   "id": "b21909fa",
   "metadata": {},
   "outputs": [],
   "source": []
  }
 ],
 "metadata": {
  "kernelspec": {
   "display_name": "Python 3 (ipykernel)",
   "language": "python",
   "name": "python3"
  },
  "language_info": {
   "codemirror_mode": {
    "name": "ipython",
    "version": 3
   },
   "file_extension": ".py",
   "mimetype": "text/x-python",
   "name": "python",
   "nbconvert_exporter": "python",
   "pygments_lexer": "ipython3",
   "version": "3.10.9"
  }
 },
 "nbformat": 4,
 "nbformat_minor": 5
}
