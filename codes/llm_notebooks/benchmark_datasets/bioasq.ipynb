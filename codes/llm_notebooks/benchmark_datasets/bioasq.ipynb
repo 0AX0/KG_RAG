{
 "cells": [
  {
   "cell_type": "code",
   "execution_count": 1,
   "id": "aa6d67c5",
   "metadata": {},
   "outputs": [],
   "source": [
    "import json\n",
    "import pandas as pd\n"
   ]
  },
  {
   "cell_type": "code",
   "execution_count": 4,
   "id": "718d2c05",
   "metadata": {},
   "outputs": [],
   "source": [
    "DATA_PATH = \"../../../data/benchmark_datasets/bioasq/BioASQ_2013_TaskB/BioASQ-trainingDataset2b.json\"\n"
   ]
  },
  {
   "cell_type": "code",
   "execution_count": 138,
   "id": "abf51224",
   "metadata": {},
   "outputs": [],
   "source": [
    "with open(DATA_PATH, \"rb\") as f:\n",
    "    data = json.load(f)"
   ]
  },
  {
   "cell_type": "code",
   "execution_count": 11,
   "id": "1cb3bdc6",
   "metadata": {},
   "outputs": [],
   "source": [
    "data_first_pass = []\n",
    "for item in data[\"questions\"]:\n",
    "    if \"plant\" in item[\"body\"]:\n",
    "        continue\n",
    "    data_first_pass.append(item)"
   ]
  },
  {
   "cell_type": "code",
   "execution_count": 170,
   "id": "f45e6b47",
   "metadata": {},
   "outputs": [],
   "source": [
    "data_second_pass = []\n",
    "for item in data_first_pass:\n",
    "    try:\n",
    "        for item_2 in item[\"concepts\"]:\n",
    "            if \"DOID\" in item_2:\n",
    "                data_second_pass.append(item)\n",
    "                break\n",
    "            else:\n",
    "                continue\n",
    "    except:\n",
    "        continue"
   ]
  },
  {
   "cell_type": "code",
   "execution_count": 173,
   "id": "29409d5c",
   "metadata": {},
   "outputs": [],
   "source": [
    "with open(\"../../../data/benchmark_datasets/bioasq/BioASQ_2013_TaskB/data_with_doid_diseases.json\", \"w\") as f:\n",
    "    json.dump(data_second_pass, f)\n"
   ]
  },
  {
   "cell_type": "code",
   "execution_count": 205,
   "id": "fe9c4089",
   "metadata": {},
   "outputs": [
    {
     "data": {
      "text/plain": [
       "{'body': 'Is factor XI deficient in Hemophilia C?',\n",
       " 'concepts': ['http://www.disease-ontology.org/api/metadata/DOID:2229',\n",
       "  'http://www.nlm.nih.gov/cgi/mesh/2012/MB_cgi?field=uid&exact=Find+Exact+Term&term=D005173',\n",
       "  'http://www.nlm.nih.gov/cgi/mesh/2012/MB_cgi?field=uid&exact=Find+Exact+Term&term=D005172',\n",
       "  'http://www.nlm.nih.gov/cgi/mesh/2012/MB_cgi?field=uid&exact=Find+Exact+Term&term=D006467'],\n",
       " 'documents': ['http://www.ncbi.nlm.nih.gov/pubmed/20485963',\n",
       "  'http://www.ncbi.nlm.nih.gov/pubmed/18378181',\n",
       "  'http://www.ncbi.nlm.nih.gov/pubmed/18160615',\n",
       "  'http://www.ncbi.nlm.nih.gov/pubmed/8277060',\n",
       "  'http://www.ncbi.nlm.nih.gov/pubmed/1546275'],\n",
       " 'exact_answer': 'yes',\n",
       " 'id': '51588c1ad24251bc05000094',\n",
       " 'ideal_answer': ['Factor XI deficiency is associated with a bleeding tendency called Hemophilia C.'],\n",
       " 'snippets': [{'beginSection': 'sections.0',\n",
       "   'document': 'http://www.ncbi.nlm.nih.gov/pubmed/20485963',\n",
       "   'endSection': 'sections.0',\n",
       "   'offsetInBeginSection': 11,\n",
       "   'offsetInEndSection': 152,\n",
       "   'text': 'Factor XI deficiency is a rare hematologic disorder. Hemophilia C (factor XI deficiency) affects both genders and it is usually asymptomatic,'},\n",
       "  {'beginSection': 'sections.0',\n",
       "   'document': 'http://www.ncbi.nlm.nih.gov/pubmed/18378181',\n",
       "   'endSection': 'sections.0',\n",
       "   'offsetInBeginSection': 0,\n",
       "   'offsetInEndSection': 86,\n",
       "   'text': 'Congenital factor XI deficiency (also known as the Rosenthal syndrome or hemophilia C)'},\n",
       "  {'beginSection': 'sections.0',\n",
       "   'document': 'http://www.ncbi.nlm.nih.gov/pubmed/18160615',\n",
       "   'endSection': 'sections.0',\n",
       "   'offsetInBeginSection': 21,\n",
       "   'offsetInEndSection': 290,\n",
       "   'text': 'rare case of an acute cerebral aneurysm rupture in a patient with a known factor XI deficiency. Aneurysmal subarachnoid hemorrhage (SAH) accounts for a high mortality and morbidity rate. When SAH is associated with an inherited coagulation disorder such as hemophilia C'},\n",
       "  {'beginSection': 'sections.0',\n",
       "   'document': 'http://www.ncbi.nlm.nih.gov/pubmed/8277060',\n",
       "   'endSection': 'sections.0',\n",
       "   'offsetInBeginSection': 127,\n",
       "   'offsetInEndSection': 162,\n",
       "   'text': 'Factor XI deficiency (Hemophilia C)'},\n",
       "  {'beginSection': 'sections.0',\n",
       "   'document': 'http://www.ncbi.nlm.nih.gov/pubmed/1546275',\n",
       "   'endSection': 'sections.0',\n",
       "   'offsetInBeginSection': 0,\n",
       "   'offsetInEndSection': 47,\n",
       "   'text': 'Factor XI deficiency, also called hemophilia C,'}],\n",
       " 'type': 'yesno'}"
      ]
     },
     "execution_count": 205,
     "metadata": {},
     "output_type": "execute_result"
    }
   ],
   "source": [
    "ind = 55\n",
    "data_second_pass[ind]\n"
   ]
  },
  {
   "cell_type": "code",
   "execution_count": null,
   "id": "80b77974",
   "metadata": {},
   "outputs": [],
   "source": []
  },
  {
   "cell_type": "code",
   "execution_count": 192,
   "id": "55482287",
   "metadata": {},
   "outputs": [],
   "source": [
    "df = pd.read_csv(\"../../../data/context_of_disease_with_relation_to_genes.csv\")\n",
    "\n"
   ]
  },
  {
   "cell_type": "code",
   "execution_count": 197,
   "id": "507a1fd9",
   "metadata": {},
   "outputs": [
    {
     "data": {
      "text/plain": [
       "'mitochondrial complex V (ATP synthase) deficiency nuclear type 6'"
      ]
     },
     "execution_count": 197,
     "metadata": {},
     "output_type": "execute_result"
    }
   ],
   "source": [
    "df.node_name.unique()[45]\n",
    "\n",
    "Ablepharon-Macrostomia Syndrome"
   ]
  },
  {
   "cell_type": "code",
   "execution_count": 210,
   "id": "9092fea8",
   "metadata": {},
   "outputs": [
    {
     "data": {
      "text/plain": [
       "['Disease ontology identifier of distal myopathy is DOID:11720',\n",
       " 'Disease distal muscular dystrophy 4 isa Disease distal myopathy',\n",
       " 'Disease distal myopathy with rimmed vacuoles isa Disease distal myopathy',\n",
       " 'Disease distal muscular dystrophy 3 isa Disease distal myopathy',\n",
       " 'Disease distal muscular dystrophy with anterior tibial onset isa Disease distal myopathy',\n",
       " 'Disease tibial muscular dystrophy isa Disease distal myopathy',\n",
       " 'Disease tibial muscular dystrophy resembles Disease distal myopathy',\n",
       " 'Disease distal muscular dystrophy Tateyama type isa Disease distal myopathy',\n",
       " 'Disease infantile-onset distal myopathy isa Disease distal myopathy',\n",
       " 'Disease distal myopathy 1 isa Disease distal myopathy',\n",
       " 'Disease Miyoshi muscular dystrophy isa Disease distal myopathy',\n",
       " 'Gene MIR1-1 associates Disease distal myopathy',\n",
       " 'Gene MIR133A2 associates Disease distal myopathy',\n",
       " 'Gene MIR1-2 associates Disease distal myopathy',\n",
       " 'Gene MIR133A1 associates Disease distal myopathy',\n",
       " 'Gene MIR206 associates Disease distal myopathy',\n",
       " 'Disease cystinosis resembles Disease distal myopathy',\n",
       " 'Disease centronuclear myopathy X-linked resembles Disease distal myopathy',\n",
       " 'Disease autosomal dominant centronuclear myopathy resembles Disease distal myopathy',\n",
       " 'Disease oculopharyngeal muscular dystrophy resembles Disease distal myopathy',\n",
       " 'Variant rs144802057 associates Disease distal myopathy',\n",
       " 'Variant rs886059992 associates Disease distal myopathy',\n",
       " 'Variant rs773123084 associates Disease distal myopathy',\n",
       " 'Variant rs767576295 associates Disease distal myopathy',\n",
       " 'Variant rs59150359 associates Disease distal myopathy',\n",
       " 'Variant rs368308621 associates Disease distal myopathy',\n",
       " 'Variant rs1565930588 associates Disease distal myopathy',\n",
       " 'Disease distal myopathy isa Disease muscular dystrophy',\n",
       " 'Disease distal myopathy localizes Anatomy skeletal muscle organ',\n",
       " 'Disease distal myopathy localizes Anatomy muscle tissue',\n",
       " 'Disease distal myopathy associates Gene TTN',\n",
       " 'Disease distal myopathy associates Gene MYH7',\n",
       " 'Disease distal myopathy associates Gene ANO5',\n",
       " 'Disease distal myopathy associates Gene DYSF',\n",
       " 'Disease distal myopathy presents Symptom Muscular Atrophy',\n",
       " 'Disease distal myopathy presents Symptom Muscle Weakness',\n",
       " 'Disease distal myopathy resembles Disease congenital structural myopathy',\n",
       " 'Disease distal myopathy resembles Disease muscular atrophy',\n",
       " 'Disease distal myopathy resembles Disease inclusion body myositis',\n",
       " 'Disease distal myopathy resembles Disease motor peripheral neuropathy',\n",
       " 'Disease distal myopathy resembles Disease laryngeal disease',\n",
       " 'Disease distal myopathy resembles Disease limb-girdle muscular dystrophy',\n",
       " 'Disease distal myopathy resembles Disease centronuclear myopathy',\n",
       " 'Disease distal myopathy resembles Disease nemaline myopathy.']"
      ]
     },
     "execution_count": 210,
     "metadata": {},
     "output_type": "execute_result"
    }
   ],
   "source": [
    "df[df.node_name==\"distal myopathy\"].node_context.values[0].split(\". \")\n"
   ]
  },
  {
   "cell_type": "code",
   "execution_count": null,
   "id": "6093fd39",
   "metadata": {},
   "outputs": [],
   "source": []
  }
 ],
 "metadata": {
  "kernelspec": {
   "display_name": "Python 3 (ipykernel)",
   "language": "python",
   "name": "python3"
  },
  "language_info": {
   "codemirror_mode": {
    "name": "ipython",
    "version": 3
   },
   "file_extension": ".py",
   "mimetype": "text/x-python",
   "name": "python",
   "nbconvert_exporter": "python",
   "pygments_lexer": "ipython3",
   "version": "3.10.9"
  }
 },
 "nbformat": 4,
 "nbformat_minor": 5
}
