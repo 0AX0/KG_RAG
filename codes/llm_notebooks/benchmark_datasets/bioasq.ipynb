{
 "cells": [
  {
   "cell_type": "code",
   "execution_count": 1,
   "id": "d812cde2",
   "metadata": {},
   "outputs": [],
   "source": [
    "import json\n",
    "import pandas as pd\n"
   ]
  },
  {
   "cell_type": "code",
   "execution_count": 4,
   "id": "32f70418",
   "metadata": {},
   "outputs": [],
   "source": [
    "DATA_PATH = \"../../../data/benchmark_datasets/bioasq/BioASQ_2013_TaskB/BioASQ-trainingDataset2b.json\"\n"
   ]
  },
  {
   "cell_type": "code",
   "execution_count": 5,
   "id": "4a6795f1",
   "metadata": {},
   "outputs": [],
   "source": [
    "with open(DATA_PATH, \"rb\") as f:\n",
    "    data = json.load(f)"
   ]
  },
  {
   "cell_type": "code",
   "execution_count": 17,
   "id": "b68d4fb6",
   "metadata": {},
   "outputs": [],
   "source": [
    "node_context_df = pd.read_csv(\"../../../data/context_of_disease_with_relation_to_genes.csv\")\n"
   ]
  },
  {
   "cell_type": "code",
   "execution_count": 11,
   "id": "a006c958",
   "metadata": {},
   "outputs": [],
   "source": [
    "data_first_pass = []\n",
    "for item in data[\"questions\"]:\n",
    "    if \"plant\" in item[\"body\"]:\n",
    "        continue\n",
    "    data_first_pass.append(item)"
   ]
  },
  {
   "cell_type": "code",
   "execution_count": 16,
   "id": "0fecc6ae",
   "metadata": {},
   "outputs": [
    {
     "data": {
      "text/plain": [
       "{'body': 'Is thrombophilia related to increased risk of miscarriage?',\n",
       " 'concepts': ['http://www.nlm.nih.gov/cgi/mesh/2012/MB_cgi?field=uid&exact=Find+Exact+Term&term=D019851',\n",
       "  'http://www.nlm.nih.gov/cgi/mesh/2012/MB_cgi?field=uid&exact=Find+Exact+Term&term=D018566',\n",
       "  'http://www.nlm.nih.gov/cgi/mesh/2012/MB_cgi?field=uid&exact=Find+Exact+Term&term=D011248',\n",
       "  'http://www.nlm.nih.gov/cgi/mesh/2012/MB_cgi?field=uid&exact=Find+Exact+Term&term=D011256',\n",
       "  'http://www.nlm.nih.gov/cgi/mesh/2012/MB_cgi?field=uid&exact=Find+Exact+Term&term=D011255',\n",
       "  'http://www.disease-ontology.org/api/metadata/DOID:10591',\n",
       "  'http://amigo.geneontology.org/cgi-bin/amigo/term_details?term=0007565'],\n",
       " 'documents': ['http://www.ncbi.nlm.nih.gov/pubmed/22543699',\n",
       "  'http://www.ncbi.nlm.nih.gov/pubmed/22164918',\n",
       "  'http://www.ncbi.nlm.nih.gov/pubmed/21380983',\n",
       "  'http://www.ncbi.nlm.nih.gov/pubmed/7986734',\n",
       "  'http://www.ncbi.nlm.nih.gov/pubmed/15027582',\n",
       "  'http://www.ncbi.nlm.nih.gov/pubmed/11583310',\n",
       "  'http://www.ncbi.nlm.nih.gov/pubmed/19135285',\n",
       "  'http://www.ncbi.nlm.nih.gov/pubmed/19031171',\n",
       "  'http://www.ncbi.nlm.nih.gov/pubmed/18845284',\n",
       "  'http://www.ncbi.nlm.nih.gov/pubmed/16962918',\n",
       "  'http://www.ncbi.nlm.nih.gov/pubmed/15713144',\n",
       "  'http://www.ncbi.nlm.nih.gov/pubmed/19165673',\n",
       "  'http://www.ncbi.nlm.nih.gov/pubmed/20860491'],\n",
       " 'exact_answer': 'Yes',\n",
       " 'id': '513cdc38bee46bd34c000007',\n",
       " 'ideal_answer': ['Thrombophilia has been found to be considerably more common in women with pregnancy-associated complications in comparison with the general population, and most frequently in conjunction with venous thromboembolism during pregnancy and the postpartum period. In particular there is an increased risk of pregnancy-related venous thrombosis in carriers of severe inherited thrombophilia. When counseling white women with a history of preeclampsia, screening for thrombophilia can be useful for preconceptional counseling and pregnancy management.'],\n",
       " 'snippets': [{'beginSection': 'sections.0',\n",
       "   'document': 'http://www.ncbi.nlm.nih.gov/pubmed/22543699',\n",
       "   'endSection': 'sections.0',\n",
       "   'offsetInBeginSection': 1065,\n",
       "   'offsetInEndSection': 1159,\n",
       "   'text': 'Thrombophilia does hardly increase the risk of IUGR/PMPC or if so, it can be prevented by LMWH'},\n",
       "  {'beginSection': 'sections.0',\n",
       "   'document': 'http://www.ncbi.nlm.nih.gov/pubmed/22164918',\n",
       "   'endSection': 'sections.0',\n",
       "   'offsetInBeginSection': 571,\n",
       "   'offsetInEndSection': 796,\n",
       "   'text': 'for illustrative purposes, a patient presenting with combined thrombophilia--both genetic and acquired--will be discussed. This patient had suffered severe gestational complications that led to devastating obstetrical outcome'},\n",
       "  {'beginSection': 'sections.0',\n",
       "   'document': 'http://www.ncbi.nlm.nih.gov/pubmed/21380983',\n",
       "   'endSection': 'sections.0',\n",
       "   'offsetInBeginSection': 0,\n",
       "   'offsetInEndSection': 235,\n",
       "   'text': 'Thrombophilias have been implicated in complications related to ischemic placental disease including recurrent pregnancy loss, intrauterine fetal demise, preeclampsia, fetal growth restriction, placental abruption, and preterm delivery'},\n",
       "  {'beginSection': 'sections.0',\n",
       "   'document': 'http://www.ncbi.nlm.nih.gov/pubmed/7986734',\n",
       "   'endSection': 'sections.0',\n",
       "   'offsetInBeginSection': 905,\n",
       "   'offsetInEndSection': 1061,\n",
       "   'text': 'Further information about the combined risk of aPC resistance and pregnancy is needed before guidance on the management of affected women can be formulated.'},\n",
       "  {'beginSection': 'sections.0',\n",
       "   'document': 'http://www.ncbi.nlm.nih.gov/pubmed/15027582',\n",
       "   'endSection': 'sections.0',\n",
       "   'offsetInBeginSection': 148,\n",
       "   'offsetInEndSection': 263,\n",
       "   'text': 'Thrombotic risk during pregnancy and the puerperium is higher in asymptomatic women with than without thrombophilia'},\n",
       "  {'beginSection': 'sections.0',\n",
       "   'document': 'http://www.ncbi.nlm.nih.gov/pubmed/15027582',\n",
       "   'endSection': 'sections.0',\n",
       "   'offsetInBeginSection': 734,\n",
       "   'offsetInEndSection': 870,\n",
       "   'text': 'Further studies are required to assess the thrombotic risk in women with preeclampsia as well as early or late recurrent pregnancy loss.'},\n",
       "  {'beginSection': 'title',\n",
       "   'document': 'http://www.ncbi.nlm.nih.gov/pubmed/11583310',\n",
       "   'endSection': 'title',\n",
       "   'offsetInBeginSection': 0,\n",
       "   'offsetInEndSection': 89,\n",
       "   'text': 'Risk of pregnancy-related venous thrombosis in carriers of severe inherited thrombophilia'},\n",
       "  {'beginSection': 'sections.0',\n",
       "   'document': 'http://www.ncbi.nlm.nih.gov/pubmed/11583310',\n",
       "   'endSection': 'sections.0',\n",
       "   'offsetInBeginSection': 1265,\n",
       "   'offsetInEndSection': 1532,\n",
       "   'text': 'In conclusion, homozygous carriers of factor V Leiden and, to a lesser extent, double heterozygous carriers of factor V Leiden and of the prothrombin mutation have an increased risk of venous thrombosis during pregnancy, particularly high during the postpartum period'},\n",
       "  {'beginSection': 'sections.0',\n",
       "   'document': 'http://www.ncbi.nlm.nih.gov/pubmed/19135285',\n",
       "   'endSection': 'sections.0',\n",
       "   'offsetInBeginSection': 767,\n",
       "   'offsetInEndSection': 873,\n",
       "   'text': 'Careful diagnosis, observation and monitoring can add significant benefit to LMWH therapy during pregnancy'},\n",
       "  {'beginSection': 'sections.0',\n",
       "   'document': 'http://www.ncbi.nlm.nih.gov/pubmed/19031171',\n",
       "   'endSection': 'sections.0',\n",
       "   'offsetInBeginSection': 0,\n",
       "   'offsetInEndSection': 142,\n",
       "   'text': 'Pregnancy in healthy women is accompanied by hypercoagulable changes that may interact with thrombophilia risk factors and threaten pregnancy.'},\n",
       "  {'beginSection': 'sections.0',\n",
       "   'document': 'http://www.ncbi.nlm.nih.gov/pubmed/19031171',\n",
       "   'endSection': 'sections.0',\n",
       "   'offsetInBeginSection': 1239,\n",
       "   'offsetInEndSection': 1444,\n",
       "   'text': 'Fifty-three (13 %) women had antiphospholipid antibodies (lupus anticoagulant and/or anti-beta2-glycoprotein 1 antibodies) mainly associated with the risk of spontaneous abortion during the first trimester'},\n",
       "  {'beginSection': 'sections.0',\n",
       "   'document': 'http://www.ncbi.nlm.nih.gov/pubmed/19031171',\n",
       "   'endSection': 'sections.0',\n",
       "   'offsetInBeginSection': 1461,\n",
       "   'offsetInEndSection': 1713,\n",
       "   'text': 'thrombophilia was found to be considerably more common in women with pregnancy-associated complications in comparison with the general population, and most frequently in conjunction with venous thromboembolism during pregnancy and the postpartum period'},\n",
       "  {'beginSection': 'sections.0',\n",
       "   'document': 'http://www.ncbi.nlm.nih.gov/pubmed/18845284',\n",
       "   'endSection': 'sections.0',\n",
       "   'offsetInBeginSection': 1104,\n",
       "   'offsetInEndSection': 1262,\n",
       "   'text': 'When counseling white women with a history of preeclampsia, screening for thrombophilia can be useful for preconceptional counseling and pregnancy management.'},\n",
       "  {'beginSection': 'sections.0',\n",
       "   'document': 'http://www.ncbi.nlm.nih.gov/pubmed/16962918',\n",
       "   'endSection': 'sections.0',\n",
       "   'offsetInBeginSection': 604,\n",
       "   'offsetInEndSection': 779,\n",
       "   'text': 'knowledge combined with the appropriate use of thromboprophylaxis and treatment in women who have objectively confirmed VTE continue to improve maternal and perinatal outcomes'},\n",
       "  {'beginSection': 'sections.0',\n",
       "   'document': 'http://www.ncbi.nlm.nih.gov/pubmed/15713144',\n",
       "   'endSection': 'sections.0',\n",
       "   'offsetInBeginSection': 1508,\n",
       "   'offsetInEndSection': 1666,\n",
       "   'text': 'The risk of having thrombophilia is doubled in men who have fathered pregnancies which ended in perinatal death as well as in the mothers of such pregnancies.'},\n",
       "  {'beginSection': 'sections.0',\n",
       "   'document': 'http://www.ncbi.nlm.nih.gov/pubmed/19165673',\n",
       "   'endSection': 'sections.0',\n",
       "   'offsetInBeginSection': 560,\n",
       "   'offsetInEndSection': 707,\n",
       "   'text': 'The prevalence of thrombophilic variants is of possible public health significance for other morbidity; but perhaps not in relation to preeclampsia'},\n",
       "  {'beginSection': 'sections.0',\n",
       "   'document': 'http://www.ncbi.nlm.nih.gov/pubmed/20860491',\n",
       "   'endSection': 'sections.0',\n",
       "   'offsetInBeginSection': 694,\n",
       "   'offsetInEndSection': 826,\n",
       "   'text': 'This study suggests that thrombophilia \"mediates\" in lowering of cardiovascular risk factors in women with a history of preeclampsia'}],\n",
       " 'type': 'yesno'}"
      ]
     },
     "execution_count": 16,
     "metadata": {},
     "output_type": "execute_result"
    }
   ],
   "source": [
    "data_first_pass[3]"
   ]
  },
  {
   "cell_type": "code",
   "execution_count": 20,
   "id": "5305a8f9",
   "metadata": {},
   "outputs": [
    {
     "data": {
      "text/plain": [
       "'Disease ontology identifier of thrombophilia is DOID:2452. Disease thrombophilia due to decreased release of PLAT isa Disease thrombophilia. Disease prothrombin deficiency isa Disease thrombophilia. Disease antithrombin III deficiency isa Disease thrombophilia. Disease thrombophilia due to activated protein C resistance isa Disease thrombophilia. Disease prothrombin thrombophilia isa Disease thrombophilia. Disease heparin cofactor II deficiency isa Disease thrombophilia. Disease thrombophilia due to thrombin defect isa Disease thrombophilia. Disease X-linked thrombophilia due to factor IX defect isa Disease thrombophilia. Disease thrombophilia due to thrombomodulin defect isa Disease thrombophilia. Disease protein C deficiency isa Disease thrombophilia. Disease thrombophilia due to HRG deficiency isa Disease thrombophilia. Disease protein S deficiency isa Disease thrombophilia. Disease protein S deficiency resembles Disease thrombophilia. Disease thrombotic thrombocytopenic purpura isa Disease thrombophilia. Disease disseminated intravascular coagulation isa Disease thrombophilia. Disease disseminated intravascular coagulation resembles Disease thrombophilia. Compound Clopidogrel treats Disease thrombophilia. Compound DALTEPARIN SODIUM treats Disease thrombophilia. Compound NADROPARIN CALCIUM treats Disease thrombophilia. Compound Aspirin treats Disease thrombophilia. Compound Salicylic Acid treats Disease thrombophilia. Compound Estrone contraindicates Disease thrombophilia. Compound Fluoxymesterone contraindicates Disease thrombophilia. Compound Chlorotrianisene contraindicates Disease thrombophilia. Compound Testosterone contraindicates Disease thrombophilia. Compound Medroxyprogesterone acetate contraindicates Disease thrombophilia. Compound Testosterone enanthate contraindicates Disease thrombophilia. Compound Alosetron contraindicates Disease thrombophilia. Compound Raloxifene contraindicates Disease thrombophilia. Compound Palonosetron contraindicates Disease thrombophilia. Compound Estradiol contraindicates Disease thrombophilia. Compound 17-Deacetylnorgestimate contraindicates Disease thrombophilia. Compound Norgestrel contraindicates Disease thrombophilia. Compound Levomefolic acid contraindicates Disease thrombophilia. Compound Desogestrel contraindicates Disease thrombophilia. Compound Meprobamate contraindicates Disease thrombophilia. Compound Norgestimate contraindicates Disease thrombophilia. Compound Testosterone cypionate contraindicates Disease thrombophilia. Compound Quinestrol contraindicates Disease thrombophilia. Compound Norethindrone contraindicates Disease thrombophilia. Compound Estradiol valerate contraindicates Disease thrombophilia. Compound Progesterone contraindicates Disease thrombophilia. Compound Methyltestosterone contraindicates Disease thrombophilia. Compound Dienogest contraindicates Disease thrombophilia. Compound Chlordiazepoxide contraindicates Disease thrombophilia. Compound (8R,9S,10R,13S,14S)-13-ethyl-17-ethynyl-17-hydroxy-1,2,6,7,8,9,10,11,12,14,15,16-dodecahydrocyclopenta[a]phenanthren-3-one contraindicates Disease thrombophilia. Compound Diethylstilbestrol contraindicates Disease thrombophilia. Compound Estradiol cypionate contraindicates Disease thrombophilia. Compound Tranexamic acid contraindicates Disease thrombophilia. Compound Ethinyl estradiol contraindicates Disease thrombophilia. Compound Drospirenone contraindicates Disease thrombophilia. Disease hemorrhagic disease resembles Disease thrombophilia. Disease retinal vein occlusion resembles Disease thrombophilia. Disease nonbacterial thrombotic endocarditis resembles Disease thrombophilia. Disease mesenteric vascular occlusion resembles Disease thrombophilia. Disease coronary thrombosis resembles Disease thrombophilia. Disease central retinal vein occlusion resembles Disease thrombophilia. Disease factor V deficiency resembles Disease thrombophilia. Disease patent foramen ovale resembles Disease thrombophilia. Disease essential thrombocythemia resembles Disease thrombophilia. Disease anterior ischemic optic neuropathy resembles Disease thrombophilia. Disease osteonecrosis resembles Disease thrombophilia. Disease branch retinal artery occlusion resembles Disease thrombophilia. Disease central retinal artery occlusion resembles Disease thrombophilia. Disease Legg-Calve-Perthes disease resembles Disease thrombophilia. Disease HELLP syndrome resembles Disease thrombophilia. Disease Budd-Chiari syndrome resembles Disease thrombophilia. Disease purpura fulminans resembles Disease thrombophilia. Disease beta thalassemia resembles Disease thrombophilia. Disease blood platelet disease resembles Disease thrombophilia. Disease thrombophilia isa Disease blood coagulation disease. Disease thrombophilia localizes Anatomy popliteal vein. Disease thrombophilia localizes Anatomy vasculature of retina. Disease thrombophilia localizes Anatomy jugular vein. Disease thrombophilia localizes Anatomy posterior vena cava. Disease thrombophilia localizes Anatomy endothelium. Disease thrombophilia localizes Anatomy mesenteric vein. Disease thrombophilia localizes Anatomy renal vein. Disease thrombophilia localizes Anatomy portal vein. Disease thrombophilia localizes Anatomy splenic vein. Disease thrombophilia localizes Anatomy leg. Disease thrombophilia localizes Anatomy retina blood vessel. Disease thrombophilia localizes Anatomy femoral vein. Disease thrombophilia localizes Anatomy subclavian vein. Disease thrombophilia localizes Anatomy cardiovascular system endothelium. Disease thrombophilia localizes Anatomy blood plasma. Disease thrombophilia localizes Anatomy uterus. Disease thrombophilia localizes Anatomy cerebral vein. Disease thrombophilia associates Gene AGGF1. Disease thrombophilia associates Gene SPTB. Disease thrombophilia associates Gene HBB. Disease thrombophilia associates Gene SPTA1. Disease thrombophilia associates Gene ANK1. Disease thrombophilia associates Gene DAAM2. Disease thrombophilia associates Gene GATA2. Disease thrombophilia associates Gene MYD88. Disease thrombophilia associates Gene EPB42. Disease thrombophilia associates Gene SLC4A1. Disease thrombophilia associates Gene DLD. Disease thrombophilia associates Gene PROC. Disease thrombophilia associates Gene THBD. Disease thrombophilia associates Gene PLG. Disease thrombophilia associates Gene F9. Disease thrombophilia associates Gene HRG. Disease thrombophilia associates Gene F5. Disease thrombophilia associates Gene F2. Disease thrombophilia associates Gene ADAMTS13. Disease thrombophilia associates Gene PROS1. Disease thrombophilia associates Gene SERPINC1. Disease thrombophilia presents Symptom Dizziness. Disease thrombophilia presents Symptom Purpura Fulminans. Disease thrombophilia presents Symptom Amaurosis Fugax. Disease thrombophilia presents Symptom Catatonia. Disease thrombophilia presents Symptom Livedo Reticularis. Disease thrombophilia presents Symptom Purpura, Thrombocytopenic, Idiopathic. Disease thrombophilia presents Symptom IgA Vasculitis. Disease thrombophilia presents Symptom Chest Pain. Disease thrombophilia presents Symptom Abdomen, Acute. Disease thrombophilia resembles Disease vascular skin disease. Disease thrombophilia resembles Disease antiphospholipid syndrome. Disease thrombophilia resembles Disease ovarian hyperstimulation syndrome. Disease thrombophilia resembles Disease splenic infarction. Disease thrombophilia resembles Disease antithrombin III deficiency. Disease thrombophilia resembles Disease intracranial sinus thrombosis. Disease thrombophilia resembles Disease intracranial embolism. Disease thrombophilia resembles Disease protein C deficiency. Disease thrombophilia resembles Disease hyperhomocysteinemia. Disease thrombophilia resembles Disease retinal artery occlusion. Disease thrombophilia resembles Disease calciphylaxis. Disease thrombophilia resembles Disease intracranial thrombosis. Disease thrombophilia resembles Disease sagittal sinus thrombosis. Disease thrombophilia resembles Disease placenta disease.'"
      ]
     },
     "execution_count": 20,
     "metadata": {},
     "output_type": "execute_result"
    }
   ],
   "source": [
    "node_context_df[node_context_df.node_name == \"thrombophilia\"].node_context.values[0]"
   ]
  },
  {
   "cell_type": "code",
   "execution_count": null,
   "id": "775df499",
   "metadata": {},
   "outputs": [],
   "source": []
  }
 ],
 "metadata": {
  "kernelspec": {
   "display_name": "Python 3 (ipykernel)",
   "language": "python",
   "name": "python3"
  },
  "language_info": {
   "codemirror_mode": {
    "name": "ipython",
    "version": 3
   },
   "file_extension": ".py",
   "mimetype": "text/x-python",
   "name": "python",
   "nbconvert_exporter": "python",
   "pygments_lexer": "ipython3",
   "version": "3.10.9"
  }
 },
 "nbformat": 4,
 "nbformat_minor": 5
}
