{
 "cells": [
  {
   "cell_type": "code",
   "execution_count": 19,
   "id": "a949f77f",
   "metadata": {},
   "outputs": [],
   "source": [
    "import pandas as pd\n",
    "import ast\n"
   ]
  },
  {
   "cell_type": "code",
   "execution_count": 20,
   "id": "98684871",
   "metadata": {},
   "outputs": [],
   "source": [
    "DATA_PATH = \"../../../data/benchmark_datasets/true_false_question_spoke_map.csv\"\n"
   ]
  },
  {
   "cell_type": "code",
   "execution_count": 21,
   "id": "6669ac11",
   "metadata": {},
   "outputs": [],
   "source": [
    "df = pd.read_csv(DATA_PATH)"
   ]
  },
  {
   "cell_type": "code",
   "execution_count": 22,
   "id": "5b75b0bd",
   "metadata": {},
   "outputs": [],
   "source": [
    "df.loc[:, \"node_hit_count\"] = df.node_hits.apply(lambda x:len(ast.literal_eval(x)))\n"
   ]
  },
  {
   "cell_type": "code",
   "execution_count": 23,
   "id": "c36ae8b8",
   "metadata": {},
   "outputs": [
    {
     "data": {
      "text/plain": [
       "4"
      ]
     },
     "execution_count": 23,
     "metadata": {},
     "output_type": "execute_result"
    }
   ],
   "source": [
    "df.node_hit_count.max()"
   ]
  },
  {
   "cell_type": "code",
   "execution_count": 30,
   "id": "33152f64",
   "metadata": {},
   "outputs": [
    {
     "data": {
      "text/plain": [
       "\"[(Document(page_content='Stargardt disease', metadata={'source': 'Stargardt disease from SPOKE knowledge graph'}), 0.05171792209148407)]\""
      ]
     },
     "execution_count": 30,
     "metadata": {},
     "output_type": "execute_result"
    }
   ],
   "source": [
    "df.score.values[3]"
   ]
  },
  {
   "cell_type": "code",
   "execution_count": 31,
   "id": "84af6ffb",
   "metadata": {},
   "outputs": [
    {
     "data": {
      "text/html": [
       "<div>\n",
       "<style scoped>\n",
       "    .dataframe tbody tr th:only-of-type {\n",
       "        vertical-align: middle;\n",
       "    }\n",
       "\n",
       "    .dataframe tbody tr th {\n",
       "        vertical-align: top;\n",
       "    }\n",
       "\n",
       "    .dataframe thead th {\n",
       "        text-align: right;\n",
       "    }\n",
       "</style>\n",
       "<table border=\"1\" class=\"dataframe\">\n",
       "  <thead>\n",
       "    <tr style=\"text-align: right;\">\n",
       "      <th></th>\n",
       "      <th>text</th>\n",
       "      <th>label</th>\n",
       "      <th>node_hits</th>\n",
       "      <th>score</th>\n",
       "      <th>node_hit_count</th>\n",
       "    </tr>\n",
       "  </thead>\n",
       "  <tbody>\n",
       "    <tr>\n",
       "      <th>0</th>\n",
       "      <td>enhanced S-cone syndrome is not a vitreoretina...</td>\n",
       "      <td>False</td>\n",
       "      <td>['enhanced S-cone syndrome']</td>\n",
       "      <td>[(Document(page_content='enhanced S-cone syndr...</td>\n",
       "      <td>1</td>\n",
       "    </tr>\n",
       "    <tr>\n",
       "      <th>1</th>\n",
       "      <td>metronidazole treats crohn's disease</td>\n",
       "      <td>True</td>\n",
       "      <td>[\"Crohn's disease\"]</td>\n",
       "      <td>[(Document(page_content=\"Crohn's disease\", met...</td>\n",
       "      <td>1</td>\n",
       "    </tr>\n",
       "    <tr>\n",
       "      <th>2</th>\n",
       "      <td>KLEEFSTRA SYNDROME 1 is not associated with Ge...</td>\n",
       "      <td>False</td>\n",
       "      <td>['Kleefstra syndrome 1']</td>\n",
       "      <td>[(Document(page_content='Kleefstra syndrome 1'...</td>\n",
       "      <td>1</td>\n",
       "    </tr>\n",
       "    <tr>\n",
       "      <th>3</th>\n",
       "      <td>STARGARDT DISEASE 1 (disorder) is not associat...</td>\n",
       "      <td>False</td>\n",
       "      <td>['Stargardt disease']</td>\n",
       "      <td>[(Document(page_content='Stargardt disease', m...</td>\n",
       "      <td>1</td>\n",
       "    </tr>\n",
       "    <tr>\n",
       "      <th>4</th>\n",
       "      <td>Juvenile polyposis syndrome associates Gene SMAD4</td>\n",
       "      <td>True</td>\n",
       "      <td>['juvenile polyposis syndrome']</td>\n",
       "      <td>[(Document(page_content='juvenile polyposis sy...</td>\n",
       "      <td>1</td>\n",
       "    </tr>\n",
       "    <tr>\n",
       "      <th>...</th>\n",
       "      <td>...</td>\n",
       "      <td>...</td>\n",
       "      <td>...</td>\n",
       "      <td>...</td>\n",
       "      <td>...</td>\n",
       "    </tr>\n",
       "    <tr>\n",
       "      <th>604</th>\n",
       "      <td>alpha-mannosidosis is a eye disorder</td>\n",
       "      <td>True</td>\n",
       "      <td>['alpha-mannosidosis', 'eye disease']</td>\n",
       "      <td>[(Document(page_content='alpha-mannosidosis', ...</td>\n",
       "      <td>2</td>\n",
       "    </tr>\n",
       "    <tr>\n",
       "      <th>605</th>\n",
       "      <td>Juvenile polyposis syndrome associates Gene BM...</td>\n",
       "      <td>True</td>\n",
       "      <td>['juvenile polyposis syndrome']</td>\n",
       "      <td>[(Document(page_content='juvenile polyposis sy...</td>\n",
       "      <td>1</td>\n",
       "    </tr>\n",
       "    <tr>\n",
       "      <th>606</th>\n",
       "      <td>Diabetes Mellitus, Non-Insulin-Dependent is no...</td>\n",
       "      <td>False</td>\n",
       "      <td>['diabetes mellitus']</td>\n",
       "      <td>[(Document(page_content='diabetes mellitus', m...</td>\n",
       "      <td>1</td>\n",
       "    </tr>\n",
       "    <tr>\n",
       "      <th>607</th>\n",
       "      <td>Menkes Kinky Hair Syndrome associates Gene ATP7A</td>\n",
       "      <td>True</td>\n",
       "      <td>['Menkes disease']</td>\n",
       "      <td>[(Document(page_content='Menkes disease', meta...</td>\n",
       "      <td>1</td>\n",
       "    </tr>\n",
       "    <tr>\n",
       "      <th>608</th>\n",
       "      <td>Kabuki make-up syndrome associates Gene KMT2D</td>\n",
       "      <td>True</td>\n",
       "      <td>['Kabuki syndrome']</td>\n",
       "      <td>[(Document(page_content='Kabuki syndrome', met...</td>\n",
       "      <td>1</td>\n",
       "    </tr>\n",
       "  </tbody>\n",
       "</table>\n",
       "<p>609 rows × 5 columns</p>\n",
       "</div>"
      ],
      "text/plain": [
       "                                                  text  label  \\\n",
       "0    enhanced S-cone syndrome is not a vitreoretina...  False   \n",
       "1                 metronidazole treats crohn's disease   True   \n",
       "2    KLEEFSTRA SYNDROME 1 is not associated with Ge...  False   \n",
       "3    STARGARDT DISEASE 1 (disorder) is not associat...  False   \n",
       "4    Juvenile polyposis syndrome associates Gene SMAD4   True   \n",
       "..                                                 ...    ...   \n",
       "604               alpha-mannosidosis is a eye disorder   True   \n",
       "605  Juvenile polyposis syndrome associates Gene BM...   True   \n",
       "606  Diabetes Mellitus, Non-Insulin-Dependent is no...  False   \n",
       "607   Menkes Kinky Hair Syndrome associates Gene ATP7A   True   \n",
       "608      Kabuki make-up syndrome associates Gene KMT2D   True   \n",
       "\n",
       "                                 node_hits  \\\n",
       "0             ['enhanced S-cone syndrome']   \n",
       "1                      [\"Crohn's disease\"]   \n",
       "2                 ['Kleefstra syndrome 1']   \n",
       "3                    ['Stargardt disease']   \n",
       "4          ['juvenile polyposis syndrome']   \n",
       "..                                     ...   \n",
       "604  ['alpha-mannosidosis', 'eye disease']   \n",
       "605        ['juvenile polyposis syndrome']   \n",
       "606                  ['diabetes mellitus']   \n",
       "607                     ['Menkes disease']   \n",
       "608                    ['Kabuki syndrome']   \n",
       "\n",
       "                                                 score  node_hit_count  \n",
       "0    [(Document(page_content='enhanced S-cone syndr...               1  \n",
       "1    [(Document(page_content=\"Crohn's disease\", met...               1  \n",
       "2    [(Document(page_content='Kleefstra syndrome 1'...               1  \n",
       "3    [(Document(page_content='Stargardt disease', m...               1  \n",
       "4    [(Document(page_content='juvenile polyposis sy...               1  \n",
       "..                                                 ...             ...  \n",
       "604  [(Document(page_content='alpha-mannosidosis', ...               2  \n",
       "605  [(Document(page_content='juvenile polyposis sy...               1  \n",
       "606  [(Document(page_content='diabetes mellitus', m...               1  \n",
       "607  [(Document(page_content='Menkes disease', meta...               1  \n",
       "608  [(Document(page_content='Kabuki syndrome', met...               1  \n",
       "\n",
       "[609 rows x 5 columns]"
      ]
     },
     "execution_count": 31,
     "metadata": {},
     "output_type": "execute_result"
    }
   ],
   "source": [
    "df"
   ]
  },
  {
   "cell_type": "code",
   "execution_count": null,
   "id": "7fe3f6ec",
   "metadata": {},
   "outputs": [],
   "source": []
  }
 ],
 "metadata": {
  "kernelspec": {
   "display_name": "Python 3 (ipykernel)",
   "language": "python",
   "name": "python3"
  },
  "language_info": {
   "codemirror_mode": {
    "name": "ipython",
    "version": 3
   },
   "file_extension": ".py",
   "mimetype": "text/x-python",
   "name": "python",
   "nbconvert_exporter": "python",
   "pygments_lexer": "ipython3",
   "version": "3.10.9"
  }
 },
 "nbformat": 4,
 "nbformat_minor": 5
}
