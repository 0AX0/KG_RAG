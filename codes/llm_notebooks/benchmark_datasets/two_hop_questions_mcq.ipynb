{
 "cells": [
  {
   "cell_type": "code",
   "execution_count": 1,
   "id": "c2a2ddaf",
   "metadata": {},
   "outputs": [],
   "source": [
    "import pandas as pd\n",
    "from neo4j import GraphDatabase, basic_auth\n",
    "from tqdm import tqdm\n"
   ]
  },
  {
   "cell_type": "code",
   "execution_count": 2,
   "id": "dd20bce2",
   "metadata": {},
   "outputs": [],
   "source": [
    "URI = \"bolt://spokedev.cgl.ucsf.edu/:7687\"\n",
    "SPOKE_USER = \"neo4j\"\n",
    "SPOKE_PSW = \"SPOKEdev\"\n"
   ]
  },
  {
   "cell_type": "code",
   "execution_count": 11,
   "id": "e1cc709c",
   "metadata": {},
   "outputs": [
    {
     "name": "stdout",
     "output_type": "stream",
     "text": [
      "CPU times: user 28 ms, sys: 4.63 ms, total: 32.6 ms\n",
      "Wall time: 13.4 s\n"
     ]
    }
   ],
   "source": [
    "%%time\n",
    "\n",
    "query = \"\"\"\n",
    "    MATCH (d1:Disease)<-[:ASSOCIATES_VaP]-(v:Variant)-[:ASSOCIATES_VaP]->(d2:Disease)\n",
    "    WITH d1, d2, COLLECT(v.identifier) AS positive_variants\n",
    "    LIMIT 10\n",
    "    OPTIONAL MATCH (d1)<-[:ASSOCIATES_VaP]-(negative_variants:Variant)\n",
    "    WHERE NOT negative_variants IN positive_variants\n",
    "    WITH d1, d2, positive_variants, COLLECT(DISTINCT negative_variants.identifier) AS negative_samples\n",
    "    RETURN d1.name AS d1_name, d2.name AS d2_name, positive_variants AS v_name_correct, negative_samples\n",
    "    LIMIT 10\n",
    "\"\"\"\n",
    "\n",
    "\n",
    "auth = basic_auth(SPOKE_USER, SPOKE_PSW)\n",
    "sdb = GraphDatabase.driver(URI, auth=auth)\n",
    "\n",
    "disease_variant_list = []\n",
    "with sdb.session() as session:\n",
    "    with session.begin_transaction() as tx:\n",
    "        result = tx.run(query)\n",
    "        for index, row in enumerate(result):\n",
    "            disease_variant_list.append((\"Variant\", row[\"d1_name\"], row[\"d2_name\"], row[\"v_name_correct\"], row[\"negative_samples\"]))\n",
    "            "
   ]
  },
  {
   "cell_type": "code",
   "execution_count": 54,
   "id": "8a9d9cee",
   "metadata": {},
   "outputs": [],
   "source": [
    "disease_variant_df = pd.DataFrame(disease_variant_list, columns=[\"correct_type\", \"disease_1\", \"disease_2\", \"correct_node\", \"negative_nodes\"])\n",
    "disease_variant_df = disease_variant_df.dropna(subset=\"negative_nodes\")\n",
    "disease_variant_df.negative_nodes = disease_variant_df.negative_nodes.apply(lambda x:\", \".join(x[0:4]))\n",
    "disease_variant_df = disease_variant_df.explode(\"correct_node\")\n"
   ]
  },
  {
   "cell_type": "code",
   "execution_count": 55,
   "id": "78394f8a",
   "metadata": {},
   "outputs": [],
   "source": [
    "disease_variant_df.loc[:, \"text\"] = \"Out of the given list, which \" + disease_variant_df.correct_type + \" is associated with both \" + disease_variant_df.disease_1 + \" and \" + disease_variant_df.disease_2 + \". Given list is: \" + disease_variant_df.correct_node + \", \" + disease_variant_df.negative_nodes\n"
   ]
  },
  {
   "cell_type": "code",
   "execution_count": 56,
   "id": "f4b98d5c",
   "metadata": {},
   "outputs": [],
   "source": [
    "disease_variant_df.to_csv(\"../../../data/benchmark_datasets/test_questions_two_hop_mcq.csv\", index=False, header=True)\n"
   ]
  },
  {
   "cell_type": "code",
   "execution_count": 57,
   "id": "0e4cda4d",
   "metadata": {},
   "outputs": [
    {
     "data": {
      "text/plain": [
       "'Out of the given list, which Variant is associated with both cerebrooculofacioskeletal syndrome 1 and cerebrooculofacioskeletal syndrome 2. Given list is: rs200665173, rs1026438103, rs886047027, rs886047033, rs886047024'"
      ]
     },
     "execution_count": 57,
     "metadata": {},
     "output_type": "execute_result"
    }
   ],
   "source": [
    "disease_variant_df.text.values[0]\n"
   ]
  },
  {
   "cell_type": "code",
   "execution_count": null,
   "id": "9d01eb5b",
   "metadata": {},
   "outputs": [],
   "source": []
  }
 ],
 "metadata": {
  "kernelspec": {
   "display_name": "Python 3 (ipykernel)",
   "language": "python",
   "name": "python3"
  },
  "language_info": {
   "codemirror_mode": {
    "name": "ipython",
    "version": 3
   },
   "file_extension": ".py",
   "mimetype": "text/x-python",
   "name": "python",
   "nbconvert_exporter": "python",
   "pygments_lexer": "ipython3",
   "version": "3.10.9"
  }
 },
 "nbformat": 4,
 "nbformat_minor": 5
}
