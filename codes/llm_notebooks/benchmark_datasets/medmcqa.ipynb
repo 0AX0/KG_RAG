{
 "cells": [
  {
   "cell_type": "code",
   "execution_count": 36,
   "id": "b5767eac-58c0-46e6-af5b-9851f09773ea",
   "metadata": {},
   "outputs": [],
   "source": [
    "import json\n"
   ]
  },
  {
   "cell_type": "code",
   "execution_count": 34,
   "id": "44c6b451-1b58-4b47-bcef-bdf9fc08eba1",
   "metadata": {},
   "outputs": [],
   "source": [
    "DATA_PATH = \"../../../data/benchmark_datasets/medmcqa/data/dev.json\"\n"
   ]
  },
  {
   "cell_type": "code",
   "execution_count": 35,
   "id": "86d896ae-c7db-4036-839d-8233d9886bb0",
   "metadata": {},
   "outputs": [],
   "source": [
    "data = []\n",
    "with open(DATA_PATH, \"r\") as f:\n",
    "    for line in f:\n",
    "        data.append(json.loads(line))\n"
   ]
  },
  {
   "cell_type": "code",
   "execution_count": 31,
   "id": "85f173bc-58c4-4c11-b7c0-0db761ae1486",
   "metadata": {},
   "outputs": [
    {
     "data": {
      "text/plain": [
       "{'question': 'All except one are centrally acting muscle blockers:',\n",
       " 'exp': None,\n",
       " 'cop': 4,\n",
       " 'opa': 'Meprobamate',\n",
       " 'opb': 'Baclofen',\n",
       " 'opc': 'Diazepam',\n",
       " 'opd': 'Dantrolene sodium',\n",
       " 'subject_name': 'Pharmacology',\n",
       " 'topic_name': None,\n",
       " 'id': 'b6130415-f3ab-464a-8854-9a1811d8f8f9',\n",
       " 'choice_type': 'multi'}"
      ]
     },
     "execution_count": 31,
     "metadata": {},
     "output_type": "execute_result"
    }
   ],
   "source": [
    "data[-1]"
   ]
  },
  {
   "cell_type": "code",
   "execution_count": null,
   "id": "951e60da-04aa-49cf-8fb1-6399db13e5db",
   "metadata": {},
   "outputs": [],
   "source": []
  }
 ],
 "metadata": {
  "kernelspec": {
   "display_name": "Python 3 (ipykernel)",
   "language": "python",
   "name": "python3"
  },
  "language_info": {
   "codemirror_mode": {
    "name": "ipython",
    "version": 3
   },
   "file_extension": ".py",
   "mimetype": "text/x-python",
   "name": "python",
   "nbconvert_exporter": "python",
   "pygments_lexer": "ipython3",
   "version": "3.10.9"
  }
 },
 "nbformat": 4,
 "nbformat_minor": 5
}
