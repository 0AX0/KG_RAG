{
 "cells": [
  {
   "cell_type": "markdown",
   "id": "85ca5cef",
   "metadata": {},
   "source": [
    "## Robokop edge files (csv format) are obtained by running cypher queries in robokop neo4j browser and exporting the file as csv from the browser\n",
    "### http://robokopkg.renci.org/browser/"
   ]
  },
  {
   "cell_type": "code",
   "execution_count": 1,
   "id": "1e20121a",
   "metadata": {},
   "outputs": [],
   "source": [
    "from utility import *\n",
    "import os\n"
   ]
  },
  {
   "cell_type": "markdown",
   "id": "8cd7347e",
   "metadata": {},
   "source": [
    "# Disease - Gene association"
   ]
  },
  {
   "cell_type": "code",
   "execution_count": 46,
   "id": "38415e1c",
   "metadata": {},
   "outputs": [],
   "source": [
    "PATH = \"../../../data/benchmark_datasets/robokop\"\n",
    "FILES_LIST_1 = [\"disease_gene_11.csv\", \"disease_gene_22.csv\", \"disease_gene_33.csv\", \"disease_gene_44.csv\", \"disease_gene_55.csv\"]\n"
   ]
  },
  {
   "cell_type": "code",
   "execution_count": 47,
   "id": "d080317b",
   "metadata": {},
   "outputs": [],
   "source": [
    "data = []\n",
    "for item in FILES_LIST_1:\n",
    "    data.append(pd.read_csv(os.path.join(PATH, item)))\n",
    "    \n",
    "data = pd.concat(data, ignore_index=True)\n",
    "data.columns = [\"source\", \"target\"]\n"
   ]
  },
  {
   "cell_type": "code",
   "execution_count": 48,
   "id": "14ce1593",
   "metadata": {},
   "outputs": [],
   "source": [
    "data_mcq_disease_gene = create_mcq(data, \"source\", \"target\", \"Gene\", \"is associated with\")"
   ]
  },
  {
   "cell_type": "code",
   "execution_count": 56,
   "id": "64d73cf5",
   "metadata": {},
   "outputs": [
    {
     "name": "stdout",
     "output_type": "stream",
     "text": [
      "Out of the given list, which Gene is associated with kidney cancer and vulva cancer. Given list is: KRT7, VEGFA, POSTN, BIRC5, PHAF1\n",
      "\n",
      "KRT7\n"
     ]
    }
   ],
   "source": [
    "ind = 101\n",
    "print(data_mcq_disease_gene.text.values[ind])\n",
    "\n",
    "print(\"\")\n",
    "\n",
    "print(data_mcq_disease_gene.correct_node.values[ind])"
   ]
  },
  {
   "cell_type": "markdown",
   "id": "8532e202",
   "metadata": {},
   "source": [
    "# Disease - Variant association"
   ]
  },
  {
   "cell_type": "code",
   "execution_count": 32,
   "id": "295f8622",
   "metadata": {},
   "outputs": [],
   "source": [
    "FILES_LIST_2 = [\"disease_variant_1.csv\", \"disease_variant_2.csv\"]\n"
   ]
  },
  {
   "cell_type": "code",
   "execution_count": 33,
   "id": "def2900c",
   "metadata": {},
   "outputs": [],
   "source": [
    "data = []\n",
    "for item in FILES_LIST_2:\n",
    "    data.append(pd.read_csv(os.path.join(PATH, item)))\n",
    "    \n",
    "data = pd.concat(data, ignore_index=True)\n",
    "data.columns = [\"source\", \"target\"]\n"
   ]
  },
  {
   "cell_type": "code",
   "execution_count": 34,
   "id": "cd24f8a4",
   "metadata": {},
   "outputs": [],
   "source": [
    "data_mcq_disease_variant = create_mcq(data, \"source\", \"target\", \"Variant\", \"is associated with\")\n"
   ]
  },
  {
   "cell_type": "code",
   "execution_count": 19,
   "id": "0e882745",
   "metadata": {},
   "outputs": [
    {
     "name": "stdout",
     "output_type": "stream",
     "text": [
      "Out of the given list, which Variant is associated with keratinocyte carcinoma\"@e and autoimmune disease. Given list is: rs72928038, rs12144049, rs2251393, rs191929250, rs2407308\n",
      "\n",
      "rs72928038\n"
     ]
    }
   ],
   "source": [
    "ind = 2\n",
    "print(data_mcq_disease_variant.text.values[ind])\n",
    "\n",
    "print(\"\")\n",
    "\n",
    "print(data_mcq_disease_variant.correct_node.values[ind])"
   ]
  },
  {
   "cell_type": "markdown",
   "id": "8f5a058b",
   "metadata": {},
   "source": [
    "# Disease - Organism association"
   ]
  },
  {
   "cell_type": "code",
   "execution_count": 35,
   "id": "d8a3bb4e",
   "metadata": {},
   "outputs": [],
   "source": [
    "FILES_LIST_3 = [\"disease_organism_1.csv\"]\n"
   ]
  },
  {
   "cell_type": "code",
   "execution_count": 36,
   "id": "cd0a7de0",
   "metadata": {},
   "outputs": [],
   "source": [
    "data = []\n",
    "for item in FILES_LIST_3:\n",
    "    data.append(pd.read_csv(os.path.join(PATH, item)))\n",
    "    \n",
    "data = pd.concat(data, ignore_index=True)\n",
    "data.columns = [\"source\", \"target\"]\n"
   ]
  },
  {
   "cell_type": "code",
   "execution_count": 37,
   "id": "715943f1",
   "metadata": {},
   "outputs": [],
   "source": [
    "data_mcq_disease_organism = create_mcq(data, \"source\", \"target\", \"Organism\", \"causes\")\n"
   ]
  },
  {
   "cell_type": "code",
   "execution_count": 41,
   "id": "6e798f87",
   "metadata": {},
   "outputs": [
    {
     "data": {
      "text/plain": [
       "'Out of the given list, which Organism causes herpes zoster and varicella zoster infection. Given list is: Human alphaherpesvirus 3, West Nile virus, Kunjin virus, La Crosse virus, Seoul virus'"
      ]
     },
     "execution_count": 41,
     "metadata": {},
     "output_type": "execute_result"
    }
   ],
   "source": [
    "data_mcq_disease_organism.text.values[2]"
   ]
  },
  {
   "cell_type": "code",
   "execution_count": 57,
   "id": "3d9ebfd9",
   "metadata": {},
   "outputs": [],
   "source": [
    "data_mcq_robokop = pd.concat([data_mcq_disease_gene, data_mcq_disease_variant, data_mcq_disease_organism], ignore_index=False)\n",
    "\n",
    "data_mcq_robokop.to_csv(\"../../../data/benchmark_datasets/test_questions_two_hop_mcq_from_robokop.csv\", index=False, header=True)\n"
   ]
  },
  {
   "cell_type": "code",
   "execution_count": 61,
   "id": "72445d96",
   "metadata": {},
   "outputs": [
    {
     "data": {
      "text/plain": [
       "'Out of the given list, which Gene is associated with ocular cancer and liver cancer. Given list is: HRAS, ALDH7A1, SLC30A6, FGF9, CSF2RB'"
      ]
     },
     "execution_count": 61,
     "metadata": {},
     "output_type": "execute_result"
    }
   ],
   "source": [
    "data_mcq_robokop.iloc[4].text"
   ]
  },
  {
   "cell_type": "code",
   "execution_count": null,
   "id": "53818906",
   "metadata": {},
   "outputs": [],
   "source": []
  }
 ],
 "metadata": {
  "kernelspec": {
   "display_name": "Python 3 (ipykernel)",
   "language": "python",
   "name": "python3"
  },
  "language_info": {
   "codemirror_mode": {
    "name": "ipython",
    "version": 3
   },
   "file_extension": ".py",
   "mimetype": "text/x-python",
   "name": "python",
   "nbconvert_exporter": "python",
   "pygments_lexer": "ipython3",
   "version": "3.10.9"
  }
 },
 "nbformat": 4,
 "nbformat_minor": 5
}
