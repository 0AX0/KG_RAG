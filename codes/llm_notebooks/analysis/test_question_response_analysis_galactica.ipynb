{
 "cells": [
  {
   "cell_type": "code",
   "execution_count": 44,
   "id": "b12ff847",
   "metadata": {},
   "outputs": [],
   "source": [
    "import pandas as pd\n",
    "import numpy as np\n"
   ]
  },
  {
   "cell_type": "code",
   "execution_count": 5,
   "id": "8e7197ae",
   "metadata": {},
   "outputs": [],
   "source": [
    "RESPONSE_PATH = \"../../../data/analysis_results/galactica_1.3b_prompt_based_response_after_manual_curation.csv\"\n"
   ]
  },
  {
   "cell_type": "code",
   "execution_count": 6,
   "id": "d51eed0d",
   "metadata": {},
   "outputs": [],
   "source": [
    "response_df = pd.read_csv(RESPONSE_PATH)\n"
   ]
  },
  {
   "cell_type": "code",
   "execution_count": 7,
   "id": "39fc3c5a",
   "metadata": {},
   "outputs": [
    {
     "data": {
      "text/html": [
       "<div>\n",
       "<style scoped>\n",
       "    .dataframe tbody tr th:only-of-type {\n",
       "        vertical-align: middle;\n",
       "    }\n",
       "\n",
       "    .dataframe tbody tr th {\n",
       "        vertical-align: top;\n",
       "    }\n",
       "\n",
       "    .dataframe thead th {\n",
       "        text-align: right;\n",
       "    }\n",
       "</style>\n",
       "<table border=\"1\" class=\"dataframe\">\n",
       "  <thead>\n",
       "    <tr style=\"text-align: right;\">\n",
       "      <th></th>\n",
       "      <th>question</th>\n",
       "      <th>label</th>\n",
       "      <th>llm_answer</th>\n",
       "    </tr>\n",
       "  </thead>\n",
       "  <tbody>\n",
       "    <tr>\n",
       "      <th>0</th>\n",
       "      <td>enhanced S-cone syndrome is not a vitreoretina...</td>\n",
       "      <td>False</td>\n",
       "      <td>False</td>\n",
       "    </tr>\n",
       "    <tr>\n",
       "      <th>1</th>\n",
       "      <td>metronidazole treats crohn's disease</td>\n",
       "      <td>True</td>\n",
       "      <td>False</td>\n",
       "    </tr>\n",
       "    <tr>\n",
       "      <th>2</th>\n",
       "      <td>KLEEFSTRA SYNDROME 1 is not associated with Ge...</td>\n",
       "      <td>False</td>\n",
       "      <td>True</td>\n",
       "    </tr>\n",
       "    <tr>\n",
       "      <th>3</th>\n",
       "      <td>STARGARDT DISEASE 1 (disorder) is not associat...</td>\n",
       "      <td>False</td>\n",
       "      <td>False</td>\n",
       "    </tr>\n",
       "    <tr>\n",
       "      <th>4</th>\n",
       "      <td>Juvenile polyposis syndrome associates Gene SMAD4</td>\n",
       "      <td>True</td>\n",
       "      <td>True</td>\n",
       "    </tr>\n",
       "    <tr>\n",
       "      <th>...</th>\n",
       "      <td>...</td>\n",
       "      <td>...</td>\n",
       "      <td>...</td>\n",
       "    </tr>\n",
       "    <tr>\n",
       "      <th>604</th>\n",
       "      <td>alpha-mannosidosis is a eye disorder</td>\n",
       "      <td>True</td>\n",
       "      <td>True</td>\n",
       "    </tr>\n",
       "    <tr>\n",
       "      <th>605</th>\n",
       "      <td>Juvenile polyposis syndrome associates Gene BM...</td>\n",
       "      <td>True</td>\n",
       "      <td>True</td>\n",
       "    </tr>\n",
       "    <tr>\n",
       "      <th>606</th>\n",
       "      <td>Diabetes Mellitus, Non-Insulin-Dependent is no...</td>\n",
       "      <td>False</td>\n",
       "      <td>True</td>\n",
       "    </tr>\n",
       "    <tr>\n",
       "      <th>607</th>\n",
       "      <td>Menkes Kinky Hair Syndrome associates Gene ATP7A</td>\n",
       "      <td>True</td>\n",
       "      <td>True</td>\n",
       "    </tr>\n",
       "    <tr>\n",
       "      <th>608</th>\n",
       "      <td>Kabuki make-up syndrome associates Gene KMT2D</td>\n",
       "      <td>True</td>\n",
       "      <td>True</td>\n",
       "    </tr>\n",
       "  </tbody>\n",
       "</table>\n",
       "<p>609 rows × 3 columns</p>\n",
       "</div>"
      ],
      "text/plain": [
       "                                              question  label llm_answer\n",
       "0    enhanced S-cone syndrome is not a vitreoretina...  False      False\n",
       "1                 metronidazole treats crohn's disease   True      False\n",
       "2    KLEEFSTRA SYNDROME 1 is not associated with Ge...  False       True\n",
       "3    STARGARDT DISEASE 1 (disorder) is not associat...  False      False\n",
       "4    Juvenile polyposis syndrome associates Gene SMAD4   True       True\n",
       "..                                                 ...    ...        ...\n",
       "604               alpha-mannosidosis is a eye disorder   True       True\n",
       "605  Juvenile polyposis syndrome associates Gene BM...   True       True\n",
       "606  Diabetes Mellitus, Non-Insulin-Dependent is no...  False       True\n",
       "607   Menkes Kinky Hair Syndrome associates Gene ATP7A   True       True\n",
       "608      Kabuki make-up syndrome associates Gene KMT2D   True       True\n",
       "\n",
       "[609 rows x 3 columns]"
      ]
     },
     "execution_count": 7,
     "metadata": {},
     "output_type": "execute_result"
    }
   ],
   "source": [
    "response_df"
   ]
  },
  {
   "cell_type": "code",
   "execution_count": 40,
   "id": "b6f385ca",
   "metadata": {},
   "outputs": [
    {
     "name": "stderr",
     "output_type": "stream",
     "text": [
      "/var/folders/p1/h56gxdhs5vgb0ztp7h4z606h0000gn/T/ipykernel_93166/3021962123.py:13: SettingWithCopyWarning: \n",
      "A value is trying to be set on a copy of a slice from a DataFrame.\n",
      "Try using .loc[row_indexer,col_indexer] = value instead\n",
      "\n",
      "See the caveats in the documentation: https://pandas.pydata.org/pandas-docs/stable/user_guide/indexing.html#returning-a-view-versus-a-copy\n",
      "  certain_response.llm_answer = certain_response.llm_answer.apply(lambda x:response_transform[x])\n"
     ]
    }
   ],
   "source": [
    "response_transform = {\n",
    "    \"True\" : True,\n",
    "    \"False\" : False,\n",
    "    \"Mixed\" : None,\n",
    "    \"No answer\": None    \n",
    "}\n",
    "\n",
    "\n",
    "uncertain_response = response_df[response_df.llm_answer == \"Don't know\"]\n",
    "certain_response = response_df[response_df.llm_answer!=\"Don't know\"]\n",
    "certain_response_mixed_answers = certain_response[certain_response.llm_answer == \"Mixed\"]\n",
    "certain_response_no_answers = certain_response[certain_response.llm_answer == \"No answer\"]\n",
    "certain_response.llm_answer = certain_response.llm_answer.apply(lambda x:response_transform[x])\n",
    "\n",
    "certain_response_true_false = certain_response.dropna(subset=[\"llm_answer\"])\n",
    "correct_response = certain_response_true_false[certain_response_true_false.label == certain_response_true_false.llm_answer]\n",
    "incorrect_response = certain_response_true_false[certain_response_true_false.label != certain_response_true_false.llm_answer]\n",
    "total_certain_response = certain_response.shape[0]\n",
    "total_response = response_df.shape[0]\n"
   ]
  },
  {
   "cell_type": "code",
   "execution_count": 53,
   "id": "5fbff4a0",
   "metadata": {},
   "outputs": [
    {
     "name": "stdout",
     "output_type": "stream",
     "text": [
      "Correct response =  0.7372742200328407\n",
      "Incorrect response =  0.2115702479338843\n",
      "Mixed response =  0.02975206611570248\n",
      "No answer response =  0.01652892561983471\n",
      "Uncertainty =  0.006568144499178982\n"
     ]
    }
   ],
   "source": [
    "correct_response_ = correct_response.shape[0]/total_response\n",
    "incorrect_response_ = incorrect_response.shape[0]/total_certain_response\n",
    "mixed_response_ = certain_response_mixed_answers.shape[0]/total_certain_response\n",
    "no_answer_response_ = certain_response_no_answers.shape[0]/total_certain_response\n",
    "uncertainty_ = uncertain_response.shape[0]/total_response\n",
    "\n",
    "\n",
    "print(\"Correct response = \",correct_response_)\n",
    "print(\"Incorrect response = \",incorrect_response_)\n",
    "print(\"Mixed response = \",mixed_response_)\n",
    "print(\"No answer response = \",no_answer_response_)\n",
    "print(\"Uncertainty = \",uncertainty_)"
   ]
  },
  {
   "cell_type": "code",
   "execution_count": 51,
   "id": "610707cb",
   "metadata": {},
   "outputs": [
    {
     "name": "stdout",
     "output_type": "stream",
     "text": [
      "1.5087179270927753e-05 39.0\n"
     ]
    },
    {
     "name": "stderr",
     "output_type": "stream",
     "text": [
      "/var/folders/p1/h56gxdhs5vgb0ztp7h4z606h0000gn/T/ipykernel_93166/1447544031.py:6: DeprecationWarning: 'binom_test' is deprecated in favour of 'binomtest' from version 1.7.0 and will be removed in Scipy 1.12.0.\n",
      "  p_value = binom_test(x, N, p=p, alternative='greater')\n"
     ]
    }
   ],
   "source": [
    "from scipy.stats import binom_test\n",
    "\n",
    "N = certain_response.shape[0]\n",
    "x = correct_response.shape[0]\n",
    "p = certain_response[certain_response.label==True].shape[0]/N\n",
    "p_value = binom_test(x, N, p=p, alternative='greater') \n",
    "p_value\n",
    "\n",
    "H = np.divide(incorrect_response.shape[0]+certain_response_mixed_answers.shape[0]+certain_response_no_answers.shape[0], uncertain_response.shape[0])\n",
    "print(p_value, H)\n"
   ]
  },
  {
   "cell_type": "code",
   "execution_count": null,
   "id": "d60589f8",
   "metadata": {},
   "outputs": [],
   "source": []
  }
 ],
 "metadata": {
  "kernelspec": {
   "display_name": "Python 3 (ipykernel)",
   "language": "python",
   "name": "python3"
  },
  "language_info": {
   "codemirror_mode": {
    "name": "ipython",
    "version": 3
   },
   "file_extension": ".py",
   "mimetype": "text/x-python",
   "name": "python",
   "nbconvert_exporter": "python",
   "pygments_lexer": "ipython3",
   "version": "3.10.9"
  }
 },
 "nbformat": 4,
 "nbformat_minor": 5
}
