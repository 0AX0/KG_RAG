{
 "cells": [
  {
   "cell_type": "code",
   "execution_count": 3,
   "id": "d36ba466",
   "metadata": {},
   "outputs": [],
   "source": [
    "import pandas as pd\n",
    "import re\n",
    "from sklearn.metrics import roc_auc_score\n",
    "from sklearn.preprocessing import LabelEncoder\n"
   ]
  },
  {
   "cell_type": "code",
   "execution_count": 9,
   "id": "36cdfb60",
   "metadata": {},
   "outputs": [],
   "source": [
    "\n",
    "def get_auc(test_question):\n",
    "    label_encoder = LabelEncoder()\n",
    "    test_question['label_encoded'] = label_encoder.fit_transform(test_question['label'])\n",
    "    test_question['random_answer_encoded'] = label_encoder.transform(test_question['random_answer'])\n",
    "    auc_score = roc_auc_score(test_question['label_encoded'], test_question['random_answer_encoded'])\n",
    "    return auc_score\n",
    "\n",
    "def extract_answer(text):\n",
    "    pattern = r\"(True|False|Don't know)\"\n",
    "    matches = re.findall(pattern, text, re.IGNORECASE)\n",
    "    return matches\n"
   ]
  },
  {
   "cell_type": "code",
   "execution_count": 17,
   "id": "3e745d6b",
   "metadata": {},
   "outputs": [],
   "source": [
    "RESPONSE_PATH = \"../../../data/analysis_results/Llama_2_7b_Chat_GPTQ_prompt_based_response.csv\"\n"
   ]
  },
  {
   "cell_type": "code",
   "execution_count": 16,
   "id": "15ff80de",
   "metadata": {},
   "outputs": [
    {
     "name": "stdout",
     "output_type": "stream",
     "text": [
      "(609, 3)\n"
     ]
    }
   ],
   "source": [
    "response_df = pd.read_csv(RESPONSE_PATH)\n",
    "response_df['llm_answer'] = response_df['llm_answer'].apply(extract_answer)\n",
    "# response_df = response_df.explode(\"llm_answer\")\n",
    "\n",
    "response_df.head()\n",
    "print(response_df.shape)"
   ]
  },
  {
   "cell_type": "code",
   "execution_count": 7,
   "id": "8ed35a2f",
   "metadata": {},
   "outputs": [],
   "source": []
  },
  {
   "cell_type": "code",
   "execution_count": 8,
   "id": "5a2e4ae4",
   "metadata": {},
   "outputs": [
    {
     "data": {
      "text/plain": [
       "array(['False', \"Don't know\", 'True', 'true'], dtype=object)"
      ]
     },
     "execution_count": 8,
     "metadata": {},
     "output_type": "execute_result"
    }
   ],
   "source": [
    "response_df.llm_answer.unique()"
   ]
  },
  {
   "cell_type": "code",
   "execution_count": 168,
   "id": "26fdd7a1",
   "metadata": {},
   "outputs": [
    {
     "name": "stderr",
     "output_type": "stream",
     "text": [
      "/var/folders/p1/h56gxdhs5vgb0ztp7h4z606h0000gn/T/ipykernel_25408/271416556.py:3: SettingWithCopyWarning: \n",
      "A value is trying to be set on a copy of a slice from a DataFrame.\n",
      "Try using .loc[row_indexer,col_indexer] = value instead\n",
      "\n",
      "See the caveats in the documentation: https://pandas.pydata.org/pandas-docs/stable/user_guide/indexing.html#returning-a-view-versus-a-copy\n",
      "  response_df_certain_response.loc[:, \"llm_answer\"] = response_df_certain_response.llm_answer.astype(bool)\n",
      "/var/folders/p1/h56gxdhs5vgb0ztp7h4z606h0000gn/T/ipykernel_25408/271416556.py:3: DeprecationWarning: In a future version, `df.iloc[:, i] = newvals` will attempt to set the values inplace instead of always setting a new array. To retain the old behavior, use either `df[df.columns[i]] = newvals` or, if columns are non-unique, `df.isetitem(i, newvals)`\n",
      "  response_df_certain_response.loc[:, \"llm_answer\"] = response_df_certain_response.llm_answer.astype(bool)\n"
     ]
    }
   ],
   "source": [
    "response_df_uncertain_response = response_df[response_df.llm_answer == \"Don't know\"]\n",
    "response_df_certain_response = response_df[response_df.llm_answer != \"Don't know\"]\n",
    "response_df_certain_response.loc[:, \"llm_answer\"] = response_df_certain_response.llm_answer.astype(bool)\n",
    "\n"
   ]
  },
  {
   "cell_type": "code",
   "execution_count": 169,
   "id": "8aeeffee",
   "metadata": {},
   "outputs": [
    {
     "name": "stdout",
     "output_type": "stream",
     "text": [
      "True response =  0.9507575757575758\n",
      "False response =  0.04734848484848485\n",
      "Uncertainty =  0.001893939393939394\n"
     ]
    }
   ],
   "source": [
    "total_certain_response = response_df_certain_response.shape[0]\n",
    "total_uncertain_response = response_df_uncertain_response.shape[0]\n",
    "total_response = response_df.shape[0]\n",
    "\n",
    "correct_response = response_df_certain_response[response_df_certain_response.label == response_df_certain_response.llm_answer].shape[0]\n",
    "incorrect_response = response_df_certain_response[response_df_certain_response.label != response_df_certain_response.llm_answer].shape[0]\n",
    "\n",
    "true_response = correct_response/total_response\n",
    "false_response = incorrect_response/total_response\n",
    "uncertainty = total_uncertain_response/total_response\n",
    "\n",
    "\n",
    "print(\"True response = \",true_response)\n",
    "print(\"False response = \",false_response)\n",
    "print(\"Uncertainty = \",uncertainty)\n"
   ]
  },
  {
   "cell_type": "code",
   "execution_count": 170,
   "id": "574fc649",
   "metadata": {},
   "outputs": [
    {
     "data": {
      "text/html": [
       "<div>\n",
       "<style scoped>\n",
       "    .dataframe tbody tr th:only-of-type {\n",
       "        vertical-align: middle;\n",
       "    }\n",
       "\n",
       "    .dataframe tbody tr th {\n",
       "        vertical-align: top;\n",
       "    }\n",
       "\n",
       "    .dataframe thead th {\n",
       "        text-align: right;\n",
       "    }\n",
       "</style>\n",
       "<table border=\"1\" class=\"dataframe\">\n",
       "  <thead>\n",
       "    <tr style=\"text-align: right;\">\n",
       "      <th></th>\n",
       "      <th>question</th>\n",
       "      <th>label</th>\n",
       "      <th>llm_answer</th>\n",
       "    </tr>\n",
       "  </thead>\n",
       "  <tbody>\n",
       "    <tr>\n",
       "      <th>0</th>\n",
       "      <td>Sandhoff Disease associates Gene HEXB</td>\n",
       "      <td>True</td>\n",
       "      <td>True</td>\n",
       "    </tr>\n",
       "    <tr>\n",
       "      <th>1</th>\n",
       "      <td>Liver carcinoma associates Gene TP53</td>\n",
       "      <td>True</td>\n",
       "      <td>True</td>\n",
       "    </tr>\n",
       "    <tr>\n",
       "      <th>2</th>\n",
       "      <td>Malignant neoplasm of breast associates Gene TP53</td>\n",
       "      <td>True</td>\n",
       "      <td>True</td>\n",
       "    </tr>\n",
       "    <tr>\n",
       "      <th>3</th>\n",
       "      <td>Li-Fraumeni Syndrome associates Gene TP53</td>\n",
       "      <td>True</td>\n",
       "      <td>True</td>\n",
       "    </tr>\n",
       "    <tr>\n",
       "      <th>4</th>\n",
       "      <td>Sarcoma associates Gene TP53</td>\n",
       "      <td>True</td>\n",
       "      <td>True</td>\n",
       "    </tr>\n",
       "    <tr>\n",
       "      <th>...</th>\n",
       "      <td>...</td>\n",
       "      <td>...</td>\n",
       "      <td>...</td>\n",
       "    </tr>\n",
       "    <tr>\n",
       "      <th>523</th>\n",
       "      <td>Disease ontology identifier for Norrie disease...</td>\n",
       "      <td>False</td>\n",
       "      <td>True</td>\n",
       "    </tr>\n",
       "    <tr>\n",
       "      <th>524</th>\n",
       "      <td>Disease ontology identifier for infantile myof...</td>\n",
       "      <td>False</td>\n",
       "      <td>True</td>\n",
       "    </tr>\n",
       "    <tr>\n",
       "      <th>525</th>\n",
       "      <td>Disease ontology identifier for otospondylomeg...</td>\n",
       "      <td>False</td>\n",
       "      <td>True</td>\n",
       "    </tr>\n",
       "    <tr>\n",
       "      <th>526</th>\n",
       "      <td>Disease ontology identifier for Pelizaeus-Merz...</td>\n",
       "      <td>False</td>\n",
       "      <td>True</td>\n",
       "    </tr>\n",
       "    <tr>\n",
       "      <th>527</th>\n",
       "      <td>Disease ontology identifier for Marfan syndrom...</td>\n",
       "      <td>False</td>\n",
       "      <td>True</td>\n",
       "    </tr>\n",
       "  </tbody>\n",
       "</table>\n",
       "<p>527 rows × 3 columns</p>\n",
       "</div>"
      ],
      "text/plain": [
       "                                              question  label  llm_answer\n",
       "0                Sandhoff Disease associates Gene HEXB   True        True\n",
       "1                 Liver carcinoma associates Gene TP53   True        True\n",
       "2    Malignant neoplasm of breast associates Gene TP53   True        True\n",
       "3            Li-Fraumeni Syndrome associates Gene TP53   True        True\n",
       "4                         Sarcoma associates Gene TP53   True        True\n",
       "..                                                 ...    ...         ...\n",
       "523  Disease ontology identifier for Norrie disease...  False        True\n",
       "524  Disease ontology identifier for infantile myof...  False        True\n",
       "525  Disease ontology identifier for otospondylomeg...  False        True\n",
       "526  Disease ontology identifier for Pelizaeus-Merz...  False        True\n",
       "527  Disease ontology identifier for Marfan syndrom...  False        True\n",
       "\n",
       "[527 rows x 3 columns]"
      ]
     },
     "execution_count": 170,
     "metadata": {},
     "output_type": "execute_result"
    }
   ],
   "source": [
    "response_df_certain_response"
   ]
  },
  {
   "cell_type": "code",
   "execution_count": 171,
   "id": "c7cff629",
   "metadata": {},
   "outputs": [
    {
     "data": {
      "text/html": [
       "<div>\n",
       "<style scoped>\n",
       "    .dataframe tbody tr th:only-of-type {\n",
       "        vertical-align: middle;\n",
       "    }\n",
       "\n",
       "    .dataframe tbody tr th {\n",
       "        vertical-align: top;\n",
       "    }\n",
       "\n",
       "    .dataframe thead th {\n",
       "        text-align: right;\n",
       "    }\n",
       "</style>\n",
       "<table border=\"1\" class=\"dataframe\">\n",
       "  <thead>\n",
       "    <tr style=\"text-align: right;\">\n",
       "      <th></th>\n",
       "      <th>question</th>\n",
       "      <th>label</th>\n",
       "      <th>llm_answer</th>\n",
       "    </tr>\n",
       "  </thead>\n",
       "  <tbody>\n",
       "    <tr>\n",
       "      <th>0</th>\n",
       "      <td>Sandhoff Disease associates Gene HEXB</td>\n",
       "      <td>True</td>\n",
       "      <td>False</td>\n",
       "    </tr>\n",
       "    <tr>\n",
       "      <th>1</th>\n",
       "      <td>Liver carcinoma associates Gene TP53</td>\n",
       "      <td>True</td>\n",
       "      <td>True</td>\n",
       "    </tr>\n",
       "    <tr>\n",
       "      <th>2</th>\n",
       "      <td>Malignant neoplasm of breast associates Gene TP53</td>\n",
       "      <td>True</td>\n",
       "      <td>True</td>\n",
       "    </tr>\n",
       "    <tr>\n",
       "      <th>3</th>\n",
       "      <td>Li-Fraumeni Syndrome associates Gene TP53</td>\n",
       "      <td>True</td>\n",
       "      <td>True</td>\n",
       "    </tr>\n",
       "    <tr>\n",
       "      <th>4</th>\n",
       "      <td>Sarcoma associates Gene TP53</td>\n",
       "      <td>True</td>\n",
       "      <td>True</td>\n",
       "    </tr>\n",
       "    <tr>\n",
       "      <th>...</th>\n",
       "      <td>...</td>\n",
       "      <td>...</td>\n",
       "      <td>...</td>\n",
       "    </tr>\n",
       "    <tr>\n",
       "      <th>523</th>\n",
       "      <td>Disease ontology identifier for Norrie disease...</td>\n",
       "      <td>False</td>\n",
       "      <td>True</td>\n",
       "    </tr>\n",
       "    <tr>\n",
       "      <th>524</th>\n",
       "      <td>Disease ontology identifier for infantile myof...</td>\n",
       "      <td>False</td>\n",
       "      <td>True</td>\n",
       "    </tr>\n",
       "    <tr>\n",
       "      <th>525</th>\n",
       "      <td>Disease ontology identifier for otospondylomeg...</td>\n",
       "      <td>False</td>\n",
       "      <td>False</td>\n",
       "    </tr>\n",
       "    <tr>\n",
       "      <th>526</th>\n",
       "      <td>Disease ontology identifier for Pelizaeus-Merz...</td>\n",
       "      <td>False</td>\n",
       "      <td>True</td>\n",
       "    </tr>\n",
       "    <tr>\n",
       "      <th>527</th>\n",
       "      <td>Disease ontology identifier for Marfan syndrom...</td>\n",
       "      <td>False</td>\n",
       "      <td>True</td>\n",
       "    </tr>\n",
       "  </tbody>\n",
       "</table>\n",
       "<p>528 rows × 3 columns</p>\n",
       "</div>"
      ],
      "text/plain": [
       "                                              question  label llm_answer\n",
       "0                Sandhoff Disease associates Gene HEXB   True      False\n",
       "1                 Liver carcinoma associates Gene TP53   True       True\n",
       "2    Malignant neoplasm of breast associates Gene TP53   True       True\n",
       "3            Li-Fraumeni Syndrome associates Gene TP53   True       True\n",
       "4                         Sarcoma associates Gene TP53   True       True\n",
       "..                                                 ...    ...        ...\n",
       "523  Disease ontology identifier for Norrie disease...  False       True\n",
       "524  Disease ontology identifier for infantile myof...  False       True\n",
       "525  Disease ontology identifier for otospondylomeg...  False      False\n",
       "526  Disease ontology identifier for Pelizaeus-Merz...  False       True\n",
       "527  Disease ontology identifier for Marfan syndrom...  False       True\n",
       "\n",
       "[528 rows x 3 columns]"
      ]
     },
     "execution_count": 171,
     "metadata": {},
     "output_type": "execute_result"
    }
   ],
   "source": [
    "response_df"
   ]
  },
  {
   "cell_type": "code",
   "execution_count": 14,
   "id": "9cfe4969",
   "metadata": {},
   "outputs": [
    {
     "data": {
      "text/plain": [
       "10"
      ]
     },
     "execution_count": 14,
     "metadata": {},
     "output_type": "execute_result"
    }
   ],
   "source": [
    "response_df.loc[:, \"answer_count\"] = response_df.llm_answer.apply(lambda x:len(x))\n",
    "response_df.answer_count.max()"
   ]
  },
  {
   "cell_type": "code",
   "execution_count": 15,
   "id": "23cdf81a",
   "metadata": {},
   "outputs": [
    {
     "data": {
      "text/html": [
       "<div>\n",
       "<style scoped>\n",
       "    .dataframe tbody tr th:only-of-type {\n",
       "        vertical-align: middle;\n",
       "    }\n",
       "\n",
       "    .dataframe tbody tr th {\n",
       "        vertical-align: top;\n",
       "    }\n",
       "\n",
       "    .dataframe thead th {\n",
       "        text-align: right;\n",
       "    }\n",
       "</style>\n",
       "<table border=\"1\" class=\"dataframe\">\n",
       "  <thead>\n",
       "    <tr style=\"text-align: right;\">\n",
       "      <th></th>\n",
       "      <th>question</th>\n",
       "      <th>label</th>\n",
       "      <th>llm_answer</th>\n",
       "      <th>answer_count</th>\n",
       "    </tr>\n",
       "  </thead>\n",
       "  <tbody>\n",
       "    <tr>\n",
       "      <th>0</th>\n",
       "      <td>enhanced S-cone syndrome is not a vitreoretina...</td>\n",
       "      <td>False</td>\n",
       "      <td>False</td>\n",
       "      <td>5</td>\n",
       "    </tr>\n",
       "    <tr>\n",
       "      <th>1</th>\n",
       "      <td>metronidazole treats crohn's disease</td>\n",
       "      <td>True</td>\n",
       "      <td>Don't know</td>\n",
       "      <td>10</td>\n",
       "    </tr>\n",
       "    <tr>\n",
       "      <th>2</th>\n",
       "      <td>KLEEFSTRA SYNDROME 1 is not associated with Ge...</td>\n",
       "      <td>False</td>\n",
       "      <td>Don't know</td>\n",
       "      <td>10</td>\n",
       "    </tr>\n",
       "    <tr>\n",
       "      <th>3</th>\n",
       "      <td>STARGARDT DISEASE 1 (disorder) is not associat...</td>\n",
       "      <td>False</td>\n",
       "      <td>Don't know</td>\n",
       "      <td>10</td>\n",
       "    </tr>\n",
       "    <tr>\n",
       "      <th>4</th>\n",
       "      <td>Juvenile polyposis syndrome associates Gene SMAD4</td>\n",
       "      <td>True</td>\n",
       "      <td>True</td>\n",
       "      <td>4</td>\n",
       "    </tr>\n",
       "    <tr>\n",
       "      <th>...</th>\n",
       "      <td>...</td>\n",
       "      <td>...</td>\n",
       "      <td>...</td>\n",
       "      <td>...</td>\n",
       "    </tr>\n",
       "    <tr>\n",
       "      <th>604</th>\n",
       "      <td>alpha-mannosidosis is a eye disorder</td>\n",
       "      <td>True</td>\n",
       "      <td>Don't know</td>\n",
       "      <td>10</td>\n",
       "    </tr>\n",
       "    <tr>\n",
       "      <th>605</th>\n",
       "      <td>Juvenile polyposis syndrome associates Gene BM...</td>\n",
       "      <td>True</td>\n",
       "      <td>True</td>\n",
       "      <td>4</td>\n",
       "    </tr>\n",
       "    <tr>\n",
       "      <th>606</th>\n",
       "      <td>Diabetes Mellitus, Non-Insulin-Dependent is no...</td>\n",
       "      <td>False</td>\n",
       "      <td>False</td>\n",
       "      <td>5</td>\n",
       "    </tr>\n",
       "    <tr>\n",
       "      <th>607</th>\n",
       "      <td>Menkes Kinky Hair Syndrome associates Gene ATP7A</td>\n",
       "      <td>True</td>\n",
       "      <td>True</td>\n",
       "      <td>4</td>\n",
       "    </tr>\n",
       "    <tr>\n",
       "      <th>608</th>\n",
       "      <td>Kabuki make-up syndrome associates Gene KMT2D</td>\n",
       "      <td>True</td>\n",
       "      <td>True</td>\n",
       "      <td>4</td>\n",
       "    </tr>\n",
       "  </tbody>\n",
       "</table>\n",
       "<p>655 rows × 4 columns</p>\n",
       "</div>"
      ],
      "text/plain": [
       "                                              question  label  llm_answer  \\\n",
       "0    enhanced S-cone syndrome is not a vitreoretina...  False       False   \n",
       "1                 metronidazole treats crohn's disease   True  Don't know   \n",
       "2    KLEEFSTRA SYNDROME 1 is not associated with Ge...  False  Don't know   \n",
       "3    STARGARDT DISEASE 1 (disorder) is not associat...  False  Don't know   \n",
       "4    Juvenile polyposis syndrome associates Gene SMAD4   True        True   \n",
       "..                                                 ...    ...         ...   \n",
       "604               alpha-mannosidosis is a eye disorder   True  Don't know   \n",
       "605  Juvenile polyposis syndrome associates Gene BM...   True        True   \n",
       "606  Diabetes Mellitus, Non-Insulin-Dependent is no...  False       False   \n",
       "607   Menkes Kinky Hair Syndrome associates Gene ATP7A   True        True   \n",
       "608      Kabuki make-up syndrome associates Gene KMT2D   True        True   \n",
       "\n",
       "     answer_count  \n",
       "0               5  \n",
       "1              10  \n",
       "2              10  \n",
       "3              10  \n",
       "4               4  \n",
       "..            ...  \n",
       "604            10  \n",
       "605             4  \n",
       "606             5  \n",
       "607             4  \n",
       "608             4  \n",
       "\n",
       "[655 rows x 4 columns]"
      ]
     },
     "execution_count": 15,
     "metadata": {},
     "output_type": "execute_result"
    }
   ],
   "source": [
    "response_df"
   ]
  },
  {
   "cell_type": "code",
   "execution_count": null,
   "id": "53278370",
   "metadata": {},
   "outputs": [],
   "source": []
  }
 ],
 "metadata": {
  "kernelspec": {
   "display_name": "Python 3 (ipykernel)",
   "language": "python",
   "name": "python3"
  },
  "language_info": {
   "codemirror_mode": {
    "name": "ipython",
    "version": 3
   },
   "file_extension": ".py",
   "mimetype": "text/x-python",
   "name": "python",
   "nbconvert_exporter": "python",
   "pygments_lexer": "ipython3",
   "version": "3.10.9"
  }
 },
 "nbformat": 4,
 "nbformat_minor": 5
}
