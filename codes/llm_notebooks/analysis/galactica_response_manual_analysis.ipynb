{
 "cells": [
  {
   "cell_type": "code",
   "execution_count": 12,
   "id": "86d5307e",
   "metadata": {},
   "outputs": [],
   "source": [
    "import pandas as pd\n",
    "from IPython.display import clear_output\n"
   ]
  },
  {
   "cell_type": "code",
   "execution_count": 13,
   "id": "42a220c9",
   "metadata": {},
   "outputs": [],
   "source": [
    "RESPONSE_PATH = \"../../../data/analysis_results/galactica_1.3b_prompt_based_response.csv\"\n"
   ]
  },
  {
   "cell_type": "code",
   "execution_count": 14,
   "id": "08a334e9",
   "metadata": {},
   "outputs": [],
   "source": [
    "response_df = pd.read_csv(RESPONSE_PATH)\n"
   ]
  },
  {
   "cell_type": "code",
   "execution_count": 16,
   "id": "fa96c6f2",
   "metadata": {},
   "outputs": [
    {
     "name": "stdout",
     "output_type": "stream",
     "text": [
      "609/609\n",
      "Kabuki make-up syndrome associates Gene KMT2D\n",
      "\n",
      "Yes, Kabuki make-up syndrome is associated with KMT2D.\n",
      "[https://www.ncbi.nlm.nih.gov/pmc/articles/PMC3003887/](https://www.ncbi.nlm.nih.gov/pmc/articles/PMC3003887/)\n",
      "\n",
      "\n",
      "Enter the analysed result : True\n"
     ]
    }
   ],
   "source": [
    "total_rows = response_df.shape[0]\n",
    "response_after_analysis = []\n",
    "for index, row in response_df.iterrows():\n",
    "    clear_output(wait=False)\n",
    "    print(\"{}/{}\".format(index+1, total_rows))\n",
    "    print(row[\"question\"])\n",
    "    print(row[\"llm_answer\"])\n",
    "    analysis_result = input(\"Enter the analysed result : \")\n",
    "    response_after_analysis.append((row[\"question\"], row[\"label\"], analysis_result))\n",
    "    if analysis_result == \"q\":\n",
    "        break"
   ]
  },
  {
   "cell_type": "code",
   "execution_count": 27,
   "id": "b70da115",
   "metadata": {},
   "outputs": [],
   "source": [
    "response_after_analysis_df = pd.DataFrame(response_after_analysis, columns=[\"question\", \"label\", \"llm_answer\"])\n",
    "response_after_analysis_df.to_csv(\"../../../data/analysis_results/galactica_1.3b_prompt_based_response_after_manual_curation.csv\", index=False, header=True)\n"
   ]
  },
  {
   "cell_type": "code",
   "execution_count": 18,
   "id": "53430231",
   "metadata": {},
   "outputs": [
    {
     "data": {
      "text/html": [
       "<div>\n",
       "<style scoped>\n",
       "    .dataframe tbody tr th:only-of-type {\n",
       "        vertical-align: middle;\n",
       "    }\n",
       "\n",
       "    .dataframe tbody tr th {\n",
       "        vertical-align: top;\n",
       "    }\n",
       "\n",
       "    .dataframe thead th {\n",
       "        text-align: right;\n",
       "    }\n",
       "</style>\n",
       "<table border=\"1\" class=\"dataframe\">\n",
       "  <thead>\n",
       "    <tr style=\"text-align: right;\">\n",
       "      <th></th>\n",
       "      <th>question</th>\n",
       "      <th>label</th>\n",
       "      <th>llm_answer</th>\n",
       "    </tr>\n",
       "  </thead>\n",
       "  <tbody>\n",
       "    <tr>\n",
       "      <th>0</th>\n",
       "      <td>enhanced S-cone syndrome is not a vitreoretina...</td>\n",
       "      <td>False</td>\n",
       "      <td>False</td>\n",
       "    </tr>\n",
       "    <tr>\n",
       "      <th>1</th>\n",
       "      <td>metronidazole treats crohn's disease</td>\n",
       "      <td>True</td>\n",
       "      <td>False</td>\n",
       "    </tr>\n",
       "    <tr>\n",
       "      <th>2</th>\n",
       "      <td>KLEEFSTRA SYNDROME 1 is not associated with Ge...</td>\n",
       "      <td>False</td>\n",
       "      <td>True</td>\n",
       "    </tr>\n",
       "    <tr>\n",
       "      <th>3</th>\n",
       "      <td>STARGARDT DISEASE 1 (disorder) is not associat...</td>\n",
       "      <td>False</td>\n",
       "      <td>False</td>\n",
       "    </tr>\n",
       "    <tr>\n",
       "      <th>4</th>\n",
       "      <td>Juvenile polyposis syndrome associates Gene SMAD4</td>\n",
       "      <td>True</td>\n",
       "      <td>True</td>\n",
       "    </tr>\n",
       "    <tr>\n",
       "      <th>...</th>\n",
       "      <td>...</td>\n",
       "      <td>...</td>\n",
       "      <td>...</td>\n",
       "    </tr>\n",
       "    <tr>\n",
       "      <th>604</th>\n",
       "      <td>alpha-mannosidosis is a eye disorder</td>\n",
       "      <td>True</td>\n",
       "      <td>True</td>\n",
       "    </tr>\n",
       "    <tr>\n",
       "      <th>605</th>\n",
       "      <td>Juvenile polyposis syndrome associates Gene BM...</td>\n",
       "      <td>True</td>\n",
       "      <td>True</td>\n",
       "    </tr>\n",
       "    <tr>\n",
       "      <th>606</th>\n",
       "      <td>Diabetes Mellitus, Non-Insulin-Dependent is no...</td>\n",
       "      <td>False</td>\n",
       "      <td>True</td>\n",
       "    </tr>\n",
       "    <tr>\n",
       "      <th>607</th>\n",
       "      <td>Menkes Kinky Hair Syndrome associates Gene ATP7A</td>\n",
       "      <td>True</td>\n",
       "      <td>True</td>\n",
       "    </tr>\n",
       "    <tr>\n",
       "      <th>608</th>\n",
       "      <td>Kabuki make-up syndrome associates Gene KMT2D</td>\n",
       "      <td>True</td>\n",
       "      <td>True</td>\n",
       "    </tr>\n",
       "  </tbody>\n",
       "</table>\n",
       "<p>609 rows × 3 columns</p>\n",
       "</div>"
      ],
      "text/plain": [
       "                                              question  label llm_answer\n",
       "0    enhanced S-cone syndrome is not a vitreoretina...  False      False\n",
       "1                 metronidazole treats crohn's disease   True      False\n",
       "2    KLEEFSTRA SYNDROME 1 is not associated with Ge...  False       True\n",
       "3    STARGARDT DISEASE 1 (disorder) is not associat...  False      False\n",
       "4    Juvenile polyposis syndrome associates Gene SMAD4   True       True\n",
       "..                                                 ...    ...        ...\n",
       "604               alpha-mannosidosis is a eye disorder   True       True\n",
       "605  Juvenile polyposis syndrome associates Gene BM...   True       True\n",
       "606  Diabetes Mellitus, Non-Insulin-Dependent is no...  False       True\n",
       "607   Menkes Kinky Hair Syndrome associates Gene ATP7A   True       True\n",
       "608      Kabuki make-up syndrome associates Gene KMT2D   True       True\n",
       "\n",
       "[609 rows x 3 columns]"
      ]
     },
     "execution_count": 18,
     "metadata": {},
     "output_type": "execute_result"
    }
   ],
   "source": [
    "response_after_analysis_df"
   ]
  },
  {
   "cell_type": "code",
   "execution_count": null,
   "id": "3461d204",
   "metadata": {},
   "outputs": [],
   "source": []
  }
 ],
 "metadata": {
  "kernelspec": {
   "display_name": "Python 3 (ipykernel)",
   "language": "python",
   "name": "python3"
  },
  "language_info": {
   "codemirror_mode": {
    "name": "ipython",
    "version": 3
   },
   "file_extension": ".py",
   "mimetype": "text/x-python",
   "name": "python",
   "nbconvert_exporter": "python",
   "pygments_lexer": "ipython3",
   "version": "3.10.9"
  }
 },
 "nbformat": 4,
 "nbformat_minor": 5
}
