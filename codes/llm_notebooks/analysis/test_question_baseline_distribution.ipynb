{
 "cells": [
  {
   "cell_type": "code",
   "execution_count": 41,
   "id": "62fb2670",
   "metadata": {},
   "outputs": [],
   "source": [
    "import pandas as pd\n",
    "import numpy as np\n",
    "import seaborn as sns\n",
    "import matplotlib.pyplot as plt\n",
    "from sklearn.metrics import roc_auc_score\n",
    "from sklearn.preprocessing import LabelEncoder\n"
   ]
  },
  {
   "cell_type": "code",
   "execution_count": 45,
   "id": "84a266b3",
   "metadata": {},
   "outputs": [],
   "source": [
    "\n",
    "def get_auc(test_question):\n",
    "    label_encoder = LabelEncoder()\n",
    "    test_question['label_encoded'] = label_encoder.fit_transform(test_question['label'])\n",
    "    test_question['random_answer_encoded'] = label_encoder.transform(test_question['random_answer'])\n",
    "    auc_score = roc_auc_score(test_question['label_encoded'], test_question['random_answer_encoded'])\n",
    "    return auc_score\n"
   ]
  },
  {
   "cell_type": "code",
   "execution_count": 8,
   "id": "ce1ded77",
   "metadata": {},
   "outputs": [],
   "source": [
    "TEST_QUESTION_PATH = \"../../../data/benchmark_datasets/test_questions.csv\"\n",
    "\n",
    "N_SAMPLES = 1000\n"
   ]
  },
  {
   "cell_type": "code",
   "execution_count": 12,
   "id": "c4e18d58",
   "metadata": {},
   "outputs": [],
   "source": [
    "test_question = pd.read_csv(TEST_QUESTION_PATH)\n",
    "total_questions = test_question.shape[0]\n"
   ]
  },
  {
   "cell_type": "code",
   "execution_count": 43,
   "id": "0197416c",
   "metadata": {},
   "outputs": [],
   "source": [
    "auc_list = []\n",
    "for i in range(N_SAMPLES):\n",
    "    random_arr = np.random.choice([True, False], size=total_questions)\n",
    "    test_question.loc[:, \"random_answer\"] = random_arr\n",
    "    auc_list.append(get_auc(test_question))"
   ]
  },
  {
   "cell_type": "code",
   "execution_count": 44,
   "id": "0d272374",
   "metadata": {},
   "outputs": [
    {
     "data": {
      "image/png": "[encoded data removed]",
      "text/plain": [
       "<Figure size 500x300 with 1 Axes>"
      ]
     },
     "metadata": {},
     "output_type": "display_data"
    }
   ],
   "source": [
    "plt.figure(figsize=(5, 3))\n",
    "custom_palette = [\"gray\"]\n",
    "sns.histplot(auc_list, color='gray', kde=True)\n",
    "\n",
    "\n",
    "plt.show()\n"
   ]
  },
  {
   "cell_type": "code",
   "execution_count": 42,
   "id": "25ad94b1",
   "metadata": {},
   "outputs": [],
   "source": []
  },
  {
   "cell_type": "code",
   "execution_count": 38,
   "id": "08012f13",
   "metadata": {},
   "outputs": [
    {
     "data": {
      "text/html": [
       "<div>\n",
       "<style scoped>\n",
       "    .dataframe tbody tr th:only-of-type {\n",
       "        vertical-align: middle;\n",
       "    }\n",
       "\n",
       "    .dataframe tbody tr th {\n",
       "        vertical-align: top;\n",
       "    }\n",
       "\n",
       "    .dataframe thead th {\n",
       "        text-align: right;\n",
       "    }\n",
       "</style>\n",
       "<table border=\"1\" class=\"dataframe\">\n",
       "  <thead>\n",
       "    <tr style=\"text-align: right;\">\n",
       "      <th></th>\n",
       "      <th>text</th>\n",
       "      <th>label</th>\n",
       "      <th>random_answer</th>\n",
       "      <th>label_encoded</th>\n",
       "      <th>random_answer_encoded</th>\n",
       "    </tr>\n",
       "  </thead>\n",
       "  <tbody>\n",
       "    <tr>\n",
       "      <th>0</th>\n",
       "      <td>enhanced S-cone syndrome is not a vitreoretina...</td>\n",
       "      <td>False</td>\n",
       "      <td>True</td>\n",
       "      <td>0</td>\n",
       "      <td>1</td>\n",
       "    </tr>\n",
       "    <tr>\n",
       "      <th>1</th>\n",
       "      <td>metronidazole treats crohn's disease</td>\n",
       "      <td>True</td>\n",
       "      <td>True</td>\n",
       "      <td>1</td>\n",
       "      <td>1</td>\n",
       "    </tr>\n",
       "    <tr>\n",
       "      <th>2</th>\n",
       "      <td>KLEEFSTRA SYNDROME 1 is not associated with Ge...</td>\n",
       "      <td>False</td>\n",
       "      <td>True</td>\n",
       "      <td>0</td>\n",
       "      <td>1</td>\n",
       "    </tr>\n",
       "    <tr>\n",
       "      <th>3</th>\n",
       "      <td>STARGARDT DISEASE 1 (disorder) is not associat...</td>\n",
       "      <td>False</td>\n",
       "      <td>True</td>\n",
       "      <td>0</td>\n",
       "      <td>1</td>\n",
       "    </tr>\n",
       "    <tr>\n",
       "      <th>4</th>\n",
       "      <td>Juvenile polyposis syndrome associates Gene SMAD4</td>\n",
       "      <td>True</td>\n",
       "      <td>True</td>\n",
       "      <td>1</td>\n",
       "      <td>1</td>\n",
       "    </tr>\n",
       "    <tr>\n",
       "      <th>...</th>\n",
       "      <td>...</td>\n",
       "      <td>...</td>\n",
       "      <td>...</td>\n",
       "      <td>...</td>\n",
       "      <td>...</td>\n",
       "    </tr>\n",
       "    <tr>\n",
       "      <th>604</th>\n",
       "      <td>alpha-mannosidosis is a eye disorder</td>\n",
       "      <td>True</td>\n",
       "      <td>True</td>\n",
       "      <td>1</td>\n",
       "      <td>1</td>\n",
       "    </tr>\n",
       "    <tr>\n",
       "      <th>605</th>\n",
       "      <td>Juvenile polyposis syndrome associates Gene BM...</td>\n",
       "      <td>True</td>\n",
       "      <td>False</td>\n",
       "      <td>1</td>\n",
       "      <td>0</td>\n",
       "    </tr>\n",
       "    <tr>\n",
       "      <th>606</th>\n",
       "      <td>Diabetes Mellitus, Non-Insulin-Dependent is no...</td>\n",
       "      <td>False</td>\n",
       "      <td>False</td>\n",
       "      <td>0</td>\n",
       "      <td>0</td>\n",
       "    </tr>\n",
       "    <tr>\n",
       "      <th>607</th>\n",
       "      <td>Menkes Kinky Hair Syndrome associates Gene ATP7A</td>\n",
       "      <td>True</td>\n",
       "      <td>True</td>\n",
       "      <td>1</td>\n",
       "      <td>1</td>\n",
       "    </tr>\n",
       "    <tr>\n",
       "      <th>608</th>\n",
       "      <td>Kabuki make-up syndrome associates Gene KMT2D</td>\n",
       "      <td>True</td>\n",
       "      <td>False</td>\n",
       "      <td>1</td>\n",
       "      <td>0</td>\n",
       "    </tr>\n",
       "  </tbody>\n",
       "</table>\n",
       "<p>609 rows × 5 columns</p>\n",
       "</div>"
      ],
      "text/plain": [
       "                                                  text  label  random_answer  \\\n",
       "0    enhanced S-cone syndrome is not a vitreoretina...  False           True   \n",
       "1                 metronidazole treats crohn's disease   True           True   \n",
       "2    KLEEFSTRA SYNDROME 1 is not associated with Ge...  False           True   \n",
       "3    STARGARDT DISEASE 1 (disorder) is not associat...  False           True   \n",
       "4    Juvenile polyposis syndrome associates Gene SMAD4   True           True   \n",
       "..                                                 ...    ...            ...   \n",
       "604               alpha-mannosidosis is a eye disorder   True           True   \n",
       "605  Juvenile polyposis syndrome associates Gene BM...   True          False   \n",
       "606  Diabetes Mellitus, Non-Insulin-Dependent is no...  False          False   \n",
       "607   Menkes Kinky Hair Syndrome associates Gene ATP7A   True           True   \n",
       "608      Kabuki make-up syndrome associates Gene KMT2D   True          False   \n",
       "\n",
       "     label_encoded  random_answer_encoded  \n",
       "0                0                      1  \n",
       "1                1                      1  \n",
       "2                0                      1  \n",
       "3                0                      1  \n",
       "4                1                      1  \n",
       "..             ...                    ...  \n",
       "604              1                      1  \n",
       "605              1                      0  \n",
       "606              0                      0  \n",
       "607              1                      1  \n",
       "608              1                      0  \n",
       "\n",
       "[609 rows x 5 columns]"
      ]
     },
     "execution_count": 38,
     "metadata": {},
     "output_type": "execute_result"
    }
   ],
   "source": [
    "test_question"
   ]
  },
  {
   "cell_type": "code",
   "execution_count": null,
   "id": "063ea382",
   "metadata": {},
   "outputs": [],
   "source": []
  }
 ],
 "metadata": {
  "kernelspec": {
   "display_name": "Python 3 (ipykernel)",
   "language": "python",
   "name": "python3"
  },
  "language_info": {
   "codemirror_mode": {
    "name": "ipython",
    "version": 3
   },
   "file_extension": ".py",
   "mimetype": "text/x-python",
   "name": "python",
   "nbconvert_exporter": "python",
   "pygments_lexer": "ipython3",
   "version": "3.10.9"
  }
 },
 "nbformat": 4,
 "nbformat_minor": 5
}
