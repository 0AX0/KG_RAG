{
 "cells": [
  {
   "cell_type": "code",
   "execution_count": 1,
   "id": "aca99d9b",
   "metadata": {},
   "outputs": [],
   "source": [
    "import pandas as pd\n",
    "import numpy as np\n",
    "import re\n",
    "from sklearn.metrics import roc_auc_score, roc_curve\n",
    "from sklearn.preprocessing import LabelEncoder\n",
    "import matplotlib.pyplot as plt\n"
   ]
  },
  {
   "cell_type": "code",
   "execution_count": 4,
   "id": "4fb7486d",
   "metadata": {},
   "outputs": [],
   "source": [
    "def extract_answer(text):\n",
    "    pattern = r\"(True|False|Don't know)\"\n",
    "    matches = re.findall(pattern, text)\n",
    "    return matches\n"
   ]
  },
  {
   "cell_type": "code",
   "execution_count": 43,
   "id": "f1203a0d",
   "metadata": {},
   "outputs": [],
   "source": [
    "RESPONSE_PATH = \"../../../data/analysis_results/Llama_2_13b_chat_hf_prompt_based_binary_response.csv\"\n",
    "\n",
    "RESPONSE_PATH = \"../../../data/analysis_results/Llama_2_13b_chat_hf_node_retrieval_rag_based_binary_response.csv\"\n"
   ]
  },
  {
   "cell_type": "code",
   "execution_count": 44,
   "id": "c54cd6d7",
   "metadata": {},
   "outputs": [],
   "source": [
    "response_df = pd.read_csv(RESPONSE_PATH)\n",
    "\n",
    "response_df.loc[:, 'extracted_answer'] = response_df['llm_answer'].apply(extract_answer)\n"
   ]
  },
  {
   "cell_type": "code",
   "execution_count": 45,
   "id": "68ab9670",
   "metadata": {},
   "outputs": [],
   "source": [
    "response_df.loc[:, \"answer_count\"] = response_df.extracted_answer.apply(lambda x:len(x))\n",
    "\n",
    "response_df_multiple_answers = response_df[response_df.answer_count > 1]\n",
    "response_df_single_answer = response_df.drop(response_df_multiple_answers.index)\n",
    "response_df_single_answer.drop(\"answer_count\", axis=1, inplace=True)\n",
    "\n",
    "\n",
    "response_df_multiple_answers_ = []\n",
    "for index, row in response_df_multiple_answers.iterrows():\n",
    "    if row[\"extracted_answer\"][0] == row[\"extracted_answer\"][1]:\n",
    "        response_df_multiple_answers_.append((row[\"question\"], row[\"label\"], row[\"llm_answer\"], row[\"extracted_answer\"][0]))\n",
    "    else:\n",
    "        response_df_multiple_answers_.append((row[\"question\"], row[\"label\"], row[\"llm_answer\"], None))\n",
    "\n",
    "response_df_multiple_answers_ = pd.DataFrame(response_df_multiple_answers_, columns=[\"question\", \"label\", \"llm_answer\", \"extracted_answer\"])\n",
    "\n",
    "response_df_final = pd.concat([response_df_single_answer, response_df_multiple_answers_], ignore_index=True)\n",
    "response_df_final = response_df_final.explode(\"extracted_answer\")\n",
    "\n"
   ]
  },
  {
   "cell_type": "code",
   "execution_count": 46,
   "id": "218f3e21",
   "metadata": {},
   "outputs": [],
   "source": [
    "incorrect_answers_because_of_na = response_df_final[response_df_final.extracted_answer.isna()]\n"
   ]
  },
  {
   "cell_type": "code",
   "execution_count": 47,
   "id": "d3e0fd96",
   "metadata": {},
   "outputs": [],
   "source": [
    "response_transform = {\n",
    "    \"True\" : True,\n",
    "    \"False\" : False\n",
    "}\n",
    "\n",
    "response_df_final.extracted_answer = response_df_final.extracted_answer.apply(lambda x:response_transform[x])\n",
    "\n"
   ]
  },
  {
   "cell_type": "code",
   "execution_count": 48,
   "id": "1902f304",
   "metadata": {},
   "outputs": [],
   "source": [
    "correct_response = response_df_final[response_df_final.label == response_df_final.extracted_answer]\n",
    "incorrect_response = response_df_final[response_df_final.label != response_df_final.extracted_answer]\n",
    "\n"
   ]
  },
  {
   "cell_type": "code",
   "execution_count": 49,
   "id": "34e9946f",
   "metadata": {},
   "outputs": [],
   "source": [
    "total_response = response_df_final.shape[0]\n",
    "correct_response_count = correct_response.shape[0]\n",
    "incorrect_response_count = incorrect_response.shape[0] + incorrect_answers_because_of_na.shape[0]"
   ]
  },
  {
   "cell_type": "code",
   "execution_count": 51,
   "id": "bc60deb5",
   "metadata": {},
   "outputs": [
    {
     "name": "stdout",
     "output_type": "stream",
     "text": [
      "Correct response =  0.8850574712643678\n",
      "Incorrect response =  0.11494252873563218\n"
     ]
    }
   ],
   "source": [
    "correct_response_ = correct_response_count/total_response\n",
    "incorrect_response_ = incorrect_response_count/total_response\n",
    "\n",
    "\n",
    "print(\"Correct response = \",correct_response_)\n",
    "print(\"Incorrect response = \",incorrect_response_)\n",
    "\n"
   ]
  },
  {
   "cell_type": "code",
   "execution_count": 57,
   "id": "1307849a",
   "metadata": {},
   "outputs": [
    {
     "data": {
      "text/plain": [
       "'  {\\n\"answer\": \"False\"\\n}\\n\\nExplanation:\\n\\nEnhanced S-cone syndrome is a retinal disease that presents with symptoms such as vision disorders, pigmentary retinopathy, retinoschisis, abnormality of the lens, macular edema, and cataract. It is not a vitreoretinal degeneration, as it does not involve the vitreous or retinal degeneration. Instead, it is a disease that affects the S-cones in the retina, leading to the symptoms mentioned above.'"
      ]
     },
     "execution_count": 57,
     "metadata": {},
     "output_type": "execute_result"
    }
   ],
   "source": [
    "correct_response.llm_answer.values[0]"
   ]
  },
  {
   "cell_type": "code",
   "execution_count": 58,
   "id": "638e30ac",
   "metadata": {},
   "outputs": [
    {
     "data": {
      "text/plain": [
       "'enhanced S-cone syndrome is not a vitreoretinal degeneration'"
      ]
     },
     "execution_count": 58,
     "metadata": {},
     "output_type": "execute_result"
    }
   ],
   "source": [
    "correct_response.question.values[0]"
   ]
  },
  {
   "cell_type": "code",
   "execution_count": 59,
   "id": "79781a7b",
   "metadata": {},
   "outputs": [
    {
     "data": {
      "text/plain": [
       "(539, 4)"
      ]
     },
     "execution_count": 59,
     "metadata": {},
     "output_type": "execute_result"
    }
   ],
   "source": [
    "correct_response.shape"
   ]
  },
  {
   "cell_type": "code",
   "execution_count": null,
   "id": "da6f3bf2",
   "metadata": {},
   "outputs": [],
   "source": []
  }
 ],
 "metadata": {
  "kernelspec": {
   "display_name": "Python 3 (ipykernel)",
   "language": "python",
   "name": "python3"
  },
  "language_info": {
   "codemirror_mode": {
    "name": "ipython",
    "version": 3
   },
   "file_extension": ".py",
   "mimetype": "text/x-python",
   "name": "python",
   "nbconvert_exporter": "python",
   "pygments_lexer": "ipython3",
   "version": "3.10.9"
  }
 },
 "nbformat": 4,
 "nbformat_minor": 5
}
