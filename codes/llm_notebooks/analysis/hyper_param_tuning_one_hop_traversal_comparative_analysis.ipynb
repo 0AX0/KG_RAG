{
 "cells": [
  {
   "cell_type": "code",
   "execution_count": 1,
   "id": "192d3714",
   "metadata": {},
   "outputs": [],
   "source": [
    "import pandas as pd\n",
    "import numpy as np\n",
    "import json\n",
    "import ast\n",
    "from tqdm import tqdm\n",
    "import re\n",
    "import os\n",
    "import seaborn as sns\n",
    "import matplotlib.pyplot as plt\n",
    "from scipy.stats import sem\n"
   ]
  },
  {
   "cell_type": "code",
   "execution_count": 6,
   "id": "c4509498",
   "metadata": {},
   "outputs": [],
   "source": [
    "def jaccard_similarity(list1, list2):\n",
    "    set1 = set(list1)\n",
    "    set2 = set(list2)\n",
    "    intersection = len(set1.intersection(set2))\n",
    "    union = len(set1) + len(set2) - intersection    \n",
    "    if union == 0:\n",
    "        return 0.0\n",
    "    else:\n",
    "        jaccard_similarity = intersection / union\n",
    "        return jaccard_similarity\n",
    "    \n",
    "def extract_answer(text):\n",
    "    pattern = r'{[^{}]*}'\n",
    "    match = re.search(pattern, text)\n",
    "    if match:\n",
    "        return match.group()\n",
    "    else:\n",
    "        return None\n",
    "    \n",
    "def extract_by_splitting(text):\n",
    "    compound_list = text.split(':')[1].split(\"Diseases\")[0].split(\"], \")[0]+\"]\"\n",
    "    disease_list = text.split(':')[-1].split(\"}\")[0]\n",
    "    resp = {}\n",
    "    resp[\"Compounds\"] = ast.literal_eval(compound_list)\n",
    "    resp[\"Diseases\"] = ast.literal_eval(disease_list)\n",
    "    return resp\n",
    "    \n",
    "    \n",
    "def get_hyperparam_perf(files):\n",
    "    llm_performance_list = []\n",
    "    for file in tqdm(files):\n",
    "        df = pd.read_csv(os.path.join(PARENT_PATH, file))\n",
    "        df.dropna(subset=[\"llm_answer\"], inplace=True)\n",
    "        llm_performance_list_across_questions = []\n",
    "        for index, row in df.iterrows():\n",
    "            cmp_gt = ast.literal_eval(row[\"compound_groundTruth\"])\n",
    "            disease_gt = ast.literal_eval(row[\"disease_groundTruth\"])\n",
    "            try:\n",
    "                llm_answer = json.loads(extract_answer(row[\"llm_answer\"]))\n",
    "            except:\n",
    "                llm_answer = extract_by_splitting(row[\"llm_answer\"])\n",
    "            cmp_llm = llm_answer[\"Compounds\"]\n",
    "            disease_llm = llm_answer[\"Diseases\"]\n",
    "            cmp_similarity = jaccard_similarity(cmp_gt, cmp_llm)\n",
    "            disease_similarity = jaccard_similarity(disease_gt, disease_llm)\n",
    "            llm_performance = np.mean([cmp_similarity, disease_similarity])\n",
    "            llm_performance_list_across_questions.append(llm_performance)\n",
    "        llm_performance_list.append((np.mean(llm_performance_list_across_questions), np.std(llm_performance_list_across_questions), sem(llm_performance_list_across_questions), row[\"context_volume\"]))\n",
    "    hyperparam_perf = pd.DataFrame(llm_performance_list, columns=[\"performance_mean\", \"performance_std\", \"performance_sem\", \"context_volume\"])        \n",
    "    return hyperparam_perf\n"
   ]
  },
  {
   "cell_type": "code",
   "execution_count": 3,
   "id": "a535cf7f",
   "metadata": {},
   "outputs": [],
   "source": [
    "PARENT_PATH = \"../../../data/analysis_results/\"\n",
    "\n",
    "\n",
    "FILES_1 = [\n",
    "    \"gpt_4_node_retrieval_rag_based_drug_reporposing_questions_parameter_tuning_round_1.csv\",\n",
    "    \"gpt_4_node_retrieval_rag_based_drug_reporposing_questions_parameter_tuning_round_2.csv\",\n",
    "    \"gpt_4_node_retrieval_rag_based_drug_reporposing_questions_parameter_tuning_round_3.csv\",\n",
    "    \"gpt_4_node_retrieval_rag_based_drug_reporposing_questions_parameter_tuning_round_4.csv\",\n",
    "    \"gpt_4_node_retrieval_rag_based_drug_reporposing_questions_parameter_tuning_round_5.csv\"\n",
    "]\n",
    "\n",
    "FILES_2 = [\n",
    "    \"gpt_4PubMedBert_node_retrieval_rag_based_drug_reporposing_questions_parameter_tuning_round_1.csv\",\n",
    "    \"gpt_4PubMedBert_node_retrieval_rag_based_drug_reporposing_questions_parameter_tuning_round_2.csv\",\n",
    "    \"gpt_4PubMedBert_node_retrieval_rag_based_drug_reporposing_questions_parameter_tuning_round_3.csv\",\n",
    "    \"gpt_4PubMedBert_node_retrieval_rag_based_drug_reporposing_questions_parameter_tuning_round_4.csv\",\n",
    "    \"gpt_4PubMedBert_node_retrieval_rag_based_drug_reporposing_questions_parameter_tuning_round_5.csv\"\n",
    "]\n"
   ]
  },
  {
   "cell_type": "code",
   "execution_count": 8,
   "id": "4f79546f",
   "metadata": {},
   "outputs": [
    {
     "name": "stderr",
     "output_type": "stream",
     "text": [
      "100%|█████████████████████████████████████████████| 5/5 [00:00<00:00, 62.17it/s]\n",
      "100%|████████████████████████████████████████████| 5/5 [00:00<00:00, 109.44it/s]\n"
     ]
    }
   ],
   "source": [
    "mini_lm_perf = get_hyperparam_perf(FILES_1)\n",
    "pubmedBert_perf = get_hyperparam_perf(FILES_2)\n"
   ]
  },
  {
   "cell_type": "code",
   "execution_count": 42,
   "id": "fd7d6bea",
   "metadata": {},
   "outputs": [
    {
     "data": {
      "image/png": "[encoded data removed]",
      "text/plain": [
       "<Figure size 300x400 with 1 Axes>"
      ]
     },
     "metadata": {},
     "output_type": "display_data"
    }
   ],
   "source": [
    "\n",
    "\n",
    "params = mini_lm_perf.context_volume.values\n",
    "mini_lm_mean_performance = mini_lm_perf.performance_mean.values\n",
    "mini_lm_std_deviation = mini_lm_perf.performance_std.values\n",
    "mini_lm_sem_value = mini_lm_perf.performance_sem.values\n",
    "\n",
    "pubmedBert_mean_performance = pubmedBert_perf.performance_mean.values\n",
    "pubmedBert_std_deviation = pubmedBert_perf.performance_std.values\n",
    "pubmedBert_sem_value = pubmedBert_perf.performance_sem.values\n",
    "\n",
    "fig = plt.figure(figsize=(3, 4))\n",
    "plt.errorbar(params, mini_lm_mean_performance, yerr=mini_lm_sem_value, fmt='o-', capsize=5, label='all-MiniLM-L6-v2')\n",
    "plt.errorbar(params, pubmedBert_mean_performance, yerr=pubmedBert_sem_value, fmt='o-', capsize=5, label='PubMedBERT', color=\"darkred\")\n",
    "plt.xlabel('Context volume')\n",
    "plt.ylabel('Mean Performance')\n",
    "plt.grid(True)\n",
    "plt.ylim(0.35,0.8)\n",
    "plt.legend(bbox_to_anchor=(0.2, 0.35))\n",
    "plt.show()\n",
    "\n",
    "\n",
    "figure_folder_name = \"hyperparam_tuning\"\n",
    "fig_filename = \"../../../data/analysis_results/figures/{}/context_volume_one_hop_miniLM_vs_PubMedBert.svg\".format(figure_folder_name)\n",
    "fig.savefig(fig_filename, format='svg', bbox_inches='tight')\n",
    "\n"
   ]
  },
  {
   "cell_type": "code",
   "execution_count": null,
   "id": "4b1186b3",
   "metadata": {},
   "outputs": [],
   "source": []
  }
 ],
 "metadata": {
  "kernelspec": {
   "display_name": "Python 3 (ipykernel)",
   "language": "python",
   "name": "python3"
  },
  "language_info": {
   "codemirror_mode": {
    "name": "ipython",
    "version": 3
   },
   "file_extension": ".py",
   "mimetype": "text/x-python",
   "name": "python",
   "nbconvert_exporter": "python",
   "pygments_lexer": "ipython3",
   "version": "3.10.9"
  }
 },
 "nbformat": 4,
 "nbformat_minor": 5
}
