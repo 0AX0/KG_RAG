{
 "cells": [
  {
   "cell_type": "markdown",
   "id": "e0c5d920",
   "metadata": {},
   "source": [
    "\n",
    "### This script runs hyperparam selection for one-hop traversal on graph using natural language. Before running this notebook, make sure to run: codes/py_scripts/rag_based_text_generation/GPT/drug_repurposing_hyperparameter_tuning.py \n",
    "### This will save the csv files that are used in this notebook\n"
   ]
  },
  {
   "cell_type": "code",
   "execution_count": 22,
   "id": "e34eee76",
   "metadata": {},
   "outputs": [],
   "source": [
    "import pandas as pd\n",
    "import numpy as np\n",
    "import json\n",
    "import ast\n",
    "from tqdm import tqdm\n",
    "import re\n",
    "import os\n",
    "import seaborn as sns\n",
    "import matplotlib.pyplot as plt\n",
    "from scipy.stats import sem\n"
   ]
  },
  {
   "cell_type": "code",
   "execution_count": 23,
   "id": "029dba52",
   "metadata": {},
   "outputs": [],
   "source": [
    "def jaccard_similarity(list1, list2):\n",
    "    set1 = set(list1)\n",
    "    set2 = set(list2)\n",
    "    intersection = len(set1.intersection(set2))\n",
    "    union = len(set1) + len(set2) - intersection    \n",
    "    if union == 0:\n",
    "        return 0.0\n",
    "    else:\n",
    "        jaccard_similarity = intersection / union\n",
    "        return jaccard_similarity\n",
    "    \n",
    "def extract_answer(text):\n",
    "    pattern = r'{[^{}]*}'\n",
    "    match = re.search(pattern, text)\n",
    "    if match:\n",
    "        return match.group()\n",
    "    else:\n",
    "        return None\n",
    "    \n",
    "def extract_by_splitting(text):\n",
    "    compound_list = text.split(':')[1].split(\"Diseases\")[0].split(\"], \")[0]+\"]\"\n",
    "    disease_list = text.split(':')[-1].split(\"}\")[0]\n",
    "    resp = {}\n",
    "    resp[\"Compounds\"] = ast.literal_eval(compound_list)\n",
    "    resp[\"Diseases\"] = ast.literal_eval(disease_list)\n",
    "    return resp\n",
    "    "
   ]
  },
  {
   "cell_type": "code",
   "execution_count": 24,
   "id": "b1945058",
   "metadata": {},
   "outputs": [],
   "source": [
    "PARENT_PATH = \"../../../data/analysis_results/\"\n",
    "\n",
    "QUESTION_PATH = os.path.join(PARENT_PATH, \"drug_reporposing_questions.csv\")\n",
    "\n",
    "FILES = [\n",
    "    \"gpt_4_node_retrieval_rag_based_drug_reporposing_questions_parameter_tuning_round_1.csv\",\n",
    "    \"gpt_4_node_retrieval_rag_based_drug_reporposing_questions_parameter_tuning_round_2.csv\",\n",
    "    \"gpt_4_node_retrieval_rag_based_drug_reporposing_questions_parameter_tuning_round_3.csv\",\n",
    "    \"gpt_4_node_retrieval_rag_based_drug_reporposing_questions_parameter_tuning_round_4.csv\",\n",
    "    \"gpt_4_node_retrieval_rag_based_drug_reporposing_questions_parameter_tuning_round_5.csv\"\n",
    "]\n"
   ]
  },
  {
   "cell_type": "code",
   "execution_count": 32,
   "id": "c424869c",
   "metadata": {},
   "outputs": [
    {
     "name": "stderr",
     "output_type": "stream",
     "text": [
      "100%|█████████████████████████████████████████████| 5/5 [00:00<00:00, 67.31it/s]\n"
     ]
    }
   ],
   "source": [
    "llm_performance_list = []\n",
    "for file in tqdm(FILES):\n",
    "    df = pd.read_csv(os.path.join(PARENT_PATH, file))\n",
    "    df.dropna(subset=[\"llm_answer\"], inplace=True)\n",
    "    llm_performance_list_across_questions = []\n",
    "    for index, row in df.iterrows():\n",
    "        cmp_gt = ast.literal_eval(row[\"compound_groundTruth\"])\n",
    "        disease_gt = ast.literal_eval(row[\"disease_groundTruth\"])\n",
    "        try:\n",
    "            llm_answer = json.loads(extract_answer(row[\"llm_answer\"]))\n",
    "        except:\n",
    "            llm_answer = extract_by_splitting(row[\"llm_answer\"])\n",
    "        cmp_llm = llm_answer[\"Compounds\"]\n",
    "        disease_llm = llm_answer[\"Diseases\"]\n",
    "        cmp_similarity = jaccard_similarity(cmp_gt, cmp_llm)\n",
    "        disease_similarity = jaccard_similarity(disease_gt, disease_llm)\n",
    "        llm_performance = np.mean([cmp_similarity, disease_similarity])\n",
    "        llm_performance_list_across_questions.append(llm_performance)\n",
    "    llm_performance_list.append((np.mean(llm_performance_list_across_questions), np.std(llm_performance_list_across_questions), sem(llm_performance_list_across_questions), row[\"context_volume\"]))\n",
    "        \n"
   ]
  },
  {
   "cell_type": "code",
   "execution_count": 33,
   "id": "86561dc2",
   "metadata": {},
   "outputs": [
    {
     "data": {
      "text/plain": [
       "[(0.41039234484778625, 0.2232514593024466, 0.025952454990021284, 10),\n",
       " (0.6073188742537662, 0.19973673919787832, 0.023218924302143406, 50),\n",
       " (0.6464814133595973, 0.18552913961677034, 0.021567324398621926, 100),\n",
       " (0.6545784427318354, 0.18315285607348178, 0.021291087047728835, 150),\n",
       " (0.6627381523248198, 0.1775190228994875, 0.02077703008929219, 200)]"
      ]
     },
     "execution_count": 33,
     "metadata": {},
     "output_type": "execute_result"
    }
   ],
   "source": [
    "llm_performance_list"
   ]
  },
  {
   "cell_type": "code",
   "execution_count": 34,
   "id": "07bf0fcf",
   "metadata": {},
   "outputs": [
    {
     "data": {
      "text/html": [
       "<div>\n",
       "<style scoped>\n",
       "    .dataframe tbody tr th:only-of-type {\n",
       "        vertical-align: middle;\n",
       "    }\n",
       "\n",
       "    .dataframe tbody tr th {\n",
       "        vertical-align: top;\n",
       "    }\n",
       "\n",
       "    .dataframe thead th {\n",
       "        text-align: right;\n",
       "    }\n",
       "</style>\n",
       "<table border=\"1\" class=\"dataframe\">\n",
       "  <thead>\n",
       "    <tr style=\"text-align: right;\">\n",
       "      <th></th>\n",
       "      <th>performance_mean</th>\n",
       "      <th>performance_std</th>\n",
       "      <th>performance_sem</th>\n",
       "      <th>context_volume</th>\n",
       "    </tr>\n",
       "  </thead>\n",
       "  <tbody>\n",
       "    <tr>\n",
       "      <th>0</th>\n",
       "      <td>0.410392</td>\n",
       "      <td>0.223251</td>\n",
       "      <td>0.025952</td>\n",
       "      <td>10</td>\n",
       "    </tr>\n",
       "    <tr>\n",
       "      <th>1</th>\n",
       "      <td>0.607319</td>\n",
       "      <td>0.199737</td>\n",
       "      <td>0.023219</td>\n",
       "      <td>50</td>\n",
       "    </tr>\n",
       "    <tr>\n",
       "      <th>2</th>\n",
       "      <td>0.646481</td>\n",
       "      <td>0.185529</td>\n",
       "      <td>0.021567</td>\n",
       "      <td>100</td>\n",
       "    </tr>\n",
       "    <tr>\n",
       "      <th>3</th>\n",
       "      <td>0.654578</td>\n",
       "      <td>0.183153</td>\n",
       "      <td>0.021291</td>\n",
       "      <td>150</td>\n",
       "    </tr>\n",
       "    <tr>\n",
       "      <th>4</th>\n",
       "      <td>0.662738</td>\n",
       "      <td>0.177519</td>\n",
       "      <td>0.020777</td>\n",
       "      <td>200</td>\n",
       "    </tr>\n",
       "  </tbody>\n",
       "</table>\n",
       "</div>"
      ],
      "text/plain": [
       "   performance_mean  performance_std  performance_sem  context_volume\n",
       "0          0.410392         0.223251         0.025952              10\n",
       "1          0.607319         0.199737         0.023219              50\n",
       "2          0.646481         0.185529         0.021567             100\n",
       "3          0.654578         0.183153         0.021291             150\n",
       "4          0.662738         0.177519         0.020777             200"
      ]
     },
     "execution_count": 34,
     "metadata": {},
     "output_type": "execute_result"
    }
   ],
   "source": [
    "hyperparam_perf = pd.DataFrame(llm_performance_list, columns=[\"performance_mean\", \"performance_std\", \"performance_sem\", \"context_volume\"])\n",
    "hyperparam_perf\n"
   ]
  },
  {
   "cell_type": "code",
   "execution_count": 39,
   "id": "8077a90d",
   "metadata": {},
   "outputs": [
    {
     "data": {
      "image/png": "[encoded data removed]",
      "text/plain": [
       "<Figure size 300x400 with 1 Axes>"
      ]
     },
     "metadata": {},
     "output_type": "display_data"
    }
   ],
   "source": [
    "\n",
    "\n",
    "params = hyperparam_perf.context_volume.values\n",
    "mean_performance = hyperparam_perf.performance_mean.values\n",
    "std_deviation = hyperparam_perf.performance_std.values\n",
    "sem_value = hyperparam_perf.performance_sem.values\n",
    "\n",
    "fig = plt.figure(figsize=(3, 4))\n",
    "plt.errorbar(params, mean_performance, yerr=sem_value, fmt='o-', capsize=5, label='Performance')\n",
    "plt.xlabel('Context volume')\n",
    "plt.ylabel('Mean Performance')\n",
    "plt.grid(True)\n",
    "plt.ylim(0.3,0.8)\n",
    "plt.show()\n",
    "\n",
    "figure_folder_name = \"hyperparam_tuning\"\n",
    "fig_filename = \"../../../data/analysis_results/figures/{}/context_volume_one_hop.svg\".format(figure_folder_name)\n",
    "fig.savefig(fig_filename, format='svg', bbox_inches='tight')\n",
    "\n"
   ]
  },
  {
   "cell_type": "code",
   "execution_count": null,
   "id": "4d1143b6",
   "metadata": {},
   "outputs": [],
   "source": []
  }
 ],
 "metadata": {
  "kernelspec": {
   "display_name": "Python 3 (ipykernel)",
   "language": "python",
   "name": "python3"
  },
  "language_info": {
   "codemirror_mode": {
    "name": "ipython",
    "version": 3
   },
   "file_extension": ".py",
   "mimetype": "text/x-python",
   "name": "python",
   "nbconvert_exporter": "python",
   "pygments_lexer": "ipython3",
   "version": "3.10.9"
  }
 },
 "nbformat": 4,
 "nbformat_minor": 5
}
