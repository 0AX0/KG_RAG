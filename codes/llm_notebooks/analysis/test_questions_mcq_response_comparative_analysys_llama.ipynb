{
 "cells": [
  {
   "cell_type": "code",
   "execution_count": 515,
   "id": "88e8fd4a",
   "metadata": {},
   "outputs": [],
   "source": [
    "import pandas as pd\n",
    "import numpy as np\n",
    "import re\n",
    "from sklearn.metrics import roc_auc_score, roc_curve\n",
    "from sklearn.preprocessing import LabelEncoder\n",
    "from scipy import stats\n",
    "from tqdm import tqdm\n",
    "import seaborn as sns\n",
    "import matplotlib.pyplot as plt\n"
   ]
  },
  {
   "cell_type": "code",
   "execution_count": 516,
   "id": "a00c5e48",
   "metadata": {},
   "outputs": [],
   "source": [
    "def extract_answer(text):\n",
    "    try:\n",
    "        text_processed = text.split('\"answer\":')[-1].split('\\n')[0].strip().split('\"')[1].strip()\n",
    "    except:\n",
    "        text_processed = text.split('\"answer\":')[-1].split('\\n')[0].strip()\n",
    "    return text_processed\n",
    "\n",
    "def correct_paranthesis_split(text):\n",
    "    try:\n",
    "        text_processed = text.split('\"answer\":')[-1].split(\"\\n\")[1].split(\":\")[-1].split('\"')[1].strip()\n",
    "        return text_processed\n",
    "    except:\n",
    "        return text\n",
    "    \n"
   ]
  },
  {
   "cell_type": "code",
   "execution_count": 553,
   "id": "6915e2b9",
   "metadata": {},
   "outputs": [],
   "source": [
    "PROMPT_RESPONSE_PATH = \"../../../data/analysis_results/gpt_4_prompt_based_two_hop_mcq_from_monarch_response.csv\"\n",
    "RAG_RESPONSE_PATH = \"../../../data/analysis_results/gpt_4_node_retrieval_rag_based_two_hop_mcq_from_monarch_response.csv\"\n",
    "\n",
    "# PROMPT_RESPONSE_PATH = \"../../../data/analysis_results/Llama_2_13b_chat_hf_prompt_based_two_hop_mcq_from_robokop_response.csv\"\n",
    "# RAG_RESPONSE_PATH = \"../../../data/analysis_results/Llama_2_13b_chat_hf_node_retrieval_rag_based_two_hop_mcq_from_robokop_response.csv\"\n"
   ]
  },
  {
   "cell_type": "code",
   "execution_count": 554,
   "id": "69bb7fa0",
   "metadata": {},
   "outputs": [],
   "source": [
    "prompt_response_df = pd.read_csv(PROMPT_RESPONSE_PATH)\n",
    "rag_response_df = pd.read_csv(RAG_RESPONSE_PATH)\n",
    "\n",
    "prompt_response_df.loc[:, 'extracted_answer'] = prompt_response_df['llm_answer'].apply(extract_answer)\n",
    "rag_response_df.loc[:, 'extracted_answer'] = rag_response_df['llm_answer'].apply(extract_answer)\n",
    "\n",
    "prompt_response_df_paranthesis_split = prompt_response_df[prompt_response_df.extracted_answer==\"{\"]\n",
    "if prompt_response_df_paranthesis_split.shape[0] > 0:\n",
    "    prompt_response_df_paranthesis_split.loc[:, \"extracted_answer\"] = prompt_response_df_paranthesis_split.llm_answer.apply(correct_paranthesis_split)\n",
    "    prompt_response_df_wo_paranthesis_split = prompt_response_df[prompt_response_df.extracted_answer != \"{\"]\n",
    "    prompt_response_df = pd.concat([prompt_response_df_wo_paranthesis_split, prompt_response_df_paranthesis_split])\n",
    "\n",
    "rag_response_df_paranthesis_split = rag_response_df[rag_response_df.extracted_answer==\"{\"]\n",
    "if rag_response_df_paranthesis_split.shape[0] > 0:\n",
    "    rag_response_df_paranthesis_split.loc[:, \"extracted_answer\"] = rag_response_df_paranthesis_split.llm_answer.apply(correct_paranthesis_split)\n",
    "    rag_response_df_wo_paranthesis_split = rag_response_df[rag_response_df.extracted_answer != \"{\"]\n",
    "    rag_response_df = pd.concat([rag_response_df_wo_paranthesis_split, rag_response_df_paranthesis_split])\n",
    "\n",
    "prompt_response_df = prompt_response_df[~prompt_response_df.correct_answer.str.contains(\"ClinVarVariant\")].reset_index()\n",
    "rag_response_df = rag_response_df[~rag_response_df.correct_answer.str.contains(\"ClinVarVariant\")].reset_index()\n"
   ]
  },
  {
   "cell_type": "code",
   "execution_count": 547,
   "id": "45ccf7f7",
   "metadata": {},
   "outputs": [
    {
     "name": "stdout",
     "output_type": "stream",
     "text": [
      "Out of the given list, which Gene is associated with psoriasis and herpes zoster. Given list is: HLA-B, PCDH15, DLX6-AS1, TERT, PCSK6-AS1\n",
      "The context does not provide information on which gene is associated with both psoriasis and herpes zoster.\n"
     ]
    }
   ],
   "source": [
    "rag_response_df_ = rag_response_df[rag_response_df.question.str.contains(\"Gene\")].reset_index()\n",
    "rag_response_df_\n",
    "print(rag_response_df_.iloc[2].question)\n",
    "print(rag_response_df_.iloc[2].extracted_answer)\n"
   ]
  },
  {
   "cell_type": "code",
   "execution_count": 564,
   "id": "29b96713",
   "metadata": {},
   "outputs": [
    {
     "data": {
      "text/plain": [
       "'Out of the given list, which Gene is associated with psoriasis and myelodysplastic syndrome. Given list is: HLA-B, ABO, UMPS, ENSEMBL:ENSG00000237844, CDK8'"
      ]
     },
     "execution_count": 564,
     "metadata": {},
     "output_type": "execute_result"
    }
   ],
   "source": [
    "prompt_response_df[prompt_response_df.correct_answer != prompt_response_df.extracted_answer]\n",
    "\n",
    "evaluate(prompt_response_df)\n",
    "# prompt_response_df[prompt_response_df.extracted_answer == \"None\"]\n",
    "\n",
    "# prompt_response_df.iloc[50].question\n",
    "\n",
    "\n",
    "rag_response_df[rag_response_df.extracted_answer==\"None\"]\n",
    "\n",
    "\n",
    "rag_response_df.iloc[1].question\n"
   ]
  },
  {
   "cell_type": "code",
   "execution_count": 573,
   "id": "d3c6124f",
   "metadata": {
    "collapsed": true
   },
   "outputs": [
    {
     "data": {
      "text/html": [
       "<div>\n",
       "<style scoped>\n",
       "    .dataframe tbody tr th:only-of-type {\n",
       "        vertical-align: middle;\n",
       "    }\n",
       "\n",
       "    .dataframe tbody tr th {\n",
       "        vertical-align: top;\n",
       "    }\n",
       "\n",
       "    .dataframe thead th {\n",
       "        text-align: right;\n",
       "    }\n",
       "</style>\n",
       "<table border=\"1\" class=\"dataframe\">\n",
       "  <thead>\n",
       "    <tr style=\"text-align: right;\">\n",
       "      <th></th>\n",
       "      <th>index</th>\n",
       "      <th>question</th>\n",
       "      <th>correct_answer</th>\n",
       "      <th>llm_answer</th>\n",
       "      <th>extracted_answer</th>\n",
       "      <th>total_ans</th>\n",
       "    </tr>\n",
       "  </thead>\n",
       "  <tbody>\n",
       "    <tr>\n",
       "      <th>16</th>\n",
       "      <td>16</td>\n",
       "      <td>Out of the given list, which Gene is associate...</td>\n",
       "      <td>CASC8</td>\n",
       "      <td>{\\n  \"answer\": \"CASC8, TERT\"\\n}</td>\n",
       "      <td>CASC8, TERT</td>\n",
       "      <td>2</td>\n",
       "    </tr>\n",
       "    <tr>\n",
       "      <th>75</th>\n",
       "      <td>75</td>\n",
       "      <td>Out of the given list, which Gene is associate...</td>\n",
       "      <td>HLA-DQB1</td>\n",
       "      <td>{\\n  \"answer\": \"HLA-DQB1, TERT\"\\n}</td>\n",
       "      <td>HLA-DQB1, TERT</td>\n",
       "      <td>2</td>\n",
       "    </tr>\n",
       "    <tr>\n",
       "      <th>93</th>\n",
       "      <td>93</td>\n",
       "      <td>Out of the given list, which Gene is associate...</td>\n",
       "      <td>HLA-B</td>\n",
       "      <td>{\\n  \"answer\": \"HLA-B, IL6\"\\n}</td>\n",
       "      <td>HLA-B, IL6</td>\n",
       "      <td>2</td>\n",
       "    </tr>\n",
       "    <tr>\n",
       "      <th>97</th>\n",
       "      <td>97</td>\n",
       "      <td>Out of the given list, which Gene is associate...</td>\n",
       "      <td>HLA-B</td>\n",
       "      <td>{\\n  \"answer\": \"HLA-B, HLA-DRB5\"\\n}</td>\n",
       "      <td>HLA-B, HLA-DRB5</td>\n",
       "      <td>2</td>\n",
       "    </tr>\n",
       "    <tr>\n",
       "      <th>199</th>\n",
       "      <td>199</td>\n",
       "      <td>Out of the given list, which Gene is associate...</td>\n",
       "      <td>HLA-DQB1</td>\n",
       "      <td>{\\n  \"answer\": \"HLA-DQB1, ERAP1\"\\n}</td>\n",
       "      <td>HLA-DQB1, ERAP1</td>\n",
       "      <td>2</td>\n",
       "    </tr>\n",
       "    <tr>\n",
       "      <th>266</th>\n",
       "      <td>266</td>\n",
       "      <td>Out of the given list, which Gene is associate...</td>\n",
       "      <td>STAT4</td>\n",
       "      <td>{\\n  \"answer\": \"STAT4, HLA-DQB1\"\\n}</td>\n",
       "      <td>STAT4, HLA-DQB1</td>\n",
       "      <td>2</td>\n",
       "    </tr>\n",
       "    <tr>\n",
       "      <th>269</th>\n",
       "      <td>269</td>\n",
       "      <td>Out of the given list, which Gene is associate...</td>\n",
       "      <td>IL23R</td>\n",
       "      <td>{\\n  \"answer\": \"IL23R, HLA-DPB1\"\\n}</td>\n",
       "      <td>IL23R, HLA-DPB1</td>\n",
       "      <td>2</td>\n",
       "    </tr>\n",
       "    <tr>\n",
       "      <th>357</th>\n",
       "      <td>370</td>\n",
       "      <td>Out of the given list, which Variant is associ...</td>\n",
       "      <td>rs2736100</td>\n",
       "      <td>{\\n  \"answer\": \"rs2736100, ClinVarVariant:1579...</td>\n",
       "      <td>rs2736100, ClinVarVariant:1579</td>\n",
       "      <td>2</td>\n",
       "    </tr>\n",
       "  </tbody>\n",
       "</table>\n",
       "</div>"
      ],
      "text/plain": [
       "     index                                           question correct_answer  \\\n",
       "16      16  Out of the given list, which Gene is associate...          CASC8   \n",
       "75      75  Out of the given list, which Gene is associate...       HLA-DQB1   \n",
       "93      93  Out of the given list, which Gene is associate...          HLA-B   \n",
       "97      97  Out of the given list, which Gene is associate...          HLA-B   \n",
       "199    199  Out of the given list, which Gene is associate...       HLA-DQB1   \n",
       "266    266  Out of the given list, which Gene is associate...          STAT4   \n",
       "269    269  Out of the given list, which Gene is associate...          IL23R   \n",
       "357    370  Out of the given list, which Variant is associ...      rs2736100   \n",
       "\n",
       "                                            llm_answer  \\\n",
       "16                     {\\n  \"answer\": \"CASC8, TERT\"\\n}   \n",
       "75                  {\\n  \"answer\": \"HLA-DQB1, TERT\"\\n}   \n",
       "93                      {\\n  \"answer\": \"HLA-B, IL6\"\\n}   \n",
       "97                 {\\n  \"answer\": \"HLA-B, HLA-DRB5\"\\n}   \n",
       "199                {\\n  \"answer\": \"HLA-DQB1, ERAP1\"\\n}   \n",
       "266                {\\n  \"answer\": \"STAT4, HLA-DQB1\"\\n}   \n",
       "269                {\\n  \"answer\": \"IL23R, HLA-DPB1\"\\n}   \n",
       "357  {\\n  \"answer\": \"rs2736100, ClinVarVariant:1579...   \n",
       "\n",
       "                   extracted_answer  total_ans  \n",
       "16                      CASC8, TERT          2  \n",
       "75                   HLA-DQB1, TERT          2  \n",
       "93                       HLA-B, IL6          2  \n",
       "97                  HLA-B, HLA-DRB5          2  \n",
       "199                 HLA-DQB1, ERAP1          2  \n",
       "266                 STAT4, HLA-DQB1          2  \n",
       "269                 IL23R, HLA-DPB1          2  \n",
       "357  rs2736100, ClinVarVariant:1579          2  "
      ]
     },
     "execution_count": 573,
     "metadata": {},
     "output_type": "execute_result"
    }
   ],
   "source": [
    "prompt_response_df.loc[:, \"total_ans\"] = prompt_response_df.extracted_answer.apply(lambda x:len(x.split(\",\")))\n",
    "prompt_response_df[prompt_response_df.total_ans > 1]\n"
   ]
  },
  {
   "cell_type": "code",
   "execution_count": 572,
   "id": "801295ca",
   "metadata": {},
   "outputs": [
    {
     "data": {
      "text/html": [
       "<div>\n",
       "<style scoped>\n",
       "    .dataframe tbody tr th:only-of-type {\n",
       "        vertical-align: middle;\n",
       "    }\n",
       "\n",
       "    .dataframe tbody tr th {\n",
       "        vertical-align: top;\n",
       "    }\n",
       "\n",
       "    .dataframe thead th {\n",
       "        text-align: right;\n",
       "    }\n",
       "</style>\n",
       "<table border=\"1\" class=\"dataframe\">\n",
       "  <thead>\n",
       "    <tr style=\"text-align: right;\">\n",
       "      <th></th>\n",
       "      <th>index</th>\n",
       "      <th>question</th>\n",
       "      <th>correct_answer</th>\n",
       "      <th>llm_answer</th>\n",
       "      <th>extracted_answer</th>\n",
       "      <th>total_ans</th>\n",
       "    </tr>\n",
       "  </thead>\n",
       "  <tbody>\n",
       "    <tr>\n",
       "      <th>0</th>\n",
       "      <td>0</td>\n",
       "      <td>Out of the given list, which Gene is associate...</td>\n",
       "      <td>HLA-B</td>\n",
       "      <td>{\\n  \"answer\": \"HLA-B, TRAF3IP2\"\\n}</td>\n",
       "      <td>HLA-B, TRAF3IP2</td>\n",
       "      <td>2</td>\n",
       "    </tr>\n",
       "    <tr>\n",
       "      <th>31</th>\n",
       "      <td>31</td>\n",
       "      <td>Out of the given list, which Gene is associate...</td>\n",
       "      <td>HLA-DRB9</td>\n",
       "      <td>{\\n  \"answer\": \"None of the genes in the given...</td>\n",
       "      <td>None of the genes in the given list are associ...</td>\n",
       "      <td>2</td>\n",
       "    </tr>\n",
       "    <tr>\n",
       "      <th>37</th>\n",
       "      <td>37</td>\n",
       "      <td>Out of the given list, which Gene is associate...</td>\n",
       "      <td>MYH7</td>\n",
       "      <td>{\"answer\": \"MYH7, GTF2I\"}</td>\n",
       "      <td>MYH7, GTF2I</td>\n",
       "      <td>2</td>\n",
       "    </tr>\n",
       "    <tr>\n",
       "      <th>87</th>\n",
       "      <td>87</td>\n",
       "      <td>Out of the given list, which Gene is associate...</td>\n",
       "      <td>VAV3</td>\n",
       "      <td>{\"answer\": \"VAV3, MTTP\"}</td>\n",
       "      <td>VAV3, MTTP</td>\n",
       "      <td>2</td>\n",
       "    </tr>\n",
       "    <tr>\n",
       "      <th>95</th>\n",
       "      <td>95</td>\n",
       "      <td>Out of the given list, which Gene is associate...</td>\n",
       "      <td>HLA-B</td>\n",
       "      <td>{\\n  \"answer\": \"HLA-B, HLA-DQB1\"\\n}</td>\n",
       "      <td>HLA-B, HLA-DQB1</td>\n",
       "      <td>2</td>\n",
       "    </tr>\n",
       "    <tr>\n",
       "      <th>168</th>\n",
       "      <td>168</td>\n",
       "      <td>Out of the given list, which Gene is associate...</td>\n",
       "      <td>HLA-DQB1</td>\n",
       "      <td>{\\n  \"answer\": \"HLA-DQB1, CLPTM1L\"\\n}</td>\n",
       "      <td>HLA-DQB1, CLPTM1L</td>\n",
       "      <td>2</td>\n",
       "    </tr>\n",
       "    <tr>\n",
       "      <th>205</th>\n",
       "      <td>205</td>\n",
       "      <td>Out of the given list, which Gene is associate...</td>\n",
       "      <td>CDKN2B-AS1</td>\n",
       "      <td>{\\n  \"answer\": \"LPP, OPTN\"\\n}</td>\n",
       "      <td>LPP, OPTN</td>\n",
       "      <td>2</td>\n",
       "    </tr>\n",
       "    <tr>\n",
       "      <th>248</th>\n",
       "      <td>248</td>\n",
       "      <td>Out of the given list, which Gene is associate...</td>\n",
       "      <td>CFH</td>\n",
       "      <td>{\\n  \"answer\": \"CFH, APOE\"\\n}</td>\n",
       "      <td>CFH, APOE</td>\n",
       "      <td>2</td>\n",
       "    </tr>\n",
       "    <tr>\n",
       "      <th>261</th>\n",
       "      <td>261</td>\n",
       "      <td>Out of the given list, which Gene is associate...</td>\n",
       "      <td>ADGRV1</td>\n",
       "      <td>{\\n  \"answer\": \"ADGRV1, PBX2\"\\n}</td>\n",
       "      <td>ADGRV1, PBX2</td>\n",
       "      <td>2</td>\n",
       "    </tr>\n",
       "    <tr>\n",
       "      <th>263</th>\n",
       "      <td>263</td>\n",
       "      <td>Out of the given list, which Gene is associate...</td>\n",
       "      <td>HLA-DRB9</td>\n",
       "      <td>{\\n  \"answer\": \"None of the genes in the given...</td>\n",
       "      <td>None of the genes in the given list are associ...</td>\n",
       "      <td>2</td>\n",
       "    </tr>\n",
       "    <tr>\n",
       "      <th>269</th>\n",
       "      <td>269</td>\n",
       "      <td>Out of the given list, which Gene is associate...</td>\n",
       "      <td>IL23R</td>\n",
       "      <td>{\"answer\": \"IL23R, PTPN22\"}</td>\n",
       "      <td>IL23R, PTPN22</td>\n",
       "      <td>2</td>\n",
       "    </tr>\n",
       "    <tr>\n",
       "      <th>294</th>\n",
       "      <td>294</td>\n",
       "      <td>Out of the given list, which Gene is associate...</td>\n",
       "      <td>TERT</td>\n",
       "      <td>{\"answer\": \"TERT, HLA-DQA1\"}</td>\n",
       "      <td>TERT, HLA-DQA1</td>\n",
       "      <td>2</td>\n",
       "    </tr>\n",
       "    <tr>\n",
       "      <th>352</th>\n",
       "      <td>364</td>\n",
       "      <td>Out of the given list, which Variant is associ...</td>\n",
       "      <td>rs4921293</td>\n",
       "      <td>{\\n  \"answer\": \"rs3129843, rs7750458\"\\n}</td>\n",
       "      <td>rs3129843, rs7750458</td>\n",
       "      <td>2</td>\n",
       "    </tr>\n",
       "  </tbody>\n",
       "</table>\n",
       "</div>"
      ],
      "text/plain": [
       "     index                                           question correct_answer  \\\n",
       "0        0  Out of the given list, which Gene is associate...          HLA-B   \n",
       "31      31  Out of the given list, which Gene is associate...       HLA-DRB9   \n",
       "37      37  Out of the given list, which Gene is associate...           MYH7   \n",
       "87      87  Out of the given list, which Gene is associate...           VAV3   \n",
       "95      95  Out of the given list, which Gene is associate...          HLA-B   \n",
       "168    168  Out of the given list, which Gene is associate...       HLA-DQB1   \n",
       "205    205  Out of the given list, which Gene is associate...     CDKN2B-AS1   \n",
       "248    248  Out of the given list, which Gene is associate...            CFH   \n",
       "261    261  Out of the given list, which Gene is associate...         ADGRV1   \n",
       "263    263  Out of the given list, which Gene is associate...       HLA-DRB9   \n",
       "269    269  Out of the given list, which Gene is associate...          IL23R   \n",
       "294    294  Out of the given list, which Gene is associate...           TERT   \n",
       "352    364  Out of the given list, which Variant is associ...      rs4921293   \n",
       "\n",
       "                                            llm_answer  \\\n",
       "0                  {\\n  \"answer\": \"HLA-B, TRAF3IP2\"\\n}   \n",
       "31   {\\n  \"answer\": \"None of the genes in the given...   \n",
       "37                           {\"answer\": \"MYH7, GTF2I\"}   \n",
       "87                            {\"answer\": \"VAV3, MTTP\"}   \n",
       "95                 {\\n  \"answer\": \"HLA-B, HLA-DQB1\"\\n}   \n",
       "168              {\\n  \"answer\": \"HLA-DQB1, CLPTM1L\"\\n}   \n",
       "205                      {\\n  \"answer\": \"LPP, OPTN\"\\n}   \n",
       "248                      {\\n  \"answer\": \"CFH, APOE\"\\n}   \n",
       "261                   {\\n  \"answer\": \"ADGRV1, PBX2\"\\n}   \n",
       "263  {\\n  \"answer\": \"None of the genes in the given...   \n",
       "269                        {\"answer\": \"IL23R, PTPN22\"}   \n",
       "294                       {\"answer\": \"TERT, HLA-DQA1\"}   \n",
       "352           {\\n  \"answer\": \"rs3129843, rs7750458\"\\n}   \n",
       "\n",
       "                                      extracted_answer  total_ans  \n",
       "0                                      HLA-B, TRAF3IP2          2  \n",
       "31   None of the genes in the given list are associ...          2  \n",
       "37                                         MYH7, GTF2I          2  \n",
       "87                                          VAV3, MTTP          2  \n",
       "95                                     HLA-B, HLA-DQB1          2  \n",
       "168                                  HLA-DQB1, CLPTM1L          2  \n",
       "205                                          LPP, OPTN          2  \n",
       "248                                          CFH, APOE          2  \n",
       "261                                       ADGRV1, PBX2          2  \n",
       "263  None of the genes in the given list are associ...          2  \n",
       "269                                      IL23R, PTPN22          2  \n",
       "294                                     TERT, HLA-DQA1          2  \n",
       "352                               rs3129843, rs7750458          2  "
      ]
     },
     "execution_count": 572,
     "metadata": {},
     "output_type": "execute_result"
    }
   ],
   "source": [
    "rag_response_df.loc[:, \"total_ans\"] = rag_response_df.extracted_answer.apply(lambda x:len(x.split(\",\")))\n",
    "rag_response_df[rag_response_df.total_ans > 1]\n",
    "\n",
    "# rag_response_df.iloc[176].llm_answer\n",
    "\n",
    "\n",
    "# rag_response_df"
   ]
  },
  {
   "cell_type": "code",
   "execution_count": 509,
   "id": "feb40a69",
   "metadata": {},
   "outputs": [
    {
     "data": {
      "text/plain": [
       "(0.8, 0.2)"
      ]
     },
     "execution_count": 509,
     "metadata": {},
     "output_type": "execute_result"
    }
   ],
   "source": [
    "evaluate(prompt_response_df_sample)"
   ]
  },
  {
   "cell_type": "code",
   "execution_count": 555,
   "id": "7d59b4cd",
   "metadata": {},
   "outputs": [
    {
     "name": "stderr",
     "output_type": "stream",
     "text": [
      "100%|███████████████████████████████████████| 100/100 [00:00<00:00, 1043.50it/s]\n"
     ]
    }
   ],
   "source": [
    "def evaluate(df):\n",
    "    correct = df[df.correct_answer == df.extracted_answer]\n",
    "    incorrect = df[df.correct_answer != df.extracted_answer]\n",
    "    correct_frac = correct.shape[0]/df.shape[0]\n",
    "    incorrect_frac = incorrect.shape[0]/df.shape[0]\n",
    "    return correct_frac, incorrect_frac\n",
    "\n",
    "niter = 100\n",
    "nsample = 30\n",
    "\n",
    "prompt_correct_frac_list = []\n",
    "rag_correct_frac_list = []\n",
    "for _ in tqdm(range(niter)):\n",
    "    prompt_response_df_sample = prompt_response_df.sample(n=nsample)\n",
    "    prompt_correct_frac, prompt_incorrect_frac = evaluate(prompt_response_df_sample)\n",
    "\n",
    "    rag_response_df_sample = rag_response_df.iloc[prompt_response_df_sample.index]\n",
    "    rag_correct_frac, rag_incorrect_frac = evaluate(rag_response_df_sample)\n",
    "\n",
    "    prompt_correct_frac_list.append(prompt_correct_frac)\n",
    "    rag_correct_frac_list.append(rag_correct_frac)\n"
   ]
  },
  {
   "cell_type": "code",
   "execution_count": 556,
   "id": "16772983",
   "metadata": {},
   "outputs": [
    {
     "name": "stderr",
     "output_type": "stream",
     "text": [
      "/var/folders/p1/h56gxdhs5vgb0ztp7h4z606h0000gn/T/ipykernel_42779/2477094116.py:6: FutureWarning: \n",
      "\n",
      "`shade` is now deprecated in favor of `fill`; setting `fill=True`.\n",
      "This will become an error in seaborn v0.14.0; please update your code.\n",
      "\n",
      "  sns.kdeplot(prompt_correct_frac_list, color=\"blue\", shade=True, label=\"Prompt based\", ax=ax, lw=2, linestyle=\"-\", alpha=0.6)\n",
      "/var/folders/p1/h56gxdhs5vgb0ztp7h4z606h0000gn/T/ipykernel_42779/2477094116.py:7: FutureWarning: \n",
      "\n",
      "`shade` is now deprecated in favor of `fill`; setting `fill=True`.\n",
      "This will become an error in seaborn v0.14.0; please update your code.\n",
      "\n",
      "  sns.kdeplot(rag_correct_frac_list, color=\"lightcoral\", shade=True, label=\"KG-RAG based\", ax=ax, lw=2, linestyle=\"-\", alpha=0.6)\n"
     ]
    },
    {
     "data": {
      "image/png": "[encoded data removed]",
      "text/plain": [
       "<Figure size 500x300 with 1 Axes>"
      ]
     },
     "metadata": {},
     "output_type": "display_data"
    }
   ],
   "source": [
    "\n",
    "# Create a figure and axis\n",
    "fig = plt.figure(figsize=(5, 3))\n",
    "ax = plt.gca()\n",
    "\n",
    "# Plot KDEs with the specified styling\n",
    "sns.kdeplot(prompt_correct_frac_list, color=\"blue\", shade=True, label=\"Prompt based\", ax=ax, lw=2, linestyle=\"-\", alpha=0.6)\n",
    "sns.kdeplot(rag_correct_frac_list, color=\"lightcoral\", shade=True, label=\"KG-RAG based\", ax=ax, lw=2, linestyle=\"-\", alpha=0.6)\n",
    "\n",
    "# Set the outline color to black\n",
    "for artist in ax.lines:\n",
    "    artist.set_edgecolor(\"black\")\n",
    "\n",
    "# Add labels and legend\n",
    "plt.xlabel(\"Accuracy\")\n",
    "plt.ylabel(\"Density\")\n",
    "plt.legend(loc=\"upper left\")\n",
    "\n",
    "sns.despine(top=True, right=True)\n",
    "\n",
    "# Show the plot\n",
    "plt.show()\n",
    "\n",
    "# figure_folder_name = \"Llama\"\n",
    "# fig_filename = \"../../../data/analysis_results/figures/{}/two_hop_ROBOKOP_mcq_llm_performance.svg\".format(figure_folder_name)\n",
    "# fig.savefig(fig_filename, format='svg', bbox_inches='tight')\n"
   ]
  },
  {
   "cell_type": "code",
   "execution_count": 560,
   "id": "6afa8fe0",
   "metadata": {},
   "outputs": [
    {
     "data": {
      "text/plain": [
       "0.6493333333333335"
      ]
     },
     "execution_count": 560,
     "metadata": {},
     "output_type": "execute_result"
    }
   ],
   "source": [
    "np.mean(rag_correct_frac_list)"
   ]
  },
  {
   "cell_type": "code",
   "execution_count": 557,
   "id": "1da845d8",
   "metadata": {},
   "outputs": [
    {
     "data": {
      "image/png": "[encoded data removed]",
      "text/plain": [
       "<Figure size 400x300 with 1 Axes>"
      ]
     },
     "metadata": {},
     "output_type": "display_data"
    }
   ],
   "source": [
    "\n",
    "\n",
    "# Perform a t-test\n",
    "t_stat, p_value = stats.ttest_ind(prompt_correct_frac_list, rag_correct_frac_list)\n",
    "\n",
    "# Create a figure and axis\n",
    "plt.figure(figsize=(4, 3))\n",
    "ax = plt.gca()\n",
    "\n",
    "# Create bar plot with error bars\n",
    "sns.barplot(x=[\"Prompt based\", \"KG-RAG based\"], y=[np.mean(prompt_correct_frac_list), np.mean(rag_correct_frac_list)], errorbar=\"sd\", palette=[\"blue\", \"lightcoral\"], ax=ax)\n",
    "\n",
    "# Calculate the height for the text and line\n",
    "height = max(np.mean(prompt_correct_frac_list), np.mean(rag_correct_frac_list)) + 0.02\n",
    "\n",
    "# Add a horizontal line between the two bars\n",
    "ax.plot([0, 1], [height, height], c=\"black\", lw=2)\n",
    "\n",
    "# Add text annotation for significance\n",
    "if p_value > 0.05:\n",
    "    annotation = \"ns\"\n",
    "elif 0.001 < p_value <= 0.05:\n",
    "    annotation = \"*\"\n",
    "else:\n",
    "    annotation = \"***\"\n",
    "\n",
    "# Add the annotation text above the line\n",
    "plt.text(0.5, height + 0.02, annotation, ha='center', va='bottom', fontsize=14)\n",
    "\n",
    "# Add labels\n",
    "plt.ylabel(\"Mean Fraction\")\n",
    "\n",
    "sns.despine(top=True, right=True)\n",
    "\n",
    "# Show the plot\n",
    "plt.show()\n"
   ]
  },
  {
   "cell_type": "code",
   "execution_count": 558,
   "id": "6496a3c8",
   "metadata": {},
   "outputs": [
    {
     "data": {
      "text/plain": [
       "4.211617193563686e-09"
      ]
     },
     "execution_count": 558,
     "metadata": {},
     "output_type": "execute_result"
    }
   ],
   "source": [
    "p_value"
   ]
  },
  {
   "cell_type": "code",
   "execution_count": 256,
   "id": "12d98e65",
   "metadata": {},
   "outputs": [
    {
     "data": {
      "text/plain": [
       "100"
      ]
     },
     "execution_count": 256,
     "metadata": {},
     "output_type": "execute_result"
    }
   ],
   "source": [
    "len(prompt_correct_frac_list)"
   ]
  },
  {
   "cell_type": "code",
   "execution_count": null,
   "id": "b8dee0fd",
   "metadata": {},
   "outputs": [],
   "source": []
  }
 ],
 "metadata": {
  "kernelspec": {
   "display_name": "Python 3 (ipykernel)",
   "language": "python",
   "name": "python3"
  },
  "language_info": {
   "codemirror_mode": {
    "name": "ipython",
    "version": 3
   },
   "file_extension": ".py",
   "mimetype": "text/x-python",
   "name": "python",
   "nbconvert_exporter": "python",
   "pygments_lexer": "ipython3",
   "version": "3.10.9"
  }
 },
 "nbformat": 4,
 "nbformat_minor": 5
}
