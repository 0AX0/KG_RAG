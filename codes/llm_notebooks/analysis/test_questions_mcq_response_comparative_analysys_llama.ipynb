{
 "cells": [
  {
   "cell_type": "code",
   "execution_count": 1,
   "id": "88e8fd4a",
   "metadata": {},
   "outputs": [],
   "source": [
    "import pandas as pd\n",
    "import numpy as np\n",
    "import re\n",
    "from sklearn.metrics import roc_auc_score, roc_curve\n",
    "from sklearn.preprocessing import LabelEncoder\n",
    "from scipy import stats\n",
    "from tqdm import tqdm\n",
    "import seaborn as sns\n",
    "import matplotlib.pyplot as plt\n"
   ]
  },
  {
   "cell_type": "code",
   "execution_count": 2,
   "id": "a00c5e48",
   "metadata": {},
   "outputs": [],
   "source": [
    "def extract_answer(text):\n",
    "    try:\n",
    "        text_processed = text.split('\"answer\":')[-1].split('\\n')[0].strip().split('\"')[1].strip()\n",
    "    except:\n",
    "        text_processed = text.split('\"answer\":')[-1].split('\\n')[0].strip()\n",
    "    return text_processed\n",
    "\n",
    "def correct_paranthesis_split(text):\n",
    "    try:\n",
    "        text_processed = text.split('\"answer\":')[-1].split(\"\\n\")[1].split(\":\")[-1].split('\"')[1].strip()\n",
    "        return text_processed\n",
    "    except:\n",
    "        return text\n",
    "    \n"
   ]
  },
  {
   "cell_type": "code",
   "execution_count": 24,
   "id": "6915e2b9",
   "metadata": {},
   "outputs": [],
   "source": [
    "PROMPT_RESPONSE_PATH = \"../../../data/analysis_results/Llama_2_13b_chat_hf_prompt_based_two_hop_mcq_from_monarch_and_robokop_response.csv\"\n",
    "RAG_RESPONSE_PATH = \"../../../data/analysis_results/Llama_2_13b_chat_hf_entity_recognition_based_node_retrieval_rag_based_two_hop_mcq_from_monarch_and_robokop_response.csv\"\n",
    "\n",
    "# PROMPT_RESPONSE_PATH = \"../../../data/analysis_results/Llama_2_13b_chat_hf_prompt_based_two_hop_mcq_from_robokop_response.csv\"\n",
    "# RAG_RESPONSE_PATH = \"../../../data/analysis_results/Llama_2_13b_chat_hf_node_retrieval_rag_based_two_hop_mcq_from_robokop_response.csv\"\n"
   ]
  },
  {
   "cell_type": "code",
   "execution_count": 25,
   "id": "69bb7fa0",
   "metadata": {},
   "outputs": [
    {
     "name": "stderr",
     "output_type": "stream",
     "text": [
      "/var/folders/p1/h56gxdhs5vgb0ztp7h4z606h0000gn/T/ipykernel_20414/3236974353.py:9: SettingWithCopyWarning: \n",
      "A value is trying to be set on a copy of a slice from a DataFrame.\n",
      "Try using .loc[row_indexer,col_indexer] = value instead\n",
      "\n",
      "See the caveats in the documentation: https://pandas.pydata.org/pandas-docs/stable/user_guide/indexing.html#returning-a-view-versus-a-copy\n",
      "  prompt_response_df_paranthesis_split.loc[:, \"extracted_answer\"] = prompt_response_df_paranthesis_split.llm_answer.apply(correct_paranthesis_split)\n",
      "/var/folders/p1/h56gxdhs5vgb0ztp7h4z606h0000gn/T/ipykernel_20414/3236974353.py:15: SettingWithCopyWarning: \n",
      "A value is trying to be set on a copy of a slice from a DataFrame.\n",
      "Try using .loc[row_indexer,col_indexer] = value instead\n",
      "\n",
      "See the caveats in the documentation: https://pandas.pydata.org/pandas-docs/stable/user_guide/indexing.html#returning-a-view-versus-a-copy\n",
      "  rag_response_df_paranthesis_split.loc[:, \"extracted_answer\"] = rag_response_df_paranthesis_split.llm_answer.apply(correct_paranthesis_split)\n"
     ]
    }
   ],
   "source": [
    "prompt_response_df = pd.read_csv(PROMPT_RESPONSE_PATH)\n",
    "rag_response_df = pd.read_csv(RAG_RESPONSE_PATH)\n",
    "\n",
    "prompt_response_df.loc[:, 'extracted_answer'] = prompt_response_df['llm_answer'].apply(extract_answer)\n",
    "rag_response_df.loc[:, 'extracted_answer'] = rag_response_df['llm_answer'].apply(extract_answer)\n",
    "\n",
    "prompt_response_df_paranthesis_split = prompt_response_df[prompt_response_df.extracted_answer==\"{\"]\n",
    "if prompt_response_df_paranthesis_split.shape[0] > 0:\n",
    "    prompt_response_df_paranthesis_split.loc[:, \"extracted_answer\"] = prompt_response_df_paranthesis_split.llm_answer.apply(correct_paranthesis_split)\n",
    "    prompt_response_df_wo_paranthesis_split = prompt_response_df[prompt_response_df.extracted_answer != \"{\"]\n",
    "    prompt_response_df = pd.concat([prompt_response_df_wo_paranthesis_split, prompt_response_df_paranthesis_split])\n",
    "\n",
    "rag_response_df_paranthesis_split = rag_response_df[rag_response_df.extracted_answer==\"{\"]\n",
    "if rag_response_df_paranthesis_split.shape[0] > 0:\n",
    "    rag_response_df_paranthesis_split.loc[:, \"extracted_answer\"] = rag_response_df_paranthesis_split.llm_answer.apply(correct_paranthesis_split)\n",
    "    rag_response_df_wo_paranthesis_split = rag_response_df[rag_response_df.extracted_answer != \"{\"]\n",
    "    rag_response_df = pd.concat([rag_response_df_wo_paranthesis_split, rag_response_df_paranthesis_split])\n",
    "\n",
    "# prompt_response_df = prompt_response_df[~prompt_response_df.correct_answer.str.contains(\"ClinVarVariant\")].reset_index()\n",
    "# rag_response_df = rag_response_df[~rag_response_df.correct_answer.str.contains(\"ClinVarVariant\")].reset_index()\n",
    "\n",
    "# prompt_response_df = prompt_response_df[prompt_response_df.extracted_answer != \"None\"]\n",
    "# rag_response_df = rag_response_df[rag_response_df.extracted_answer != \"None\"]\n"
   ]
  },
  {
   "cell_type": "code",
   "execution_count": 26,
   "id": "a728ff65",
   "metadata": {},
   "outputs": [],
   "source": [
    "# prompt_response_df.loc[:, \"total_ans\"] = prompt_response_df.extracted_answer.apply(lambda x:len(x.split(\",\")))\n",
    "# prompt_response_df[prompt_response_df.total_ans > 1]\n"
   ]
  },
  {
   "cell_type": "code",
   "execution_count": 27,
   "id": "801295ca",
   "metadata": {},
   "outputs": [],
   "source": [
    "# def evaluate_2(df):\n",
    "#     total_questions = df.shape[0]\n",
    "#     df.loc[:, \"total_ans\"] = df.extracted_answer.apply(lambda x:len(x.split(\",\")))\n",
    "#     df_multiple_answers = df[df.total_ans == 2]\n",
    "#     df = df.drop(df_multiple_answers.index)\n",
    "#     df_multiple_answers.loc[:, 'extracted_answer'] = df_multiple_answers['extracted_answer'].str.split(',').apply(lambda lst: [s.strip() for s in lst])\n",
    "#     df_multiple_answers_correct_answers = df_multiple_answers[df_multiple_answers.apply(lambda row: row['correct_answer'] in row['extracted_answer'], axis=1)]\n",
    "#     correct_1 = df[df.correct_answer == df.extracted_answer].shape[0]\n",
    "#     correct_2 = df_multiple_answers_correct_answers.shape[0]\n",
    "#     incorrect_1 = df[df.correct_answer != df.extracted_answer].shape[0]\n",
    "#     incorrect_2 = df_multiple_answers_correct_answers.shape[0] - correct_2\n",
    "#     correct_frac = (correct_1 + correct_2)/total_questions\n",
    "#     incorrect_frac = (incorrect_1 + incorrect_2)/total_questions\n",
    "#     return correct_frac, incorrect_frac\n",
    "\n",
    "# evaluate_2(prompt_response_df)\n"
   ]
  },
  {
   "cell_type": "code",
   "execution_count": 28,
   "id": "7d59b4cd",
   "metadata": {},
   "outputs": [
    {
     "name": "stderr",
     "output_type": "stream",
     "text": [
      "100%|█████████████████████████████████████| 1000/1000 [00:00<00:00, 1436.61it/s]\n"
     ]
    }
   ],
   "source": [
    "def evaluate(df):\n",
    "    correct = df[df.correct_answer == df.extracted_answer]\n",
    "    incorrect = df[df.correct_answer != df.extracted_answer]\n",
    "    correct_frac = correct.shape[0]/df.shape[0]\n",
    "    incorrect_frac = incorrect.shape[0]/df.shape[0]\n",
    "    return correct_frac, incorrect_frac\n",
    "\n",
    "niter = 1000\n",
    "nsample = 150\n",
    "\n",
    "prompt_correct_frac_list = []\n",
    "rag_correct_frac_list = []\n",
    "for i in tqdm(range(niter)):\n",
    "    prompt_response_df_sample = prompt_response_df.sample(n=nsample, random_state=i)\n",
    "    prompt_correct_frac, prompt_incorrect_frac = evaluate(prompt_response_df_sample)\n",
    "\n",
    "    rag_response_df_sample = rag_response_df.iloc[prompt_response_df_sample.index]\n",
    "    rag_correct_frac, rag_incorrect_frac = evaluate(rag_response_df_sample)\n",
    "\n",
    "    prompt_correct_frac_list.append(prompt_correct_frac)\n",
    "    rag_correct_frac_list.append(rag_correct_frac)\n"
   ]
  },
  {
   "cell_type": "code",
   "execution_count": 29,
   "id": "16772983",
   "metadata": {},
   "outputs": [
    {
     "name": "stderr",
     "output_type": "stream",
     "text": [
      "/var/folders/p1/h56gxdhs5vgb0ztp7h4z606h0000gn/T/ipykernel_20414/77806960.py:6: FutureWarning: \n",
      "\n",
      "`shade` is now deprecated in favor of `fill`; setting `fill=True`.\n",
      "This will become an error in seaborn v0.14.0; please update your code.\n",
      "\n",
      "  sns.kdeplot(prompt_correct_frac_list, color=\"blue\", shade=True, label=\"Prompt based\", ax=ax, lw=2, linestyle=\"-\", alpha=0.6)\n",
      "/var/folders/p1/h56gxdhs5vgb0ztp7h4z606h0000gn/T/ipykernel_20414/77806960.py:7: FutureWarning: \n",
      "\n",
      "`shade` is now deprecated in favor of `fill`; setting `fill=True`.\n",
      "This will become an error in seaborn v0.14.0; please update your code.\n",
      "\n",
      "  sns.kdeplot(rag_correct_frac_list, color=\"lightcoral\", shade=True, label=\"KG-RAG based\", ax=ax, lw=2, linestyle=\"-\", alpha=0.6)\n"
     ]
    },
    {
     "data": {
      "image/png": "[encoded data removed]",
      "text/plain": [
       "<Figure size 500x300 with 1 Axes>"
      ]
     },
     "metadata": {},
     "output_type": "display_data"
    }
   ],
   "source": [
    "\n",
    "# Create a figure and axis\n",
    "fig = plt.figure(figsize=(5, 3))\n",
    "ax = plt.gca()\n",
    "\n",
    "# Plot KDEs with the specified styling\n",
    "sns.kdeplot(prompt_correct_frac_list, color=\"blue\", shade=True, label=\"Prompt based\", ax=ax, lw=2, linestyle=\"-\", alpha=0.6)\n",
    "sns.kdeplot(rag_correct_frac_list, color=\"lightcoral\", shade=True, label=\"KG-RAG based\", ax=ax, lw=2, linestyle=\"-\", alpha=0.6)\n",
    "\n",
    "# Set the outline color to black\n",
    "for artist in ax.lines:\n",
    "    artist.set_edgecolor(\"black\")\n",
    "\n",
    "# Add labels and legend\n",
    "plt.xlabel(\"Accuracy\")\n",
    "plt.ylabel(\"Density\")\n",
    "plt.legend(loc='upper right', bbox_to_anchor=(0.72, 0.9))\n",
    "# plt.legend(loc='upper left')\n",
    "\n",
    "sns.despine(top=True, right=True)\n",
    "\n",
    "# Show the plot\n",
    "plt.show()\n",
    "\n",
    "figure_folder_name = \"Llama/entity_recognition_based\"\n",
    "fig_filename = \"../../../data/analysis_results/figures/{}/Llama_13b_two_hop_MONARCH_ROBOKOP_combined_mcq_llm_performance.svg\".format(figure_folder_name)\n",
    "fig.savefig(fig_filename, format='svg', bbox_inches='tight')\n"
   ]
  },
  {
   "cell_type": "code",
   "execution_count": 32,
   "id": "6afa8fe0",
   "metadata": {},
   "outputs": [
    {
     "data": {
      "text/plain": [
       "0.6861066666666666"
      ]
     },
     "execution_count": 32,
     "metadata": {},
     "output_type": "execute_result"
    }
   ],
   "source": [
    "np.mean(rag_correct_frac_list)\n"
   ]
  },
  {
   "cell_type": "code",
   "execution_count": 813,
   "id": "1da845d8",
   "metadata": {},
   "outputs": [
    {
     "data": {
      "image/png": "[encoded data removed]",
      "text/plain": [
       "<Figure size 400x300 with 1 Axes>"
      ]
     },
     "metadata": {},
     "output_type": "display_data"
    }
   ],
   "source": [
    "\n",
    "\n",
    "# Perform a t-test\n",
    "t_stat, p_value = stats.ttest_ind(prompt_correct_frac_list, rag_correct_frac_list)\n",
    "\n",
    "# Create a figure and axis\n",
    "plt.figure(figsize=(4, 3))\n",
    "ax = plt.gca()\n",
    "\n",
    "# Create bar plot with error bars\n",
    "sns.barplot(x=[\"Prompt based\", \"KG-RAG based\"], y=[np.mean(prompt_correct_frac_list), np.mean(rag_correct_frac_list)], errorbar=\"sd\", palette=[\"blue\", \"lightcoral\"], ax=ax)\n",
    "\n",
    "# Calculate the height for the text and line\n",
    "height = max(np.mean(prompt_correct_frac_list), np.mean(rag_correct_frac_list)) + 0.02\n",
    "\n",
    "# Add a horizontal line between the two bars\n",
    "ax.plot([0, 1], [height, height], c=\"black\", lw=2)\n",
    "\n",
    "# Add text annotation for significance\n",
    "if p_value > 0.05:\n",
    "    annotation = \"ns\"\n",
    "elif 0.001 < p_value <= 0.05:\n",
    "    annotation = \"*\"\n",
    "else:\n",
    "    annotation = \"***\"\n",
    "\n",
    "# Add the annotation text above the line\n",
    "plt.text(0.5, height + 0.02, annotation, ha='center', va='bottom', fontsize=14)\n",
    "\n",
    "# Add labels\n",
    "plt.ylabel(\"Mean Fraction\")\n",
    "\n",
    "sns.despine(top=True, right=True)\n",
    "\n",
    "# Show the plot\n",
    "plt.show()\n"
   ]
  },
  {
   "cell_type": "code",
   "execution_count": 814,
   "id": "6496a3c8",
   "metadata": {},
   "outputs": [
    {
     "data": {
      "text/plain": [
       "0.0"
      ]
     },
     "execution_count": 814,
     "metadata": {},
     "output_type": "execute_result"
    }
   ],
   "source": [
    "p_value"
   ]
  },
  {
   "cell_type": "code",
   "execution_count": 815,
   "id": "12d98e65",
   "metadata": {},
   "outputs": [
    {
     "data": {
      "text/plain": [
       "1000"
      ]
     },
     "execution_count": 815,
     "metadata": {},
     "output_type": "execute_result"
    }
   ],
   "source": [
    "len(prompt_correct_frac_list)"
   ]
  },
  {
   "cell_type": "code",
   "execution_count": null,
   "id": "b8dee0fd",
   "metadata": {},
   "outputs": [],
   "source": []
  }
 ],
 "metadata": {
  "kernelspec": {
   "display_name": "Python 3 (ipykernel)",
   "language": "python",
   "name": "python3"
  },
  "language_info": {
   "codemirror_mode": {
    "name": "ipython",
    "version": 3
   },
   "file_extension": ".py",
   "mimetype": "text/x-python",
   "name": "python",
   "nbconvert_exporter": "python",
   "pygments_lexer": "ipython3",
   "version": "3.10.9"
  }
 },
 "nbformat": 4,
 "nbformat_minor": 5
}
