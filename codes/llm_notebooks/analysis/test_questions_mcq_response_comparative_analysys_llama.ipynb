{
 "cells": [
  {
   "cell_type": "code",
   "execution_count": 1,
   "id": "857693e9",
   "metadata": {},
   "outputs": [],
   "source": [
    "import pandas as pd\n",
    "import numpy as np\n",
    "import re\n",
    "from sklearn.metrics import roc_auc_score, roc_curve\n",
    "from sklearn.preprocessing import LabelEncoder\n",
    "from scipy import stats\n",
    "from tqdm import tqdm\n",
    "import seaborn as sns\n",
    "import matplotlib.pyplot as plt\n"
   ]
  },
  {
   "cell_type": "code",
   "execution_count": 45,
   "id": "31717f3c",
   "metadata": {},
   "outputs": [],
   "source": [
    "def extract_answer(text):\n",
    "    try:\n",
    "        text_processed = text.split('\"answer\":')[-1].split('\\n')[0].strip().split('\"')[1].strip()\n",
    "    except:\n",
    "        text_processed = text.split('\"answer\":')[-1].split('\\n')[0].strip()\n",
    "    return text_processed\n"
   ]
  },
  {
   "cell_type": "code",
   "execution_count": 46,
   "id": "ad0ad2ce",
   "metadata": {},
   "outputs": [],
   "source": [
    "PROMPT_RESPONSE_PATH = \"../../../data/analysis_results/Llama_2_13b_chat_hf_prompt_based_two_hop_mcq_response.csv\"\n",
    "\n",
    "RAG_RESPONSE_PATH = \"../../../data/analysis_results/Llama_2_13b_chat_hf_node_retrieval_rag_based_two_hop_mcq_response.csv\"\n"
   ]
  },
  {
   "cell_type": "code",
   "execution_count": 47,
   "id": "386823e4",
   "metadata": {},
   "outputs": [],
   "source": [
    "# prompt_response_df = pd.read_csv(PROMPT_RESPONSE_PATH)\n",
    "rag_response_df = pd.read_csv(RAG_RESPONSE_PATH)\n",
    "\n",
    "# prompt_response_df.loc[:, 'extracted_answer'] = prompt_response_df['llm_answer'].apply(extract_answer)\n",
    "rag_response_df.loc[:, 'extracted_answer'] = rag_response_df['llm_answer'].apply(extract_answer)\n"
   ]
  },
  {
   "cell_type": "code",
   "execution_count": 50,
   "id": "a0c348ef",
   "metadata": {},
   "outputs": [
    {
     "data": {
      "text/plain": [
       "(112, 4)"
      ]
     },
     "execution_count": 50,
     "metadata": {},
     "output_type": "execute_result"
    }
   ],
   "source": [
    "rag_response_df[rag_response_df.correct_answer == rag_response_df.extracted_answer].shape"
   ]
  },
  {
   "cell_type": "code",
   "execution_count": null,
   "id": "4e1bd913",
   "metadata": {},
   "outputs": [],
   "source": [
    "def evaluate(df):\n",
    "    correct = df[df.correct_answer == df.extracted_answer]\n",
    "    incorrect = df[df.correct_answer != df.extracted_answer]\n",
    "    correct_frac = correct.shape[0]/df.shape[0]\n",
    "    incorrect_frac = incorrect.shape[0]/df.shape[0]\n",
    "    return correct_frac, incorrect_frac\n",
    "\n",
    "niter = 100\n",
    "nsample = 30\n",
    "\n",
    "prompt_correct_frac_list = []\n",
    "rag_correct_frac_list = []\n",
    "for _ in tqdm(range(niter)):\n",
    "    prompt_response_df_sample = prompt_response_df.sample(n=nsample)\n",
    "    prompt_correct_frac, prompt_incorrect_frac = evaluate(prompt_response_df_sample)\n",
    "\n",
    "    rag_response_df_sample = rag_response_df.iloc[prompt_response_df_sample.index]\n",
    "    rag_correct_frac, rag_incorrect_frac = evaluate(rag_response_df_sample)\n",
    "\n",
    "    prompt_correct_frac_list.append(prompt_correct_frac)\n",
    "    rag_correct_frac_list.append(rag_correct_frac)\n"
   ]
  }
 ],
 "metadata": {
  "kernelspec": {
   "display_name": "Python 3 (ipykernel)",
   "language": "python",
   "name": "python3"
  },
  "language_info": {
   "codemirror_mode": {
    "name": "ipython",
    "version": 3
   },
   "file_extension": ".py",
   "mimetype": "text/x-python",
   "name": "python",
   "nbconvert_exporter": "python",
   "pygments_lexer": "ipython3",
   "version": "3.10.9"
  }
 },
 "nbformat": 4,
 "nbformat_minor": 5
}
