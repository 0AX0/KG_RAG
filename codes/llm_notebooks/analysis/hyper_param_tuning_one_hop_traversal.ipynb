{
 "cells": [
  {
   "cell_type": "markdown",
   "id": "e0c5d920",
   "metadata": {},
   "source": [
    "\n",
    "### This script runs hyperparam selection for one-hop traversal on graph using natural language. Before running this notebook, make sure to run: codes/py_scripts/rag_based_text_generation/GPT/drug_repurposing_hyperparameter_tuning.py \n",
    "### This will save the csv files that are used in this notebook\n"
   ]
  },
  {
   "cell_type": "code",
   "execution_count": 49,
   "id": "e34eee76",
   "metadata": {},
   "outputs": [],
   "source": [
    "import pandas as pd\n",
    "import numpy as np\n",
    "import json\n",
    "import ast\n",
    "from tqdm import tqdm\n",
    "import re\n",
    "import os\n",
    "import seaborn as sns\n",
    "import matplotlib.pyplot as plt\n",
    "from scipy.stats import sem\n"
   ]
  },
  {
   "cell_type": "code",
   "execution_count": 50,
   "id": "029dba52",
   "metadata": {},
   "outputs": [],
   "source": [
    "def jaccard_similarity(list1, list2):\n",
    "    set1 = set(list1)\n",
    "    set2 = set(list2)\n",
    "    intersection = len(set1.intersection(set2))\n",
    "    union = len(set1) + len(set2) - intersection    \n",
    "    if union == 0:\n",
    "        return 0.0\n",
    "    else:\n",
    "        jaccard_similarity = intersection / union\n",
    "        return jaccard_similarity\n",
    "    \n",
    "def extract_answer(text):\n",
    "    pattern = r'{[^{}]*}'\n",
    "    match = re.search(pattern, text)\n",
    "    if match:\n",
    "        return match.group()\n",
    "    else:\n",
    "        return None\n",
    "    \n",
    "def extract_by_splitting(text):\n",
    "    compound_list = text.split(':')[1].split(\"Diseases\")[0].split(\"], \")[0]+\"]\"\n",
    "    disease_list = text.split(':')[-1].split(\"}\")[0]\n",
    "    resp = {}\n",
    "    resp[\"Compounds\"] = ast.literal_eval(compound_list)\n",
    "    resp[\"Diseases\"] = ast.literal_eval(disease_list)\n",
    "    return resp\n",
    "    "
   ]
  },
  {
   "cell_type": "code",
   "execution_count": 51,
   "id": "b1945058",
   "metadata": {},
   "outputs": [],
   "source": [
    "PARENT_PATH = \"../../../data/analysis_results/\"\n",
    "\n",
    "# FILES = [\n",
    "#     \"gpt_4_node_retrieval_rag_based_drug_reporposing_questions_parameter_tuning_round_1.csv\",\n",
    "#     \"gpt_4_node_retrieval_rag_based_drug_reporposing_questions_parameter_tuning_round_2.csv\",\n",
    "#     \"gpt_4_node_retrieval_rag_based_drug_reporposing_questions_parameter_tuning_round_3.csv\",\n",
    "#     \"gpt_4_node_retrieval_rag_based_drug_reporposing_questions_parameter_tuning_round_4.csv\",\n",
    "#     \"gpt_4_node_retrieval_rag_based_drug_reporposing_questions_parameter_tuning_round_5.csv\"\n",
    "# ]\n",
    "\n",
    "FILES = [\n",
    "    \"gpt_4PubMedBert_node_retrieval_rag_based_drug_reporposing_questions_parameter_tuning_round_1.csv\",\n",
    "    \"gpt_4PubMedBert_node_retrieval_rag_based_drug_reporposing_questions_parameter_tuning_round_2.csv\",\n",
    "    \"gpt_4PubMedBert_node_retrieval_rag_based_drug_reporposing_questions_parameter_tuning_round_3.csv\",\n",
    "    \"gpt_4PubMedBert_node_retrieval_rag_based_drug_reporposing_questions_parameter_tuning_round_4.csv\",\n",
    "    \"gpt_4PubMedBert_node_retrieval_rag_based_drug_reporposing_questions_parameter_tuning_round_5.csv\"\n",
    "]\n"
   ]
  },
  {
   "cell_type": "code",
   "execution_count": 52,
   "id": "c424869c",
   "metadata": {},
   "outputs": [
    {
     "name": "stderr",
     "output_type": "stream",
     "text": [
      "100%|█████████████████████████████████████████████| 5/5 [00:00<00:00, 58.90it/s]\n"
     ]
    }
   ],
   "source": [
    "llm_performance_list = []\n",
    "for file in tqdm(FILES):\n",
    "    df = pd.read_csv(os.path.join(PARENT_PATH, file))\n",
    "    df.dropna(subset=[\"llm_answer\"], inplace=True)\n",
    "    llm_performance_list_across_questions = []\n",
    "    for index, row in df.iterrows():\n",
    "        cmp_gt = ast.literal_eval(row[\"compound_groundTruth\"])\n",
    "        disease_gt = ast.literal_eval(row[\"disease_groundTruth\"])\n",
    "        try:\n",
    "            llm_answer = json.loads(extract_answer(row[\"llm_answer\"]))\n",
    "        except:\n",
    "            llm_answer = extract_by_splitting(row[\"llm_answer\"])\n",
    "        cmp_llm = llm_answer[\"Compounds\"]\n",
    "        disease_llm = llm_answer[\"Diseases\"]\n",
    "        cmp_similarity = jaccard_similarity(cmp_gt, cmp_llm)\n",
    "        disease_similarity = jaccard_similarity(disease_gt, disease_llm)\n",
    "        llm_performance = np.mean([cmp_similarity, disease_similarity])\n",
    "        llm_performance_list_across_questions.append(llm_performance)\n",
    "    llm_performance_list.append((np.mean(llm_performance_list_across_questions), np.std(llm_performance_list_across_questions), sem(llm_performance_list_across_questions), row[\"context_volume\"]))\n",
    "        \n"
   ]
  },
  {
   "cell_type": "code",
   "execution_count": 53,
   "id": "06a713c2",
   "metadata": {},
   "outputs": [
    {
     "data": {
      "text/plain": [
       "[(0.5070149722958069, 0.1836291151920338, 0.021346451045690717, 10),\n",
       " (0.6768119508117502, 0.16407827178403842, 0.019073711664061094, 50),\n",
       " (0.7151124030352743, 0.1599905823681537, 0.01859852742154639, 100),\n",
       " (0.725559812028082, 0.1439325888005907, 0.01684603531213007, 150),\n",
       " (0.7202887937100416, 0.1541356724828828, 0.017917907972325803, 200)]"
      ]
     },
     "execution_count": 53,
     "metadata": {},
     "output_type": "execute_result"
    }
   ],
   "source": [
    "llm_performance_list"
   ]
  },
  {
   "cell_type": "code",
   "execution_count": 54,
   "id": "07bf0fcf",
   "metadata": {},
   "outputs": [
    {
     "data": {
      "text/html": [
       "<div>\n",
       "<style scoped>\n",
       "    .dataframe tbody tr th:only-of-type {\n",
       "        vertical-align: middle;\n",
       "    }\n",
       "\n",
       "    .dataframe tbody tr th {\n",
       "        vertical-align: top;\n",
       "    }\n",
       "\n",
       "    .dataframe thead th {\n",
       "        text-align: right;\n",
       "    }\n",
       "</style>\n",
       "<table border=\"1\" class=\"dataframe\">\n",
       "  <thead>\n",
       "    <tr style=\"text-align: right;\">\n",
       "      <th></th>\n",
       "      <th>performance_mean</th>\n",
       "      <th>performance_std</th>\n",
       "      <th>performance_sem</th>\n",
       "      <th>context_volume</th>\n",
       "    </tr>\n",
       "  </thead>\n",
       "  <tbody>\n",
       "    <tr>\n",
       "      <th>0</th>\n",
       "      <td>0.507015</td>\n",
       "      <td>0.183629</td>\n",
       "      <td>0.021346</td>\n",
       "      <td>10</td>\n",
       "    </tr>\n",
       "    <tr>\n",
       "      <th>1</th>\n",
       "      <td>0.676812</td>\n",
       "      <td>0.164078</td>\n",
       "      <td>0.019074</td>\n",
       "      <td>50</td>\n",
       "    </tr>\n",
       "    <tr>\n",
       "      <th>2</th>\n",
       "      <td>0.715112</td>\n",
       "      <td>0.159991</td>\n",
       "      <td>0.018599</td>\n",
       "      <td>100</td>\n",
       "    </tr>\n",
       "    <tr>\n",
       "      <th>3</th>\n",
       "      <td>0.725560</td>\n",
       "      <td>0.143933</td>\n",
       "      <td>0.016846</td>\n",
       "      <td>150</td>\n",
       "    </tr>\n",
       "    <tr>\n",
       "      <th>4</th>\n",
       "      <td>0.720289</td>\n",
       "      <td>0.154136</td>\n",
       "      <td>0.017918</td>\n",
       "      <td>200</td>\n",
       "    </tr>\n",
       "  </tbody>\n",
       "</table>\n",
       "</div>"
      ],
      "text/plain": [
       "   performance_mean  performance_std  performance_sem  context_volume\n",
       "0          0.507015         0.183629         0.021346              10\n",
       "1          0.676812         0.164078         0.019074              50\n",
       "2          0.715112         0.159991         0.018599             100\n",
       "3          0.725560         0.143933         0.016846             150\n",
       "4          0.720289         0.154136         0.017918             200"
      ]
     },
     "execution_count": 54,
     "metadata": {},
     "output_type": "execute_result"
    }
   ],
   "source": [
    "hyperparam_perf = pd.DataFrame(llm_performance_list, columns=[\"performance_mean\", \"performance_std\", \"performance_sem\", \"context_volume\"])\n",
    "hyperparam_perf\n"
   ]
  },
  {
   "cell_type": "code",
   "execution_count": 57,
   "id": "8077a90d",
   "metadata": {},
   "outputs": [
    {
     "data": {
      "image/png": "[encoded data removed]",
      "text/plain": [
       "<Figure size 300x400 with 1 Axes>"
      ]
     },
     "metadata": {},
     "output_type": "display_data"
    }
   ],
   "source": [
    "\n",
    "\n",
    "params = hyperparam_perf.context_volume.values\n",
    "mean_performance = hyperparam_perf.performance_mean.values\n",
    "std_deviation = hyperparam_perf.performance_std.values\n",
    "sem_value = hyperparam_perf.performance_sem.values\n",
    "\n",
    "fig = plt.figure(figsize=(3, 4))\n",
    "plt.errorbar(params, mean_performance, yerr=sem_value, fmt='o-', capsize=5, label='Performance')\n",
    "plt.xlabel('Context volume')\n",
    "plt.ylabel('Mean Performance')\n",
    "plt.grid(True)\n",
    "plt.ylim(0.3,0.8)\n",
    "plt.show()\n",
    "\n",
    "figure_folder_name = \"hyperparam_tuning\"\n",
    "fig_filename = \"../../../data/analysis_results/figures/{}/context_volume_one_hop_PubMedBert.svg\".format(figure_folder_name)\n",
    "fig.savefig(fig_filename, format='svg', bbox_inches='tight')\n",
    "\n"
   ]
  },
  {
   "cell_type": "code",
   "execution_count": null,
   "id": "4d1143b6",
   "metadata": {},
   "outputs": [],
   "source": []
  }
 ],
 "metadata": {
  "kernelspec": {
   "display_name": "Python 3 (ipykernel)",
   "language": "python",
   "name": "python3"
  },
  "language_info": {
   "codemirror_mode": {
    "name": "ipython",
    "version": 3
   },
   "file_extension": ".py",
   "mimetype": "text/x-python",
   "name": "python",
   "nbconvert_exporter": "python",
   "pygments_lexer": "ipython3",
   "version": "3.10.9"
  }
 },
 "nbformat": 4,
 "nbformat_minor": 5
}
