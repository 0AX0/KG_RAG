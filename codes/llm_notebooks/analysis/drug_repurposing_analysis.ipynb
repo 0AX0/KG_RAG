{
 "cells": [
  {
   "cell_type": "code",
   "execution_count": 1,
   "id": "3362a7b5",
   "metadata": {},
   "outputs": [],
   "source": [
    "import pandas as pd\n"
   ]
  },
  {
   "cell_type": "code",
   "execution_count": 2,
   "id": "40409c9b",
   "metadata": {},
   "outputs": [],
   "source": [
    "DATA_PATH = \"../../../data/analysis_results/gpt_4_node_retrieval_rag_based_drug_reporposing_questions.csv\"\n"
   ]
  },
  {
   "cell_type": "code",
   "execution_count": 28,
   "id": "d719ee0c",
   "metadata": {},
   "outputs": [],
   "source": [
    "data = pd.read_csv(DATA_PATH)\n"
   ]
  },
  {
   "cell_type": "code",
   "execution_count": 33,
   "id": "587b840c",
   "metadata": {},
   "outputs": [
    {
     "name": "stdout",
     "output_type": "stream",
     "text": [
      "{'Compounds': ['Uracil', 'Lenvatinib', 'TORIPALIMAB', 'Fluorouracil', 'Thiotepa', 'Alvimopan', 'Docetaxel', 'Eflornithine', 'Clavulanic Acid', 'Amoxicillin', 'Nicotinamide', 'DURVALUMAB', '1,1-Cyclobutanedicarboxylic acid', 'azane;dichloroplatinum', 'Vinblastine', 'Hexaminolevulinate', 'FILGRASTIM', 'Fenretinide', 'Valrubicin'], 'Diseases': []}\n",
      "What compounds treat 'urinary bladder cancer' and what diseases resemble 'urinary bladder cancer'?\n"
     ]
    },
    {
     "data": {
      "text/plain": [
       "\"['transitional cell carcinoma']\""
      ]
     },
     "execution_count": 33,
     "metadata": {},
     "output_type": "execute_result"
    }
   ],
   "source": [
    "import json\n",
    "print(json.loads(data.llm_answer.values[-4]))\n",
    "\n",
    "print(data.text.values[-4])\n",
    "data.disease_groundTruth.values[-4]\n"
   ]
  },
  {
   "cell_type": "code",
   "execution_count": 34,
   "id": "db43957c",
   "metadata": {},
   "outputs": [
    {
     "data": {
      "text/plain": [
       "'{\"Compounds\":[\"Uracil\", \"Lenvatinib\", \"TORIPALIMAB\", \"Fluorouracil\", \"Thiotepa\", \"Alvimopan\", \"Docetaxel\", \"Eflornithine\", \"Clavulanic Acid\", \"Amoxicillin\", \"Nicotinamide\", \"DURVALUMAB\", \"1,1-Cyclobutanedicarboxylic acid\", \"azane;dichloroplatinum\", \"Vinblastine\", \"Hexaminolevulinate\", \"FILGRASTIM\", \"Fenretinide\", \"Valrubicin\"], \"Diseases\":[]}'"
      ]
     },
     "execution_count": 34,
     "metadata": {},
     "output_type": "execute_result"
    }
   ],
   "source": [
    "data.llm_answer.values[-4]"
   ]
  },
  {
   "cell_type": "code",
   "execution_count": null,
   "id": "48c1cc2f",
   "metadata": {},
   "outputs": [],
   "source": []
  }
 ],
 "metadata": {
  "kernelspec": {
   "display_name": "Python 3 (ipykernel)",
   "language": "python",
   "name": "python3"
  },
  "language_info": {
   "codemirror_mode": {
    "name": "ipython",
    "version": 3
   },
   "file_extension": ".py",
   "mimetype": "text/x-python",
   "name": "python",
   "nbconvert_exporter": "python",
   "pygments_lexer": "ipython3",
   "version": "3.10.9"
  }
 },
 "nbformat": 4,
 "nbformat_minor": 5
}
