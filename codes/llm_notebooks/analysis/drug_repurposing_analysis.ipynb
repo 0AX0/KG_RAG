{
 "cells": [
  {
   "cell_type": "code",
   "execution_count": 123,
   "id": "3e4c1e6d",
   "metadata": {},
   "outputs": [],
   "source": [
    "import pandas as pd\n",
    "import numpy as np\n",
    "import json\n",
    "import ast\n",
    "from tqdm import tqdm\n",
    "import re\n",
    "import os\n",
    "import seaborn as sns\n",
    "import matplotlib.pyplot as plt\n",
    "from neo4j import GraphDatabase, basic_auth\n",
    "from dotenv import load_dotenv\n",
    "import random\n"
   ]
  },
  {
   "cell_type": "code",
   "execution_count": 97,
   "id": "bcaf6f55",
   "metadata": {},
   "outputs": [],
   "source": [
    "def jaccard_similarity(list1, list2):\n",
    "    set1 = set(list1)\n",
    "    set2 = set(list2)\n",
    "    intersection = len(set1.intersection(set2))\n",
    "    union = len(set1) + len(set2) - intersection    \n",
    "    if union == 0:\n",
    "        return 0.0\n",
    "    else:\n",
    "        jaccard_similarity = intersection / union\n",
    "        return jaccard_similarity\n",
    "    \n",
    "def extract_answer(text):\n",
    "    pattern = r'{[^{}]*}'\n",
    "    match = re.search(pattern, text)\n",
    "    if match:\n",
    "        return match.group()\n",
    "    else:\n",
    "        return None\n",
    "    \n",
    "def extract_by_splitting(text):\n",
    "    compound_list = text.split(':')[1].split(\"Diseases\")[0].split(\"], \")[0]+\"]\"\n",
    "    disease_list = text.split(':')[-1].split(\"}\")[0]\n",
    "    resp = {}\n",
    "    resp[\"Compounds\"] = ast.literal_eval(compound_list)\n",
    "    resp[\"Diseases\"] = ast.literal_eval(disease_list)\n",
    "    return resp\n",
    "    "
   ]
  },
  {
   "cell_type": "code",
   "execution_count": 156,
   "id": "8958baae",
   "metadata": {},
   "outputs": [],
   "source": [
    "DATA_PATH = \"../../../data/analysis_results/gpt_4_node_retrieval_rag_based_drug_reporposing_questions.csv\"\n"
   ]
  },
  {
   "cell_type": "code",
   "execution_count": 157,
   "id": "9394e136",
   "metadata": {},
   "outputs": [],
   "source": [
    "data = pd.read_csv(DATA_PATH)\n"
   ]
  },
  {
   "cell_type": "code",
   "execution_count": 158,
   "id": "84a4f22a",
   "metadata": {},
   "outputs": [
    {
     "name": "stderr",
     "output_type": "stream",
     "text": [
      "143it [00:00, 4367.60it/s]"
     ]
    },
    {
     "name": "stdout",
     "output_type": "stream",
     "text": [
      "CPU times: user 34 ms, sys: 2.92 ms, total: 36.9 ms\n",
      "Wall time: 36.2 ms\n"
     ]
    },
    {
     "name": "stderr",
     "output_type": "stream",
     "text": [
      "\n"
     ]
    }
   ],
   "source": [
    "%%time\n",
    "\n",
    "llm_performance_list = []\n",
    "for index, row in tqdm(data.iterrows()):\n",
    "    cmp_gt = ast.literal_eval(row[\"compound_groundTruth\"])\n",
    "    disease_gt = ast.literal_eval(row[\"disease_groundTruth\"])\n",
    "    try:\n",
    "        llm_answer = json.loads(extract_answer(row[\"llm_answer\"]))\n",
    "    except:\n",
    "        llm_answer = extract_by_splitting(row[\"llm_answer\"])\n",
    "    cmp_llm = llm_answer[\"Compounds\"]\n",
    "    disease_llm = llm_answer[\"Diseases\"]\n",
    "    cmp_similarity = jaccard_similarity(cmp_gt, cmp_llm)\n",
    "    disease_similarity = jaccard_similarity(disease_gt, disease_llm)\n",
    "    llm_performance = np.mean([cmp_similarity, disease_similarity])\n",
    "    llm_performance_list.append(llm_performance)\n"
   ]
  },
  {
   "cell_type": "code",
   "execution_count": 120,
   "id": "6e5d8e03",
   "metadata": {},
   "outputs": [
    {
     "name": "stdout",
     "output_type": "stream",
     "text": [
      "CPU times: user 54.6 s, sys: 8.34 s, total: 1min 2s\n",
      "Wall time: 2min 52s\n"
     ]
    }
   ],
   "source": [
    "%%time\n",
    "\n",
    "\n",
    "load_dotenv(os.path.join(os.path.expanduser('~'), '.neo4j_config.env'))\n",
    "USER = os.environ.get('SPOKE_USER')\n",
    "PSW = os.environ.get('SPOKE_PSW')\n",
    "URI = os.environ.get('SPOKE_URI')\n",
    "\n",
    "DISEASE_QUERY = \"\"\"\n",
    "    MATCH(d:Disease) \n",
    "    RETURN DISTINCT d.name AS d_name     \n",
    "\"\"\"\n",
    "\n",
    "COMPOUND_QUERY = \"\"\"\n",
    "    MATCH(c:Compound) \n",
    "    RETURN DISTINCT c.name AS c_name     \n",
    "\"\"\"\n",
    "\n",
    "\n",
    "auth = basic_auth(USER, PSW)\n",
    "sdb = GraphDatabase.driver(URI, auth=auth)\n",
    "\n",
    "disease_list = []\n",
    "with sdb.session() as session:\n",
    "    with session.begin_transaction() as tx:\n",
    "        result = tx.run(DISEASE_QUERY)\n",
    "        for row in result:\n",
    "            disease_list.append(row[\"d_name\"])\n",
    "            \n",
    "compound_list = []\n",
    "with sdb.session() as session:\n",
    "    with session.begin_transaction() as tx:\n",
    "        result = tx.run(COMPOUND_QUERY)\n",
    "        for row in result:\n",
    "            compound_list.append(row[\"c_name\"])\n",
    "                        \n",
    "sdb.close()\n"
   ]
  },
  {
   "cell_type": "code",
   "execution_count": 159,
   "id": "23b36c44",
   "metadata": {},
   "outputs": [
    {
     "name": "stderr",
     "output_type": "stream",
     "text": [
      "143it [00:17,  8.37it/s]"
     ]
    },
    {
     "name": "stdout",
     "output_type": "stream",
     "text": [
      "CPU times: user 17 s, sys: 132 ms, total: 17.1 s\n",
      "Wall time: 17.1 s\n"
     ]
    },
    {
     "name": "stderr",
     "output_type": "stream",
     "text": [
      "\n"
     ]
    }
   ],
   "source": [
    "%%time\n",
    "\n",
    "niter = 10000\n",
    "\n",
    "llm_performance_baseline_list = []\n",
    "for index, row in tqdm(data.iterrows()):\n",
    "    cmp_gt = ast.literal_eval(row[\"compound_groundTruth\"])\n",
    "    disease_gt = ast.literal_eval(row[\"disease_groundTruth\"])\n",
    "    try:\n",
    "        llm_answer = json.loads(extract_answer(row[\"llm_answer\"]))\n",
    "    except:\n",
    "        llm_answer = extract_by_splitting(row[\"llm_answer\"])\n",
    "    cmp_llm = llm_answer[\"Compounds\"]\n",
    "    disease_llm = llm_answer[\"Diseases\"]\n",
    "    cmp_similarity = 0\n",
    "    disease_similarity = 0\n",
    "    if len(cmp_llm) > 0:\n",
    "        cmp_similarity_list = []\n",
    "        for i in range(niter):\n",
    "            cmp_llm_random = random.sample(compound_list, len(cmp_llm))\n",
    "            cmp_similarity_list.append(jaccard_similarity(cmp_gt, cmp_llm_random))\n",
    "    if len(disease_llm) > 0:\n",
    "        disease_similarity_list = []\n",
    "        for i in range(niter):\n",
    "            disease_llm_random = random.sample(disease_list, len(disease_llm))\n",
    "            disease_similarity_list.append(jaccard_similarity(disease_gt, disease_llm_random))\n",
    "    llm_performance_baseline = np.mean([np.mean(cmp_similarity_list), np.mean(disease_similarity_list)])\n",
    "    llm_performance_baseline_list.append(llm_performance_baseline)\n"
   ]
  },
  {
   "cell_type": "code",
   "execution_count": 164,
   "id": "d43fef44",
   "metadata": {},
   "outputs": [
    {
     "data": {
      "image/png": "[encoded data removed]",
      "text/plain": [
       "<Figure size 300x400 with 1 Axes>"
      ]
     },
     "metadata": {},
     "output_type": "display_data"
    }
   ],
   "source": [
    "labels = ['Baseline', 'Performance']\n",
    "\n",
    "data_to_plot = pd.DataFrame({'Group': ['Baseline'] * len(llm_performance_baseline_list) + ['KG-RAG'] * len(llm_performance_list),\n",
    "                     'Performance': llm_performance_baseline_list + llm_performance_list})\n",
    "\n",
    "# Create the box plot\n",
    "plt.figure(figsize=(3, 4))\n",
    "sns.boxplot(x='Group', y='Performance', data=data_to_plot)\n",
    "sns.despine(top=True, right=True)\n",
    "plt.xlabel('')\n",
    "plt.ylabel('Performance')\n",
    "plt.show()\n",
    "\n",
    "figure_folder_name = \"drug_repurposing\"\n",
    "fig_filename = \"../../../data/analysis_results/figures/{}/drug_repurposing_performace_gpt_4_at_80_threshold.svg\".format(figure_folder_name)\n",
    "fig.savefig(fig_filename, format='svg', bbox_inches='tight')\n"
   ]
  },
  {
   "cell_type": "code",
   "execution_count": null,
   "id": "cacdfca0",
   "metadata": {},
   "outputs": [],
   "source": []
  }
 ],
 "metadata": {
  "kernelspec": {
   "display_name": "Python 3 (ipykernel)",
   "language": "python",
   "name": "python3"
  },
  "language_info": {
   "codemirror_mode": {
    "name": "ipython",
    "version": 3
   },
   "file_extension": ".py",
   "mimetype": "text/x-python",
   "name": "python",
   "nbconvert_exporter": "python",
   "pygments_lexer": "ipython3",
   "version": "3.10.9"
  }
 },
 "nbformat": 4,
 "nbformat_minor": 5
}
