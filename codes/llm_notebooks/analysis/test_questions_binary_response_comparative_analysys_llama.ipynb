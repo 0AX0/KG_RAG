{
 "cells": [
  {
   "cell_type": "code",
   "execution_count": 174,
   "id": "4fbc21e5",
   "metadata": {},
   "outputs": [],
   "source": [
    "import pandas as pd\n",
    "import numpy as np\n",
    "import re\n",
    "from sklearn.metrics import roc_auc_score, roc_curve\n",
    "from sklearn.preprocessing import LabelEncoder\n",
    "from scipy import stats\n",
    "from tqdm import tqdm\n",
    "import seaborn as sns\n",
    "import matplotlib.pyplot as plt\n"
   ]
  },
  {
   "cell_type": "code",
   "execution_count": 175,
   "id": "c5d2e7f0",
   "metadata": {},
   "outputs": [],
   "source": [
    "def extract_answer(text):\n",
    "    pattern = r\"(True|False|Don't know)\"\n",
    "    matches = re.findall(pattern, text)\n",
    "    return matches\n"
   ]
  },
  {
   "cell_type": "code",
   "execution_count": 176,
   "id": "aade08a2",
   "metadata": {},
   "outputs": [],
   "source": [
    "# PROMPT_RESPONSE_PATH = \"../../../data/analysis_results/gpt_35_turbo_prompt_based_true_false_binary_response.csv\"\n",
    "# RAG_RESPONSE_PATH = \"../../../data/analysis_results/gpt_35_turbo_PubMedBert_and_entity_recognition_based_node_retrieval_rag_based_true_false_binary_response.csv\"\n",
    "\n",
    "PROMPT_RESPONSE_PATH = \"../../../data/analysis_results/Llama_2_13b_chat_hf_prompt_based_true_false_binary_response.csv\"\n",
    "RAG_RESPONSE_PATH = \"../../../data/analysis_results/Llama_2_13b_chat_hf_PubMedBert_and_entity_recognition_based_node_retrieval_rag_based_true_false_binary_response.csv\"\n"
   ]
  },
  {
   "cell_type": "code",
   "execution_count": 177,
   "id": "b6d65d26",
   "metadata": {},
   "outputs": [],
   "source": [
    "prompt_response_df = pd.read_csv(PROMPT_RESPONSE_PATH)\n",
    "rag_response_df = pd.read_csv(RAG_RESPONSE_PATH)\n",
    "\n",
    "prompt_response_df.loc[:, 'extracted_answer'] = prompt_response_df['llm_answer'].apply(extract_answer)\n",
    "rag_response_df.loc[:, 'extracted_answer'] = rag_response_df['llm_answer'].apply(extract_answer)\n"
   ]
  },
  {
   "cell_type": "code",
   "execution_count": 178,
   "id": "455a4049",
   "metadata": {},
   "outputs": [
    {
     "data": {
      "text/plain": [
       "'enhanced S-cone syndrome is not a vitreoretinal degeneration'"
      ]
     },
     "execution_count": 178,
     "metadata": {},
     "output_type": "execute_result"
    }
   ],
   "source": [
    "rag_response_df.question.values[0]"
   ]
  },
  {
   "cell_type": "code",
   "execution_count": 179,
   "id": "e5de0831",
   "metadata": {},
   "outputs": [],
   "source": [
    "prompt_response_df.loc[:, \"answer_count\"] = prompt_response_df.extracted_answer.apply(lambda x:len(x))\n",
    "prompt_response_df_multiple_answers = prompt_response_df[prompt_response_df.answer_count > 1]\n",
    "prompt_response_df_single_answer = prompt_response_df.drop(prompt_response_df_multiple_answers.index)\n",
    "prompt_response_df_single_answer.drop(\"answer_count\", axis=1, inplace=True)\n",
    "prompt_response_df_multiple_answers_ = []\n",
    "for index, row in prompt_response_df_multiple_answers.iterrows():\n",
    "    if row[\"extracted_answer\"][0] == row[\"extracted_answer\"][1]:\n",
    "        prompt_response_df_multiple_answers_.append((row[\"question\"], row[\"label\"], row[\"llm_answer\"], row[\"extracted_answer\"][0]))\n",
    "    else:\n",
    "        prompt_response_df_multiple_answers_.append((row[\"question\"], row[\"label\"], row[\"llm_answer\"], None))\n",
    "prompt_response_df_multiple_answers_ = pd.DataFrame(prompt_response_df_multiple_answers_, columns=[\"question\", \"label\", \"llm_answer\", \"extracted_answer\"])\n",
    "prompt_response_df_final = pd.concat([prompt_response_df_single_answer, prompt_response_df_multiple_answers_], ignore_index=True)\n",
    "prompt_response_df_final = prompt_response_df_final.explode(\"extracted_answer\")\n",
    "\n",
    "\n",
    "rag_response_df.loc[:, \"answer_count\"] = rag_response_df.extracted_answer.apply(lambda x:len(x))\n",
    "rag_response_df_multiple_answers = rag_response_df[rag_response_df.answer_count > 1]\n",
    "rag_response_df_single_answer = rag_response_df.drop(rag_response_df_multiple_answers.index)\n",
    "rag_response_df_single_answer.drop(\"answer_count\", axis=1, inplace=True)\n",
    "rag_response_df_multiple_answers_ = []\n",
    "for index, row in rag_response_df_multiple_answers.iterrows():\n",
    "    if row[\"extracted_answer\"][0] == row[\"extracted_answer\"][1]:\n",
    "        rag_response_df_multiple_answers_.append((row[\"question\"], row[\"label\"], row[\"llm_answer\"], row[\"extracted_answer\"][0]))\n",
    "    else:\n",
    "        rag_response_df_multiple_answers_.append((row[\"question\"], row[\"label\"], row[\"llm_answer\"], None))\n",
    "rag_response_df_multiple_answers_ = pd.DataFrame(rag_response_df_multiple_answers_, columns=[\"question\", \"label\", \"llm_answer\", \"extracted_answer\"])\n",
    "rag_response_df_final = pd.concat([rag_response_df_single_answer, rag_response_df_multiple_answers_], ignore_index=True)\n",
    "rag_response_df_final = rag_response_df_final.explode(\"extracted_answer\")\n",
    "\n",
    "\n"
   ]
  },
  {
   "cell_type": "code",
   "execution_count": 180,
   "id": "f2dc96ef",
   "metadata": {},
   "outputs": [],
   "source": [
    "prompt_incorrect_answers_because_of_na = prompt_response_df_final[prompt_response_df_final.extracted_answer.isna()]\n",
    "rag_incorrect_answers_because_of_na = rag_response_df_final[rag_response_df_final.extracted_answer.isna()]\n",
    "\n",
    "row_index_to_drop = list(prompt_incorrect_answers_because_of_na.index.values) + list(rag_incorrect_answers_because_of_na.index.values)\n",
    "\n",
    "prompt_response_df_final.drop(row_index_to_drop, inplace=True)\n",
    "rag_response_df_final.drop(row_index_to_drop, inplace=True)\n",
    "\n",
    "prompt_response_df_final = prompt_response_df_final.reset_index()\n",
    "rag_response_df_final = rag_response_df_final.reset_index()\n",
    "\n",
    "# prompt_response_df_final.dropna(subset=\"extracted_answer\", inplace=True)\n",
    "# rag_response_df_final.dropna(subset=\"extracted_answer\", inplace=True)\n"
   ]
  },
  {
   "cell_type": "code",
   "execution_count": 181,
   "id": "0204327e",
   "metadata": {},
   "outputs": [],
   "source": [
    "response_transform = {\n",
    "    \"True\" : True,\n",
    "    \"False\" : False\n",
    "}\n",
    "\n",
    "prompt_response_df_final.extracted_answer = prompt_response_df_final.extracted_answer.apply(lambda x:response_transform[x])\n",
    "rag_response_df_final.extracted_answer = rag_response_df_final.extracted_answer.apply(lambda x:response_transform[x])\n"
   ]
  },
  {
   "cell_type": "code",
   "execution_count": 182,
   "id": "0bb6e360",
   "metadata": {},
   "outputs": [
    {
     "name": "stderr",
     "output_type": "stream",
     "text": [
      "100%|█████████████████████████████████████| 1000/1000 [00:00<00:00, 1276.90it/s]\n"
     ]
    }
   ],
   "source": [
    "def evaluate(df):\n",
    "    correct = df[df.label == df.extracted_answer]\n",
    "    incorrect = df[df.label != df.extracted_answer]\n",
    "    correct_frac = correct.shape[0]/df.shape[0]\n",
    "    incorrect_frac = incorrect.shape[0]/df.shape[0]\n",
    "    return correct_frac, incorrect_frac\n",
    "\n",
    "niter = 1000\n",
    "nsample = 150\n",
    "\n",
    "prompt_correct_frac_list = []\n",
    "rag_correct_frac_list = []\n",
    "for _ in tqdm(range(niter)):\n",
    "    prompt_response_df_final_sample = prompt_response_df_final.sample(n=nsample)\n",
    "    prompt_correct_frac, prompt_incorrect_frac = evaluate(prompt_response_df_final_sample)\n",
    "\n",
    "    rag_response_df_final_sample = rag_response_df_final.iloc[prompt_response_df_final_sample.index]\n",
    "    rag_correct_frac, rag_incorrect_frac = evaluate(rag_response_df_final_sample)\n",
    "\n",
    "    prompt_correct_frac_list.append(prompt_correct_frac)\n",
    "    rag_correct_frac_list.append(rag_correct_frac)\n"
   ]
  },
  {
   "cell_type": "code",
   "execution_count": 184,
   "id": "a229532b",
   "metadata": {},
   "outputs": [
    {
     "name": "stderr",
     "output_type": "stream",
     "text": [
      "/var/folders/p1/h56gxdhs5vgb0ztp7h4z606h0000gn/T/ipykernel_97575/1689283999.py:6: FutureWarning: \n",
      "\n",
      "`shade` is now deprecated in favor of `fill`; setting `fill=True`.\n",
      "This will become an error in seaborn v0.14.0; please update your code.\n",
      "\n",
      "  sns.kdeplot(prompt_correct_frac_list, color=\"blue\", shade=True, label=\"Prompt based\", ax=ax, lw=2, linestyle=\"-\", alpha=0.6)\n",
      "/var/folders/p1/h56gxdhs5vgb0ztp7h4z606h0000gn/T/ipykernel_97575/1689283999.py:7: FutureWarning: \n",
      "\n",
      "`shade` is now deprecated in favor of `fill`; setting `fill=True`.\n",
      "This will become an error in seaborn v0.14.0; please update your code.\n",
      "\n",
      "  sns.kdeplot(rag_correct_frac_list, color=\"lightcoral\", shade=True, label=\"KG-RAG based\", ax=ax, lw=2, linestyle=\"-\", alpha=0.6)\n"
     ]
    },
    {
     "data": {
      "image/png": "[encoded data removed]",
      "text/plain": [
       "<Figure size 500x300 with 1 Axes>"
      ]
     },
     "metadata": {},
     "output_type": "display_data"
    }
   ],
   "source": [
    "\n",
    "# Create a figure and axis\n",
    "fig = plt.figure(figsize=(5, 3))\n",
    "ax = plt.gca()\n",
    "\n",
    "# Plot KDEs with the specified styling\n",
    "sns.kdeplot(prompt_correct_frac_list, color=\"blue\", shade=True, label=\"Prompt based\", ax=ax, lw=2, linestyle=\"-\", alpha=0.6)\n",
    "sns.kdeplot(rag_correct_frac_list, color=\"lightcoral\", shade=True, label=\"KG-RAG based\", ax=ax, lw=2, linestyle=\"-\", alpha=0.6)\n",
    "\n",
    "# Set the outline color to black\n",
    "for artist in ax.lines:\n",
    "    artist.set_edgecolor(\"black\")\n",
    "\n",
    "# Add labels and legend\n",
    "plt.xlabel(\"Accuracy\")\n",
    "plt.ylabel(\"Density\")\n",
    "plt.legend(loc=\"upper left\")\n",
    "plt.xlim(0.75,1)\n",
    "\n",
    "sns.despine(top=True, right=True)\n",
    "\n",
    "\n",
    "# Show the plot\n",
    "plt.show()\n",
    "\n",
    "figure_folder_name = \"GPT/entity_recognition_based\"\n",
    "fig_filename = \"../../../data/analysis_results/figures/{}/gpt_35_turbo_one_hop_true_false_binary_performance.svg\".format(figure_folder_name)\n",
    "fig.savefig(fig_filename, format='svg', bbox_inches='tight')\n",
    "\n"
   ]
  },
  {
   "cell_type": "code",
   "execution_count": 160,
   "id": "3c7ba0bc",
   "metadata": {},
   "outputs": [
    {
     "data": {
      "text/plain": [
       "0.8836666666666667"
      ]
     },
     "execution_count": 160,
     "metadata": {},
     "output_type": "execute_result"
    }
   ],
   "source": [
    "np.mean(prompt_correct_frac_list)"
   ]
  },
  {
   "cell_type": "code",
   "execution_count": 158,
   "id": "226cf717",
   "metadata": {},
   "outputs": [
    {
     "data": {
      "image/png": "[encoded data removed]",
      "text/plain": [
       "<Figure size 400x300 with 1 Axes>"
      ]
     },
     "metadata": {},
     "output_type": "display_data"
    }
   ],
   "source": [
    "\n",
    "\n",
    "# Perform a t-test\n",
    "t_stat, p_value = stats.ttest_ind(prompt_correct_frac_list, rag_correct_frac_list)\n",
    "\n",
    "# Create a figure and axis\n",
    "plt.figure(figsize=(4, 3))\n",
    "ax = plt.gca()\n",
    "\n",
    "# Create bar plot with error bars\n",
    "sns.barplot(x=[\"Prompt based\", \"KG-RAG based\"], y=[np.mean(prompt_correct_frac_list), np.mean(rag_correct_frac_list)], errorbar=\"sd\", palette=[\"blue\", \"lightcoral\"], ax=ax)\n",
    "\n",
    "# Calculate the height for the text and line\n",
    "height = max(np.mean(prompt_correct_frac_list), np.mean(rag_correct_frac_list)) + 0.02\n",
    "\n",
    "# Add a horizontal line between the two bars\n",
    "ax.plot([0, 1], [height, height], c=\"black\", lw=2)\n",
    "\n",
    "# Add text annotation for significance\n",
    "if p_value > 0.05:\n",
    "    annotation = \"ns\"\n",
    "elif 0.001 < p_value <= 0.05:\n",
    "    annotation = \"*\"\n",
    "else:\n",
    "    annotation = \"***\"\n",
    "\n",
    "# Add the annotation text above the line\n",
    "plt.text(0.5, height + 0.02, annotation, ha='center', va='bottom', fontsize=14)\n",
    "\n",
    "# Add labels\n",
    "plt.ylabel(\"Mean Fraction\")\n",
    "\n",
    "sns.despine(top=True, right=True)\n",
    "\n",
    "# Show the plot\n",
    "plt.show()\n"
   ]
  },
  {
   "cell_type": "code",
   "execution_count": 116,
   "id": "c1c5c4bd",
   "metadata": {},
   "outputs": [
    {
     "data": {
      "text/plain": [
       "0.6193748715708053"
      ]
     },
     "execution_count": 116,
     "metadata": {},
     "output_type": "execute_result"
    }
   ],
   "source": [
    "p_value"
   ]
  },
  {
   "cell_type": "code",
   "execution_count": 117,
   "id": "6e792c20",
   "metadata": {},
   "outputs": [
    {
     "data": {
      "text/plain": [
       "100"
      ]
     },
     "execution_count": 117,
     "metadata": {},
     "output_type": "execute_result"
    }
   ],
   "source": [
    "len(prompt_correct_frac_list)"
   ]
  },
  {
   "cell_type": "code",
   "execution_count": null,
   "id": "dbc9b092",
   "metadata": {},
   "outputs": [],
   "source": []
  }
 ],
 "metadata": {
  "kernelspec": {
   "display_name": "Python 3 (ipykernel)",
   "language": "python",
   "name": "python3"
  },
  "language_info": {
   "codemirror_mode": {
    "name": "ipython",
    "version": 3
   },
   "file_extension": ".py",
   "mimetype": "text/x-python",
   "name": "python",
   "nbconvert_exporter": "python",
   "pygments_lexer": "ipython3",
   "version": "3.10.9"
  }
 },
 "nbformat": 4,
 "nbformat_minor": 5
}
