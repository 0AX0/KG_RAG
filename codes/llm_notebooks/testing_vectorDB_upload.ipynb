{
 "cells": [
  {
   "cell_type": "code",
   "execution_count": 1,
   "id": "a6196d48-2770-4e3f-8f54-ffc7c25bf6e0",
   "metadata": {},
   "outputs": [],
   "source": [
    "from langchain.text_splitter import RecursiveCharacterTextSplitter\n",
    "from langchain.embeddings.sentence_transformer import SentenceTransformerEmbeddings\n",
    "from langchain.vectorstores import Chroma\n",
    "import pickle\n",
    "\n"
   ]
  },
  {
   "cell_type": "code",
   "execution_count": 28,
   "id": "34efa095-eaf5-4d8d-8065-7f8ea7286b4f",
   "metadata": {},
   "outputs": [],
   "source": [
    "DATA_PATH = \"../../data/disease_with_relation_to_genes.pickle\"\n",
    "VECTOR_DB_NAME = \"../../data/vectorDB/disease_nodes_chromaDB_using_all_distilroberta_v1\"\n",
    "CHUNK_SIZE = 6000\n",
    "CHUNK_OVERLAP = 200\n",
    "\n",
    "SENTENCE_EMBEDDING_MODEL = \"all-distilroberta-v1\"\n"
   ]
  },
  {
   "cell_type": "code",
   "execution_count": 29,
   "id": "b5f40c16",
   "metadata": {},
   "outputs": [
    {
     "data": {
      "text/plain": [
       "6307"
      ]
     },
     "execution_count": 29,
     "metadata": {},
     "output_type": "execute_result"
    }
   ],
   "source": [
    "with open(DATA_PATH, \"rb\") as f:\n",
    "    data = pickle.load(f)\n",
    "\n",
    "# data = data[5529:5607]\n",
    "metadata_list = list(map(lambda x:{\"source\": x + \" from SPOKE knowledge graph\"}, data))\n",
    "len(metadata_list)"
   ]
  },
  {
   "cell_type": "code",
   "execution_count": 11,
   "id": "8f01cb80-cca9-4e18-91fe-680eb68415be",
   "metadata": {},
   "outputs": [],
   "source": [
    "with open(DATA_PATH, \"rb\") as f:\n",
    "    data = pickle.load(f)\n",
    "\n",
    "# data = data[5529:5607]\n",
    "metadata_list = list(map(lambda x:{\"node information\":x.split(\"(\")[0].split(\"Following is the contextual information about the \")[-1] + \"from SPOKE knowledge graph\"}, data))\n",
    "    "
   ]
  },
  {
   "cell_type": "code",
   "execution_count": 30,
   "id": "e2d484d4-687c-4f3f-92db-a5d6e324c156",
   "metadata": {},
   "outputs": [
    {
     "data": {
      "text/plain": [
       "6307"
      ]
     },
     "execution_count": 30,
     "metadata": {},
     "output_type": "execute_result"
    }
   ],
   "source": [
    "text_splitter = RecursiveCharacterTextSplitter(chunk_size=CHUNK_SIZE, chunk_overlap=CHUNK_OVERLAP)\n",
    "docs = text_splitter.create_documents(data, metadatas=metadata_list)\n",
    "len(docs)"
   ]
  },
  {
   "cell_type": "code",
   "execution_count": 31,
   "id": "acec2545",
   "metadata": {},
   "outputs": [
    {
     "data": {
      "text/plain": [
       "Document(page_content='spondylometaphyseal dysplasia Sedaghatian type', metadata={'source': 'spondylometaphyseal dysplasia Sedaghatian type from SPOKE knowledge graph'})"
      ]
     },
     "execution_count": 31,
     "metadata": {},
     "output_type": "execute_result"
    }
   ],
   "source": [
    "docs[2]"
   ]
  },
  {
   "cell_type": "code",
   "execution_count": null,
   "id": "a3003467-b11a-4af1-9227-20571f0ef1a6",
   "metadata": {},
   "outputs": [],
   "source": [
    "vectorstore = Chroma(embedding_function=SentenceTransformerEmbeddings(model_name=SENTENCE_EMBEDDING_MODEL), \n",
    "                     persist_directory=VECTOR_DB_NAME)\n"
   ]
  },
  {
   "cell_type": "code",
   "execution_count": 55,
   "id": "4c132288-73bf-4738-81c9-71d319f9e82d",
   "metadata": {},
   "outputs": [
    {
     "name": "stdout",
     "output_type": "stream",
     "text": [
      "CPU times: user 3min 31s, sys: 23.2 s, total: 3min 55s\n",
      "Wall time: 34.4 s\n"
     ]
    },
    {
     "data": {
      "text/plain": [
       "['2bbab99a-5d5a-11ee-99e2-52778bb2e2f0',\n",
       " '2bbabb48-5d5a-11ee-99e2-52778bb2e2f0',\n",
       " '2bbabba2-5d5a-11ee-99e2-52778bb2e2f0',\n",
       " '2bbabbde-5d5a-11ee-99e2-52778bb2e2f0',\n",
       " '2bbabc1a-5d5a-11ee-99e2-52778bb2e2f0',\n",
       " '2bbabc56-5d5a-11ee-99e2-52778bb2e2f0',\n",
       " '2bbabc88-5d5a-11ee-99e2-52778bb2e2f0',\n",
       " '2bbabcc4-5d5a-11ee-99e2-52778bb2e2f0',\n",
       " '2bbabcf6-5d5a-11ee-99e2-52778bb2e2f0',\n",
       " '2bbabd50-5d5a-11ee-99e2-52778bb2e2f0',\n",
       " '2bbabd96-5d5a-11ee-99e2-52778bb2e2f0',\n",
       " '2bbabdc8-5d5a-11ee-99e2-52778bb2e2f0',\n",
       " '2bbabe18-5d5a-11ee-99e2-52778bb2e2f0',\n",
       " '2bbabe54-5d5a-11ee-99e2-52778bb2e2f0',\n",
       " '2bbabe90-5d5a-11ee-99e2-52778bb2e2f0',\n",
       " '2bbabec2-5d5a-11ee-99e2-52778bb2e2f0',\n",
       " '2bbabef4-5d5a-11ee-99e2-52778bb2e2f0',\n",
       " '2bbabf30-5d5a-11ee-99e2-52778bb2e2f0',\n",
       " '2bbabf62-5d5a-11ee-99e2-52778bb2e2f0',\n",
       " '2bbabf94-5d5a-11ee-99e2-52778bb2e2f0',\n",
       " '2bbabfd0-5d5a-11ee-99e2-52778bb2e2f0',\n",
       " '2bbac002-5d5a-11ee-99e2-52778bb2e2f0',\n",
       " '2bbac03e-5d5a-11ee-99e2-52778bb2e2f0',\n",
       " '2bbac070-5d5a-11ee-99e2-52778bb2e2f0',\n",
       " '2bbac0a2-5d5a-11ee-99e2-52778bb2e2f0',\n",
       " '2bbac0de-5d5a-11ee-99e2-52778bb2e2f0',\n",
       " '2bbac110-5d5a-11ee-99e2-52778bb2e2f0',\n",
       " '2bbac14c-5d5a-11ee-99e2-52778bb2e2f0',\n",
       " '2bbac17e-5d5a-11ee-99e2-52778bb2e2f0',\n",
       " '2bbac1b0-5d5a-11ee-99e2-52778bb2e2f0',\n",
       " '2bbac1ec-5d5a-11ee-99e2-52778bb2e2f0',\n",
       " '2bbac21e-5d5a-11ee-99e2-52778bb2e2f0',\n",
       " '2bbac250-5d5a-11ee-99e2-52778bb2e2f0',\n",
       " '2bbac28c-5d5a-11ee-99e2-52778bb2e2f0',\n",
       " '2bbac2be-5d5a-11ee-99e2-52778bb2e2f0',\n",
       " '2bbac2f0-5d5a-11ee-99e2-52778bb2e2f0',\n",
       " '2bbac32c-5d5a-11ee-99e2-52778bb2e2f0',\n",
       " '2bbac35e-5d5a-11ee-99e2-52778bb2e2f0',\n",
       " '2bbac390-5d5a-11ee-99e2-52778bb2e2f0',\n",
       " '2bbac3cc-5d5a-11ee-99e2-52778bb2e2f0',\n",
       " '2bbac3fe-5d5a-11ee-99e2-52778bb2e2f0',\n",
       " '2bbac43a-5d5a-11ee-99e2-52778bb2e2f0',\n",
       " '2bbac46c-5d5a-11ee-99e2-52778bb2e2f0',\n",
       " '2bbac4a8-5d5a-11ee-99e2-52778bb2e2f0',\n",
       " '2bbac4da-5d5a-11ee-99e2-52778bb2e2f0',\n",
       " '2bbac50c-5d5a-11ee-99e2-52778bb2e2f0',\n",
       " '2bbac53e-5d5a-11ee-99e2-52778bb2e2f0',\n",
       " '2bbac57a-5d5a-11ee-99e2-52778bb2e2f0',\n",
       " '2bbac5b6-5d5a-11ee-99e2-52778bb2e2f0',\n",
       " '2bbac5e8-5d5a-11ee-99e2-52778bb2e2f0',\n",
       " '2bbac624-5d5a-11ee-99e2-52778bb2e2f0',\n",
       " '2bbac656-5d5a-11ee-99e2-52778bb2e2f0',\n",
       " '2bbac692-5d5a-11ee-99e2-52778bb2e2f0',\n",
       " '2bbac6ce-5d5a-11ee-99e2-52778bb2e2f0',\n",
       " '2bbac700-5d5a-11ee-99e2-52778bb2e2f0',\n",
       " '2bbac732-5d5a-11ee-99e2-52778bb2e2f0',\n",
       " '2bbac76e-5d5a-11ee-99e2-52778bb2e2f0',\n",
       " '2bbac7a0-5d5a-11ee-99e2-52778bb2e2f0',\n",
       " '2bbac7dc-5d5a-11ee-99e2-52778bb2e2f0',\n",
       " '2bbac87c-5d5a-11ee-99e2-52778bb2e2f0',\n",
       " '2bbac8b8-5d5a-11ee-99e2-52778bb2e2f0',\n",
       " '2bbac8f4-5d5a-11ee-99e2-52778bb2e2f0',\n",
       " '2bbac93a-5d5a-11ee-99e2-52778bb2e2f0',\n",
       " '2bbac976-5d5a-11ee-99e2-52778bb2e2f0',\n",
       " '2bbac9b2-5d5a-11ee-99e2-52778bb2e2f0',\n",
       " '2bbac9f8-5d5a-11ee-99e2-52778bb2e2f0',\n",
       " '2bbaca34-5d5a-11ee-99e2-52778bb2e2f0',\n",
       " '2bbaca66-5d5a-11ee-99e2-52778bb2e2f0',\n",
       " '2bbacaa2-5d5a-11ee-99e2-52778bb2e2f0',\n",
       " '2bbacade-5d5a-11ee-99e2-52778bb2e2f0',\n",
       " '2bbacb10-5d5a-11ee-99e2-52778bb2e2f0',\n",
       " '2bbacb4c-5d5a-11ee-99e2-52778bb2e2f0',\n",
       " '2bbacb88-5d5a-11ee-99e2-52778bb2e2f0',\n",
       " '2bbacd18-5d5a-11ee-99e2-52778bb2e2f0',\n",
       " '2bbacdea-5d5a-11ee-99e2-52778bb2e2f0',\n",
       " '2bbacea8-5d5a-11ee-99e2-52778bb2e2f0',\n",
       " '2bbacef8-5d5a-11ee-99e2-52778bb2e2f0',\n",
       " '2bbacf48-5d5a-11ee-99e2-52778bb2e2f0',\n",
       " '2bbacf8e-5d5a-11ee-99e2-52778bb2e2f0',\n",
       " '2bbacfca-5d5a-11ee-99e2-52778bb2e2f0',\n",
       " '2bbad006-5d5a-11ee-99e2-52778bb2e2f0',\n",
       " '2bbad218-5d5a-11ee-99e2-52778bb2e2f0',\n",
       " '2bbad2b8-5d5a-11ee-99e2-52778bb2e2f0',\n",
       " '2bbad2fe-5d5a-11ee-99e2-52778bb2e2f0',\n",
       " '2bbad344-5d5a-11ee-99e2-52778bb2e2f0',\n",
       " '2bbad380-5d5a-11ee-99e2-52778bb2e2f0',\n",
       " '2bbad3b2-5d5a-11ee-99e2-52778bb2e2f0',\n",
       " '2bbad3ee-5d5a-11ee-99e2-52778bb2e2f0',\n",
       " '2bbad434-5d5a-11ee-99e2-52778bb2e2f0',\n",
       " '2bbad466-5d5a-11ee-99e2-52778bb2e2f0',\n",
       " '2bbad4a2-5d5a-11ee-99e2-52778bb2e2f0',\n",
       " '2bbad4de-5d5a-11ee-99e2-52778bb2e2f0',\n",
       " '2bbad51a-5d5a-11ee-99e2-52778bb2e2f0',\n",
       " '2bbad574-5d5a-11ee-99e2-52778bb2e2f0',\n",
       " '2bbad5b0-5d5a-11ee-99e2-52778bb2e2f0',\n",
       " '2bbad5ec-5d5a-11ee-99e2-52778bb2e2f0',\n",
       " '2bbad628-5d5a-11ee-99e2-52778bb2e2f0',\n",
       " '2bbad664-5d5a-11ee-99e2-52778bb2e2f0',\n",
       " '2bbad696-5d5a-11ee-99e2-52778bb2e2f0',\n",
       " '2bbad6d2-5d5a-11ee-99e2-52778bb2e2f0',\n",
       " '2bbad70e-5d5a-11ee-99e2-52778bb2e2f0',\n",
       " '2bbad740-5d5a-11ee-99e2-52778bb2e2f0',\n",
       " '2bbad77c-5d5a-11ee-99e2-52778bb2e2f0',\n",
       " '2bbad7b8-5d5a-11ee-99e2-52778bb2e2f0',\n",
       " '2bbad7f4-5d5a-11ee-99e2-52778bb2e2f0',\n",
       " '2bbad826-5d5a-11ee-99e2-52778bb2e2f0',\n",
       " '2bbad862-5d5a-11ee-99e2-52778bb2e2f0',\n",
       " '2bbad89e-5d5a-11ee-99e2-52778bb2e2f0',\n",
       " '2bbad8da-5d5a-11ee-99e2-52778bb2e2f0',\n",
       " '2bbad920-5d5a-11ee-99e2-52778bb2e2f0',\n",
       " '2bbad95c-5d5a-11ee-99e2-52778bb2e2f0',\n",
       " '2bbad998-5d5a-11ee-99e2-52778bb2e2f0',\n",
       " '2bbad9d4-5d5a-11ee-99e2-52778bb2e2f0',\n",
       " '2bbada06-5d5a-11ee-99e2-52778bb2e2f0',\n",
       " '2bbada42-5d5a-11ee-99e2-52778bb2e2f0',\n",
       " '2bbada7e-5d5a-11ee-99e2-52778bb2e2f0',\n",
       " '2bbadab0-5d5a-11ee-99e2-52778bb2e2f0',\n",
       " '2bbadaec-5d5a-11ee-99e2-52778bb2e2f0',\n",
       " '2bbadb1e-5d5a-11ee-99e2-52778bb2e2f0',\n",
       " '2bbadb5a-5d5a-11ee-99e2-52778bb2e2f0',\n",
       " '2bbadb96-5d5a-11ee-99e2-52778bb2e2f0',\n",
       " '2bbadbd2-5d5a-11ee-99e2-52778bb2e2f0',\n",
       " '2bbadc0e-5d5a-11ee-99e2-52778bb2e2f0',\n",
       " '2bbadc4a-5d5a-11ee-99e2-52778bb2e2f0',\n",
       " '2bbadc7c-5d5a-11ee-99e2-52778bb2e2f0',\n",
       " '2bbadcb8-5d5a-11ee-99e2-52778bb2e2f0',\n",
       " '2bbadcea-5d5a-11ee-99e2-52778bb2e2f0',\n",
       " '2bbadd26-5d5a-11ee-99e2-52778bb2e2f0',\n",
       " '2bbadd62-5d5a-11ee-99e2-52778bb2e2f0',\n",
       " '2bbaddb2-5d5a-11ee-99e2-52778bb2e2f0',\n",
       " '2bbaddee-5d5a-11ee-99e2-52778bb2e2f0',\n",
       " '2bbade2a-5d5a-11ee-99e2-52778bb2e2f0']"
      ]
     },
     "execution_count": 55,
     "metadata": {},
     "output_type": "execute_result"
    }
   ],
   "source": [
    "%%time\n",
    "\n",
    "vectorstore.add_documents(documents=docs)\n"
   ]
  },
  {
   "cell_type": "code",
   "execution_count": 72,
   "id": "1005b14b-4ee4-4563-b145-1bf153fea34e",
   "metadata": {},
   "outputs": [
    {
     "name": "stdout",
     "output_type": "stream",
     "text": [
      "(1) 'enrichment' is 9.083154301870298 (2) 'odds' is 9.18847748257019 (3) 'source' is NCBI PubMed (4) 'cooccur' is 16 (5) 'fisher' is 7.283265876973802e-11 \n",
      "isolated growth hormone deficiency LOCALIZES Anatomy arcuate nucleus of hypothalamus. Attributes of this relationship are:\n",
      "(1) 'enrichment' is 170.12906403940886 (2) 'odds' is 181.32142857142858 (3) 'source' is NCBI PubMed (4) 'cooccur' is 2 (5) 'fisher' is 6.64478261176143e-05 \n",
      "isolated growth hormone deficiency LOCALIZES Anatomy optic disc. Attributes of this relationship are:\n",
      "(1) 'enrichment' is 5.855379607337833 (2) 'odds' is 6.235083357706932 (3) 'source' is NCBI PubMed (4) 'cooccur' is 5 (5) 'fisher' is 0.0016911262712014613 \n",
      "isolated growth hormone deficiency LOCALIZES Anatomy neurohypophysis. Attributes of this relationship are:\n",
      "(1) 'enrichment' is 83.62276029055691 (2) 'odds' is 92.92672413793103 (3) 'source' is NCBI PubMed (4) 'cooccur' is 6 (5) 'fisher' is 1.3789332984995605e-10 \n",
      "isolated growth hormone deficiency LOCALIZES Anatomy sella turcica. Attributes of this relationship are:\n",
      "(1) 'enrichment' is 38.2037610619469 (2) 'odds' is 42.66010157314505 (3) 'source' is NCBI PubMed (4) 'cooccur' is 7 (5) 'fisher' is 8.545187522199781e-10 \n",
      "isolated growth hormone deficiency LOCALIZES Anatomy septum pellucidum. Attributes of this relationship are:\n",
      "(1) 'enrichment' is 76.29499263622975 (2) 'odds' is 80.90200828319138 (3) 'source' is NCBI PubMed (4) 'cooccur' is 3 (5) 'fisher' is 9.291449642651523e-06 \n",
      "isolated growth hormone deficiency LOCALIZES Anatomy epiphysis. Attributes of this relationship are:\n",
      "(1) 'enrichment' is 20.387367178276268 (2) 'odds' is 21.339505790549328 (3) 'source' is NCBI PubMed (4) 'cooccur' is 3 (5) 'fisher' is 0.000455965257026461 \n",
      "isolated growth hormone deficiency LOCALIZES Anatomy lymphoid tissue. Attributes of this relationship are:\n",
      "(1) 'enrichment' is 20.500316580925997 (2) 'odds' is 21.458472588379383 (3) 'source' is NCBI PubMed (4) 'cooccur' is 3 (5) 'fisher' is 0.00044871948039961645 \n",
      "isolated growth hormone deficiency LOCALIZES Anatomy diencephalon. Attributes of this relationship are:\n",
      "(1) 'enrichment' is 52.07116471918583 (2) 'odds' is 55.74416161616162 (3) 'source' is NCBI PubMed (4) 'cooccur' is 4 (5) 'fisher' is 1.2359672177427332e-06 \n",
      "isolated growth hormone deficiency LOCALIZES Anatomy head of femur. Attributes of this relationship are:\n",
      "(1) 'enrichment' is 25.589952578541787 (2) 'odds' is 27.619555626854897 (3) 'source' is NCBI PubMed (4) 'cooccur' is 5 (5) 'fisher' is 1.7463955756094873e-06 \n",
      "isolated growth hormone deficiency PRESENTS Symptom Voice Disorders. Attributes of this relationship are:\n",
      "(1) 'enrichment' is 41.470327470327476 (2) 'odds' is 46.64661290322581 (3) 'source' is NCBI PubMed (4) 'cooccur' is 2 (5) 'fisher' is 0.0010661131477260684 \n",
      "Disease isolated growth hormone deficiency type IB ISA isolated growth hormone deficiency. Attributes of this relationship are:\n",
      "(1) 'source' is Disease Ontology \n",
      "Disease isolated growth hormone deficiency type IA ISA isolated growth hormone deficiency. Attributes of this relationship are:\n",
      "(1) 'source' is Disease Ontology \n",
      "Disease isolated growth hormone deficiency type III ISA isolated growth hormone deficiency. Attributes of this relationship are:\n",
      "(1) 'source' is Disease Ontology \n",
      "Disease isolated growth hormone deficiency type II ISA isolated growth hormone deficiency. Attributes of this relationship are:\n",
      "(1) 'source' is Disease Ontology \n",
      "Compound Arginine TREATS isolated growth hormone deficiency. Attributes of this relationship are:\n",
      "(1) 'phase' is 4 (2) 'sources' is ['ChEMBL'] \n",
      "Compound SERMORELIN ACETATE TREATS isolated growth hormone deficiency. Attributes of this relationship are:\n",
      "(1) 'source' is ['DrugCentral'] \n",
      "Compound SOMATREM TREATS isolated growth hormone deficiency. Attributes of this relationship are:\n",
      "(1) 'source' is ['DrugCentral'] \n",
      "Compound SOMATROGON TREATS isolated growth hormone deficiency. Attributes of this relationship are:\n",
      "(1) 'phase' is 3 (2) 'sources' is ['ChEMBL'] \n",
      "Compound SOMATROPIN TREATS isolated growth hormone deficiency. Attributes of this relationship are:\n",
      "(1) 'phase' is 4 (2) 'sources' is ['ChEMBL'] (3) 'source' is ['ChEMBL', 'DrugCentral'] \n",
      "Compound ALBUSOMATROPIN TREATS isolated growth hormone deficiency. Attributes of this relationship are:\n",
      "(1) 'phase' is 3 (2) 'sources' is ['ChEMBL'] \n",
      "Compound LONAPEGSOMATROPIN TREATS isolated growth hormone deficiency. Attributes of this relationship are:\n",
      "(1) 'phase' is 4 (2) 'sources' is ['ChEMBL'] \n",
      "Compound SOMAVARATAN TREATS isolated growth hormone deficiency. Attributes of this relationship are:\n",
      "(1) 'phase' is 3 (2) 'sources' is ['ChEMBL'] \n",
      "Compound Atropine TREATS isolated growth hormone deficiency. Attributes of this relationship are:\n",
      "(1) 'phase' is 3 (2) 'sources' is ['ChEMBL'] \n",
      "Compound Somapacitan beco TREATS isolated growth hormone deficiency. Attributes of this relationship are:\n",
      "(1) 'phase' is 1 (2) 'sources' is ['ChEMBL'] \n",
      "Disease congenital hypothyroidism RESEMBLES isolated growth hormone deficiency. Attributes of this relationship are:\n",
      "(1) 'enrichment' is 5.593285180527207 (2) 'odds' is 5.630364254784078 (3) 'source' is NCBI PubMed (4) 'cooccur' is 10 (5) 'fisher' is 1.7876635180944262e-05 \n",
      "Disease septooptic dysplasia RESEMBLES isolated growth hormone deficiency. Attributes of this relationship are:\n",
      "(1) 'enrichment' is 20.359558057119035 (2) 'odds' is 20.571202023129 (3) 'source' is NCBI PubMed (4) 'cooccur' is 2 (5) 'fisher' is 0.004498963277379841 \n",
      "END OF NODE CONTEXT\n"
     ]
    }
   ],
   "source": [
    "question = \"What compound treats isolated growth hormone deficiency?\"\n",
    "search_result = vectorstore.similarity_search_with_score(question, k=1)\n",
    "print(search_result[0][0].page_content)\n"
   ]
  },
  {
   "cell_type": "code",
   "execution_count": null,
   "id": "2fe58937-371d-41cd-a408-24e351d8c77e",
   "metadata": {},
   "outputs": [],
   "source": []
  }
 ],
 "metadata": {
  "kernelspec": {
   "display_name": "Python 3 (ipykernel)",
   "language": "python",
   "name": "python3"
  },
  "language_info": {
   "codemirror_mode": {
    "name": "ipython",
    "version": 3
   },
   "file_extension": ".py",
   "mimetype": "text/x-python",
   "name": "python",
   "nbconvert_exporter": "python",
   "pygments_lexer": "ipython3",
   "version": "3.10.9"
  }
 },
 "nbformat": 4,
 "nbformat_minor": 5
}
