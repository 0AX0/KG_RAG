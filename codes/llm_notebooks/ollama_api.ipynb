{
 "cells": [
  {
   "cell_type": "code",
   "execution_count": 7,
   "id": "3bdc5c9b",
   "metadata": {},
   "outputs": [],
   "source": [
    "import requests\n",
    "import json\n"
   ]
  },
  {
   "cell_type": "code",
   "execution_count": 2,
   "id": "83042525",
   "metadata": {},
   "outputs": [],
   "source": [
    "url = \"http://localhost:11434/api/generate\"\n",
    "\n"
   ]
  },
  {
   "cell_type": "code",
   "execution_count": 147,
   "id": "25433eed",
   "metadata": {},
   "outputs": [],
   "source": [
    "prompt = \"\"\"\n",
    "QUERY: What is the disease ontology identifier for focal dystonia and what are the genes associated with this disease?\n",
    "INSTRUCTIONS: Answer the QUERY. Try to use the relevant sections from the CONTEXT given below for refining your answer.\n",
    "CONTEXT: Following is the contextual information about the Disease focal dystonia (Disease Ontology identifier of this Disease is DOID:0050836).\n",
    "focal dystonia ASSOCIATES Gene TAF1L. Attributes of this relationship are:\n",
    "(1) 'sources' is ['DISEASES'] (2) 'diseases_confidences' is [3.327] (3) 'diseases_scores' is ['6.653'] \n",
    "focal dystonia ASSOCIATES Gene CDIP1. Attributes of this relationship are:\n",
    "(1) 'sources' is ['DISEASES'] (2) 'diseases_confidences' is [3.09] (3) 'diseases_scores' is ['6.179'] \n",
    "focal dystonia ASSOCIATES Gene TOR1A. Attributes of this relationship are:\n",
    "(1) 'sources' is ['DISEASES'] (2) 'diseases_confidences' is [3.557] (3) 'diseases_scores' is ['7.115'] \n",
    "focal dystonia ASSOCIATES Gene SGCE. Attributes of this relationship are:\n",
    "(1) 'sources' is ['DISEASES'] (2) 'diseases_confidences' is [3.214] (3) 'diseases_scores' is ['6.428'] \n",
    "focal dystonia ASSOCIATES Gene CIZ1. Attributes of this relationship are:\n",
    "(1) 'sources' is ['DISEASES'] (2) 'diseases_confidences' is [3.08] (3) 'diseases_scores' is ['6.160'] \n",
    "focal dystonia ASSOCIATES Gene THAP1. Attributes of this relationship are:\n",
    "(1) 'sources' is ['DISEASES'] (2) 'diseases_confidences' is [3.705] (3) 'diseases_scores' is ['7.410'] \n",
    "focal dystonia ASSOCIATES Gene TAF1. Attributes of this relationship are:\n",
    "(1) 'sources' is ['DISEASES'] (2) 'diseases_confidences' is [3.392, 5.0] (3) 'diseases_scores' is ['6.783', 'CURATED'] \n",
    "focal dystonia ASSOCIATES Gene GNAL. Attributes of this relationship are:\n",
    "(1) 'sources' is ['DISEASES'] (2) 'diseases_confidences' is [3.089] (3) 'diseases_scores' is ['6.179'] \n",
    "focal dystonia ASSOCIATES Gene ANO3. Attributes of this relationship are:\n",
    "(1) 'sources' is ['DISEASES'] (2) 'diseases_confidences' is [3.119] (3) 'diseases_scores' is ['6.239'] \n",
    "focal dystonia ISA Disease dystonia. Attributes of this relationship are:\n",
    "(1) 'source' is Disease Ontology \n",
    "Disease torsion dystonia 7 ISA focal dystonia. Attributes of this relationship are:\n",
    "(1) 'source' is Disease Ontology \n",
    "Disease oromandibular dystonia ISA focal dystonia. Attributes of this relationship are:\n",
    "(1) 'source' is Disease Ontology \n",
    "Disease anismus ISA focal dystonia. Attributes of this relationship are:\n",
    "(1) 'source' is Disease Ontology \n",
    "Disease spasmodic dystonia ISA focal dystonia. Attributes of this relationship are:\n",
    "(1) 'source' is Disease Ontology \n",
    "Disease dystonia 23 ISA focal dystonia. Attributes of this relationship are:\n",
    "(1) 'source' is Disease Ontology \n",
    "Disease cervical dystonia ISA focal dystonia. Attributes of this relationship are:\n",
    "(1) 'source' is Disease Ontology \n",
    "Disease dystonia 24 ISA focal dystonia. Attributes of this relationship are:\n",
    "(1) 'source' is Disease Ontology \n",
    "Disease oculogyric crisis ISA focal dystonia. Attributes of this relationship are:\n",
    "(1) 'source' is Disease Ontology \n",
    "Disease blepharospasm ISA focal dystonia. Attributes of this relationship are:\n",
    "(1) 'source' is Disease Ontology \n",
    "Disease cranio-facial dystonia ISA focal dystonia. Attributes of this relationship are:\n",
    "(1) 'source' is Disease Ontology \n",
    "Disease X-linked dystonia-parkinsonism ISA focal dystonia. Attributes of this relationship are:\n",
    "(1) 'source' is Disease Ontology \n",
    "Disease focal hand dystonia ISA focal dystonia. Attributes of this relationship are:\n",
    "(1) 'source' is Disease Ontology \n",
    "END OF NODE CONTEXT                       \n",
    "\"\"\"\n",
    "\n",
    "# prompt = \"\"\"\n",
    "# What is disease ontology identifier for sebaceous carcinoma?\n",
    "# \"\"\"\n"
   ]
  },
  {
   "cell_type": "code",
   "execution_count": 150,
   "id": "76c10a87",
   "metadata": {},
   "outputs": [
    {
     "name": "stdout",
     "output_type": "stream",
     "text": [
      "CPU times: user 31.8 ms, sys: 17.2 ms, total: 49 ms\n",
      "Wall time: 33.3 s\n"
     ]
    }
   ],
   "source": [
    "%%time\n",
    "\n",
    "data = {\n",
    "    \"model\": \"llama2:13b\",\n",
    "    \"prompt\": prompt\n",
    "}\n",
    "\n",
    "response = requests.post(url, json=data)\n"
   ]
  },
  {
   "cell_type": "code",
   "execution_count": 152,
   "id": "6267690e",
   "metadata": {},
   "outputs": [
    {
     "name": "stdout",
     "output_type": "stream",
     "text": [
      " Based on the given context, the disease ontology identifier for focal dystonia is DOID:0050836. The genes associated with this disease are:\n",
      "\n",
      "1. TAF1L (Gene ID: 79297)\n",
      "2. CDIP1 (Gene ID: 244168)\n",
      "3. TOR1A (Gene ID: 285503)\n",
      "4. SGCE (Gene ID: 103347)\n",
      "5. CIZ1 (Gene ID: 102902)\n",
      "6. THAP1 (Gene ID: 246485)\n",
      "7. GNAL (Gene ID: 253044)\n",
      "8. ANO3 (Gene ID: 103060)\n",
      "\n",
      "These genes are associated with focal dystonia based on the evidence provided in the context, which includes confident scores and disease-gene associations from various sources such as DISEASES, Disease Ontology, and PubMed.\n"
     ]
    }
   ],
   "source": [
    "data_str = response.text\n",
    "data_list = data_str.strip().split('\\n')\n",
    "llm_response = \"\"\n",
    "for item in data_list[0:-1]:\n",
    "    llm_response += json.loads(item)[\"response\"]\n",
    "\n",
    "print(llm_response)\n"
   ]
  },
  {
   "cell_type": "code",
   "execution_count": null,
   "id": "6c59bd76",
   "metadata": {},
   "outputs": [],
   "source": []
  }
 ],
 "metadata": {
  "kernelspec": {
   "display_name": "Python 3 (ipykernel)",
   "language": "python",
   "name": "python3"
  },
  "language_info": {
   "codemirror_mode": {
    "name": "ipython",
    "version": 3
   },
   "file_extension": ".py",
   "mimetype": "text/x-python",
   "name": "python",
   "nbconvert_exporter": "python",
   "pygments_lexer": "ipython3",
   "version": "3.10.9"
  }
 },
 "nbformat": 4,
 "nbformat_minor": 5
}
