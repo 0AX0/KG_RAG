{
 "cells": [
  {
   "cell_type": "code",
   "execution_count": 4,
   "id": "fdf5de5c-1b3a-43e0-bb45-a82a87bd74b7",
   "metadata": {},
   "outputs": [],
   "source": [
    "from langchain.callbacks.manager import CallbackManager\n",
    "from langchain.callbacks.streaming_stdout import StreamingStdOutCallbackHandler\n",
    "from langchain.vectorstores import Chroma\n",
    "from langchain.embeddings.sentence_transformer import SentenceTransformerEmbeddings\n",
    "from langchain.llms import Ollama\n"
   ]
  },
  {
   "cell_type": "code",
   "execution_count": 58,
   "id": "240f0253-86eb-4076-9baa-2187cdb6b19d",
   "metadata": {},
   "outputs": [],
   "source": [
    "def parse_response(llm_response):\n",
    "    return llm_response.split(\"{\")[-1].split(\"}\")[0].split(\"answer : \")[-1].split(\"\\n\")[0]\n",
    "    "
   ]
  },
  {
   "cell_type": "code",
   "execution_count": 73,
   "id": "18d33f1e-461d-413a-be5d-2993ecb58e06",
   "metadata": {},
   "outputs": [],
   "source": [
    "question = \"Variant rs2476601 does not associate with Rheumatoid Arthritis\"\n"
   ]
  },
  {
   "cell_type": "code",
   "execution_count": 74,
   "id": "03b34383-86dc-43f5-8952-16d2e5ef3f30",
   "metadata": {},
   "outputs": [],
   "source": [
    "VECTOR_DB_PATH = \"../../../data/vectorDB/disease_context_chromaDB_using_all_MiniLM_L6_v2_sentence_transformer_model_with_chunk_size_3000\"\n",
    "SENTENCE_EMBEDDING_MODEL = \"all-MiniLM-L6-v2\"\n",
    "\n",
    "RETRIEVAL_SCORE_THRESH = 0.7\n"
   ]
  },
  {
   "cell_type": "code",
   "execution_count": 75,
   "id": "7905a4f3-4329-42d6-b5f0-eebb7960875d",
   "metadata": {},
   "outputs": [],
   "source": [
    "embedding_function = SentenceTransformerEmbeddings(model_name=SENTENCE_EMBEDDING_MODEL)\n",
    "\n",
    "vectorstore = Chroma(persist_directory=VECTOR_DB_PATH, \n",
    "                     embedding_function=embedding_function)\n"
   ]
  },
  {
   "cell_type": "code",
   "execution_count": 76,
   "id": "f1f838d7-8523-47b0-ba53-19a149846b9d",
   "metadata": {},
   "outputs": [],
   "source": [
    "\n",
    "# llm = Ollama(base_url=\"http://localhost:11434\",\n",
    "#              model=\"llama2:13b\",\n",
    "#              temperature=0,\n",
    "#              verbose=True,\n",
    "#              callback_manager=CallbackManager([StreamingStdOutCallbackHandler()]))\n",
    "\n",
    "llm = Ollama(base_url=\"http://localhost:11434\",\n",
    "             model=\"llama2:13b\",\n",
    "             temperature=0,\n",
    "             verbose=True)\n"
   ]
  },
  {
   "cell_type": "code",
   "execution_count": 77,
   "id": "f1254c71-14c8-4c16-b5bd-31b7dd8fbb9f",
   "metadata": {},
   "outputs": [],
   "source": [
    "search_result = vectorstore.similarity_search_with_score(question, k=10000)\n",
    "score_range = (search_result[-1][-1] - search_result[0][-1]) / (search_result[-1][-1] + search_result[0][-1])\n",
    "thresh = RETRIEVAL_SCORE_THRESH*score_range\n",
    "retrieved_context = \"\"\n",
    "for item in search_result:\n",
    "    item_score = (search_result[-1][-1] - item[-1]) / (search_result[-1][-1] + item[-1])\n",
    "    if item_score < thresh:\n",
    "        break\n",
    "    retrieved_context += item[0].page_content\n",
    "    retrieved_context += \"\\n\"\n",
    "    "
   ]
  },
  {
   "cell_type": "code",
   "execution_count": 78,
   "id": "fa1c1e9a-f607-4605-9fc5-b7b05d29e73f",
   "metadata": {},
   "outputs": [],
   "source": [
    "prompt = \"\"\"\n",
    "Use the following pieces of context to answer the question at the end as True or False or Don't know. \n",
    "Context: {}\n",
    "Question : {}\n",
    "Based on the context provided, return the answer in the following format:\n",
    "{{\n",
    "answer : <True> or <False> or <Don't know>\n",
    "}}\n",
    "\"\"\".format(retrieved_context, question)\n"
   ]
  },
  {
   "cell_type": "code",
   "execution_count": 79,
   "id": "927115e2-6c0f-4c10-9f75-092c42fe382c",
   "metadata": {},
   "outputs": [
    {
     "name": "stdout",
     "output_type": "stream",
     "text": [
      "CPU times: user 102 ms, sys: 78.9 ms, total: 181 ms\n",
      "Wall time: 2min 24s\n"
     ]
    }
   ],
   "source": [
    "%%time\n",
    "\n",
    "llm_response = llm(prompt)\n"
   ]
  },
  {
   "cell_type": "code",
   "execution_count": 80,
   "id": "56b042a8-f31c-4e74-a4c5-d137ffcaaab1",
   "metadata": {},
   "outputs": [
    {
     "data": {
      "text/plain": [
       "'False'"
      ]
     },
     "execution_count": 80,
     "metadata": {},
     "output_type": "execute_result"
    }
   ],
   "source": [
    "parse_response(llm_response)\n"
   ]
  },
  {
   "cell_type": "code",
   "execution_count": 56,
   "id": "a92cbe78-eeca-4f13-b243-2dd208cc6fc1",
   "metadata": {},
   "outputs": [],
   "source": []
  },
  {
   "cell_type": "code",
   "execution_count": null,
   "id": "757c086a-c6da-47d1-94c7-8ea1c192aa30",
   "metadata": {},
   "outputs": [],
   "source": []
  }
 ],
 "metadata": {
  "kernelspec": {
   "display_name": "Python 3 (ipykernel)",
   "language": "python",
   "name": "python3"
  },
  "language_info": {
   "codemirror_mode": {
    "name": "ipython",
    "version": 3
   },
   "file_extension": ".py",
   "mimetype": "text/x-python",
   "name": "python",
   "nbconvert_exporter": "python",
   "pygments_lexer": "ipython3",
   "version": "3.10.9"
  }
 },
 "nbformat": 4,
 "nbformat_minor": 5
}
