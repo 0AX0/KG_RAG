{
 "cells": [
  {
   "cell_type": "code",
   "execution_count": 362,
   "id": "941e4292",
   "metadata": {},
   "outputs": [],
   "source": [
    "from langchain.vectorstores import Chroma\n",
    "from langchain.embeddings.sentence_transformer import SentenceTransformerEmbeddings\n",
    "from langchain.prompts import PromptTemplate\n",
    "from langchain.llms import Ollama\n",
    "from langchain.callbacks.manager import CallbackManager\n",
    "from langchain.callbacks.streaming_stdout import StreamingStdOutCallbackHandler\n",
    "from langchain.chains import RetrievalQA, RetrievalQAWithSourcesChain\n"
   ]
  },
  {
   "cell_type": "code",
   "execution_count": 391,
   "id": "57d0873b-7b7b-4f52-98e2-ace71cf94faf",
   "metadata": {},
   "outputs": [],
   "source": [
    "VECTOR_DB_PATH = \"../../data/vectorDB/disease_context_chromaDB_using_all_distilroberta_v1_sentence_transformer_model_with_chunk_size_6000\"\n",
    "SENTENCE_EMBEDDING_MODEL = \"all-distilroberta-v1\"\n",
    "\n",
    "\n",
    "VECTOR_DB_PATH = \"../../data/vectorDB/disease_context_chromaDB\"\n",
    "VECTOR_DB_PATH = \"../../data/vectorDB/disease_context_chromaDB_using_all_MiniLM_L6_v2_sentence_transformer_model_with_chunk_size_3000\"\n",
    "SENTENCE_EMBEDDING_MODEL = \"all-MiniLM-L6-v2\"\n"
   ]
  },
  {
   "cell_type": "code",
   "execution_count": 392,
   "id": "030236bd-35ed-49a6-8300-58304d2950df",
   "metadata": {},
   "outputs": [],
   "source": [
    "embedding_function = SentenceTransformerEmbeddings(model_name=SENTENCE_EMBEDDING_MODEL)\n",
    "\n",
    "vectorstore = Chroma(persist_directory=VECTOR_DB_PATH, \n",
    "                     embedding_function=embedding_function)\n"
   ]
  },
  {
   "cell_type": "code",
   "execution_count": 395,
   "id": "03a6e7d5",
   "metadata": {},
   "outputs": [],
   "source": [
    "# Configuring RAG\n",
    "\n",
    "template = \"\"\"Use the following pieces of context to answer the question at the end and also to return the provenance. \n",
    "If you don't know the answer, just say that you don't know, don't try to make up an answer.   \n",
    "{context}\n",
    "Question: {question}\n",
    "Helpful Answer:\n",
    "\"\"\"\n",
    "\n",
    "QA_CHAIN_PROMPT = PromptTemplate(\n",
    "    input_variables=[\"context\", \"question\"],\n",
    "    template=template,\n",
    ")\n",
    "\n",
    "# template = \"\"\"Use the following pieces of context to answer the question at the end and also to return the provenance. \n",
    "# If you don't know the answer, just say that you don't know, don't try to make up an answer.   \n",
    "# {context}\n",
    "# Summaries: {summaries}\n",
    "# Question: {question}\n",
    "# Helpful Answer:\"\"\"\n",
    "\n",
    "# QA_CHAIN_PROMPT = PromptTemplate(\n",
    "#     input_variables=[\"context\", \"summaries\", \"question\"],\n",
    "#     template=template,\n",
    "# )\n",
    "\n",
    "\n",
    "\n",
    "llm = Ollama(base_url=\"http://localhost:11434\",\n",
    "             model=\"llama2:13b\",\n",
    "             temperature=0,\n",
    "             verbose=True,\n",
    "             callback_manager=CallbackManager([StreamingStdOutCallbackHandler()]))\n",
    "\n",
    "\n",
    "# llm = Ollama(base_url=\"http://localhost:11434\",\n",
    "#              model=\"llama2:13b\",\n",
    "#              temperature=0.01\n",
    "#              )\n",
    "\n",
    "# qa_chain = RetrievalQA.from_chain_type(\n",
    "#     llm,\n",
    "#     retriever=vectorstore.as_retriever(search_kwargs={\"k\": 1}),\n",
    "#     chain_type_kwargs={\"prompt\": QA_CHAIN_PROMPT},\n",
    "#     return_source_documents=True\n",
    "# )\n",
    "\n",
    "qa_chain = RetrievalQA.from_chain_type(\n",
    "    llm,\n",
    "    retriever=vectorstore.as_retriever(search_kwargs={\"k\": 1}),\n",
    "    chain_type=\"stuff\",\n",
    "    return_source_documents=True\n",
    ")\n",
    "\n",
    "# qa_chain = RetrievalQAWithSourcesChain.from_chain_type(\n",
    "#     llm,\n",
    "#     retriever=vectorstore.as_retriever(search_type=\"mmr\", search_kwargs={\"fetch_k\": 40, \"lambda_mult\":0.5, \"k\":2}),\n",
    "#     chain_type = \"stuff\",\n",
    "#     chain_type_kwargs={\"prompt\": QA_CHAIN_PROMPT},\n",
    "#     return_source_documents=True\n",
    "# )\n",
    "\n",
    "\n"
   ]
  },
  {
   "cell_type": "code",
   "execution_count": 403,
   "id": "525a36fe-8084-4a00-a2a2-d090491d02a1",
   "metadata": {},
   "outputs": [
    {
     "name": "stdout",
     "output_type": "stream",
     "text": [
      " Based on the information provided, here are the variants associated with COVID-19:\n",
      "\n",
      "{\n",
      "answer : [\n",
      "rs2271616,\n",
      "rs117479047,\n",
      "rs142658912,\n",
      "rs1173773,\n",
      "rs13078854,\n",
      "rs5913398,\n",
      "rs35044562,\n",
      "rs9411378,\n",
      "rs12564811,\n",
      "rs2069837,\n",
      "rs72809129,\n",
      "rs17158686,\n",
      "rs657152\n",
      "]\n",
      "}\n",
      "\n",
      "Note that these are the variants associated with COVID-19 as per the information provided in the GWAS Catalog. However, it is important to note that this list may not be exhaustive and more research may be required to identify all the variants associated with COVID-19. Additionally, the p-values and other attributes provided for each variant can help further understand the strength of the association between each variant and COVID-19.CPU times: user 1.38 s, sys: 569 ms, total: 1.95 s\n",
      "Wall time: 1min 51s\n"
     ]
    }
   ],
   "source": [
    "%%time\n",
    "\n",
    "\n",
    "# question = \"What is the disease ontology identifier for glycogen storage disease Ic ​and what are the genes associated with this disease?​\"\n",
    "\n",
    "prompt = \"What are the variants associated with COVID-19?\"\n",
    "\n",
    "question = \"\"\"\n",
    "query : {}\n",
    "Answer the above query in the following format:\n",
    "{{\n",
    "answer : [answer 1, answer 2, answer 3 etc]\n",
    "}}\n",
    "If you don't know the answer, report it as:\n",
    "{{\n",
    "answer : Don't know\n",
    "}}\n",
    "\"\"\".format(prompt)\n",
    "\n",
    "\n",
    "# question = \"What are the genes associated with congenital myopathy 22A\"\n",
    "\n",
    "# question = \"\"\"Which gene has stronger association with the disease 'liver benign neoplasm', is it PNPLA3 or HLA-B?\n",
    "# First find the gwas pvalue for the association between 'liver benign neoplasm' and gene PNPLA3. Then find the gwas pvalue for the association between 'liver benign neoplasm' and gene HLA-B.\n",
    "# Then compare those values. Note that smaller the pvalue is stronger the association will be.\n",
    "# \"\"\"\n",
    "\n",
    "# result = qa_chain({\"query\": question})\n",
    "result = qa_chain(question)\n"
   ]
  },
  {
   "cell_type": "code",
   "execution_count": 389,
   "id": "486edf37-63df-4698-b49b-91f514a22c0a",
   "metadata": {},
   "outputs": [],
   "source": [
    "# Configuring RAG\n",
    "\n",
    "\n",
    "\n",
    "\n",
    "llm = Ollama(base_url=\"http://localhost:11434\",\n",
    "             model=\"llama2:13b\",\n",
    "             temperature=0,\n",
    "             verbose=True,\n",
    "             callback_manager=CallbackManager([StreamingStdOutCallbackHandler()]))\n",
    "\n",
    "\n",
    "\n",
    "# qa_chain = RetrievalQA.from_chain_type(\n",
    "#     llm,\n",
    "#     chain_type=\"stuff\",\n",
    "#     retriever=vectorstore.as_retriever(search_kwargs={\"k\": 1}),\n",
    "#     return_source_documents=True\n",
    "# )\n",
    "\n",
    "qa_chain = RetrievalQAWithSourcesChain.from_chain_type(\n",
    "    llm,\n",
    "    chain_type=\"stuff\",\n",
    "    retriever=vectorstore.as_retriever(search_kwargs={\"k\": 1}),\n",
    "    return_source_documents=True\n",
    ")\n",
    "\n",
    "\n",
    "\n"
   ]
  },
  {
   "cell_type": "code",
   "execution_count": 390,
   "id": "67531a66-eed2-4f47-a7c8-1f0d0d713dd1",
   "metadata": {},
   "outputs": [
    {
     "ename": "ValueError",
     "evalue": "Document prompt requires documents to have metadata variables: ['source']. Received document with missing metadata: ['source'].",
     "output_type": "error",
     "traceback": [
      "\u001b[0;31m---------------------------------------------------------------------------\u001b[0m",
      "\u001b[0;31mValueError\u001b[0m                                Traceback (most recent call last)",
      "Cell \u001b[0;32mIn[390], line 3\u001b[0m\n\u001b[1;32m      1\u001b[0m question \u001b[38;5;241m=\u001b[39m \u001b[38;5;124m\"\u001b[39m\u001b[38;5;124mWhat compounds treat multiple sclerosis? State the provenance and phase of the treatment\u001b[39m\u001b[38;5;124m\"\u001b[39m\n\u001b[0;32m----> 3\u001b[0m llm_response \u001b[38;5;241m=\u001b[39m \u001b[43mqa_chain\u001b[49m\u001b[43m(\u001b[49m\u001b[43mquestion\u001b[49m\u001b[43m)\u001b[49m\n",
      "File \u001b[0;32m~/anaconda3/envs/llm_env/lib/python3.10/site-packages/langchain/chains/base.py:292\u001b[0m, in \u001b[0;36mChain.__call__\u001b[0;34m(self, inputs, return_only_outputs, callbacks, tags, metadata, run_name, include_run_info)\u001b[0m\n\u001b[1;32m    290\u001b[0m \u001b[38;5;28;01mexcept\u001b[39;00m \u001b[38;5;167;01mBaseException\u001b[39;00m \u001b[38;5;28;01mas\u001b[39;00m e:\n\u001b[1;32m    291\u001b[0m     run_manager\u001b[38;5;241m.\u001b[39mon_chain_error(e)\n\u001b[0;32m--> 292\u001b[0m     \u001b[38;5;28;01mraise\u001b[39;00m e\n\u001b[1;32m    293\u001b[0m run_manager\u001b[38;5;241m.\u001b[39mon_chain_end(outputs)\n\u001b[1;32m    294\u001b[0m final_outputs: Dict[\u001b[38;5;28mstr\u001b[39m, Any] \u001b[38;5;241m=\u001b[39m \u001b[38;5;28mself\u001b[39m\u001b[38;5;241m.\u001b[39mprep_outputs(\n\u001b[1;32m    295\u001b[0m     inputs, outputs, return_only_outputs\n\u001b[1;32m    296\u001b[0m )\n",
      "File \u001b[0;32m~/anaconda3/envs/llm_env/lib/python3.10/site-packages/langchain/chains/base.py:286\u001b[0m, in \u001b[0;36mChain.__call__\u001b[0;34m(self, inputs, return_only_outputs, callbacks, tags, metadata, run_name, include_run_info)\u001b[0m\n\u001b[1;32m    279\u001b[0m run_manager \u001b[38;5;241m=\u001b[39m callback_manager\u001b[38;5;241m.\u001b[39mon_chain_start(\n\u001b[1;32m    280\u001b[0m     dumpd(\u001b[38;5;28mself\u001b[39m),\n\u001b[1;32m    281\u001b[0m     inputs,\n\u001b[1;32m    282\u001b[0m     name\u001b[38;5;241m=\u001b[39mrun_name,\n\u001b[1;32m    283\u001b[0m )\n\u001b[1;32m    284\u001b[0m \u001b[38;5;28;01mtry\u001b[39;00m:\n\u001b[1;32m    285\u001b[0m     outputs \u001b[38;5;241m=\u001b[39m (\n\u001b[0;32m--> 286\u001b[0m         \u001b[38;5;28;43mself\u001b[39;49m\u001b[38;5;241;43m.\u001b[39;49m\u001b[43m_call\u001b[49m\u001b[43m(\u001b[49m\u001b[43minputs\u001b[49m\u001b[43m,\u001b[49m\u001b[43m \u001b[49m\u001b[43mrun_manager\u001b[49m\u001b[38;5;241;43m=\u001b[39;49m\u001b[43mrun_manager\u001b[49m\u001b[43m)\u001b[49m\n\u001b[1;32m    287\u001b[0m         \u001b[38;5;28;01mif\u001b[39;00m new_arg_supported\n\u001b[1;32m    288\u001b[0m         \u001b[38;5;28;01melse\u001b[39;00m \u001b[38;5;28mself\u001b[39m\u001b[38;5;241m.\u001b[39m_call(inputs)\n\u001b[1;32m    289\u001b[0m     )\n\u001b[1;32m    290\u001b[0m \u001b[38;5;28;01mexcept\u001b[39;00m \u001b[38;5;167;01mBaseException\u001b[39;00m \u001b[38;5;28;01mas\u001b[39;00m e:\n\u001b[1;32m    291\u001b[0m     run_manager\u001b[38;5;241m.\u001b[39mon_chain_error(e)\n",
      "File \u001b[0;32m~/anaconda3/envs/llm_env/lib/python3.10/site-packages/langchain/chains/qa_with_sources/base.py:155\u001b[0m, in \u001b[0;36mBaseQAWithSourcesChain._call\u001b[0;34m(self, inputs, run_manager)\u001b[0m\n\u001b[1;32m    152\u001b[0m \u001b[38;5;28;01melse\u001b[39;00m:\n\u001b[1;32m    153\u001b[0m     docs \u001b[38;5;241m=\u001b[39m \u001b[38;5;28mself\u001b[39m\u001b[38;5;241m.\u001b[39m_get_docs(inputs)  \u001b[38;5;66;03m# type: ignore[call-arg]\u001b[39;00m\n\u001b[0;32m--> 155\u001b[0m answer \u001b[38;5;241m=\u001b[39m \u001b[38;5;28;43mself\u001b[39;49m\u001b[38;5;241;43m.\u001b[39;49m\u001b[43mcombine_documents_chain\u001b[49m\u001b[38;5;241;43m.\u001b[39;49m\u001b[43mrun\u001b[49m\u001b[43m(\u001b[49m\n\u001b[1;32m    156\u001b[0m \u001b[43m    \u001b[49m\u001b[43minput_documents\u001b[49m\u001b[38;5;241;43m=\u001b[39;49m\u001b[43mdocs\u001b[49m\u001b[43m,\u001b[49m\u001b[43m \u001b[49m\u001b[43mcallbacks\u001b[49m\u001b[38;5;241;43m=\u001b[39;49m\u001b[43m_run_manager\u001b[49m\u001b[38;5;241;43m.\u001b[39;49m\u001b[43mget_child\u001b[49m\u001b[43m(\u001b[49m\u001b[43m)\u001b[49m\u001b[43m,\u001b[49m\u001b[43m \u001b[49m\u001b[38;5;241;43m*\u001b[39;49m\u001b[38;5;241;43m*\u001b[39;49m\u001b[43minputs\u001b[49m\n\u001b[1;32m    157\u001b[0m \u001b[43m\u001b[49m\u001b[43m)\u001b[49m\n\u001b[1;32m    158\u001b[0m answer, sources \u001b[38;5;241m=\u001b[39m \u001b[38;5;28mself\u001b[39m\u001b[38;5;241m.\u001b[39m_split_sources(answer)\n\u001b[1;32m    159\u001b[0m result: Dict[\u001b[38;5;28mstr\u001b[39m, Any] \u001b[38;5;241m=\u001b[39m {\n\u001b[1;32m    160\u001b[0m     \u001b[38;5;28mself\u001b[39m\u001b[38;5;241m.\u001b[39manswer_key: answer,\n\u001b[1;32m    161\u001b[0m     \u001b[38;5;28mself\u001b[39m\u001b[38;5;241m.\u001b[39msources_answer_key: sources,\n\u001b[1;32m    162\u001b[0m }\n",
      "File \u001b[0;32m~/anaconda3/envs/llm_env/lib/python3.10/site-packages/langchain/chains/base.py:492\u001b[0m, in \u001b[0;36mChain.run\u001b[0;34m(self, callbacks, tags, metadata, *args, **kwargs)\u001b[0m\n\u001b[1;32m    487\u001b[0m     \u001b[38;5;28;01mreturn\u001b[39;00m \u001b[38;5;28mself\u001b[39m(args[\u001b[38;5;241m0\u001b[39m], callbacks\u001b[38;5;241m=\u001b[39mcallbacks, tags\u001b[38;5;241m=\u001b[39mtags, metadata\u001b[38;5;241m=\u001b[39mmetadata)[\n\u001b[1;32m    488\u001b[0m         _output_key\n\u001b[1;32m    489\u001b[0m     ]\n\u001b[1;32m    491\u001b[0m \u001b[38;5;28;01mif\u001b[39;00m kwargs \u001b[38;5;129;01mand\u001b[39;00m \u001b[38;5;129;01mnot\u001b[39;00m args:\n\u001b[0;32m--> 492\u001b[0m     \u001b[38;5;28;01mreturn\u001b[39;00m \u001b[38;5;28;43mself\u001b[39;49m\u001b[43m(\u001b[49m\u001b[43mkwargs\u001b[49m\u001b[43m,\u001b[49m\u001b[43m \u001b[49m\u001b[43mcallbacks\u001b[49m\u001b[38;5;241;43m=\u001b[39;49m\u001b[43mcallbacks\u001b[49m\u001b[43m,\u001b[49m\u001b[43m \u001b[49m\u001b[43mtags\u001b[49m\u001b[38;5;241;43m=\u001b[39;49m\u001b[43mtags\u001b[49m\u001b[43m,\u001b[49m\u001b[43m \u001b[49m\u001b[43mmetadata\u001b[49m\u001b[38;5;241;43m=\u001b[39;49m\u001b[43mmetadata\u001b[49m\u001b[43m)\u001b[49m[\n\u001b[1;32m    493\u001b[0m         _output_key\n\u001b[1;32m    494\u001b[0m     ]\n\u001b[1;32m    496\u001b[0m \u001b[38;5;28;01mif\u001b[39;00m \u001b[38;5;129;01mnot\u001b[39;00m kwargs \u001b[38;5;129;01mand\u001b[39;00m \u001b[38;5;129;01mnot\u001b[39;00m args:\n\u001b[1;32m    497\u001b[0m     \u001b[38;5;28;01mraise\u001b[39;00m \u001b[38;5;167;01mValueError\u001b[39;00m(\n\u001b[1;32m    498\u001b[0m         \u001b[38;5;124m\"\u001b[39m\u001b[38;5;124m`run` supported with either positional arguments or keyword arguments,\u001b[39m\u001b[38;5;124m\"\u001b[39m\n\u001b[1;32m    499\u001b[0m         \u001b[38;5;124m\"\u001b[39m\u001b[38;5;124m but none were provided.\u001b[39m\u001b[38;5;124m\"\u001b[39m\n\u001b[1;32m    500\u001b[0m     )\n",
      "File \u001b[0;32m~/anaconda3/envs/llm_env/lib/python3.10/site-packages/langchain/chains/base.py:292\u001b[0m, in \u001b[0;36mChain.__call__\u001b[0;34m(self, inputs, return_only_outputs, callbacks, tags, metadata, run_name, include_run_info)\u001b[0m\n\u001b[1;32m    290\u001b[0m \u001b[38;5;28;01mexcept\u001b[39;00m \u001b[38;5;167;01mBaseException\u001b[39;00m \u001b[38;5;28;01mas\u001b[39;00m e:\n\u001b[1;32m    291\u001b[0m     run_manager\u001b[38;5;241m.\u001b[39mon_chain_error(e)\n\u001b[0;32m--> 292\u001b[0m     \u001b[38;5;28;01mraise\u001b[39;00m e\n\u001b[1;32m    293\u001b[0m run_manager\u001b[38;5;241m.\u001b[39mon_chain_end(outputs)\n\u001b[1;32m    294\u001b[0m final_outputs: Dict[\u001b[38;5;28mstr\u001b[39m, Any] \u001b[38;5;241m=\u001b[39m \u001b[38;5;28mself\u001b[39m\u001b[38;5;241m.\u001b[39mprep_outputs(\n\u001b[1;32m    295\u001b[0m     inputs, outputs, return_only_outputs\n\u001b[1;32m    296\u001b[0m )\n",
      "File \u001b[0;32m~/anaconda3/envs/llm_env/lib/python3.10/site-packages/langchain/chains/base.py:286\u001b[0m, in \u001b[0;36mChain.__call__\u001b[0;34m(self, inputs, return_only_outputs, callbacks, tags, metadata, run_name, include_run_info)\u001b[0m\n\u001b[1;32m    279\u001b[0m run_manager \u001b[38;5;241m=\u001b[39m callback_manager\u001b[38;5;241m.\u001b[39mon_chain_start(\n\u001b[1;32m    280\u001b[0m     dumpd(\u001b[38;5;28mself\u001b[39m),\n\u001b[1;32m    281\u001b[0m     inputs,\n\u001b[1;32m    282\u001b[0m     name\u001b[38;5;241m=\u001b[39mrun_name,\n\u001b[1;32m    283\u001b[0m )\n\u001b[1;32m    284\u001b[0m \u001b[38;5;28;01mtry\u001b[39;00m:\n\u001b[1;32m    285\u001b[0m     outputs \u001b[38;5;241m=\u001b[39m (\n\u001b[0;32m--> 286\u001b[0m         \u001b[38;5;28;43mself\u001b[39;49m\u001b[38;5;241;43m.\u001b[39;49m\u001b[43m_call\u001b[49m\u001b[43m(\u001b[49m\u001b[43minputs\u001b[49m\u001b[43m,\u001b[49m\u001b[43m \u001b[49m\u001b[43mrun_manager\u001b[49m\u001b[38;5;241;43m=\u001b[39;49m\u001b[43mrun_manager\u001b[49m\u001b[43m)\u001b[49m\n\u001b[1;32m    287\u001b[0m         \u001b[38;5;28;01mif\u001b[39;00m new_arg_supported\n\u001b[1;32m    288\u001b[0m         \u001b[38;5;28;01melse\u001b[39;00m \u001b[38;5;28mself\u001b[39m\u001b[38;5;241m.\u001b[39m_call(inputs)\n\u001b[1;32m    289\u001b[0m     )\n\u001b[1;32m    290\u001b[0m \u001b[38;5;28;01mexcept\u001b[39;00m \u001b[38;5;167;01mBaseException\u001b[39;00m \u001b[38;5;28;01mas\u001b[39;00m e:\n\u001b[1;32m    291\u001b[0m     run_manager\u001b[38;5;241m.\u001b[39mon_chain_error(e)\n",
      "File \u001b[0;32m~/anaconda3/envs/llm_env/lib/python3.10/site-packages/langchain/chains/combine_documents/base.py:105\u001b[0m, in \u001b[0;36mBaseCombineDocumentsChain._call\u001b[0;34m(self, inputs, run_manager)\u001b[0m\n\u001b[1;32m    103\u001b[0m \u001b[38;5;66;03m# Other keys are assumed to be needed for LLM prediction\u001b[39;00m\n\u001b[1;32m    104\u001b[0m other_keys \u001b[38;5;241m=\u001b[39m {k: v \u001b[38;5;28;01mfor\u001b[39;00m k, v \u001b[38;5;129;01min\u001b[39;00m inputs\u001b[38;5;241m.\u001b[39mitems() \u001b[38;5;28;01mif\u001b[39;00m k \u001b[38;5;241m!=\u001b[39m \u001b[38;5;28mself\u001b[39m\u001b[38;5;241m.\u001b[39minput_key}\n\u001b[0;32m--> 105\u001b[0m output, extra_return_dict \u001b[38;5;241m=\u001b[39m \u001b[38;5;28;43mself\u001b[39;49m\u001b[38;5;241;43m.\u001b[39;49m\u001b[43mcombine_docs\u001b[49m\u001b[43m(\u001b[49m\n\u001b[1;32m    106\u001b[0m \u001b[43m    \u001b[49m\u001b[43mdocs\u001b[49m\u001b[43m,\u001b[49m\u001b[43m \u001b[49m\u001b[43mcallbacks\u001b[49m\u001b[38;5;241;43m=\u001b[39;49m\u001b[43m_run_manager\u001b[49m\u001b[38;5;241;43m.\u001b[39;49m\u001b[43mget_child\u001b[49m\u001b[43m(\u001b[49m\u001b[43m)\u001b[49m\u001b[43m,\u001b[49m\u001b[43m \u001b[49m\u001b[38;5;241;43m*\u001b[39;49m\u001b[38;5;241;43m*\u001b[39;49m\u001b[43mother_keys\u001b[49m\n\u001b[1;32m    107\u001b[0m \u001b[43m\u001b[49m\u001b[43m)\u001b[49m\n\u001b[1;32m    108\u001b[0m extra_return_dict[\u001b[38;5;28mself\u001b[39m\u001b[38;5;241m.\u001b[39moutput_key] \u001b[38;5;241m=\u001b[39m output\n\u001b[1;32m    109\u001b[0m \u001b[38;5;28;01mreturn\u001b[39;00m extra_return_dict\n",
      "File \u001b[0;32m~/anaconda3/envs/llm_env/lib/python3.10/site-packages/langchain/chains/combine_documents/stuff.py:169\u001b[0m, in \u001b[0;36mStuffDocumentsChain.combine_docs\u001b[0;34m(self, docs, callbacks, **kwargs)\u001b[0m\n\u001b[1;32m    155\u001b[0m \u001b[38;5;28;01mdef\u001b[39;00m \u001b[38;5;21mcombine_docs\u001b[39m(\n\u001b[1;32m    156\u001b[0m     \u001b[38;5;28mself\u001b[39m, docs: List[Document], callbacks: Callbacks \u001b[38;5;241m=\u001b[39m \u001b[38;5;28;01mNone\u001b[39;00m, \u001b[38;5;241m*\u001b[39m\u001b[38;5;241m*\u001b[39mkwargs: Any\n\u001b[1;32m    157\u001b[0m ) \u001b[38;5;241m-\u001b[39m\u001b[38;5;241m>\u001b[39m Tuple[\u001b[38;5;28mstr\u001b[39m, \u001b[38;5;28mdict\u001b[39m]:\n\u001b[1;32m    158\u001b[0m \u001b[38;5;250m    \u001b[39m\u001b[38;5;124;03m\"\"\"Stuff all documents into one prompt and pass to LLM.\u001b[39;00m\n\u001b[1;32m    159\u001b[0m \n\u001b[1;32m    160\u001b[0m \u001b[38;5;124;03m    Args:\u001b[39;00m\n\u001b[0;32m   (...)\u001b[0m\n\u001b[1;32m    167\u001b[0m \u001b[38;5;124;03m        element returned is a dictionary of other keys to return.\u001b[39;00m\n\u001b[1;32m    168\u001b[0m \u001b[38;5;124;03m    \"\"\"\u001b[39;00m\n\u001b[0;32m--> 169\u001b[0m     inputs \u001b[38;5;241m=\u001b[39m \u001b[38;5;28;43mself\u001b[39;49m\u001b[38;5;241;43m.\u001b[39;49m\u001b[43m_get_inputs\u001b[49m\u001b[43m(\u001b[49m\u001b[43mdocs\u001b[49m\u001b[43m,\u001b[49m\u001b[43m \u001b[49m\u001b[38;5;241;43m*\u001b[39;49m\u001b[38;5;241;43m*\u001b[39;49m\u001b[43mkwargs\u001b[49m\u001b[43m)\u001b[49m\n\u001b[1;32m    170\u001b[0m     \u001b[38;5;66;03m# Call predict on the LLM.\u001b[39;00m\n\u001b[1;32m    171\u001b[0m     \u001b[38;5;28;01mreturn\u001b[39;00m \u001b[38;5;28mself\u001b[39m\u001b[38;5;241m.\u001b[39mllm_chain\u001b[38;5;241m.\u001b[39mpredict(callbacks\u001b[38;5;241m=\u001b[39mcallbacks, \u001b[38;5;241m*\u001b[39m\u001b[38;5;241m*\u001b[39minputs), {}\n",
      "File \u001b[0;32m~/anaconda3/envs/llm_env/lib/python3.10/site-packages/langchain/chains/combine_documents/stuff.py:125\u001b[0m, in \u001b[0;36mStuffDocumentsChain._get_inputs\u001b[0;34m(self, docs, **kwargs)\u001b[0m\n\u001b[1;32m    110\u001b[0m \u001b[38;5;250m\u001b[39m\u001b[38;5;124;03m\"\"\"Construct inputs from kwargs and docs.\u001b[39;00m\n\u001b[1;32m    111\u001b[0m \n\u001b[1;32m    112\u001b[0m \u001b[38;5;124;03mFormat and the join all the documents together into one input with name\u001b[39;00m\n\u001b[0;32m   (...)\u001b[0m\n\u001b[1;32m    122\u001b[0m \u001b[38;5;124;03m    dictionary of inputs to LLMChain\u001b[39;00m\n\u001b[1;32m    123\u001b[0m \u001b[38;5;124;03m\"\"\"\u001b[39;00m\n\u001b[1;32m    124\u001b[0m \u001b[38;5;66;03m# Format each document according to the prompt\u001b[39;00m\n\u001b[0;32m--> 125\u001b[0m doc_strings \u001b[38;5;241m=\u001b[39m [format_document(doc, \u001b[38;5;28mself\u001b[39m\u001b[38;5;241m.\u001b[39mdocument_prompt) \u001b[38;5;28;01mfor\u001b[39;00m doc \u001b[38;5;129;01min\u001b[39;00m docs]\n\u001b[1;32m    126\u001b[0m \u001b[38;5;66;03m# Join the documents together to put them in the prompt.\u001b[39;00m\n\u001b[1;32m    127\u001b[0m inputs \u001b[38;5;241m=\u001b[39m {\n\u001b[1;32m    128\u001b[0m     k: v\n\u001b[1;32m    129\u001b[0m     \u001b[38;5;28;01mfor\u001b[39;00m k, v \u001b[38;5;129;01min\u001b[39;00m kwargs\u001b[38;5;241m.\u001b[39mitems()\n\u001b[1;32m    130\u001b[0m     \u001b[38;5;28;01mif\u001b[39;00m k \u001b[38;5;129;01min\u001b[39;00m \u001b[38;5;28mself\u001b[39m\u001b[38;5;241m.\u001b[39mllm_chain\u001b[38;5;241m.\u001b[39mprompt\u001b[38;5;241m.\u001b[39minput_variables\n\u001b[1;32m    131\u001b[0m }\n",
      "File \u001b[0;32m~/anaconda3/envs/llm_env/lib/python3.10/site-packages/langchain/chains/combine_documents/stuff.py:125\u001b[0m, in \u001b[0;36m<listcomp>\u001b[0;34m(.0)\u001b[0m\n\u001b[1;32m    110\u001b[0m \u001b[38;5;250m\u001b[39m\u001b[38;5;124;03m\"\"\"Construct inputs from kwargs and docs.\u001b[39;00m\n\u001b[1;32m    111\u001b[0m \n\u001b[1;32m    112\u001b[0m \u001b[38;5;124;03mFormat and the join all the documents together into one input with name\u001b[39;00m\n\u001b[0;32m   (...)\u001b[0m\n\u001b[1;32m    122\u001b[0m \u001b[38;5;124;03m    dictionary of inputs to LLMChain\u001b[39;00m\n\u001b[1;32m    123\u001b[0m \u001b[38;5;124;03m\"\"\"\u001b[39;00m\n\u001b[1;32m    124\u001b[0m \u001b[38;5;66;03m# Format each document according to the prompt\u001b[39;00m\n\u001b[0;32m--> 125\u001b[0m doc_strings \u001b[38;5;241m=\u001b[39m [\u001b[43mformat_document\u001b[49m\u001b[43m(\u001b[49m\u001b[43mdoc\u001b[49m\u001b[43m,\u001b[49m\u001b[43m \u001b[49m\u001b[38;5;28;43mself\u001b[39;49m\u001b[38;5;241;43m.\u001b[39;49m\u001b[43mdocument_prompt\u001b[49m\u001b[43m)\u001b[49m \u001b[38;5;28;01mfor\u001b[39;00m doc \u001b[38;5;129;01min\u001b[39;00m docs]\n\u001b[1;32m    126\u001b[0m \u001b[38;5;66;03m# Join the documents together to put them in the prompt.\u001b[39;00m\n\u001b[1;32m    127\u001b[0m inputs \u001b[38;5;241m=\u001b[39m {\n\u001b[1;32m    128\u001b[0m     k: v\n\u001b[1;32m    129\u001b[0m     \u001b[38;5;28;01mfor\u001b[39;00m k, v \u001b[38;5;129;01min\u001b[39;00m kwargs\u001b[38;5;241m.\u001b[39mitems()\n\u001b[1;32m    130\u001b[0m     \u001b[38;5;28;01mif\u001b[39;00m k \u001b[38;5;129;01min\u001b[39;00m \u001b[38;5;28mself\u001b[39m\u001b[38;5;241m.\u001b[39mllm_chain\u001b[38;5;241m.\u001b[39mprompt\u001b[38;5;241m.\u001b[39minput_variables\n\u001b[1;32m    131\u001b[0m }\n",
      "File \u001b[0;32m~/anaconda3/envs/llm_env/lib/python3.10/site-packages/langchain/schema/prompt_template.py:194\u001b[0m, in \u001b[0;36mformat_document\u001b[0;34m(doc, prompt)\u001b[0m\n\u001b[1;32m    190\u001b[0m \u001b[38;5;28;01mif\u001b[39;00m \u001b[38;5;28mlen\u001b[39m(missing_metadata) \u001b[38;5;241m>\u001b[39m \u001b[38;5;241m0\u001b[39m:\n\u001b[1;32m    191\u001b[0m     required_metadata \u001b[38;5;241m=\u001b[39m [\n\u001b[1;32m    192\u001b[0m         iv \u001b[38;5;28;01mfor\u001b[39;00m iv \u001b[38;5;129;01min\u001b[39;00m prompt\u001b[38;5;241m.\u001b[39minput_variables \u001b[38;5;28;01mif\u001b[39;00m iv \u001b[38;5;241m!=\u001b[39m \u001b[38;5;124m\"\u001b[39m\u001b[38;5;124mpage_content\u001b[39m\u001b[38;5;124m\"\u001b[39m\n\u001b[1;32m    193\u001b[0m     ]\n\u001b[0;32m--> 194\u001b[0m     \u001b[38;5;28;01mraise\u001b[39;00m \u001b[38;5;167;01mValueError\u001b[39;00m(\n\u001b[1;32m    195\u001b[0m         \u001b[38;5;124mf\u001b[39m\u001b[38;5;124m\"\u001b[39m\u001b[38;5;124mDocument prompt requires documents to have metadata variables: \u001b[39m\u001b[38;5;124m\"\u001b[39m\n\u001b[1;32m    196\u001b[0m         \u001b[38;5;124mf\u001b[39m\u001b[38;5;124m\"\u001b[39m\u001b[38;5;132;01m{\u001b[39;00mrequired_metadata\u001b[38;5;132;01m}\u001b[39;00m\u001b[38;5;124m. Received document with missing metadata: \u001b[39m\u001b[38;5;124m\"\u001b[39m\n\u001b[1;32m    197\u001b[0m         \u001b[38;5;124mf\u001b[39m\u001b[38;5;124m\"\u001b[39m\u001b[38;5;132;01m{\u001b[39;00m\u001b[38;5;28mlist\u001b[39m(missing_metadata)\u001b[38;5;132;01m}\u001b[39;00m\u001b[38;5;124m.\u001b[39m\u001b[38;5;124m\"\u001b[39m\n\u001b[1;32m    198\u001b[0m     )\n\u001b[1;32m    199\u001b[0m document_info \u001b[38;5;241m=\u001b[39m {k: base_info[k] \u001b[38;5;28;01mfor\u001b[39;00m k \u001b[38;5;129;01min\u001b[39;00m prompt\u001b[38;5;241m.\u001b[39minput_variables}\n\u001b[1;32m    200\u001b[0m \u001b[38;5;28;01mreturn\u001b[39;00m prompt\u001b[38;5;241m.\u001b[39mformat(\u001b[38;5;241m*\u001b[39m\u001b[38;5;241m*\u001b[39mdocument_info)\n",
      "\u001b[0;31mValueError\u001b[0m: Document prompt requires documents to have metadata variables: ['source']. Received document with missing metadata: ['source']."
     ]
    }
   ],
   "source": [
    "question = \"What compounds treat multiple sclerosis? State the provenance and phase of the treatment\"\n",
    "\n",
    "llm_response = qa_chain(question)\n"
   ]
  },
  {
   "cell_type": "code",
   "execution_count": 387,
   "id": "cb7ecc8e-c1d2-4cc5-9460-e3f39c1ab929",
   "metadata": {},
   "outputs": [
    {
     "data": {
      "text/plain": [
       "{'query': 'What compounds treat multiple sclerosis? State the provenance and phase of the treatment',\n",
       " 'result': ' Based on the given context, the following compounds treat multiple sclerosis:\\n\\n1. Minocycline (phase 3, source: ChEMBL)\\n2. Histamine (phase 3, source: ChEMBL)\\n3. Evobrutinib (phase 3, source: ChEMBL)\\n4. Acetazolamide (phase 2, source: ChEMBL)\\n5. Prednisolone (phase 4, source: ChEMBL and DrugCentral)\\n6. Methylprednisolone (phase 4, source: ChEMBL and DrugCentral)\\n7. Isopropyl Alcohol (phase 4, source: ChEMBL)\\n8. Topiramate (phase 2, source: ChEMBL)\\n9. Creatine (phase 1, source: ChEMBL)\\n10. Taurine (phase 1, source: ChEMBL)\\n11. Icosapent (phase 2, source: ChEMBL)\\n12. Laquinimod (phase 3, source: ChEMBL)\\n13. Dronabinol (phase 1, source: ChEMBL)\\n14. Dantrolene (phase 4, source: ChEMBL)\\n15. Triamcinolone Acetonide (phase 4, source: ChEMBL and DrugCentral)\\n16. Leflunomide (phase 4, source: ChEMBL)\\n17. Prednisone (phase 4, source: ChEMBL and DrugCentral)\\n18. Amantadine (phase 3, source: ChEMBL)\\n19. (3-Carboxy-2-(R)-hydroxy-propyl)-trimethyl-ammonium (phase 3, source: ChEMBL)\\n20. Isoxsuprine (phase 1, source: ChEMBL)\\n21. Doconexent (phase 1, source: ChEMBL)\\n\\nNote that the provenance and phase of treatment for each compound are stated in parentheses after the compound name.',\n",
       " 'source_documents': [Document(page_content=\"(1) 'phase' is 2 (2) 'sources' is ['ChEMBL'] \\nCompound Minocycline TREATS multiple sclerosis. Attributes of this relationship are:\\n(1) 'phase' is 3 (2) 'sources' is ['ChEMBL'] \\nCompound Histamine TREATS multiple sclerosis. Attributes of this relationship are:\\n(1) 'phase' is 2 (2) 'sources' is ['ChEMBL'] \\nCompound Evobrutinib TREATS multiple sclerosis. Attributes of this relationship are:\\n(1) 'phase' is 3 (2) 'sources' is ['ChEMBL'] \\nCompound Acetazolamide TREATS multiple sclerosis. Attributes of this relationship are:\\n(1) 'phase' is 2 (2) 'sources' is ['ChEMBL'] \\nCompound Prednisolone TREATS multiple sclerosis. Attributes of this relationship are:\\n(1) 'phase' is 4 (2) 'sources' is ['ChEMBL'] (3) 'source' is ['ChEMBL', 'DrugCentral'] \\nCompound Methylprednisolone TREATS multiple sclerosis. Attributes of this relationship are:\\n(1) 'phase' is 4 (2) 'sources' is ['ChEMBL'] (3) 'source' is ['ChEMBL', 'DrugCentral'] \\nCompound Isopropyl Alcohol TREATS multiple sclerosis. Attributes of this relationship are:\\n(1) 'phase' is 4 (2) 'sources' is ['ChEMBL'] \\nCompound Topiramate TREATS multiple sclerosis. Attributes of this relationship are:\\n(1) 'phase' is 2 (2) 'sources' is ['ChEMBL'] \\nCompound Creatine TREATS multiple sclerosis. Attributes of this relationship are:\\n(1) 'phase' is 1 (2) 'sources' is ['ChEMBL'] \\nCompound Taurine TREATS multiple sclerosis. Attributes of this relationship are:\\n(1) 'phase' is 1 (2) 'sources' is ['ChEMBL'] \\nCompound Icosapent TREATS multiple sclerosis. Attributes of this relationship are:\\n(1) 'phase' is 2 (2) 'sources' is ['ChEMBL'] \\nCompound Laquinimod TREATS multiple sclerosis. Attributes of this relationship are:\\n(1) 'phase' is 3 (2) 'sources' is ['ChEMBL'] \\nCompound Dronabinol TREATS multiple sclerosis. Attributes of this relationship are:\\n(1) 'phase' is 1 (2) 'sources' is ['ChEMBL'] \\nCompound Dantrolene TREATS multiple sclerosis. Attributes of this relationship are:\\n(1) 'phase' is 4 (2) 'sources' is ['ChEMBL'] \\nCompound Triamcinolone Acetonide TREATS multiple sclerosis. Attributes of this relationship are:\\n(1) 'phase' is 4 (2) 'sources' is ['ChEMBL'] (3) 'source' is ['ChEMBL', 'DrugCentral'] \\nCompound Leflunomide TREATS multiple sclerosis. Attributes of this relationship are:\\n(1) 'phase' is 4 (2) 'sources' is ['ChEMBL'] \\nCompound Prednisone TREATS multiple sclerosis. Attributes of this relationship are:\\n(1) 'phase' is 4 (2) 'sources' is ['ChEMBL'] (3) 'source' is ['ChEMBL', 'DrugCentral'] \\nCompound Amantadine TREATS multiple sclerosis. Attributes of this relationship are:\\n(1) 'phase' is 3 (2) 'sources' is ['ChEMBL'] \\nCompound (3-Carboxy-2-(R)-hydroxy-propyl)-trimethyl-ammonium TREATS multiple sclerosis. Attributes of this relationship are:\\n(1) 'phase' is 3 (2) 'sources' is ['ChEMBL'] \\nCompound Isoxsuprine TREATS multiple sclerosis. Attributes of this relationship are:\\n(1) 'phase' is 1 (2) 'sources' is ['ChEMBL'] \\nCompound Doconexent TREATS multiple sclerosis. Attributes of this relationship are:\", metadata={'node information': 'Disease multiple sclerosis from SPOKE knowledge graph'})]}"
      ]
     },
     "execution_count": 387,
     "metadata": {},
     "output_type": "execute_result"
    }
   ],
   "source": [
    "llm_response"
   ]
  },
  {
   "cell_type": "code",
   "execution_count": 321,
   "id": "77d834b6-a0d1-4149-ad25-00415b7f0b94",
   "metadata": {},
   "outputs": [
    {
     "data": {
      "text/plain": [
       "\" Based on the given context, there are several compounds that have been found to treat hereditary spastic paraplegia (HSP), including:\\n\\n1. Baclofen\\n2. Diazepam\\n3. Ibuprofen\\n4. 4-Aminopyridine\\n\\nThese compounds have been associated with HSP through various sources, including ChEMBL, and have been found to have a relationship with the disease based on their attributes, such as 'phase' and 'sources'.\\n\\nThe provenance of this information is:\\n\\n* ChEMBL: a large-scale chemical database\\n* NCBI PubMed: a database of biomedical literature\\n\\nNote that while these compounds have been found to be associated with HSP, further research and clinical trials are needed to confirm their efficacy and safety as treatments for the disease.\""
      ]
     },
     "execution_count": 321,
     "metadata": {},
     "output_type": "execute_result"
    }
   ],
   "source": [
    "result[\"result\"]"
   ]
  },
  {
   "cell_type": "code",
   "execution_count": 359,
   "id": "31b2c15e-4349-4084-932d-1d513ff2ed77",
   "metadata": {},
   "outputs": [
    {
     "data": {
      "text/plain": [
       "[Document(page_content=\"Following is the contextual information about the Disease hepatitis A (Disease Ontology identifier of this Disease is DOID:12549).\\nhepatitis A ASSOCIATES Gene GPT. Attributes of this relationship are:\\n(1) 'sources' is ['DISEASES'] (2) 'diseases_confidences' is [3.249] (3) 'diseases_scores' is ['6.499'] \\nhepatitis A ISA Disease viral infectious disease. Attributes of this relationship are:\\n(1) 'source' is Disease Ontology \\nCompound TYPHOID VACCINE TREATS hepatitis A. Attributes of this relationship are:\\n(1) 'phase' is 3 (2) 'sources' is ['ChEMBL'] \\nCompound HONEY TREATS hepatitis A. Attributes of this relationship are:\\n(1) 'phase' is 2 (2) 'sources' is ['ChEMBL'] \\nOrganism Hepatovirus A CAUSES hepatitis A. Attributes of this relationship are:\\n(1) 'source' is PathoPhenoDB \\nCompound Silibinin TREATS hepatitis A. Attributes of this relationship are:\\n(1) 'phase' is 2 (2) 'sources' is ['ChEMBL'] \\nCompound beta-Lactose TREATS hepatitis A. Attributes of this relationship are:\\n(1) 'phase' is 2 (2) 'sources' is ['ChEMBL'] \\nEND OF NODE CONTEXT\", metadata={'node information': 'Disease hepatitis A from SPOKE knowledge graph'}),\n",
       " Document(page_content=\"(1) 'phase' is 1 (2) 'sources' is ['ChEMBL'] \\nCompound Clemizole TREATS hepatitis C. Attributes of this relationship are:\\n(1) 'phase' is 1 (2) 'sources' is ['ChEMBL'] \\nCompound (1S,2S,6R,14R,15S,16R)-5-(cyclopropylmethyl)-16-[(2S)-2-hydroxy-3,3-dimethylbutan-2-yl]-15-methoxy-13-oxa-5-azahexacyclo[13.2.2.12,8.01,6.02,14.012,20]icosa-8(20),9,11-trien-11-ol TREATS hepatitis C. Attributes of this relationship are:\\n(1) 'phase' is 1 (2) 'sources' is ['ChEMBL'] \\nCompound Radalbuvir TREATS hepatitis C. Attributes of this relationship are:\\n(1) 'phase' is 1 (2) 'sources' is ['ChEMBL'] \\nCompound 4-[4-(4-Chloro-phenoxy)-benzenesulfonylmethyl]-tetrahydro-pyran-4-carboxylic acid hydroxyamide TREATS hepatitis C. Attributes of this relationship are:\\n(1) 'phase' is 2 (2) 'sources' is ['ChEMBL'] \\nCompound Tacrolimus TREATS hepatitis C. Attributes of this relationship are:\\n(1) 'phase' is 2 (2) 'sources' is ['ChEMBL'] \\nCompound Tegobuvir TREATS hepatitis C. Attributes of this relationship are:\\n(1) 'phase' is 2 (2) 'sources' is ['ChEMBL'] \\nCompound Efavirenz TREATS hepatitis C. Attributes of this relationship are:\\n(1) 'phase' is 1 (2) 'sources' is ['ChEMBL'] \\nCompound Lopinavir TREATS hepatitis C. Attributes of this relationship are:\\n(1) 'phase' is 1 (2) 'sources' is ['ChEMBL'] \\nCompound (1R,18R,20R,24S,27S,28S)-24-tert-butyl-28-ethyl-13,13-difluoro-7-methoxy-N-[(1R,2S)-1-[(1-methylcyclopropyl)sulfonylcarbamoyl]-2-propan-2-ylcyclopropyl]-22,25-dioxo-2,21-dioxa-4,11,23,26-tetrazapentacyclo[24.2.1.03,12.05,10.018,20]nonacosa-3,5(10),6,8,11-pentaene-27-carboxamide TREATS hepatitis C. Attributes of this relationship are:\\n(1) 'phase' is 1 (2) 'sources' is ['ChEMBL'] \\nCompound Ritonavir TREATS hepatitis C. Attributes of this relationship are:\\n(1) 'phase' is 4 (2) 'sources' is ['ChEMBL'] \\nCompound Ciprofloxacin TREATS hepatitis C. Attributes of this relationship are:\\n(1) 'phase' is 1 (2) 'sources' is ['ChEMBL'] \\nCompound Cannabinol TREATS hepatitis C. Attributes of this relationship are:\\n(1) 'phase' is 2 (2) 'sources' is ['ChEMBL'] \\nCompound Elbasvir TREATS hepatitis C. Attributes of this relationship are:\\n(1) 'phase' is 3 (2) 'sources' is ['ChEMBL'] \\nCompound Mifepristone TREATS hepatitis C. Attributes of this relationship are:\\n(1) 'phase' is 2 (2) 'sources' is ['ChEMBL'] \\nCompound N,N,N-trimethylglycinium TREATS hepatitis C. Attributes of this relationship are:\\n(1) 'phase' is 2 (2) 'sources' is ['ChEMBL'] \\nCompound Glecaprevir TREATS hepatitis C. Attributes of this relationship are:\\n(1) 'phase' is 3 (2) 'sources' is ['ChEMBL'] \\nCompound 4-[5-(cyclopropanecarbonylamino)-2-(trifluoromethoxy)phenyl]-N-[4-[(4-propylsulfonylpiperazin-1-yl)methyl]phenyl]benzamide TREATS hepatitis C. Attributes of this relationship are:\\n(1) 'phase' is 1 (2) 'sources' is ['ChEMBL'] \\nCompound Digoxin TREATS hepatitis C. Attributes of this relationship are:\\n(1) 'phase' is 1 (2) 'sources' is ['ChEMBL'] \\nCompound Eltrombopag TREATS hepatitis C. Attributes of this relationship are:\", metadata={'node information': 'Disease hepatitis C from SPOKE knowledge graph'})]"
      ]
     },
     "execution_count": 359,
     "metadata": {},
     "output_type": "execute_result"
    }
   ],
   "source": [
    "result[\"source_documents\"]"
   ]
  },
  {
   "cell_type": "code",
   "execution_count": 250,
   "id": "d0adcba8-a366-42cd-b6d5-161f7c5f34f9",
   "metadata": {},
   "outputs": [
    {
     "data": {
      "text/plain": [
       "[Document(page_content=\"scurvy LOCALIZES Anatomy alveolar ridge. Attributes of this relationship are:\\n(1) 'enrichment' is 26.40382262996942 (2) 'odds' is 27.46189376443418 (3) 'source' is NCBI PubMed (4) 'cooccur' is 3 (5) 'fisher' is 0.00021635000764512021 \\nscurvy LOCALIZES Anatomy pubic symphysis. Attributes of this relationship are:\\n(1) 'enrichment' is 32.1117619711762 (2) 'odds' is 33.087360951285 (3) 'source' is NCBI PubMed (4) 'cooccur' is 2 (5) 'fisher' is 0.0018347761682033837 \\nscurvy LOCALIZES Anatomy autonomic ganglion. Attributes of this relationship are:\\n(1) 'enrichment' is 28.215849673202616 (2) 'odds' is 29.04057239057239 (3) 'source' is NCBI PubMed (4) 'cooccur' is 2 (5) 'fisher' is 0.0023644138485134163 \\nscurvy LOCALIZES Anatomy aqueous humor of eyeball. Attributes of this relationship are:\\n(1) 'enrichment' is 10.475037913254475 (2) 'odds' is 10.828593002768688 (3) 'source' is NCBI PubMed (4) 'cooccur' is 3 (5) 'fisher' is 0.003072773400700315 \\nscurvy LOCALIZES Anatomy periodontium. Attributes of this relationship are:\\n(1) 'enrichment' is 30.310865367737406 (2) 'odds' is 32.282128137879354 (3) 'source' is NCBI PubMed (4) 'cooccur' is 5 (5) 'fisher' is 7.867715418925426e-07 \\nscurvy PRESENTS Symptom Arthralgia. Attributes of this relationship are:\\n(1) 'enrichment' is 23.795175356339083 (2) 'odds' is 25.991351281886526 (3) 'source' is NCBI PubMed (4) 'cooccur' is 7 (5) 'fisher' is 2.2797349420769752e-08 \\nscurvy PRESENTS Symptom Oral Hemorrhage. Attributes of this relationship are:\\n(1) 'enrichment' is 61.311205073995765 (2) 'odds' is 66.21993598536808 (3) 'source' is NCBI PubMed (4) 'cooccur' is 5 (5) 'fisher' is 2.417789860696668e-08 \\nscurvy PRESENTS Symptom Ecchymosis. Attributes of this relationship are:\\n(1) 'enrichment' is 163.8275115337539 (2) 'odds' is 199.8948821161587 (3) 'source' is NCBI PubMed (4) 'cooccur' is 12 (5) 'fisher' is 1.6074068955612486e-23 \\nscurvy PRESENTS Symptom Eye Hemorrhage. Attributes of this relationship are:\\n(1) 'enrichment' is 31.31996544027648 (2) 'odds' is 32.71039156626506 (3) 'source' is NCBI PubMed (4) 'cooccur' is 3 (5) 'fisher' is 0.00013080698589791376 \\nscurvy PRESENTS Symptom Purpura. Attributes of this relationship are:\\n(1) 'enrichment' is 25.961545347842524 (2) 'odds' is 53.76459209419681 (3) 'source' is NCBI PubMed (4) 'cooccur' is 45 (5) 'fisher' is 1.135569526152318e-52 \\nscurvy PRESENTS Symptom Purpura, Thrombocytopenic. Attributes of this relationship are:\\n(1) 'enrichment' is 6.018949181739879 (2) 'odds' is 6.273188176673899 (3) 'source' is NCBI PubMed (4) 'cooccur' is 4 (5) 'fisher' is 0.004570901778197593 \\nCompound Ascorbic Acid TREATS scurvy. Attributes of this relationship are:\\n(1) 'phase' is 4 (2) 'sources' is ['ChEMBL'] \\nDisease rickets RESEMBLES scurvy. Attributes of this relationship are:\\n(1) 'enrichment' is 15.058946881504896 (2) 'odds' is 15.415414715124207 (3) 'source' is NCBI PubMed (4) 'cooccur' is 33 (5) 'fisher' is 1.7014049614690184e-27\", metadata={'node information': 'Disease scurvy from SPOKE knowledge graph'})]"
      ]
     },
     "execution_count": 250,
     "metadata": {},
     "output_type": "execute_result"
    }
   ],
   "source": [
    "result[\"source_documents\"]"
   ]
  },
  {
   "cell_type": "code",
   "execution_count": null,
   "id": "adaeb837-5dee-4773-afe3-285d9e6eb10f",
   "metadata": {},
   "outputs": [],
   "source": []
  },
  {
   "cell_type": "code",
   "execution_count": null,
   "id": "9661490f-92b1-4c41-8b3f-07a9aa35acd8",
   "metadata": {},
   "outputs": [],
   "source": []
  },
  {
   "cell_type": "code",
   "execution_count": null,
   "id": "ada3adb1-e439-4645-a87f-36325342d698",
   "metadata": {},
   "outputs": [],
   "source": []
  },
  {
   "cell_type": "code",
   "execution_count": 108,
   "id": "b3adf731-64f0-4670-a6c3-4a9020a2c7be",
   "metadata": {},
   "outputs": [],
   "source": [
    "# %%time\n",
    "\n",
    "# # Split docs into batches of 5000\n",
    "# batches = [docs[i:i + 200] for i in range(0, len(docs), 200)]\n",
    "# batches = batches[0:2]\n",
    "\n",
    "# vectorstore = Chroma(embedding_function=SentenceTransformerEmbeddings(model_name=\"all-MiniLM-L6-v2\"), \n",
    "#                      persist_directory=\"disease_context\")\n",
    "\n",
    "# # Add each batch to the Chroma instance\n",
    "# for batch in batches:\n",
    "#     vectorstore.add_documents(documents=batch)"
   ]
  },
  {
   "cell_type": "code",
   "execution_count": 107,
   "id": "5b47b8e2-8691-44b1-9f55-cc5ec9b565cf",
   "metadata": {},
   "outputs": [],
   "source": [
    "\n",
    "# docs"
   ]
  },
  {
   "cell_type": "code",
   "execution_count": null,
   "id": "04078bd1-c498-4b04-a4ca-3825c9499641",
   "metadata": {},
   "outputs": [],
   "source": []
  }
 ],
 "metadata": {
  "kernelspec": {
   "display_name": "Python 3 (ipykernel)",
   "language": "python",
   "name": "python3"
  },
  "language_info": {
   "codemirror_mode": {
    "name": "ipython",
    "version": 3
   },
   "file_extension": ".py",
   "mimetype": "text/x-python",
   "name": "python",
   "nbconvert_exporter": "python",
   "pygments_lexer": "ipython3",
   "version": "3.10.9"
  }
 },
 "nbformat": 4,
 "nbformat_minor": 5
}
