{
 "cells": [
  {
   "cell_type": "code",
   "execution_count": 2,
   "id": "704f2405",
   "metadata": {},
   "outputs": [],
   "source": [
    "from langchain.llms import Ollama\n",
    "from langchain.callbacks.manager import CallbackManager\n",
    "from langchain.callbacks.streaming_stdout import StreamingStdOutCallbackHandler "
   ]
  },
  {
   "cell_type": "code",
   "execution_count": 19,
   "id": "4738f974",
   "metadata": {},
   "outputs": [],
   "source": [
    "llm = Ollama(base_url=\"http://localhost:11434\", \n",
    "             model=\"llama2:13b\",\n",
    "             temperature=0.1,\n",
    "             callback_manager = CallbackManager([StreamingStdOutCallbackHandler()]))"
   ]
  },
  {
   "cell_type": "code",
   "execution_count": 20,
   "id": "0c968265",
   "metadata": {},
   "outputs": [],
   "source": [
    "question = \"What is the disease ontology identifier for focal dystonia and what are the genes associated with this disease?\"\n",
    "\n",
    "context = \"\"\"Following is the contextual information about the Disease focal dystonia (Disease Ontology identifier of this Disease is DOID:0050836).\n",
    "focal dystonia ASSOCIATES Gene TAF1L. Attributes of this relationship are:\n",
    "(1) 'sources' is ['DISEASES'] (2) 'diseases_confidences' is [3.327] (3) 'diseases_scores' is ['6.653'] \n",
    "focal dystonia ASSOCIATES Gene CDIP1. Attributes of this relationship are:\n",
    "(1) 'sources' is ['DISEASES'] (2) 'diseases_confidences' is [3.09] (3) 'diseases_scores' is ['6.179'] \n",
    "focal dystonia ASSOCIATES Gene TOR1A. Attributes of this relationship are:\n",
    "(1) 'sources' is ['DISEASES'] (2) 'diseases_confidences' is [3.557] (3) 'diseases_scores' is ['7.115'] \n",
    "focal dystonia ASSOCIATES Gene SGCE. Attributes of this relationship are:\n",
    "(1) 'sources' is ['DISEASES'] (2) 'diseases_confidences' is [3.214] (3) 'diseases_scores' is ['6.428'] \n",
    "focal dystonia ASSOCIATES Gene CIZ1. Attributes of this relationship are:\n",
    "(1) 'sources' is ['DISEASES'] (2) 'diseases_confidences' is [3.08] (3) 'diseases_scores' is ['6.160'] \n",
    "focal dystonia ASSOCIATES Gene THAP1. Attributes of this relationship are:\n",
    "(1) 'sources' is ['DISEASES'] (2) 'diseases_confidences' is [3.705] (3) 'diseases_scores' is ['7.410'] \n",
    "focal dystonia ASSOCIATES Gene TAF1. Attributes of this relationship are:\n",
    "(1) 'sources' is ['DISEASES'] (2) 'diseases_confidences' is [3.392, 5.0] (3) 'diseases_scores' is ['6.783', 'CURATED'] \n",
    "focal dystonia ASSOCIATES Gene GNAL. Attributes of this relationship are:\n",
    "(1) 'sources' is ['DISEASES'] (2) 'diseases_confidences' is [3.089] (3) 'diseases_scores' is ['6.179'] \n",
    "focal dystonia ASSOCIATES Gene ANO3. Attributes of this relationship are:\n",
    "(1) 'sources' is ['DISEASES'] (2) 'diseases_confidences' is [3.119] (3) 'diseases_scores' is ['6.239'] \n",
    "focal dystonia ISA Disease dystonia. Attributes of this relationship are:\n",
    "(1) 'source' is Disease Ontology \n",
    "Disease torsion dystonia 7 ISA focal dystonia. Attributes of this relationship are:\n",
    "(1) 'source' is Disease Ontology \n",
    "Disease oromandibular dystonia ISA focal dystonia. Attributes of this relationship are:\n",
    "(1) 'source' is Disease Ontology \n",
    "Disease anismus ISA focal dystonia. Attributes of this relationship are:\n",
    "(1) 'source' is Disease Ontology \n",
    "Disease spasmodic dystonia ISA focal dystonia. Attributes of this relationship are:\n",
    "(1) 'source' is Disease Ontology \n",
    "Disease dystonia 23 ISA focal dystonia. Attributes of this relationship are:\n",
    "(1) 'source' is Disease Ontology \n",
    "Disease cervical dystonia ISA focal dystonia. Attributes of this relationship are:\n",
    "(1) 'source' is Disease Ontology \n",
    "Disease dystonia 24 ISA focal dystonia. Attributes of this relationship are:\n",
    "(1) 'source' is Disease Ontology \n",
    "Disease oculogyric crisis ISA focal dystonia. Attributes of this relationship are:\n",
    "(1) 'source' is Disease Ontology \n",
    "Disease blepharospasm ISA focal dystonia. Attributes of this relationship are:\n",
    "(1) 'source' is Disease Ontology \n",
    "Disease cranio-facial dystonia ISA focal dystonia. Attributes of this relationship are:\n",
    "(1) 'source' is Disease Ontology \n",
    "Disease X-linked dystonia-parkinsonism ISA focal dystonia. Attributes of this relationship are:\n",
    "(1) 'source' is Disease Ontology \n",
    "Disease focal hand dystonia ISA focal dystonia. Attributes of this relationship are:\n",
    "(1) 'source' is Disease Ontology \n",
    "END OF NODE CONTEXT                       \n",
    "\"\"\"\n",
    "\n"
   ]
  },
  {
   "cell_type": "code",
   "execution_count": 21,
   "id": "273f2ec2",
   "metadata": {},
   "outputs": [],
   "source": [
    "\n",
    "\n",
    "prompt = \"\"\"Use the following pieces of context to answer the question at the end. If you don't know the answer, just say that you don't know, don't try to make up an answer. \n",
    "Context: {}\n",
    "Question: {}\n",
    "Helpful Answer:\"\"\".format(context, question)\n"
   ]
  },
  {
   "cell_type": "code",
   "execution_count": 22,
   "id": "4a2d26fb",
   "metadata": {},
   "outputs": [
    {
     "name": "stdout",
     "output_type": "stream",
     "text": [
      " Based on the provided context, the disease ontology identifier for focal dystonia is DOID:0050836. The associated genes are TAF1L, CDIP1, TOR1A, SGCE, CIZ1, THAP1, and GNAL. These genes are associated with the disease based on various sources and confidence scores."
     ]
    },
    {
     "data": {
      "text/plain": [
       "' Based on the provided context, the disease ontology identifier for focal dystonia is DOID:0050836. The associated genes are TAF1L, CDIP1, TOR1A, SGCE, CIZ1, THAP1, and GNAL. These genes are associated with the disease based on various sources and confidence scores.'"
      ]
     },
     "execution_count": 22,
     "metadata": {},
     "output_type": "execute_result"
    }
   ],
   "source": [
    "llm(prompt)"
   ]
  },
  {
   "cell_type": "code",
   "execution_count": null,
   "id": "46b225f5",
   "metadata": {},
   "outputs": [],
   "source": []
  }
 ],
 "metadata": {
  "kernelspec": {
   "display_name": "Python 3 (ipykernel)",
   "language": "python",
   "name": "python3"
  },
  "language_info": {
   "codemirror_mode": {
    "name": "ipython",
    "version": 3
   },
   "file_extension": ".py",
   "mimetype": "text/x-python",
   "name": "python",
   "nbconvert_exporter": "python",
   "pygments_lexer": "ipython3",
   "version": "3.10.9"
  }
 },
 "nbformat": 4,
 "nbformat_minor": 5
}
