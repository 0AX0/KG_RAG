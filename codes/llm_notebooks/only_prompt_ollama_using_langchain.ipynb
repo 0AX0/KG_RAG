{
 "cells": [
  {
   "cell_type": "code",
   "execution_count": 1,
   "id": "704f2405",
   "metadata": {},
   "outputs": [],
   "source": [
    "from langchain.llms import Ollama\n",
    "from langchain.callbacks.manager import CallbackManager\n",
    "from langchain.callbacks.streaming_stdout import StreamingStdOutCallbackHandler "
   ]
  },
  {
   "cell_type": "code",
   "execution_count": 23,
   "id": "4738f974",
   "metadata": {},
   "outputs": [],
   "source": [
    "llm = Ollama(base_url=\"http://localhost:11434\", \n",
    "             model=\"llama2:13b\",\n",
    "             temperature=0.05,\n",
    "             callback_manager = CallbackManager([StreamingStdOutCallbackHandler()]))"
   ]
  },
  {
   "cell_type": "code",
   "execution_count": 24,
   "id": "0c968265",
   "metadata": {},
   "outputs": [],
   "source": [
    "prompt = \"What is the disease ontology identifier for glycogen storage disease Ic ​and what are the genes associated with this disease?​\"\n",
    "\n",
    "# prompt = \"\"\"Which gene has stronger association with the disease 'liver benign neoplasm', is it PNPLA3 or HLA-B?\n",
    "# First find the gwas pvalue for the association between 'liver benign neoplasm' and gene PNPLA3. Then find the gwas pvalue for the association between 'liver benign neoplasm' and gene HLA-B.\n",
    "# Then compare those values. Note that smaller the pvalue is stronger the association will be.\n",
    "# \"\"\"\n"
   ]
  },
  {
   "cell_type": "code",
   "execution_count": 25,
   "id": "4a2d26fb",
   "metadata": {},
   "outputs": [
    {
     "name": "stdout",
     "output_type": "stream",
     "text": [
      " Glycogen storage disease type Ib (GSD-Ib) is a rare genetic disorder caused by mutations in the AGL gene, which codes for the enzyme alpha-glucosidase. This enzyme plays a crucial role in breaking down glycogen, a complex carbohydrate stored in the liver and muscles.\n",
      "\n",
      "The disease ontology identifier for GSD-Ib is DOID:56784 [1]. This identifier is a unique code assigned to the disease by the Disease Ontology (DO) project, which provides a standardized vocabulary for describing diseases and their characteristics.\n",
      "\n",
      "The AGL gene, located on chromosome 1p21, is the only known gene associated with GSD-Ib. Mutations in this gene lead to a deficiency of alpha-glucosidase activity, resulting in the accumulation of glycogen in the liver and muscles, leading to the characteristic symptoms of GSD-Ib [2].\n",
      "\n",
      "Here are the genes associated with Glycogen Storage Disease Type Ib (GSD-Ib):\n",
      "\n",
      "1. AGL - Alpha-glucosidase gene\n",
      "\n",
      "The AGL gene is the only known gene associated with GSD-Ib, and mutations in this gene lead to a deficiency of alpha-glucosidase activity, resulting in the accumulation of glycogen in the liver and muscles.\n",
      "\n",
      "References:\n",
      "\n",
      "[1] Disease Ontology. (2023). Glycogen Storage Disease Type Ib. Retrieved from <https://diseaseontology.org/wiki/index.php/Glycogen_Storage_Disease_Type_Ib>\n",
      "\n",
      "[2] Sunderkötter, J., & Hoffmann, G. F. (2017). Glycogen storage disease type Ib: A rare and severe disorder. Journal of Inherited Metabolic Disease, 40(3), 455-463. doi: 10.1007/s10542-017-0098-x"
     ]
    },
    {
     "data": {
      "text/plain": [
       "' Glycogen storage disease type Ib (GSD-Ib) is a rare genetic disorder caused by mutations in the AGL gene, which codes for the enzyme alpha-glucosidase. This enzyme plays a crucial role in breaking down glycogen, a complex carbohydrate stored in the liver and muscles.\\n\\nThe disease ontology identifier for GSD-Ib is DOID:56784 [1]. This identifier is a unique code assigned to the disease by the Disease Ontology (DO) project, which provides a standardized vocabulary for describing diseases and their characteristics.\\n\\nThe AGL gene, located on chromosome 1p21, is the only known gene associated with GSD-Ib. Mutations in this gene lead to a deficiency of alpha-glucosidase activity, resulting in the accumulation of glycogen in the liver and muscles, leading to the characteristic symptoms of GSD-Ib [2].\\n\\nHere are the genes associated with Glycogen Storage Disease Type Ib (GSD-Ib):\\n\\n1. AGL - Alpha-glucosidase gene\\n\\nThe AGL gene is the only known gene associated with GSD-Ib, and mutations in this gene lead to a deficiency of alpha-glucosidase activity, resulting in the accumulation of glycogen in the liver and muscles.\\n\\nReferences:\\n\\n[1] Disease Ontology. (2023). Glycogen Storage Disease Type Ib. Retrieved from <https://diseaseontology.org/wiki/index.php/Glycogen_Storage_Disease_Type_Ib>\\n\\n[2] Sunderkötter, J., & Hoffmann, G. F. (2017). Glycogen storage disease type Ib: A rare and severe disorder. Journal of Inherited Metabolic Disease, 40(3), 455-463. doi: 10.1007/s10542-017-0098-x'"
      ]
     },
     "execution_count": 25,
     "metadata": {},
     "output_type": "execute_result"
    }
   ],
   "source": [
    "llm(prompt)"
   ]
  },
  {
   "cell_type": "code",
   "execution_count": null,
   "id": "46b225f5",
   "metadata": {},
   "outputs": [],
   "source": []
  }
 ],
 "metadata": {
  "kernelspec": {
   "display_name": "Python 3 (ipykernel)",
   "language": "python",
   "name": "python3"
  },
  "language_info": {
   "codemirror_mode": {
    "name": "ipython",
    "version": 3
   },
   "file_extension": ".py",
   "mimetype": "text/x-python",
   "name": "python",
   "nbconvert_exporter": "python",
   "pygments_lexer": "ipython3",
   "version": "3.10.9"
  }
 },
 "nbformat": 4,
 "nbformat_minor": 5
}
