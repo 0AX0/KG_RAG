{
 "cells": [
  {
   "cell_type": "code",
   "execution_count": 87,
   "id": "1ee5e747",
   "metadata": {},
   "outputs": [],
   "source": [
    "import pandas as pd\n",
    "import ast\n",
    "import numpy as np\n"
   ]
  },
  {
   "cell_type": "code",
   "execution_count": 88,
   "id": "3d85913d",
   "metadata": {},
   "outputs": [],
   "source": [
    "DATA_PATH = \"../../../data/benchmark_datasets/true_false_question_spoke_map.csv\"\n"
   ]
  },
  {
   "cell_type": "code",
   "execution_count": 89,
   "id": "406ecb09",
   "metadata": {},
   "outputs": [],
   "source": [
    "df = pd.read_csv(DATA_PATH)"
   ]
  },
  {
   "cell_type": "code",
   "execution_count": 90,
   "id": "d925ad2c",
   "metadata": {},
   "outputs": [],
   "source": [
    "df.loc[:, \"node_hit_count\"] = df.node_hits.apply(lambda x:len(ast.literal_eval(x)))\n",
    "df.loc[:, \"node_hits\"] = df.node_hits.apply(lambda x:ast.literal_eval(x))\n",
    "df.loc[:, \"score\"] = df.score.apply(lambda x:ast.literal_eval(x))\n"
   ]
  },
  {
   "cell_type": "raw",
   "id": "784a64c6",
   "metadata": {},
   "source": []
  },
  {
   "cell_type": "code",
   "execution_count": 91,
   "id": "abaeea48",
   "metadata": {},
   "outputs": [],
   "source": [
    "score = df.explode(\"score\").score.values\n",
    "thresh = np.percentile(score, 55)\n"
   ]
  },
  {
   "cell_type": "code",
   "execution_count": 92,
   "id": "22a3011e",
   "metadata": {},
   "outputs": [],
   "source": [
    "mask = df[\"score\"].apply(lambda x: any(val > thresh for val in x))\n",
    "filtered_df = df[~mask]\n"
   ]
  },
  {
   "cell_type": "code",
   "execution_count": 93,
   "id": "29f0d8d7",
   "metadata": {},
   "outputs": [
    {
     "data": {
      "text/html": [
       "<div>\n",
       "<style scoped>\n",
       "    .dataframe tbody tr th:only-of-type {\n",
       "        vertical-align: middle;\n",
       "    }\n",
       "\n",
       "    .dataframe tbody tr th {\n",
       "        vertical-align: top;\n",
       "    }\n",
       "\n",
       "    .dataframe thead th {\n",
       "        text-align: right;\n",
       "    }\n",
       "</style>\n",
       "<table border=\"1\" class=\"dataframe\">\n",
       "  <thead>\n",
       "    <tr style=\"text-align: right;\">\n",
       "      <th></th>\n",
       "      <th>text</th>\n",
       "      <th>label</th>\n",
       "      <th>node_hits</th>\n",
       "      <th>score</th>\n",
       "      <th>node_hit_count</th>\n",
       "    </tr>\n",
       "  </thead>\n",
       "  <tbody>\n",
       "    <tr>\n",
       "      <th>0</th>\n",
       "      <td>enhanced S-cone syndrome is not a vitreoretina...</td>\n",
       "      <td>False</td>\n",
       "      <td>[enhanced S-cone syndrome]</td>\n",
       "      <td>[2.104977569203706e-13]</td>\n",
       "      <td>1</td>\n",
       "    </tr>\n",
       "    <tr>\n",
       "      <th>1</th>\n",
       "      <td>metronidazole treats crohn's disease</td>\n",
       "      <td>True</td>\n",
       "      <td>[Crohn's disease]</td>\n",
       "      <td>[1.668581044817971e-13]</td>\n",
       "      <td>1</td>\n",
       "    </tr>\n",
       "    <tr>\n",
       "      <th>2</th>\n",
       "      <td>KLEEFSTRA SYNDROME 1 is not associated with Ge...</td>\n",
       "      <td>False</td>\n",
       "      <td>[Kleefstra syndrome 1]</td>\n",
       "      <td>[2.243512179419399e-13]</td>\n",
       "      <td>1</td>\n",
       "    </tr>\n",
       "    <tr>\n",
       "      <th>4</th>\n",
       "      <td>Juvenile polyposis syndrome associates Gene SMAD4</td>\n",
       "      <td>True</td>\n",
       "      <td>[juvenile polyposis syndrome]</td>\n",
       "      <td>[2.4603892057398213e-13]</td>\n",
       "      <td>1</td>\n",
       "    </tr>\n",
       "    <tr>\n",
       "      <th>8</th>\n",
       "      <td>Disease ontology identifier for congenital gen...</td>\n",
       "      <td>False</td>\n",
       "      <td>[congenital generalized lipodystrophy type 2]</td>\n",
       "      <td>[2.5871318976022906e-13]</td>\n",
       "      <td>1</td>\n",
       "    </tr>\n",
       "    <tr>\n",
       "      <th>...</th>\n",
       "      <td>...</td>\n",
       "      <td>...</td>\n",
       "      <td>...</td>\n",
       "      <td>...</td>\n",
       "      <td>...</td>\n",
       "    </tr>\n",
       "    <tr>\n",
       "      <th>596</th>\n",
       "      <td>Congenital amegakaryocytic thrombocytopenia is...</td>\n",
       "      <td>False</td>\n",
       "      <td>[congenital amegakaryocytic thrombocytopenia]</td>\n",
       "      <td>[4.1320733727007175e-13]</td>\n",
       "      <td>1</td>\n",
       "    </tr>\n",
       "    <tr>\n",
       "      <th>597</th>\n",
       "      <td>Leigh Disease associates Gene NDUFS4</td>\n",
       "      <td>True</td>\n",
       "      <td>[Leigh disease]</td>\n",
       "      <td>[1.6078529837832561e-13]</td>\n",
       "      <td>1</td>\n",
       "    </tr>\n",
       "    <tr>\n",
       "      <th>599</th>\n",
       "      <td>Sandhoff Disease is not associated with Gene HEXB</td>\n",
       "      <td>False</td>\n",
       "      <td>[Sandhoff disease]</td>\n",
       "      <td>[1.5409067522387937e-13]</td>\n",
       "      <td>1</td>\n",
       "    </tr>\n",
       "    <tr>\n",
       "      <th>603</th>\n",
       "      <td>Disease ontology identifier for Doyne honeycom...</td>\n",
       "      <td>False</td>\n",
       "      <td>[Doyne honeycomb retinal dystrophy]</td>\n",
       "      <td>[3.5078225588992817e-13]</td>\n",
       "      <td>1</td>\n",
       "    </tr>\n",
       "    <tr>\n",
       "      <th>605</th>\n",
       "      <td>Juvenile polyposis syndrome associates Gene BM...</td>\n",
       "      <td>True</td>\n",
       "      <td>[juvenile polyposis syndrome]</td>\n",
       "      <td>[2.4603892057398213e-13]</td>\n",
       "      <td>1</td>\n",
       "    </tr>\n",
       "  </tbody>\n",
       "</table>\n",
       "<p>322 rows × 5 columns</p>\n",
       "</div>"
      ],
      "text/plain": [
       "                                                  text  label  \\\n",
       "0    enhanced S-cone syndrome is not a vitreoretina...  False   \n",
       "1                 metronidazole treats crohn's disease   True   \n",
       "2    KLEEFSTRA SYNDROME 1 is not associated with Ge...  False   \n",
       "4    Juvenile polyposis syndrome associates Gene SMAD4   True   \n",
       "8    Disease ontology identifier for congenital gen...  False   \n",
       "..                                                 ...    ...   \n",
       "596  Congenital amegakaryocytic thrombocytopenia is...  False   \n",
       "597               Leigh Disease associates Gene NDUFS4   True   \n",
       "599  Sandhoff Disease is not associated with Gene HEXB  False   \n",
       "603  Disease ontology identifier for Doyne honeycom...  False   \n",
       "605  Juvenile polyposis syndrome associates Gene BM...   True   \n",
       "\n",
       "                                         node_hits                     score  \\\n",
       "0                       [enhanced S-cone syndrome]   [2.104977569203706e-13]   \n",
       "1                                [Crohn's disease]   [1.668581044817971e-13]   \n",
       "2                           [Kleefstra syndrome 1]   [2.243512179419399e-13]   \n",
       "4                    [juvenile polyposis syndrome]  [2.4603892057398213e-13]   \n",
       "8    [congenital generalized lipodystrophy type 2]  [2.5871318976022906e-13]   \n",
       "..                                             ...                       ...   \n",
       "596  [congenital amegakaryocytic thrombocytopenia]  [4.1320733727007175e-13]   \n",
       "597                                [Leigh disease]  [1.6078529837832561e-13]   \n",
       "599                             [Sandhoff disease]  [1.5409067522387937e-13]   \n",
       "603            [Doyne honeycomb retinal dystrophy]  [3.5078225588992817e-13]   \n",
       "605                  [juvenile polyposis syndrome]  [2.4603892057398213e-13]   \n",
       "\n",
       "     node_hit_count  \n",
       "0                 1  \n",
       "1                 1  \n",
       "2                 1  \n",
       "4                 1  \n",
       "8                 1  \n",
       "..              ...  \n",
       "596               1  \n",
       "597               1  \n",
       "599               1  \n",
       "603               1  \n",
       "605               1  \n",
       "\n",
       "[322 rows x 5 columns]"
      ]
     },
     "execution_count": 93,
     "metadata": {},
     "output_type": "execute_result"
    }
   ],
   "source": [
    "filtered_df"
   ]
  },
  {
   "cell_type": "code",
   "execution_count": 94,
   "id": "56833d1b",
   "metadata": {},
   "outputs": [],
   "source": [
    "filtered_df.to_csv(\"../../../data/benchmark_datasets/test_questions_one_hop_true_false_v2.csv\", index=False, header=True)\n"
   ]
  },
  {
   "cell_type": "code",
   "execution_count": null,
   "id": "c4ff9c87",
   "metadata": {},
   "outputs": [],
   "source": []
  }
 ],
 "metadata": {
  "kernelspec": {
   "display_name": "Python 3 (ipykernel)",
   "language": "python",
   "name": "python3"
  },
  "language_info": {
   "codemirror_mode": {
    "name": "ipython",
    "version": 3
   },
   "file_extension": ".py",
   "mimetype": "text/x-python",
   "name": "python",
   "nbconvert_exporter": "python",
   "pygments_lexer": "ipython3",
   "version": "3.10.9"
  }
 },
 "nbformat": 4,
 "nbformat_minor": 5
}
