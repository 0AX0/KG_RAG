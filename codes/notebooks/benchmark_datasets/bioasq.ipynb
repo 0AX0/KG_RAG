{
 "cells": [
  {
   "cell_type": "code",
   "execution_count": 1,
   "id": "8c806b67",
   "metadata": {},
   "outputs": [],
   "source": [
    "import json\n",
    "import pandas as pd\n"
   ]
  },
  {
   "cell_type": "code",
   "execution_count": 4,
   "id": "9b8ccb0d",
   "metadata": {},
   "outputs": [],
   "source": [
    "DATA_PATH = \"../../../data/benchmark_datasets/bioasq/BioASQ_2013_TaskB/BioASQ-trainingDataset2b.json\"\n"
   ]
  },
  {
   "cell_type": "code",
   "execution_count": 138,
   "id": "a9097b02",
   "metadata": {},
   "outputs": [],
   "source": [
    "with open(DATA_PATH, \"rb\") as f:\n",
    "    data = json.load(f)"
   ]
  },
  {
   "cell_type": "code",
   "execution_count": 11,
   "id": "85974935",
   "metadata": {},
   "outputs": [],
   "source": [
    "data_first_pass = []\n",
    "for item in data[\"questions\"]:\n",
    "    if \"plant\" in item[\"body\"]:\n",
    "        continue\n",
    "    data_first_pass.append(item)"
   ]
  },
  {
   "cell_type": "code",
   "execution_count": 170,
   "id": "9b2e652d",
   "metadata": {},
   "outputs": [],
   "source": [
    "data_second_pass = []\n",
    "for item in data_first_pass:\n",
    "    try:\n",
    "        for item_2 in item[\"concepts\"]:\n",
    "            if \"DOID\" in item_2:\n",
    "                data_second_pass.append(item)\n",
    "                break\n",
    "            else:\n",
    "                continue\n",
    "    except:\n",
    "        continue"
   ]
  },
  {
   "cell_type": "code",
   "execution_count": 173,
   "id": "1c54add9",
   "metadata": {},
   "outputs": [],
   "source": [
    "with open(\"../../../data/benchmark_datasets/bioasq/BioASQ_2013_TaskB/data_with_doid_diseases.json\", \"w\") as f:\n",
    "    json.dump(data_second_pass, f)\n"
   ]
  },
  {
   "cell_type": "code",
   "execution_count": 243,
   "id": "dd42cb6a",
   "metadata": {},
   "outputs": [
    {
     "data": {
      "text/plain": [
       "{'body': 'Which acetylcholinesterase inhibitors are used for treatment of myasthenia gravis?',\n",
       " 'concepts': ['http://www.nlm.nih.gov/cgi/mesh/2012/MB_cgi?field=uid&exact=Find+Exact+Term&term=D009157',\n",
       "  'http://www.disease-ontology.org/api/metadata/DOID:437',\n",
       "  'http://www.nlm.nih.gov/cgi/mesh/2012/MB_cgi?field=uid&exact=Find+Exact+Term&term=D002800',\n",
       "  'http://www.nlm.nih.gov/cgi/mesh/2012/MB_cgi?field=uid&exact=Find+Exact+Term&term=D000110',\n",
       "  'http://www.nlm.nih.gov/cgi/mesh/2012/MB_cgi?field=uid&exact=Find+Exact+Term&term=D004791'],\n",
       " 'documents': ['http://www.ncbi.nlm.nih.gov/pubmed/21328290',\n",
       "  'http://www.ncbi.nlm.nih.gov/pubmed/21133188',\n",
       "  'http://www.ncbi.nlm.nih.gov/pubmed/20663605',\n",
       "  'http://www.ncbi.nlm.nih.gov/pubmed/21815707',\n",
       "  'http://www.ncbi.nlm.nih.gov/pubmed/15610702',\n",
       "  'http://www.ncbi.nlm.nih.gov/pubmed/21845054'],\n",
       " 'exact_answer': [['neostigmine'], ['pyridostigmine']],\n",
       " 'id': '5149199dd24251bc05000040',\n",
       " 'ideal_answer': ['Pyridostigmine and neostygmine are acetylcholinesterase inhibitors that are used as first-line therapy for symptomatic treatment of myasthenia gravis. Pyridostigmine is the most widely used acetylcholinesterase inhibitor. Extended release pyridotsygmine and novel acetylcholinesterase inhibitors inhibitors with oral antisense oligonucleotides are being studied.'],\n",
       " 'snippets': [{'beginSection': 'sections.0',\n",
       "   'document': 'http://www.ncbi.nlm.nih.gov/pubmed/21133188',\n",
       "   'endSection': 'sections.0',\n",
       "   'offsetInBeginSection': 1251,\n",
       "   'offsetInEndSection': 1321,\n",
       "   'text': 'Pyridostigmine is the most widely used acetylcholinesterase inhibitor.'},\n",
       "  {'beginSection': 'sections.0',\n",
       "   'document': 'http://www.ncbi.nlm.nih.gov/pubmed/20663605',\n",
       "   'endSection': 'sections.0',\n",
       "   'offsetInBeginSection': 12,\n",
       "   'offsetInEndSection': 171,\n",
       "   'text': 'For more than 50 years the acetylcholinesterase inhibitor pyridostigmine bromide has been the drug of choice in the symptomatic therapy for myasthenia gravis. '},\n",
       "  {'beginSection': 'sections.0',\n",
       "   'document': 'http://www.ncbi.nlm.nih.gov/pubmed/20663605',\n",
       "   'endSection': 'sections.0',\n",
       "   'offsetInBeginSection': 871,\n",
       "   'offsetInEndSection': 1229,\n",
       "   'text': 'The switch to SR-Pyr ameliorated the total quantified myasthenia gravis (QMG) score from 0.9 ± 0.5 to 0.6 ± 0.4 (p<0.001) in all patients and in the younger subgroup. This was accompanied by a significant improvement in the quality of life parameters. The health status valued by EuroQoL questionnaire improved from 0.626 ± 0.286 to 0.782 ± 0.186 (p<0.001). '},\n",
       "  {'beginSection': 'sections.0',\n",
       "   'document': 'http://www.ncbi.nlm.nih.gov/pubmed/20663605',\n",
       "   'endSection': 'sections.0',\n",
       "   'offsetInBeginSection': 1412,\n",
       "   'offsetInEndSection': 1578,\n",
       "   'text': \"Our results support the usefulness of SR-Pyr in an individualized therapeutic regimen to improve quality of life regardless of the patient's age in myasthenia gravis.\"},\n",
       "  {'beginSection': 'sections.0',\n",
       "   'document': 'http://www.ncbi.nlm.nih.gov/pubmed/21815707',\n",
       "   'endSection': 'sections.0',\n",
       "   'offsetInBeginSection': 476,\n",
       "   'offsetInEndSection': 571,\n",
       "   'text': 'This review focuses on treatment of MG, mainly on the use of the AChE inhibitor pyridostigmine.'},\n",
       "  {'beginSection': 'sections.0',\n",
       "   'document': 'http://www.ncbi.nlm.nih.gov/pubmed/21815707',\n",
       "   'endSection': 'sections.0',\n",
       "   'offsetInBeginSection': 572,\n",
       "   'offsetInEndSection': 768,\n",
       "   'text': 'Despite a lack of data from well controlled clinical trials to support their use, AChE inhibitors, of which pyridostigmine is the most commonly used, are recommended as first-line therapy for MG. '},\n",
       "  {'beginSection': 'sections.0',\n",
       "   'document': 'http://www.ncbi.nlm.nih.gov/pubmed/21815707',\n",
       "   'endSection': 'sections.0',\n",
       "   'offsetInBeginSection': 1071,\n",
       "   'offsetInEndSection': 1197,\n",
       "   'text': 'Novel AChE inhibitors with oral antisense oligonucleotides have been developed and preliminary results appear to be promising.'},\n",
       "  {'beginSection': 'sections.0',\n",
       "   'document': 'http://www.ncbi.nlm.nih.gov/pubmed/21328290',\n",
       "   'endSection': 'sections.0',\n",
       "   'offsetInBeginSection': 2418,\n",
       "   'offsetInEndSection': 2808,\n",
       "   'text': 'Except for one small and inconclusive trial of intranasal neostigmine, no randomised controlled trial has been conducted on the use of acetylcholinesterase inhibitors in myasthenia gravis. Response to acetylcholinesterase inhibitors in observational studies is so clear that a randomised controlled trial depriving participants in the placebo arm of treatment would be difficult to justify.'},\n",
       "  {'beginSection': 'sections.0',\n",
       "   'document': 'http://www.ncbi.nlm.nih.gov/pubmed/21815707',\n",
       "   'endSection': 'sections.0',\n",
       "   'offsetInBeginSection': 178,\n",
       "   'offsetInEndSection': 475,\n",
       "   'text': ' Current guidelines and recommendations for MG treatment are based largely on clinical experience, retrospective analyses and expert consensus. Available therapies include oral acetylcholinesterase (AChE) inhibitors for symptomatic treatment, and short- and long-term disease-modifying treatments.'},\n",
       "  {'beginSection': 'sections.0',\n",
       "   'document': 'http://www.ncbi.nlm.nih.gov/pubmed/21815707',\n",
       "   'endSection': 'sections.0',\n",
       "   'offsetInBeginSection': 768,\n",
       "   'offsetInEndSection': 1071,\n",
       "   'text': 'Pyridostigmine has been used as a treatment for MG for over 50 years and is generally considered safe. It is suitable as a long-term treatment in patients with generalized non-progressive milder disease, and as an adjunctive therapy in patients with severe disease who are also receiving immunotherapy. '},\n",
       "  {'beginSection': 'sections.0',\n",
       "   'document': 'http://www.ncbi.nlm.nih.gov/pubmed/15610702',\n",
       "   'endSection': 'sections.0',\n",
       "   'offsetInBeginSection': 343,\n",
       "   'offsetInEndSection': 452,\n",
       "   'text': 'Acetylcholinesterase inhibitors provide temporary, symptomatic treatment for all forms of myasthenia gravis. '},\n",
       "  {'beginSection': 'sections.1',\n",
       "   'document': 'http://www.ncbi.nlm.nih.gov/pubmed/21845054',\n",
       "   'endSection': 'sections.1',\n",
       "   'offsetInBeginSection': 52,\n",
       "   'offsetInEndSection': 340,\n",
       "   'text': 'In MG, the first-line option is symptomatic treatment with acetylcholinesterase inhibitors. Pyridostigmine bromide is the most commonly used drug. Other acetylcholinesterase inhibitors such as neostigmine are rarely used because of their poorer pharmacodynamic profiles and tolerability. '},\n",
       "  {'beginSection': 'sections.1',\n",
       "   'document': 'http://www.ncbi.nlm.nih.gov/pubmed/21845054',\n",
       "   'endSection': 'sections.1',\n",
       "   'offsetInBeginSection': 339,\n",
       "   'offsetInEndSection': 659,\n",
       "   'text': ' In an observational study of 14 MG patients comparing pyridostigmine with neostigmine, it was concluded that over 1 year, pyridostigmine was more effective with less adverse events.5 Similar conclusions were reached in another observational study of 69 patients which compared the use of pyridostigmine with neostigmine'}],\n",
       " 'type': 'list'}"
      ]
     },
     "execution_count": 243,
     "metadata": {},
     "output_type": "execute_result"
    }
   ],
   "source": [
    "ind = 2\n",
    "data_second_pass[ind]\n"
   ]
  },
  {
   "cell_type": "code",
   "execution_count": null,
   "id": "64481032",
   "metadata": {},
   "outputs": [],
   "source": []
  },
  {
   "cell_type": "code",
   "execution_count": 192,
   "id": "3b845285",
   "metadata": {},
   "outputs": [],
   "source": [
    "df = pd.read_csv(\"../../../data/context_of_disease_with_relation_to_genes.csv\")\n",
    "\n"
   ]
  },
  {
   "cell_type": "code",
   "execution_count": 197,
   "id": "eb482f4a",
   "metadata": {},
   "outputs": [
    {
     "data": {
      "text/plain": [
       "'mitochondrial complex V (ATP synthase) deficiency nuclear type 6'"
      ]
     },
     "execution_count": 197,
     "metadata": {},
     "output_type": "execute_result"
    }
   ],
   "source": [
    "df.node_name.unique()[45]\n",
    "\n",
    "Ablepharon-Macrostomia Syndrome"
   ]
  },
  {
   "cell_type": "code",
   "execution_count": 210,
   "id": "8ebc0406",
   "metadata": {},
   "outputs": [
    {
     "data": {
      "text/plain": [
       "['Disease ontology identifier of distal myopathy is DOID:11720',\n",
       " 'Disease distal muscular dystrophy 4 isa Disease distal myopathy',\n",
       " 'Disease distal myopathy with rimmed vacuoles isa Disease distal myopathy',\n",
       " 'Disease distal muscular dystrophy 3 isa Disease distal myopathy',\n",
       " 'Disease distal muscular dystrophy with anterior tibial onset isa Disease distal myopathy',\n",
       " 'Disease tibial muscular dystrophy isa Disease distal myopathy',\n",
       " 'Disease tibial muscular dystrophy resembles Disease distal myopathy',\n",
       " 'Disease distal muscular dystrophy Tateyama type isa Disease distal myopathy',\n",
       " 'Disease infantile-onset distal myopathy isa Disease distal myopathy',\n",
       " 'Disease distal myopathy 1 isa Disease distal myopathy',\n",
       " 'Disease Miyoshi muscular dystrophy isa Disease distal myopathy',\n",
       " 'Gene MIR1-1 associates Disease distal myopathy',\n",
       " 'Gene MIR133A2 associates Disease distal myopathy',\n",
       " 'Gene MIR1-2 associates Disease distal myopathy',\n",
       " 'Gene MIR133A1 associates Disease distal myopathy',\n",
       " 'Gene MIR206 associates Disease distal myopathy',\n",
       " 'Disease cystinosis resembles Disease distal myopathy',\n",
       " 'Disease centronuclear myopathy X-linked resembles Disease distal myopathy',\n",
       " 'Disease autosomal dominant centronuclear myopathy resembles Disease distal myopathy',\n",
       " 'Disease oculopharyngeal muscular dystrophy resembles Disease distal myopathy',\n",
       " 'Variant rs144802057 associates Disease distal myopathy',\n",
       " 'Variant rs886059992 associates Disease distal myopathy',\n",
       " 'Variant rs773123084 associates Disease distal myopathy',\n",
       " 'Variant rs767576295 associates Disease distal myopathy',\n",
       " 'Variant rs59150359 associates Disease distal myopathy',\n",
       " 'Variant rs368308621 associates Disease distal myopathy',\n",
       " 'Variant rs1565930588 associates Disease distal myopathy',\n",
       " 'Disease distal myopathy isa Disease muscular dystrophy',\n",
       " 'Disease distal myopathy localizes Anatomy skeletal muscle organ',\n",
       " 'Disease distal myopathy localizes Anatomy muscle tissue',\n",
       " 'Disease distal myopathy associates Gene TTN',\n",
       " 'Disease distal myopathy associates Gene MYH7',\n",
       " 'Disease distal myopathy associates Gene ANO5',\n",
       " 'Disease distal myopathy associates Gene DYSF',\n",
       " 'Disease distal myopathy presents Symptom Muscular Atrophy',\n",
       " 'Disease distal myopathy presents Symptom Muscle Weakness',\n",
       " 'Disease distal myopathy resembles Disease congenital structural myopathy',\n",
       " 'Disease distal myopathy resembles Disease muscular atrophy',\n",
       " 'Disease distal myopathy resembles Disease inclusion body myositis',\n",
       " 'Disease distal myopathy resembles Disease motor peripheral neuropathy',\n",
       " 'Disease distal myopathy resembles Disease laryngeal disease',\n",
       " 'Disease distal myopathy resembles Disease limb-girdle muscular dystrophy',\n",
       " 'Disease distal myopathy resembles Disease centronuclear myopathy',\n",
       " 'Disease distal myopathy resembles Disease nemaline myopathy.']"
      ]
     },
     "execution_count": 210,
     "metadata": {},
     "output_type": "execute_result"
    }
   ],
   "source": [
    "df[df.node_name==\"distal myopathy\"].node_context.values[0].split(\". \")\n"
   ]
  },
  {
   "cell_type": "code",
   "execution_count": null,
   "id": "7b7d19e9",
   "metadata": {},
   "outputs": [],
   "source": []
  }
 ],
 "metadata": {
  "kernelspec": {
   "display_name": "Python 3 (ipykernel)",
   "language": "python",
   "name": "python3"
  },
  "language_info": {
   "codemirror_mode": {
    "name": "ipython",
    "version": 3
   },
   "file_extension": ".py",
   "mimetype": "text/x-python",
   "name": "python",
   "nbconvert_exporter": "python",
   "pygments_lexer": "ipython3",
   "version": "3.10.9"
  }
 },
 "nbformat": 4,
 "nbformat_minor": 5
}
