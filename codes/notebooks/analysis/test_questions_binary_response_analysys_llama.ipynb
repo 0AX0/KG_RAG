{
 "cells": [
  {
   "cell_type": "code",
   "execution_count": 1,
   "id": "98735c3c",
   "metadata": {},
   "outputs": [],
   "source": [
    "import pandas as pd\n",
    "import numpy as np\n",
    "import re\n",
    "from sklearn.metrics import roc_auc_score, roc_curve\n",
    "from sklearn.preprocessing import LabelEncoder\n",
    "import matplotlib.pyplot as plt\n"
   ]
  },
  {
   "cell_type": "code",
   "execution_count": 4,
   "id": "dca69243",
   "metadata": {},
   "outputs": [],
   "source": [
    "def extract_answer(text):\n",
    "    pattern = r\"(True|False|Don't know)\"\n",
    "    matches = re.findall(pattern, text)\n",
    "    return matches\n"
   ]
  },
  {
   "cell_type": "code",
   "execution_count": 63,
   "id": "60788c38",
   "metadata": {},
   "outputs": [],
   "source": [
    "RESPONSE_PATH = \"../../../data/analysis_results/Llama_2_13b_chat_hf_prompt_based_binary_response.csv\"\n",
    "\n",
    "# RESPONSE_PATH = \"../../../data/analysis_results/Llama_2_13b_chat_hf_node_retrieval_rag_based_binary_response.csv\"\n"
   ]
  },
  {
   "cell_type": "code",
   "execution_count": 64,
   "id": "7fd23bd7",
   "metadata": {},
   "outputs": [],
   "source": [
    "response_df = pd.read_csv(RESPONSE_PATH)\n",
    "\n",
    "response_df.loc[:, 'extracted_answer'] = response_df['llm_answer'].apply(extract_answer)\n"
   ]
  },
  {
   "cell_type": "code",
   "execution_count": 65,
   "id": "2fb3c279",
   "metadata": {},
   "outputs": [],
   "source": [
    "response_df.loc[:, \"answer_count\"] = response_df.extracted_answer.apply(lambda x:len(x))\n",
    "\n",
    "response_df_multiple_answers = response_df[response_df.answer_count > 1]\n",
    "response_df_single_answer = response_df.drop(response_df_multiple_answers.index)\n",
    "response_df_single_answer.drop(\"answer_count\", axis=1, inplace=True)\n",
    "\n",
    "\n",
    "response_df_multiple_answers_ = []\n",
    "for index, row in response_df_multiple_answers.iterrows():\n",
    "    if row[\"extracted_answer\"][0] == row[\"extracted_answer\"][1]:\n",
    "        response_df_multiple_answers_.append((row[\"question\"], row[\"label\"], row[\"llm_answer\"], row[\"extracted_answer\"][0]))\n",
    "    else:\n",
    "        response_df_multiple_answers_.append((row[\"question\"], row[\"label\"], row[\"llm_answer\"], None))\n",
    "\n",
    "response_df_multiple_answers_ = pd.DataFrame(response_df_multiple_answers_, columns=[\"question\", \"label\", \"llm_answer\", \"extracted_answer\"])\n",
    "\n",
    "response_df_final = pd.concat([response_df_single_answer, response_df_multiple_answers_], ignore_index=True)\n",
    "response_df_final = response_df_final.explode(\"extracted_answer\")\n",
    "\n"
   ]
  },
  {
   "cell_type": "code",
   "execution_count": 66,
   "id": "ea8a67ed",
   "metadata": {},
   "outputs": [],
   "source": [
    "incorrect_answers_because_of_na = response_df_final[response_df_final.extracted_answer.isna()]\n"
   ]
  },
  {
   "cell_type": "code",
   "execution_count": 67,
   "id": "de79c850",
   "metadata": {},
   "outputs": [],
   "source": [
    "response_transform = {\n",
    "    \"True\" : True,\n",
    "    \"False\" : False\n",
    "}\n",
    "\n",
    "response_df_final.extracted_answer = response_df_final.extracted_answer.apply(lambda x:response_transform[x])\n",
    "\n"
   ]
  },
  {
   "cell_type": "code",
   "execution_count": 68,
   "id": "67c20330",
   "metadata": {},
   "outputs": [],
   "source": [
    "correct_response = response_df_final[response_df_final.label == response_df_final.extracted_answer]\n",
    "incorrect_response = response_df_final[response_df_final.label != response_df_final.extracted_answer]\n",
    "\n"
   ]
  },
  {
   "cell_type": "code",
   "execution_count": 69,
   "id": "1bcc7267",
   "metadata": {},
   "outputs": [],
   "source": [
    "total_response = response_df_final.shape[0]\n",
    "correct_response_count = correct_response.shape[0]\n",
    "incorrect_response_count = incorrect_response.shape[0] + incorrect_answers_because_of_na.shape[0]"
   ]
  },
  {
   "cell_type": "code",
   "execution_count": 70,
   "id": "a4c5f2ec",
   "metadata": {},
   "outputs": [
    {
     "name": "stdout",
     "output_type": "stream",
     "text": [
      "Correct response =  0.8899835796387521\n",
      "Incorrect response =  0.11001642036124795\n"
     ]
    }
   ],
   "source": [
    "correct_response_ = correct_response_count/total_response\n",
    "incorrect_response_ = incorrect_response_count/total_response\n",
    "\n",
    "\n",
    "print(\"Correct response = \",correct_response_)\n",
    "print(\"Incorrect response = \",incorrect_response_)\n",
    "\n"
   ]
  },
  {
   "cell_type": "code",
   "execution_count": 71,
   "id": "35a22b61",
   "metadata": {},
   "outputs": [
    {
     "data": {
      "text/plain": [
       "'  {\\n\"answer\": \"True\"\\n}\\n\\nJuvenile polyposis syndrome (JPS) is a rare genetic disorder characterized by the development of multiple juvenile polyps in the gastrointestinal tract. One of the genes associated with JPS is BMPR1A. Mutations in the BMPR1A gene have been identified as a cause of JPS, and individuals with these mutations have an increased risk of developing colorectal cancer at a young age. Therefore, the answer is \"True\" that JPS associates with the BMPR1A gene.'"
      ]
     },
     "execution_count": 71,
     "metadata": {},
     "output_type": "execute_result"
    }
   ],
   "source": [
    "correct_response.llm_answer.values[-1]"
   ]
  },
  {
   "cell_type": "code",
   "execution_count": 72,
   "id": "db13948f",
   "metadata": {},
   "outputs": [
    {
     "data": {
      "text/plain": [
       "'enhanced S-cone syndrome is not a vitreoretinal degeneration'"
      ]
     },
     "execution_count": 72,
     "metadata": {},
     "output_type": "execute_result"
    }
   ],
   "source": [
    "correct_response.question.values[0]"
   ]
  },
  {
   "cell_type": "code",
   "execution_count": 73,
   "id": "49784756",
   "metadata": {},
   "outputs": [
    {
     "data": {
      "text/plain": [
       "(542, 4)"
      ]
     },
     "execution_count": 73,
     "metadata": {},
     "output_type": "execute_result"
    }
   ],
   "source": [
    "correct_response.shape"
   ]
  },
  {
   "cell_type": "code",
   "execution_count": 74,
   "id": "eac54400",
   "metadata": {},
   "outputs": [
    {
     "data": {
      "text/html": [
       "<div>\n",
       "<style scoped>\n",
       "    .dataframe tbody tr th:only-of-type {\n",
       "        vertical-align: middle;\n",
       "    }\n",
       "\n",
       "    .dataframe tbody tr th {\n",
       "        vertical-align: top;\n",
       "    }\n",
       "\n",
       "    .dataframe thead th {\n",
       "        text-align: right;\n",
       "    }\n",
       "</style>\n",
       "<table border=\"1\" class=\"dataframe\">\n",
       "  <thead>\n",
       "    <tr style=\"text-align: right;\">\n",
       "      <th></th>\n",
       "      <th>question</th>\n",
       "      <th>label</th>\n",
       "      <th>llm_answer</th>\n",
       "      <th>extracted_answer</th>\n",
       "    </tr>\n",
       "  </thead>\n",
       "  <tbody>\n",
       "    <tr>\n",
       "      <th>0</th>\n",
       "      <td>enhanced S-cone syndrome is not a vitreoretina...</td>\n",
       "      <td>False</td>\n",
       "      <td>{\\n\"answer\": \"False\"\\n}\\n\\nEnhanced S-cone s...</td>\n",
       "      <td>False</td>\n",
       "    </tr>\n",
       "    <tr>\n",
       "      <th>2</th>\n",
       "      <td>KLEEFSTRA SYNDROME 1 is not associated with Ge...</td>\n",
       "      <td>False</td>\n",
       "      <td>{\\n  \"answer\": \"False\"\\n}\\n\\nKleefstra syndr...</td>\n",
       "      <td>False</td>\n",
       "    </tr>\n",
       "    <tr>\n",
       "      <th>3</th>\n",
       "      <td>STARGARDT DISEASE 1 (disorder) is not associat...</td>\n",
       "      <td>False</td>\n",
       "      <td>{\\n  \"answer\": \"False\"\\n}\\n\\nStargardt disea...</td>\n",
       "      <td>False</td>\n",
       "    </tr>\n",
       "    <tr>\n",
       "      <th>4</th>\n",
       "      <td>Juvenile polyposis syndrome associates Gene SMAD4</td>\n",
       "      <td>True</td>\n",
       "      <td>{\\n\"answer\": \"True\"\\n}\\n\\nJuvenile polyposis...</td>\n",
       "      <td>True</td>\n",
       "    </tr>\n",
       "    <tr>\n",
       "      <th>5</th>\n",
       "      <td>Glycogen storage disease type II associates Ge...</td>\n",
       "      <td>True</td>\n",
       "      <td>{\\n\"answer\": \"True\"\\n}</td>\n",
       "      <td>True</td>\n",
       "    </tr>\n",
       "    <tr>\n",
       "      <th>...</th>\n",
       "      <td>...</td>\n",
       "      <td>...</td>\n",
       "      <td>...</td>\n",
       "      <td>...</td>\n",
       "    </tr>\n",
       "    <tr>\n",
       "      <th>604</th>\n",
       "      <td>Gerstmann-Straussler-Scheinker Disease associa...</td>\n",
       "      <td>True</td>\n",
       "      <td>{\\n\"answer\": \"True\"\\n}\\n\\nGerstmann-Straussl...</td>\n",
       "      <td>True</td>\n",
       "    </tr>\n",
       "    <tr>\n",
       "      <th>605</th>\n",
       "      <td>Congenital Generalized Lipodystrophy Type 2 as...</td>\n",
       "      <td>True</td>\n",
       "      <td>{\\n\"answer\": \"True\"\\n}\\n\\nCongenital General...</td>\n",
       "      <td>True</td>\n",
       "    </tr>\n",
       "    <tr>\n",
       "      <th>606</th>\n",
       "      <td>Hidrotic Ectodermal Dysplasia associates Gene ...</td>\n",
       "      <td>True</td>\n",
       "      <td>{\\n\"answer\": \"True\"\\n}\\n\\nHidrotic Ectoderma...</td>\n",
       "      <td>True</td>\n",
       "    </tr>\n",
       "    <tr>\n",
       "      <th>607</th>\n",
       "      <td>TIBIAL MUSCULAR DYSTROPHY, TARDIVE associates ...</td>\n",
       "      <td>True</td>\n",
       "      <td>{\\n\"answer\": \"True\"\\n}\\n\\nTibial muscular dy...</td>\n",
       "      <td>True</td>\n",
       "    </tr>\n",
       "    <tr>\n",
       "      <th>608</th>\n",
       "      <td>Juvenile polyposis syndrome associates Gene BM...</td>\n",
       "      <td>True</td>\n",
       "      <td>{\\n\"answer\": \"True\"\\n}\\n\\nJuvenile polyposis...</td>\n",
       "      <td>True</td>\n",
       "    </tr>\n",
       "  </tbody>\n",
       "</table>\n",
       "<p>542 rows × 4 columns</p>\n",
       "</div>"
      ],
      "text/plain": [
       "                                              question  label  \\\n",
       "0    enhanced S-cone syndrome is not a vitreoretina...  False   \n",
       "2    KLEEFSTRA SYNDROME 1 is not associated with Ge...  False   \n",
       "3    STARGARDT DISEASE 1 (disorder) is not associat...  False   \n",
       "4    Juvenile polyposis syndrome associates Gene SMAD4   True   \n",
       "5    Glycogen storage disease type II associates Ge...   True   \n",
       "..                                                 ...    ...   \n",
       "604  Gerstmann-Straussler-Scheinker Disease associa...   True   \n",
       "605  Congenital Generalized Lipodystrophy Type 2 as...   True   \n",
       "606  Hidrotic Ectodermal Dysplasia associates Gene ...   True   \n",
       "607  TIBIAL MUSCULAR DYSTROPHY, TARDIVE associates ...   True   \n",
       "608  Juvenile polyposis syndrome associates Gene BM...   True   \n",
       "\n",
       "                                            llm_answer  extracted_answer  \n",
       "0      {\\n\"answer\": \"False\"\\n}\\n\\nEnhanced S-cone s...             False  \n",
       "2      {\\n  \"answer\": \"False\"\\n}\\n\\nKleefstra syndr...             False  \n",
       "3      {\\n  \"answer\": \"False\"\\n}\\n\\nStargardt disea...             False  \n",
       "4      {\\n\"answer\": \"True\"\\n}\\n\\nJuvenile polyposis...              True  \n",
       "5                               {\\n\"answer\": \"True\"\\n}              True  \n",
       "..                                                 ...               ...  \n",
       "604    {\\n\"answer\": \"True\"\\n}\\n\\nGerstmann-Straussl...              True  \n",
       "605    {\\n\"answer\": \"True\"\\n}\\n\\nCongenital General...              True  \n",
       "606    {\\n\"answer\": \"True\"\\n}\\n\\nHidrotic Ectoderma...              True  \n",
       "607    {\\n\"answer\": \"True\"\\n}\\n\\nTibial muscular dy...              True  \n",
       "608    {\\n\"answer\": \"True\"\\n}\\n\\nJuvenile polyposis...              True  \n",
       "\n",
       "[542 rows x 4 columns]"
      ]
     },
     "execution_count": 74,
     "metadata": {},
     "output_type": "execute_result"
    }
   ],
   "source": [
    "correct_response"
   ]
  },
  {
   "cell_type": "code",
   "execution_count": null,
   "id": "ec16202c",
   "metadata": {},
   "outputs": [],
   "source": []
  }
 ],
 "metadata": {
  "kernelspec": {
   "display_name": "Python 3 (ipykernel)",
   "language": "python",
   "name": "python3"
  },
  "language_info": {
   "codemirror_mode": {
    "name": "ipython",
    "version": 3
   },
   "file_extension": ".py",
   "mimetype": "text/x-python",
   "name": "python",
   "nbconvert_exporter": "python",
   "pygments_lexer": "ipython3",
   "version": "3.10.9"
  }
 },
 "nbformat": 4,
 "nbformat_minor": 5
}
