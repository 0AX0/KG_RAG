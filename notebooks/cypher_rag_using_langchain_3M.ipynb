{
 "cells": [
  {
   "cell_type": "code",
   "execution_count": 11,
   "id": "f0ed1d29",
   "metadata": {},
   "outputs": [],
   "source": [
    "from langchain.chains import GraphCypherQAChain\n",
    "from langchain.chat_models import ChatOpenAI\n",
    "from langchain.graphs import Neo4jGraph\n",
    "from langchain.callbacks import get_openai_callback\n",
    "from dotenv import load_dotenv\n",
    "import os\n",
    "import openai\n",
    "import pandas as pd\n",
    "from neo4j.exceptions import CypherSyntaxError\n"
   ]
  },
  {
   "cell_type": "markdown",
   "id": "1d905ac1",
   "metadata": {},
   "source": [
    "## Choose the LLM"
   ]
  },
  {
   "cell_type": "code",
   "execution_count": 12,
   "id": "763d7ad7",
   "metadata": {},
   "outputs": [],
   "source": [
    "LLM_MODEL = 'gpt-4-32k'\n"
   ]
  },
  {
   "cell_type": "markdown",
   "id": "f02bd807",
   "metadata": {},
   "source": [
    "## Load test data"
   ]
  },
  {
   "cell_type": "code",
   "execution_count": 13,
   "id": "43772231",
   "metadata": {},
   "outputs": [],
   "source": [
    "data = pd.read_csv('../data/rag_comparison_data.csv')\n",
    "\n"
   ]
  },
  {
   "cell_type": "markdown",
   "id": "8bb1d1e3",
   "metadata": {},
   "source": [
    "## Custom function for neo4j RAG chain"
   ]
  },
  {
   "cell_type": "code",
   "execution_count": 35,
   "id": "611fee8c",
   "metadata": {},
   "outputs": [],
   "source": [
    "def get_neo4j_cypher_rag_chain():\n",
    "    load_dotenv(os.path.join(os.path.expanduser('~'), '.mate_neo4j_config.env'))\n",
    "    username = os.environ.get('MATE_USR')\n",
    "    password = os.environ.get('MATE_PSW')\n",
    "    url = os.environ.get('MATE_URI')\n",
    "    database = os.environ.get('DB_NAME')\n",
    "    \n",
    "    graph = Neo4jGraph(\n",
    "        url=url, \n",
    "        username=username, \n",
    "        password=password,\n",
    "        database = database\n",
    "    )\n",
    "\n",
    "    load_dotenv(os.path.join(os.path.expanduser('~'), '.gpt_config.env'))\n",
    "    API_KEY = os.environ.get('API_KEY')\n",
    "    API_VERSION = os.environ.get('API_VERSION')\n",
    "    RESOURCE_ENDPOINT = os.environ.get('RESOURCE_ENDPOINT')\n",
    "    openai.api_type = \"azure\"\n",
    "    openai.api_key = API_KEY\n",
    "    openai.api_base = RESOURCE_ENDPOINT\n",
    "    openai.api_version = API_VERSION\n",
    "    chat_deployment_id = LLM_MODEL\n",
    "    chat_model_id = chat_deployment_id\n",
    "    temperature = 0\n",
    "    chat_model = ChatOpenAI(openai_api_key=API_KEY, \n",
    "                            engine=chat_deployment_id, \n",
    "                            temperature=temperature)\n",
    "    chain = GraphCypherQAChain.from_llm(\n",
    "        chat_model, \n",
    "        graph=graph, \n",
    "        verbose=True, \n",
    "        validate_cypher=True,\n",
    "        return_intermediate_steps=True\n",
    "    )\n",
    "    return chain"
   ]
  },
  {
   "cell_type": "markdown",
   "id": "8b920685",
   "metadata": {},
   "source": [
    "## Initiate neo4j RAG chain"
   ]
  },
  {
   "cell_type": "code",
   "execution_count": 36,
   "id": "29b40370",
   "metadata": {},
   "outputs": [
    {
     "name": "stderr",
     "output_type": "stream",
     "text": [
      "WARNING! engine is not default parameter.\n",
      "                    engine was transferred to model_kwargs.\n",
      "                    Please confirm that engine is what you intended.\n"
     ]
    },
    {
     "name": "stdout",
     "output_type": "stream",
     "text": [
      "CPU times: user 13.4 ms, sys: 5.35 ms, total: 18.7 ms\n",
      "Wall time: 71.1 ms\n"
     ]
    }
   ],
   "source": [
    "%%time\n",
    "neo4j_rag_chain = get_neo4j_cypher_rag_chain()\n"
   ]
  },
  {
   "cell_type": "markdown",
   "id": "cfa082f8",
   "metadata": {},
   "source": [
    "## Run on test data"
   ]
  },
  {
   "cell_type": "code",
   "execution_count": 37,
   "id": "172e0f96",
   "metadata": {
    "collapsed": true
   },
   "outputs": [
    {
     "name": "stdout",
     "output_type": "stream",
     "text": [
      "\n",
      "\n",
      "\u001b[1m> Entering new GraphCypherQAChain chain...\u001b[0m\n",
      "Generated Cypher:\n",
      "\u001b[32;1m\u001b[1;3mThe provided schema does not include a property for GWAS p-value or any nodes or relationships that would represent an association between a disease and a gene. Therefore, it is not possible to construct a Cypher statement to answer this question based on the provided schema.\u001b[0m\n"
     ]
    },
    {
     "ename": "ValueError",
     "evalue": "Length of values (1) does not match length of index (100)",
     "output_type": "error",
     "traceback": [
      "\u001b[0;31m---------------------------------------------------------------------------\u001b[0m",
      "\u001b[0;31mValueError\u001b[0m                                Traceback (most recent call last)",
      "File \u001b[0;32m<timed exec>:15\u001b[0m\n",
      "File \u001b[0;32m~/anaconda3/lib/python3.10/site-packages/pandas/core/indexing.py:818\u001b[0m, in \u001b[0;36m_LocationIndexer.__setitem__\u001b[0;34m(self, key, value)\u001b[0m\n\u001b[1;32m    815\u001b[0m \u001b[38;5;28mself\u001b[39m\u001b[38;5;241m.\u001b[39m_has_valid_setitem_indexer(key)\n\u001b[1;32m    817\u001b[0m iloc \u001b[38;5;241m=\u001b[39m \u001b[38;5;28mself\u001b[39m \u001b[38;5;28;01mif\u001b[39;00m \u001b[38;5;28mself\u001b[39m\u001b[38;5;241m.\u001b[39mname \u001b[38;5;241m==\u001b[39m \u001b[38;5;124m\"\u001b[39m\u001b[38;5;124miloc\u001b[39m\u001b[38;5;124m\"\u001b[39m \u001b[38;5;28;01melse\u001b[39;00m \u001b[38;5;28mself\u001b[39m\u001b[38;5;241m.\u001b[39mobj\u001b[38;5;241m.\u001b[39miloc\n\u001b[0;32m--> 818\u001b[0m \u001b[43miloc\u001b[49m\u001b[38;5;241;43m.\u001b[39;49m\u001b[43m_setitem_with_indexer\u001b[49m\u001b[43m(\u001b[49m\u001b[43mindexer\u001b[49m\u001b[43m,\u001b[49m\u001b[43m \u001b[49m\u001b[43mvalue\u001b[49m\u001b[43m,\u001b[49m\u001b[43m \u001b[49m\u001b[38;5;28;43mself\u001b[39;49m\u001b[38;5;241;43m.\u001b[39;49m\u001b[43mname\u001b[49m\u001b[43m)\u001b[49m\n",
      "File \u001b[0;32m~/anaconda3/lib/python3.10/site-packages/pandas/core/indexing.py:1728\u001b[0m, in \u001b[0;36m_iLocIndexer._setitem_with_indexer\u001b[0;34m(self, indexer, value, name)\u001b[0m\n\u001b[1;32m   1725\u001b[0m \u001b[38;5;66;03m# add a new item with the dtype setup\u001b[39;00m\n\u001b[1;32m   1726\u001b[0m \u001b[38;5;28;01mif\u001b[39;00m com\u001b[38;5;241m.\u001b[39mis_null_slice(indexer[\u001b[38;5;241m0\u001b[39m]):\n\u001b[1;32m   1727\u001b[0m     \u001b[38;5;66;03m# We are setting an entire column\u001b[39;00m\n\u001b[0;32m-> 1728\u001b[0m     \u001b[38;5;28mself\u001b[39m\u001b[38;5;241m.\u001b[39mobj[key] \u001b[38;5;241m=\u001b[39m value\n\u001b[1;32m   1729\u001b[0m     \u001b[38;5;28;01mreturn\u001b[39;00m\n\u001b[1;32m   1730\u001b[0m \u001b[38;5;28;01melif\u001b[39;00m is_array_like(value):\n\u001b[1;32m   1731\u001b[0m     \u001b[38;5;66;03m# GH#42099\u001b[39;00m\n",
      "File \u001b[0;32m~/anaconda3/lib/python3.10/site-packages/pandas/core/frame.py:3980\u001b[0m, in \u001b[0;36mDataFrame.__setitem__\u001b[0;34m(self, key, value)\u001b[0m\n\u001b[1;32m   3977\u001b[0m     \u001b[38;5;28mself\u001b[39m\u001b[38;5;241m.\u001b[39m_setitem_array([key], value)\n\u001b[1;32m   3978\u001b[0m \u001b[38;5;28;01melse\u001b[39;00m:\n\u001b[1;32m   3979\u001b[0m     \u001b[38;5;66;03m# set column\u001b[39;00m\n\u001b[0;32m-> 3980\u001b[0m     \u001b[38;5;28;43mself\u001b[39;49m\u001b[38;5;241;43m.\u001b[39;49m\u001b[43m_set_item\u001b[49m\u001b[43m(\u001b[49m\u001b[43mkey\u001b[49m\u001b[43m,\u001b[49m\u001b[43m \u001b[49m\u001b[43mvalue\u001b[49m\u001b[43m)\u001b[49m\n",
      "File \u001b[0;32m~/anaconda3/lib/python3.10/site-packages/pandas/core/frame.py:4174\u001b[0m, in \u001b[0;36mDataFrame._set_item\u001b[0;34m(self, key, value)\u001b[0m\n\u001b[1;32m   4164\u001b[0m \u001b[38;5;28;01mdef\u001b[39;00m \u001b[38;5;21m_set_item\u001b[39m(\u001b[38;5;28mself\u001b[39m, key, value) \u001b[38;5;241m-\u001b[39m\u001b[38;5;241m>\u001b[39m \u001b[38;5;28;01mNone\u001b[39;00m:\n\u001b[1;32m   4165\u001b[0m \u001b[38;5;250m    \u001b[39m\u001b[38;5;124;03m\"\"\"\u001b[39;00m\n\u001b[1;32m   4166\u001b[0m \u001b[38;5;124;03m    Add series to DataFrame in specified column.\u001b[39;00m\n\u001b[1;32m   4167\u001b[0m \n\u001b[0;32m   (...)\u001b[0m\n\u001b[1;32m   4172\u001b[0m \u001b[38;5;124;03m    ensure homogeneity.\u001b[39;00m\n\u001b[1;32m   4173\u001b[0m \u001b[38;5;124;03m    \"\"\"\u001b[39;00m\n\u001b[0;32m-> 4174\u001b[0m     value \u001b[38;5;241m=\u001b[39m \u001b[38;5;28;43mself\u001b[39;49m\u001b[38;5;241;43m.\u001b[39;49m\u001b[43m_sanitize_column\u001b[49m\u001b[43m(\u001b[49m\u001b[43mvalue\u001b[49m\u001b[43m)\u001b[49m\n\u001b[1;32m   4176\u001b[0m     \u001b[38;5;28;01mif\u001b[39;00m (\n\u001b[1;32m   4177\u001b[0m         key \u001b[38;5;129;01min\u001b[39;00m \u001b[38;5;28mself\u001b[39m\u001b[38;5;241m.\u001b[39mcolumns\n\u001b[1;32m   4178\u001b[0m         \u001b[38;5;129;01mand\u001b[39;00m value\u001b[38;5;241m.\u001b[39mndim \u001b[38;5;241m==\u001b[39m \u001b[38;5;241m1\u001b[39m\n\u001b[1;32m   4179\u001b[0m         \u001b[38;5;129;01mand\u001b[39;00m \u001b[38;5;129;01mnot\u001b[39;00m is_extension_array_dtype(value)\n\u001b[1;32m   4180\u001b[0m     ):\n\u001b[1;32m   4181\u001b[0m         \u001b[38;5;66;03m# broadcast across multiple columns if necessary\u001b[39;00m\n\u001b[1;32m   4182\u001b[0m         \u001b[38;5;28;01mif\u001b[39;00m \u001b[38;5;129;01mnot\u001b[39;00m \u001b[38;5;28mself\u001b[39m\u001b[38;5;241m.\u001b[39mcolumns\u001b[38;5;241m.\u001b[39mis_unique \u001b[38;5;129;01mor\u001b[39;00m \u001b[38;5;28misinstance\u001b[39m(\u001b[38;5;28mself\u001b[39m\u001b[38;5;241m.\u001b[39mcolumns, MultiIndex):\n",
      "File \u001b[0;32m~/anaconda3/lib/python3.10/site-packages/pandas/core/frame.py:4915\u001b[0m, in \u001b[0;36mDataFrame._sanitize_column\u001b[0;34m(self, value)\u001b[0m\n\u001b[1;32m   4912\u001b[0m     \u001b[38;5;28;01mreturn\u001b[39;00m _reindex_for_setitem(Series(value), \u001b[38;5;28mself\u001b[39m\u001b[38;5;241m.\u001b[39mindex)\n\u001b[1;32m   4914\u001b[0m \u001b[38;5;28;01mif\u001b[39;00m is_list_like(value):\n\u001b[0;32m-> 4915\u001b[0m     \u001b[43mcom\u001b[49m\u001b[38;5;241;43m.\u001b[39;49m\u001b[43mrequire_length_match\u001b[49m\u001b[43m(\u001b[49m\u001b[43mvalue\u001b[49m\u001b[43m,\u001b[49m\u001b[43m \u001b[49m\u001b[38;5;28;43mself\u001b[39;49m\u001b[38;5;241;43m.\u001b[39;49m\u001b[43mindex\u001b[49m\u001b[43m)\u001b[49m\n\u001b[1;32m   4916\u001b[0m \u001b[38;5;28;01mreturn\u001b[39;00m sanitize_array(value, \u001b[38;5;28mself\u001b[39m\u001b[38;5;241m.\u001b[39mindex, copy\u001b[38;5;241m=\u001b[39m\u001b[38;5;28;01mTrue\u001b[39;00m, allow_2d\u001b[38;5;241m=\u001b[39m\u001b[38;5;28;01mTrue\u001b[39;00m)\n",
      "File \u001b[0;32m~/anaconda3/lib/python3.10/site-packages/pandas/core/common.py:571\u001b[0m, in \u001b[0;36mrequire_length_match\u001b[0;34m(data, index)\u001b[0m\n\u001b[1;32m    567\u001b[0m \u001b[38;5;250m\u001b[39m\u001b[38;5;124;03m\"\"\"\u001b[39;00m\n\u001b[1;32m    568\u001b[0m \u001b[38;5;124;03mCheck the length of data matches the length of the index.\u001b[39;00m\n\u001b[1;32m    569\u001b[0m \u001b[38;5;124;03m\"\"\"\u001b[39;00m\n\u001b[1;32m    570\u001b[0m \u001b[38;5;28;01mif\u001b[39;00m \u001b[38;5;28mlen\u001b[39m(data) \u001b[38;5;241m!=\u001b[39m \u001b[38;5;28mlen\u001b[39m(index):\n\u001b[0;32m--> 571\u001b[0m     \u001b[38;5;28;01mraise\u001b[39;00m \u001b[38;5;167;01mValueError\u001b[39;00m(\n\u001b[1;32m    572\u001b[0m         \u001b[38;5;124m\"\u001b[39m\u001b[38;5;124mLength of values \u001b[39m\u001b[38;5;124m\"\u001b[39m\n\u001b[1;32m    573\u001b[0m         \u001b[38;5;124mf\u001b[39m\u001b[38;5;124m\"\u001b[39m\u001b[38;5;124m(\u001b[39m\u001b[38;5;132;01m{\u001b[39;00m\u001b[38;5;28mlen\u001b[39m(data)\u001b[38;5;132;01m}\u001b[39;00m\u001b[38;5;124m) \u001b[39m\u001b[38;5;124m\"\u001b[39m\n\u001b[1;32m    574\u001b[0m         \u001b[38;5;124m\"\u001b[39m\u001b[38;5;124mdoes not match length of index \u001b[39m\u001b[38;5;124m\"\u001b[39m\n\u001b[1;32m    575\u001b[0m         \u001b[38;5;124mf\u001b[39m\u001b[38;5;124m\"\u001b[39m\u001b[38;5;124m(\u001b[39m\u001b[38;5;132;01m{\u001b[39;00m\u001b[38;5;28mlen\u001b[39m(index)\u001b[38;5;132;01m}\u001b[39;00m\u001b[38;5;124m)\u001b[39m\u001b[38;5;124m\"\u001b[39m\n\u001b[1;32m    576\u001b[0m     )\n",
      "\u001b[0;31mValueError\u001b[0m: Length of values (1) does not match length of index (100)"
     ]
    }
   ],
   "source": [
    "%%time\n",
    "\n",
    "neo4j_rag_answer = []\n",
    "total_tokens_used = []\n",
    "\n",
    "for index, row in data.iterrows():\n",
    "    question = row['question']\n",
    "    with get_openai_callback() as cb:\n",
    "        try:\n",
    "            neo4j_rag_answer.append(neo4j_rag_chain.run(query=question, return_final_only=True, verbose=False))\n",
    "        except ValueError as e:\n",
    "            neo4j_rag_answer.append(None)\n",
    "    total_tokens_used.append(cb.total_tokens)    \n",
    "    \n",
    "\n",
    "data.loc[:,'neo4j_rag_answer'] = neo4j_rag_answer\n",
    "data.loc[:, 'total_tokens_used'] = total_tokens_used\n"
   ]
  },
  {
   "cell_type": "code",
   "execution_count": 38,
   "id": "43e51892",
   "metadata": {},
   "outputs": [
    {
     "data": {
      "text/plain": [
       "[473]"
      ]
     },
     "execution_count": 38,
     "metadata": {},
     "output_type": "execute_result"
    }
   ],
   "source": [
    "total_tokens_used"
   ]
  },
  {
   "cell_type": "markdown",
   "id": "5ea4a4a9",
   "metadata": {},
   "source": [
    "## Save the result"
   ]
  },
  {
   "cell_type": "code",
   "execution_count": 120,
   "id": "27ea4be4",
   "metadata": {},
   "outputs": [],
   "source": [
    "save_path = '../data/results'\n",
    "os.makedirs(save_path, exist_ok=True)\n",
    "data.to_csv(os.path.join(save_path, 'neo4j_rag_output.csv'), index=False)\n",
    "\n"
   ]
  },
  {
   "cell_type": "code",
   "execution_count": 8,
   "id": "9635a67c",
   "metadata": {},
   "outputs": [
    {
     "data": {
      "text/html": [
       "<div>\n",
       "<style scoped>\n",
       "    .dataframe tbody tr th:only-of-type {\n",
       "        vertical-align: middle;\n",
       "    }\n",
       "\n",
       "    .dataframe tbody tr th {\n",
       "        vertical-align: top;\n",
       "    }\n",
       "\n",
       "    .dataframe thead th {\n",
       "        text-align: right;\n",
       "    }\n",
       "</style>\n",
       "<table border=\"1\" class=\"dataframe\">\n",
       "  <thead>\n",
       "    <tr style=\"text-align: right;\">\n",
       "      <th></th>\n",
       "      <th>disease_name</th>\n",
       "      <th>gene_name</th>\n",
       "      <th>gwas_pvalue</th>\n",
       "      <th>question</th>\n",
       "      <th>question_perturbed</th>\n",
       "      <th>neo4j_rag_answer</th>\n",
       "      <th>total_tokens_used</th>\n",
       "    </tr>\n",
       "  </thead>\n",
       "  <tbody>\n",
       "    <tr>\n",
       "      <th>0</th>\n",
       "      <td>childhood-onset asthma</td>\n",
       "      <td>RORA</td>\n",
       "      <td>2.000000e-37</td>\n",
       "      <td>What is the GWAS p-value for the association b...</td>\n",
       "      <td>What is the GWAS p-value for the association b...</td>\n",
       "      <td>None</td>\n",
       "      <td>10993</td>\n",
       "    </tr>\n",
       "    <tr>\n",
       "      <th>1</th>\n",
       "      <td>skin benign neoplasm</td>\n",
       "      <td>SHANK2</td>\n",
       "      <td>5.000000e-08</td>\n",
       "      <td>What is the GWAS p-value for the association b...</td>\n",
       "      <td>What is the GWAS p-value for the association b...</td>\n",
       "      <td>I'm sorry, but I don't know the answer.</td>\n",
       "      <td>11138</td>\n",
       "    </tr>\n",
       "    <tr>\n",
       "      <th>2</th>\n",
       "      <td>hypertrophic cardiomyopathy</td>\n",
       "      <td>AMBRA1</td>\n",
       "      <td>1.000000e-16</td>\n",
       "      <td>Is hypertrophic cardiomyopathy associated with...</td>\n",
       "      <td>Is hypertrophic cardiomyopathy associated with...</td>\n",
       "      <td>Yes, hypertrophic cardiomyopathy is associated...</td>\n",
       "      <td>11468</td>\n",
       "    </tr>\n",
       "    <tr>\n",
       "      <th>3</th>\n",
       "      <td>lung adenocarcinoma</td>\n",
       "      <td>CYP2A6</td>\n",
       "      <td>8.000000e-11</td>\n",
       "      <td>What is the GWAS p-value for the association b...</td>\n",
       "      <td>What is the GWAS p-value for the association b...</td>\n",
       "      <td>I'm sorry, but I don't have the information to...</td>\n",
       "      <td>11150</td>\n",
       "    </tr>\n",
       "    <tr>\n",
       "      <th>4</th>\n",
       "      <td>idiopathic generalized epilepsy</td>\n",
       "      <td>RYR2</td>\n",
       "      <td>3.000000e-09</td>\n",
       "      <td>Is idiopathic generalized epilepsy associated ...</td>\n",
       "      <td>Is idiopathic generalized epilepsy associated ...</td>\n",
       "      <td>No, idiopathic generalized epilepsy is not ass...</td>\n",
       "      <td>11129</td>\n",
       "    </tr>\n",
       "    <tr>\n",
       "      <th>...</th>\n",
       "      <td>...</td>\n",
       "      <td>...</td>\n",
       "      <td>...</td>\n",
       "      <td>...</td>\n",
       "      <td>...</td>\n",
       "      <td>...</td>\n",
       "      <td>...</td>\n",
       "    </tr>\n",
       "    <tr>\n",
       "      <th>95</th>\n",
       "      <td>lung squamous cell carcinoma</td>\n",
       "      <td>BRCA2</td>\n",
       "      <td>1.000000e-15</td>\n",
       "      <td>Is lung squamous cell carcinoma associated wit...</td>\n",
       "      <td>Is lung squamous cell carcinoma associated wit...</td>\n",
       "      <td>Yes, lung squamous cell carcinoma is associate...</td>\n",
       "      <td>11129</td>\n",
       "    </tr>\n",
       "    <tr>\n",
       "      <th>96</th>\n",
       "      <td>systemic lupus erythematosus</td>\n",
       "      <td>HLA-DRA</td>\n",
       "      <td>2.000000e-60</td>\n",
       "      <td>What is the GWAS p-value for the association b...</td>\n",
       "      <td>What is the GWAS p-value for the association b...</td>\n",
       "      <td>I'm sorry, but I don't have the information to...</td>\n",
       "      <td>11152</td>\n",
       "    </tr>\n",
       "    <tr>\n",
       "      <th>97</th>\n",
       "      <td>type 2 diabetes mellitus</td>\n",
       "      <td>UBE2E2</td>\n",
       "      <td>2.000000e-42</td>\n",
       "      <td>Is type 2 diabetes mellitus associated with UB...</td>\n",
       "      <td>Is type 2 diabetes mellitus associated with ub...</td>\n",
       "      <td>No, type 2 diabetes mellitus is not associated...</td>\n",
       "      <td>11139</td>\n",
       "    </tr>\n",
       "    <tr>\n",
       "      <th>98</th>\n",
       "      <td>allergic rhinitis</td>\n",
       "      <td>HLA-DQA1</td>\n",
       "      <td>1.000000e-43</td>\n",
       "      <td>What is the GWAS p-value for the association b...</td>\n",
       "      <td>What is the GWAS p-value for the association b...</td>\n",
       "      <td>I'm sorry, but I don't know the answer.</td>\n",
       "      <td>11143</td>\n",
       "    </tr>\n",
       "    <tr>\n",
       "      <th>99</th>\n",
       "      <td>systemic lupus erythematosus</td>\n",
       "      <td>HLA-DQA1</td>\n",
       "      <td>1.000000e-54</td>\n",
       "      <td>What is the GWAS p-value for the association b...</td>\n",
       "      <td>What is the GWAS p-value for the association b...</td>\n",
       "      <td>I'm sorry, but I don't have the information to...</td>\n",
       "      <td>11149</td>\n",
       "    </tr>\n",
       "  </tbody>\n",
       "</table>\n",
       "<p>100 rows × 7 columns</p>\n",
       "</div>"
      ],
      "text/plain": [
       "                       disease_name gene_name   gwas_pvalue  \\\n",
       "0            childhood-onset asthma      RORA  2.000000e-37   \n",
       "1              skin benign neoplasm    SHANK2  5.000000e-08   \n",
       "2       hypertrophic cardiomyopathy    AMBRA1  1.000000e-16   \n",
       "3               lung adenocarcinoma    CYP2A6  8.000000e-11   \n",
       "4   idiopathic generalized epilepsy      RYR2  3.000000e-09   \n",
       "..                              ...       ...           ...   \n",
       "95     lung squamous cell carcinoma     BRCA2  1.000000e-15   \n",
       "96     systemic lupus erythematosus   HLA-DRA  2.000000e-60   \n",
       "97         type 2 diabetes mellitus    UBE2E2  2.000000e-42   \n",
       "98                allergic rhinitis  HLA-DQA1  1.000000e-43   \n",
       "99     systemic lupus erythematosus  HLA-DQA1  1.000000e-54   \n",
       "\n",
       "                                             question  \\\n",
       "0   What is the GWAS p-value for the association b...   \n",
       "1   What is the GWAS p-value for the association b...   \n",
       "2   Is hypertrophic cardiomyopathy associated with...   \n",
       "3   What is the GWAS p-value for the association b...   \n",
       "4   Is idiopathic generalized epilepsy associated ...   \n",
       "..                                                ...   \n",
       "95  Is lung squamous cell carcinoma associated wit...   \n",
       "96  What is the GWAS p-value for the association b...   \n",
       "97  Is type 2 diabetes mellitus associated with UB...   \n",
       "98  What is the GWAS p-value for the association b...   \n",
       "99  What is the GWAS p-value for the association b...   \n",
       "\n",
       "                                   question_perturbed  \\\n",
       "0   What is the GWAS p-value for the association b...   \n",
       "1   What is the GWAS p-value for the association b...   \n",
       "2   Is hypertrophic cardiomyopathy associated with...   \n",
       "3   What is the GWAS p-value for the association b...   \n",
       "4   Is idiopathic generalized epilepsy associated ...   \n",
       "..                                                ...   \n",
       "95  Is lung squamous cell carcinoma associated wit...   \n",
       "96  What is the GWAS p-value for the association b...   \n",
       "97  Is type 2 diabetes mellitus associated with ub...   \n",
       "98  What is the GWAS p-value for the association b...   \n",
       "99  What is the GWAS p-value for the association b...   \n",
       "\n",
       "                                     neo4j_rag_answer  total_tokens_used  \n",
       "0                                                None              10993  \n",
       "1             I'm sorry, but I don't know the answer.              11138  \n",
       "2   Yes, hypertrophic cardiomyopathy is associated...              11468  \n",
       "3   I'm sorry, but I don't have the information to...              11150  \n",
       "4   No, idiopathic generalized epilepsy is not ass...              11129  \n",
       "..                                                ...                ...  \n",
       "95  Yes, lung squamous cell carcinoma is associate...              11129  \n",
       "96  I'm sorry, but I don't have the information to...              11152  \n",
       "97  No, type 2 diabetes mellitus is not associated...              11139  \n",
       "98            I'm sorry, but I don't know the answer.              11143  \n",
       "99  I'm sorry, but I don't have the information to...              11149  \n",
       "\n",
       "[100 rows x 7 columns]"
      ]
     },
     "execution_count": 8,
     "metadata": {},
     "output_type": "execute_result"
    }
   ],
   "source": [
    "data"
   ]
  },
  {
   "cell_type": "code",
   "execution_count": null,
   "id": "183b82b1",
   "metadata": {},
   "outputs": [],
   "source": []
  }
 ],
 "metadata": {
  "kernelspec": {
   "display_name": "Python 3 (ipykernel)",
   "language": "python",
   "name": "python3"
  },
  "language_info": {
   "codemirror_mode": {
    "name": "ipython",
    "version": 3
   },
   "file_extension": ".py",
   "mimetype": "text/x-python",
   "name": "python",
   "nbconvert_exporter": "python",
   "pygments_lexer": "ipython3",
   "version": "3.10.9"
  }
 },
 "nbformat": 4,
 "nbformat_minor": 5
}
