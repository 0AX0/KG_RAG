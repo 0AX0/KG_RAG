{
 "cells": [
  {
   "cell_type": "code",
   "execution_count": 8,
   "id": "a67d5fcb",
   "metadata": {},
   "outputs": [],
   "source": [
    "from langchain.chains import GraphCypherQAChain\n",
    "from langchain.chat_models import ChatOpenAI\n",
    "from langchain.graphs import Neo4jGraph\n",
    "from langchain.callbacks import get_openai_callback\n",
    "from dotenv import load_dotenv\n",
    "import os\n",
    "import openai\n"
   ]
  },
  {
   "cell_type": "code",
   "execution_count": 2,
   "id": "1f500648",
   "metadata": {},
   "outputs": [],
   "source": [
    "LLM_MODEL = 'gpt-4-32k'\n"
   ]
  },
  {
   "cell_type": "code",
   "execution_count": null,
   "id": "4b35a99d",
   "metadata": {},
   "outputs": [],
   "source": []
  },
  {
   "cell_type": "code",
   "execution_count": 5,
   "id": "64733a91",
   "metadata": {},
   "outputs": [],
   "source": [
    "def get_neo4j_cypher_rag_chain():\n",
    "    load_dotenv(os.path.join(os.path.expanduser('~'), '.spoke_neo4j_config.env'))\n",
    "    username = os.environ.get('NEO4J_USER')\n",
    "    password = os.environ.get('NEO4J_PSW')\n",
    "    url = os.environ.get('NEO4J_URI')\n",
    "    database = os.environ.get('NEO4J_DB')\n",
    "\n",
    "    graph = Neo4jGraph(\n",
    "        url=url, \n",
    "        username=username, \n",
    "        password=password,\n",
    "        database = database\n",
    "    )\n",
    "\n",
    "    load_dotenv(os.path.join(os.path.expanduser('~'), '.gpt_config.env'))\n",
    "    API_KEY = os.environ.get('API_KEY')\n",
    "    API_VERSION = os.environ.get('API_VERSION')\n",
    "    RESOURCE_ENDPOINT = os.environ.get('RESOURCE_ENDPOINT')\n",
    "    openai.api_type = \"azure\"\n",
    "    openai.api_key = API_KEY\n",
    "    openai.api_base = RESOURCE_ENDPOINT\n",
    "    openai.api_version = API_VERSION\n",
    "    chat_deployment_id = LLM_MODEL\n",
    "    chat_model_id = chat_deployment_id\n",
    "    temperature = 0\n",
    "    chat_model = ChatOpenAI(openai_api_key=API_KEY, \n",
    "                            engine=chat_deployment_id, \n",
    "                            temperature=temperature)\n",
    "    chain = GraphCypherQAChain.from_llm(\n",
    "        chat_model, \n",
    "        graph=graph, \n",
    "        verbose=True, \n",
    "        validate_cypher=True,\n",
    "        return_intermediate_steps=True\n",
    "    )\n",
    "    return chain"
   ]
  },
  {
   "cell_type": "code",
   "execution_count": 6,
   "id": "115f2da3",
   "metadata": {},
   "outputs": [
    {
     "name": "stderr",
     "output_type": "stream",
     "text": [
      "WARNING! engine is not default parameter.\n",
      "                    engine was transferred to model_kwargs.\n",
      "                    Please confirm that engine is what you intended.\n"
     ]
    },
    {
     "name": "stdout",
     "output_type": "stream",
     "text": [
      "CPU times: user 88.4 ms, sys: 14.2 ms, total: 103 ms\n",
      "Wall time: 50.2 s\n"
     ]
    }
   ],
   "source": [
    "%%time\n",
    "neo4j_rag_chain = get_neo4j_cypher_rag_chain()\n"
   ]
  },
  {
   "cell_type": "code",
   "execution_count": 9,
   "id": "d4525903",
   "metadata": {},
   "outputs": [
    {
     "name": "stdout",
     "output_type": "stream",
     "text": [
      "\n",
      "\n",
      "\u001b[1m> Entering new GraphCypherQAChain chain...\u001b[0m\n",
      "Generated Cypher:\n",
      "\u001b[32;1m\u001b[1;3mMATCH (d:Disease {name: \"multiple sclerosis\"})-[:ASSOCIATES_DaG]->(g:Gene)\n",
      "RETURN g.name\u001b[0m\n",
      "Full Context:\n",
      "\u001b[32;1m\u001b[1;3m[{'g.name': 'IL4'}, {'g.name': 'BTNL2'}, {'g.name': 'TGFB1'}, {'g.name': 'CBLB'}, {'g.name': 'CD6'}, {'g.name': 'OS9'}, {'g.name': 'TBX6'}, {'g.name': 'ESPN'}, {'g.name': 'IKZF3'}, {'g.name': 'AFF1'}]\u001b[0m\n",
      "\n",
      "\u001b[1m> Finished chain.\u001b[0m\n",
      "The genes associated with multiple sclerosis are IL4, BTNL2, TGFB1, CBLB, CD6, OS9, TBX6, ESPN, IKZF3, and AFF1.\n"
     ]
    }
   ],
   "source": [
    "question = 'What are the genes associated with multiple sclerosis?'\n",
    "with get_openai_callback() as cb:\n",
    "    out = neo4j_rag_chain.run(query=question, return_final_only=False)\n",
    "    print(out)\n"
   ]
  },
  {
   "cell_type": "code",
   "execution_count": null,
   "id": "b4bb5881",
   "metadata": {},
   "outputs": [],
   "source": []
  }
 ],
 "metadata": {
  "kernelspec": {
   "display_name": "Python 3 (ipykernel)",
   "language": "python",
   "name": "python3"
  },
  "language_info": {
   "codemirror_mode": {
    "name": "ipython",
    "version": 3
   },
   "file_extension": ".py",
   "mimetype": "text/x-python",
   "name": "python",
   "nbconvert_exporter": "python",
   "pygments_lexer": "ipython3",
   "version": "3.10.9"
  }
 },
 "nbformat": 4,
 "nbformat_minor": 5
}
